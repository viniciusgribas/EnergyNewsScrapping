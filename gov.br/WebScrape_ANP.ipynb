{
 "cells": [
  {
   "cell_type": "markdown",
   "metadata": {},
   "source": [
    "\n",
    "---\n",
    "\n",
    "# Vinicius Guerra e Ribas -  Energy Sector Analyst\n",
    "[Energy Engineer (UnB)](https://www.unb.br/) │ [Data Scientist and Analytics (USP)](https://www5.usp.br/)\n",
    "\n",
    "\n",
    "## [📧 E-mail](mailto:viniciusgribas@gmail.com?Subject=%5BWebScrappers%5D%20-%20Contact) │ [🎯 Linkedin](https://www.linkedin.com/in/vinicius-guerra-e-ribas/) │ [😸 GitHub](https://github.com/viniciusgribas) \n",
    "\n",
    "---\n",
    "\n",
    "# [💻Project Notebook](https://github.com/viniciusgribas/EnergyNewsScrapping) [🇧🇷] \n"
   ]
  },
  {
   "cell_type": "code",
   "execution_count": 10,
   "metadata": {},
   "outputs": [
    {
     "name": "stderr",
     "output_type": "stream",
     "text": [
      "[nltk_data] Downloading package floresta to\n",
      "[nltk_data]     C:\\Users\\vinic\\AppData\\Roaming\\nltk_data...\n",
      "[nltk_data]   Package floresta is already up-to-date!\n"
     ]
    }
   ],
   "source": [
    "# import the libraries\n",
    "\n",
    "## WebScrapping Libraries\n",
    "from bs4 import BeautifulSoup\n",
    "import requests\n",
    "import urllib.request\n",
    "\n",
    "## NLP and ML Libraries\n",
    "import nltk\n",
    "from newspaper import Article\n",
    "nltk.download('floresta') # \"Portuguese Treebank\" divides the text into a list of sentences using ML algorithm\n",
    "from nltk.corpus import stopwords\n",
    "from wordcloud import WordCloud, STOPWORDS, ImageColorGenerator\n",
    "\n",
    "## Data Frame manipulation and Analytics Libraries\n",
    "import pandas as pd\n",
    "import time\n",
    "import matplotlib.pyplot as py\n",
    "import plotly_express as px\n",
    "import plotly as plt\n",
    "import datetime\n"
   ]
  },
  {
   "cell_type": "code",
   "execution_count": 11,
   "metadata": {},
   "outputs": [],
   "source": [
    "def scrape_anp_website(search,page):\n",
    "    page_theme = search\n",
    "\n",
    "\n",
    "    if page == 1:\n",
    "        page = 0\n",
    "    else:\n",
    "        page = page*20\n",
    "\n",
    "    page_number = str(page)\n",
    "    url = 'https://www.gov.br/anp/pt-br/canais_atendimento/imprensa/noticias-comunicados?b_start:int=' + page_number +'/' \n",
    "    webpage = requests.get(url)\n",
    "    soup = BeautifulSoup(webpage.text, 'html.parser')\n",
    "    article_links = soup.find_all('h2', attrs= {'class' : 'titulo'})\n",
    "\n",
    "    for i in article_links:\n",
    "        temp=0\n",
    "        temp = i.find('a').get('href')\n",
    "        links.append(temp)\n",
    "\n",
    "    for i in range(len(links)):  # NLP Process: Scrapes the article, download the information and parse a nlp into a interable object\n",
    "        article = Article(links[i]) # Scrapes the Article\n",
    "        article.download()\n",
    "        article.parse()\n",
    "        article.nlp()\n",
    "\n",
    "        # Interact with the articles\n",
    "        titles.append(article.title)\n",
    "        try:\n",
    "            tags.append(BeautifulSoup(article.html, 'html.parser').find(id=\"form-widgets-categoria\").get_text())\n",
    "        except:\n",
    "            tags.append(BeautifulSoup(article.html, 'html.parser').find(id=\"content\").find('p', attrs= {'class':'nitfSubtitle'}).get_text())\n",
    "        texts.append(article.text) \n",
    "        summarys.append(article.meta_description) \n",
    "        authors.append(BeautifulSoup(article.html, 'html.parser').find(id=\"content\").find('p', attrs= {'class':'nitfSubtitle'}).get_text()) \n",
    "        themes.append(search)\n",
    "        dates.append(BeautifulSoup(article.html, 'html.parser').find(id=\"plone-document-byline\").get_text()[16:32])\n",
    "\n",
    "        print(\n",
    "        len(authors),  \n",
    "        len(links), \n",
    "        len(themes), \n",
    "        len(tags), \n",
    "        len(titles),\n",
    "        len(dates), \n",
    "        len(texts), \n",
    "        len(summarys)\n",
    "        )\n",
    "        \n",
    "        if len(authors) == len(links):\n",
    "            break\n",
    "    "
   ]
  },
  {
   "cell_type": "code",
   "execution_count": 12,
   "metadata": {},
   "outputs": [
    {
     "name": "stdout",
     "output_type": "stream",
     "text": [
      "1 20 1 1 1 1 1 1\n",
      "2 20 2 2 2 2 2 2\n",
      "3 20 3 3 3 3 3 3\n",
      "4 20 4 4 4 4 4 4\n",
      "5 20 5 5 5 5 5 5\n",
      "6 20 6 6 6 6 6 6\n",
      "7 20 7 7 7 7 7 7\n",
      "8 20 8 8 8 8 8 8\n",
      "9 20 9 9 9 9 9 9\n",
      "10 20 10 10 10 10 10 10\n",
      "11 20 11 11 11 11 11 11\n",
      "12 20 12 12 12 12 12 12\n",
      "13 20 13 13 13 13 13 13\n",
      "14 20 14 14 14 14 14 14\n",
      "15 20 15 15 15 15 15 15\n",
      "16 20 16 16 16 16 16 16\n",
      "17 20 17 17 17 17 17 17\n",
      "18 20 18 18 18 18 18 18\n",
      "19 20 19 19 19 19 19 19\n",
      "20 20 20 20 20 20 20 20\n",
      "21 40 21 21 21 21 21 21\n",
      "22 40 22 22 22 22 22 22\n",
      "23 40 23 23 23 23 23 23\n",
      "24 40 24 24 24 24 24 24\n",
      "25 40 25 25 25 25 25 25\n",
      "26 40 26 26 26 26 26 26\n",
      "27 40 27 27 27 27 27 27\n",
      "28 40 28 28 28 28 28 28\n",
      "29 40 29 29 29 29 29 29\n",
      "30 40 30 30 30 30 30 30\n",
      "31 40 31 31 31 31 31 31\n",
      "32 40 32 32 32 32 32 32\n",
      "33 40 33 33 33 33 33 33\n",
      "34 40 34 34 34 34 34 34\n",
      "35 40 35 35 35 35 35 35\n",
      "36 40 36 36 36 36 36 36\n",
      "37 40 37 37 37 37 37 37\n",
      "38 40 38 38 38 38 38 38\n",
      "39 40 39 39 39 39 39 39\n",
      "40 40 40 40 40 40 40 40\n",
      "41 60 41 41 41 41 41 41\n",
      "42 60 42 42 42 42 42 42\n",
      "43 60 43 43 43 43 43 43\n",
      "44 60 44 44 44 44 44 44\n",
      "45 60 45 45 45 45 45 45\n",
      "46 60 46 46 46 46 46 46\n",
      "47 60 47 47 47 47 47 47\n",
      "48 60 48 48 48 48 48 48\n",
      "49 60 49 49 49 49 49 49\n",
      "50 60 50 50 50 50 50 50\n",
      "51 60 51 51 51 51 51 51\n",
      "52 60 52 52 52 52 52 52\n",
      "53 60 53 53 53 53 53 53\n",
      "54 60 54 54 54 54 54 54\n",
      "55 60 55 55 55 55 55 55\n",
      "56 60 56 56 56 56 56 56\n",
      "57 60 57 57 57 57 57 57\n",
      "58 60 58 58 58 58 58 58\n",
      "59 60 59 59 59 59 59 59\n",
      "60 60 60 60 60 60 60 60\n"
     ]
    }
   ],
   "source": [
    "\n",
    "themes = []\n",
    "tags = []\n",
    "titles = []\n",
    "authors = []\n",
    "dates = []\n",
    "links = []\n",
    "texts = []\n",
    "summarys = []\n",
    "search = 'anp'\n",
    "n = 3\n",
    "\n",
    "# performs the scrapping with the chosen search on the given pages\n",
    "for i in range(1 , n+1):\n",
    "\n",
    "    #applies the function\n",
    "    scrape_anp_website(search, i )"
   ]
  },
  {
   "cell_type": "code",
   "execution_count": 13,
   "metadata": {},
   "outputs": [
    {
     "name": "stdout",
     "output_type": "stream",
     "text": [
      "DF Date Rage: from [05/02/2022 at 09:13:00] to [05/06/2022 at 19:22:00]\n"
     ]
    },
    {
     "data": {
      "text/plain": [
       "dates       0\n",
       "themes      0\n",
       "authors     0\n",
       "tags        0\n",
       "titles      0\n",
       "summarys    0\n",
       "texts       0\n",
       "links       0\n",
       "dtype: int64"
      ]
     },
     "execution_count": 13,
     "metadata": {},
     "output_type": "execute_result"
    }
   ],
   "source": [
    "# creates a dataframe based on the stored lists\n",
    "df = pd.DataFrame( columns= ['dates','themes','authors','tags','titles','summarys','texts','links' ] )\n",
    "df.dates = dates\n",
    "df.dates = pd.to_datetime(df.dates)\n",
    "df.authors = authors\n",
    "df.tags = tags\n",
    "df.titles = titles\n",
    "df.summarys = summarys\n",
    "df.texts = texts\n",
    "df.links = links\n",
    "df.themes = themes\n",
    "\n",
    "# check the analyzed dates\n",
    "\n",
    "df_filtered = df.loc[(df['dates'] > '2022-01-01')]\n",
    "\n",
    "date_min = str(df_filtered.dates.dt.date.min().strftime('%d/%m/%Y'))+' at '+ str(df_filtered.dates.dt.time.min())\n",
    "date_max = str(df_filtered.dates.dt.date.max().strftime('%d/%m/%Y'))+' at '+ str(df_filtered.dates.dt.time.max())\n",
    "df_date_range = 'DF Date Rage: from ['+ date_min + '] to [' + date_max + ']'\n",
    "\n",
    "print(df_date_range)\n",
    "\n",
    "# checks if the dataframe has null values\n",
    "df_filtered.isnull().sum()"
   ]
  },
  {
   "cell_type": "code",
   "execution_count": 14,
   "metadata": {},
   "outputs": [],
   "source": [
    "# NLP: stopword parametres\n",
    "\n",
    "## github patch with Brazilian stopwords\n",
    "PORTUGUESE_STOPWORDS_PATCH_1 = r'https://gist.githubusercontent.com/alopes/5358189/raw/2107d809cca6b83ce3d8e04dbd9463283025284f/stopwords.txt' ##online patch\n",
    "response_PATCH = requests.get(PORTUGUESE_STOPWORDS_PATCH_1) ## accessing via webscrapping\n",
    "pt_stopwords = response_PATCH.text ## assigning to a variable\n",
    "pt_stopwords = pt_stopwords.replace(\" \",\"\").splitlines() ## manipulating extraction\n",
    "\n",
    "# WordCloud text and additional parameters\n",
    "\n",
    "text = \" \".join(s.lower() for s in df_filtered.texts) # lowercasing all the text words\n",
    "wordcloud_theme = df_filtered.themes[0].lower() # get the search theme\n",
    "wordcloud_search_theme = search\n",
    "wordcloud_title = ('Author: ANP' +' │ Theme: ' + 'Noticias' +' │ '+ df_date_range )# setting the title\n",
    "\n",
    "\n",
    "## manual stopwords input\n",
    "manual_stopwords = [wordcloud_theme,\n",
    "    'cerca',\n",
    "    'país',\n",
    "    'disse',\n",
    "    'agora',\n",
    "    'ouvir',\n",
    "    'notícia',\n",
    "    'ano' ,\n",
    "    'entanto',\n",
    "    'episódio',\n",
    "    'ainda',\n",
    "    'acordo',\n",
    "    'demanda',\n",
    "    'maior',\n",
    "    'dia',\n",
    "    'segundo',\n",
    "    'pode',\n",
    "    'desde',\n",
    "    'todo',\n",
    "    'sobre',\n",
    "    'getty',\n",
    "    'getty images',\n",
    "    'anadolu',\n",
    "    'images',\n",
    "    'agency',\n",
    "    'ante',\n",
    "    'após',\n",
    "    'segunda',\n",
    "    'terça',\n",
    "    'quarta',\n",
    "    'quinta',\n",
    "    'sexta',\n",
    "    'sabado',\n",
    "    'domingo',\n",
    "    'feira',\n",
    "    'enquanto',\n",
    "    'deve',\n",
    "    'semana',\n",
    "    'nesta',\n",
    "    'caso',\n",
    "    'diz',\n",
    "    'hoje',\n",
    "    'brasil',\n",
    "    'empresa',\n",
    "    'grande',\n",
    "    'fonte',\n",
    "    'renovável',\n",
    "    'afirma',\n",
    "    'área',\n",
    "    'uso',\n",
    "    'capacidade',\n",
    "    'apenas',\n",
    "    'partir',\n",
    "    'projeto',\n",
    "    'cnn',\n",
    "    'passado',\n",
    "    'partir',\n",
    "    'porque',\n",
    "    'custo',\n",
    "    'exemplo',\n",
    "    'especialista',\n",
    "    'skydweller',\n",
    "    'vai',\n",
    "    'outra',\n",
    "    'gera',\n",
    "    'loja',\n",
    "    'cidade',\n",
    "    'autuada',\n",
    "    'dias',\n",
    "    'quatro',\n",
    "    'bico',\n",
    "    'mês',\n",
    "    'partilha',\n",
    "    'dois',\n",
    "    'possuir',\n",
    "    'três',\n",
    "    'nº',\n",
    "    'duas',\n",
    "    'outro',\n",
    "    'sendo',\n",
    "    'atividade',\n",
    "    'realizada',\n",
    "    'agência',\n",
    "    'informações']\n",
    "\n",
    "## stopwords used\n",
    "stop_words  = list(pt_stopwords) + list(STOPWORDS) + list(manual_stopwords) \n",
    "\n",
    "\n",
    "\n",
    "# WordCloud NLP algorithm\n",
    "\n",
    "## WordCloud Figure\n",
    "wordcloud = WordCloud(min_font_size=50, \n",
    "               max_font_size=500, \n",
    "               background_color='white', \n",
    "               mode=\"RGB\",\n",
    "               colormap='tab10',\n",
    "               stopwords=stop_words,\n",
    "               width=3000, \n",
    "               height=1500,\n",
    "               normalize_plurals= True\n",
    ").generate(text)\n",
    "\n",
    "## WordCloud Text Count\n",
    "wordcloud_text = WordCloud(min_font_size=50, \n",
    "               max_font_size=500, \n",
    "               background_color='white', \n",
    "               mode=\"RGB\",\n",
    "               colormap='tab10',\n",
    "               stopwords=stop_words,\n",
    "               width=3000, \n",
    "               height=1500,\n",
    "               normalize_plurals= True\n",
    ").process_text(text)"
   ]
  },
  {
   "cell_type": "code",
   "execution_count": 15,
   "metadata": {},
   "outputs": [
    {
     "data": {
      "image/png": "[encoded data removed]",
      "text/plain": [
       "<Figure size 1440x720 with 1 Axes>"
      ]
     },
     "metadata": {
      "needs_background": "light"
     },
     "output_type": "display_data"
    },
    {
     "data": {
      "text/plain": [
       "<Figure size 432x288 with 0 Axes>"
      ]
     },
     "metadata": {},
     "output_type": "display_data"
    }
   ],
   "source": [
    "# Ploting the WordCloud figure\n",
    "py.figure(figsize=(20,10))\n",
    "py.title(wordcloud_title, fontsize=10, color=\"red\")\n",
    "py.imshow(wordcloud, interpolation=\"bilinear\")\n",
    "py.axis(\"off\")\n",
    "\n",
    "fig1 = py.gcf()\n",
    "py.show()\n",
    "py.draw()\n",
    "fig1.savefig(search+'.png', dpi=100)\n",
    "\n",
    "\n"
   ]
  },
  {
   "cell_type": "code",
   "execution_count": 16,
   "metadata": {},
   "outputs": [],
   "source": [
    "# iterative scatter analysis with wordcloud words\n",
    "\n",
    "## creating a dataframe with the dictionary generated by the NLP algorithm\n",
    "df2 = pd.DataFrame.from_dict(wordcloud_text, orient='index') # generating a dataframe from a dictionary\n",
    "df2 = df2.rename(columns={0:'count'}) \n",
    "df2['word'] = df2.index\n",
    "df2 = df2.reset_index(drop=True)\n",
    "df2 = df2[['word','count']]\n",
    "df2.sort_values(by = ['count'],ascending = False,inplace = True, ignore_index = True)"
   ]
  },
  {
   "cell_type": "code",
   "execution_count": 17,
   "metadata": {},
   "outputs": [
    {
     "data": {
      "application/vnd.plotly.v1+json": {
       "config": {
        "plotlyServerURL": "https://plot.ly"
       },
       "data": [
        {
         "hovertemplate": "<b>%{hovertext}</b><br><br>word=combustíveis<br>index=%{x}<br>count=%{marker.size}<extra></extra>",
         "hovertext": [
          "combustíveis"
         ],
         "legendgroup": "combustíveis",
         "marker": {
          "color": "#636efa",
          "size": [
           345
          ],
          "sizemode": "area",
          "sizeref": 0.09583333333333334,
          "symbol": "circle"
         },
         "mode": "markers",
         "name": "combustíveis",
         "orientation": "v",
         "showlegend": true,
         "type": "scatter",
         "x": [
          0
         ],
         "xaxis": "x",
         "y": [
          345
         ],
         "yaxis": "y"
        },
        {
         "hovertemplate": "<b>%{hovertext}</b><br><br>word=posto<br>index=%{x}<br>count=%{marker.size}<extra></extra>",
         "hovertext": [
          "posto"
         ],
         "legendgroup": "posto",
         "marker": {
          "color": "#EF553B",
          "size": [
           330
          ],
          "sizemode": "area",
          "sizeref": 0.09583333333333334,
          "symbol": "circle"
         },
         "mode": "markers",
         "name": "posto",
         "orientation": "v",
         "showlegend": true,
         "type": "scatter",
         "x": [
          1
         ],
         "xaxis": "x",
         "y": [
          330
         ],
         "yaxis": "y"
        },
        {
         "hovertemplate": "<b>%{hovertext}</b><br><br>word=autuado<br>index=%{x}<br>count=%{marker.size}<extra></extra>",
         "hovertext": [
          "autuado"
         ],
         "legendgroup": "autuado",
         "marker": {
          "color": "#00cc96",
          "size": [
           252
          ],
          "sizemode": "area",
          "sizeref": 0.09583333333333334,
          "symbol": "circle"
         },
         "mode": "markers",
         "name": "autuado",
         "orientation": "v",
         "showlegend": true,
         "type": "scatter",
         "x": [
          2
         ],
         "xaxis": "x",
         "y": [
          252
         ],
         "yaxis": "y"
        },
        {
         "hovertemplate": "<b>%{hovertext}</b><br><br>word=produção<br>index=%{x}<br>count=%{marker.size}<extra></extra>",
         "hovertext": [
          "produção"
         ],
         "legendgroup": "produção",
         "marker": {
          "color": "#ab63fa",
          "size": [
           162
          ],
          "sizemode": "area",
          "sizeref": 0.09583333333333334,
          "symbol": "circle"
         },
         "mode": "markers",
         "name": "produção",
         "orientation": "v",
         "showlegend": true,
         "type": "scatter",
         "x": [
          3
         ],
         "xaxis": "x",
         "y": [
          162
         ],
         "yaxis": "y"
        },
        {
         "hovertemplate": "<b>%{hovertext}</b><br><br>word=revenda<br>index=%{x}<br>count=%{marker.size}<extra></extra>",
         "hovertext": [
          "revenda"
         ],
         "legendgroup": "revenda",
         "marker": {
          "color": "#FFA15A",
          "size": [
           150
          ],
          "sizemode": "area",
          "sizeref": 0.09583333333333334,
          "symbol": "circle"
         },
         "mode": "markers",
         "name": "revenda",
         "orientation": "v",
         "showlegend": true,
         "type": "scatter",
         "x": [
          4
         ],
         "xaxis": "x",
         "y": [
          150
         ],
         "yaxis": "y"
        },
        {
         "hovertemplate": "<b>%{hovertext}</b><br><br>word=glp<br>index=%{x}<br>count=%{marker.size}<extra></extra>",
         "hovertext": [
          "glp"
         ],
         "legendgroup": "glp",
         "marker": {
          "color": "#19d3f3",
          "size": [
           147
          ],
          "sizemode": "area",
          "sizeref": 0.09583333333333334,
          "symbol": "circle"
         },
         "mode": "markers",
         "name": "glp",
         "orientation": "v",
         "showlegend": true,
         "type": "scatter",
         "x": [
          5
         ],
         "xaxis": "x",
         "y": [
          147
         ],
         "yaxis": "y"
        },
        {
         "hovertemplate": "<b>%{hovertext}</b><br><br>word=fiscalização<br>index=%{x}<br>count=%{marker.size}<extra></extra>",
         "hovertext": [
          "fiscalização"
         ],
         "legendgroup": "fiscalização",
         "marker": {
          "color": "#FF6692",
          "size": [
           114
          ],
          "sizemode": "area",
          "sizeref": 0.09583333333333334,
          "symbol": "circle"
         },
         "mode": "markers",
         "name": "fiscalização",
         "orientation": "v",
         "showlegend": true,
         "type": "scatter",
         "x": [
          6
         ],
         "xaxis": "x",
         "y": [
          114
         ],
         "yaxis": "y"
        },
        {
         "hovertemplate": "<b>%{hovertext}</b><br><br>word=campo<br>index=%{x}<br>count=%{marker.size}<extra></extra>",
         "hovertext": [
          "campo"
         ],
         "legendgroup": "campo",
         "marker": {
          "color": "#B6E880",
          "size": [
           111
          ],
          "sizemode": "area",
          "sizeref": 0.09583333333333334,
          "symbol": "circle"
         },
         "mode": "markers",
         "name": "campo",
         "orientation": "v",
         "showlegend": true,
         "type": "scatter",
         "x": [
          7
         ],
         "xaxis": "x",
         "y": [
          111
         ],
         "yaxis": "y"
        },
        {
         "hovertemplate": "<b>%{hovertext}</b><br><br>word=ações<br>index=%{x}<br>count=%{marker.size}<extra></extra>",
         "hovertext": [
          "ações"
         ],
         "legendgroup": "ações",
         "marker": {
          "color": "#FF97FF",
          "size": [
           99
          ],
          "sizemode": "area",
          "sizeref": 0.09583333333333334,
          "symbol": "circle"
         },
         "mode": "markers",
         "name": "ações",
         "orientation": "v",
         "showlegend": true,
         "type": "scatter",
         "x": [
          8
         ],
         "xaxis": "x",
         "y": [
          99
         ],
         "yaxis": "y"
        },
        {
         "hovertemplate": "<b>%{hovertext}</b><br><br>word=gás natural<br>index=%{x}<br>count=%{marker.size}<extra></extra>",
         "hovertext": [
          "gás natural"
         ],
         "legendgroup": "gás natural",
         "marker": {
          "color": "#FECB52",
          "size": [
           99
          ],
          "sizemode": "area",
          "sizeref": 0.09583333333333334,
          "symbol": "circle"
         },
         "mode": "markers",
         "name": "gás natural",
         "orientation": "v",
         "showlegend": true,
         "type": "scatter",
         "x": [
          9
         ],
         "xaxis": "x",
         "y": [
          99
         ],
         "yaxis": "y"
        },
        {
         "hovertemplate": "<b>%{hovertext}</b><br><br>word=qualidade<br>index=%{x}<br>count=%{marker.size}<extra></extra>",
         "hovertext": [
          "qualidade"
         ],
         "legendgroup": "qualidade",
         "marker": {
          "color": "#636efa",
          "size": [
           99
          ],
          "sizemode": "area",
          "sizeref": 0.09583333333333334,
          "symbol": "circle"
         },
         "mode": "markers",
         "name": "qualidade",
         "orientation": "v",
         "showlegend": true,
         "type": "scatter",
         "x": [
          10
         ],
         "xaxis": "x",
         "y": [
          99
         ],
         "yaxis": "y"
        },
        {
         "hovertemplate": "<b>%{hovertext}</b><br><br>word=município<br>index=%{x}<br>count=%{marker.size}<extra></extra>",
         "hovertext": [
          "município"
         ],
         "legendgroup": "município",
         "marker": {
          "color": "#EF553B",
          "size": [
           96
          ],
          "sizemode": "area",
          "sizeref": 0.09583333333333334,
          "symbol": "circle"
         },
         "mode": "markers",
         "name": "município",
         "orientation": "v",
         "showlegend": true,
         "type": "scatter",
         "x": [
          11
         ],
         "xaxis": "x",
         "y": [
          96
         ],
         "yaxis": "y"
        },
        {
         "hovertemplate": "<b>%{hovertext}</b><br><br>word=petróleo<br>index=%{x}<br>count=%{marker.size}<extra></extra>",
         "hovertext": [
          "petróleo"
         ],
         "legendgroup": "petróleo",
         "marker": {
          "color": "#00cc96",
          "size": [
           96
          ],
          "sizemode": "area",
          "sizeref": 0.09583333333333334,
          "symbol": "circle"
         },
         "mode": "markers",
         "name": "petróleo",
         "orientation": "v",
         "showlegend": true,
         "type": "scatter",
         "x": [
          12
         ],
         "xaxis": "x",
         "y": [
          96
         ],
         "yaxis": "y"
        },
        {
         "hovertemplate": "<b>%{hovertext}</b><br><br>word=abastecimento<br>index=%{x}<br>count=%{marker.size}<extra></extra>",
         "hovertext": [
          "abastecimento"
         ],
         "legendgroup": "abastecimento",
         "marker": {
          "color": "#ab63fa",
          "size": [
           84
          ],
          "sizemode": "area",
          "sizeref": 0.09583333333333334,
          "symbol": "circle"
         },
         "mode": "markers",
         "name": "abastecimento",
         "orientation": "v",
         "showlegend": true,
         "type": "scatter",
         "x": [
          13
         ],
         "xaxis": "x",
         "y": [
          84
         ],
         "yaxis": "y"
        },
        {
         "hovertemplate": "<b>%{hovertext}</b><br><br>word=etanol hidratado<br>index=%{x}<br>count=%{marker.size}<extra></extra>",
         "hovertext": [
          "etanol hidratado"
         ],
         "legendgroup": "etanol hidratado",
         "marker": {
          "color": "#FFA15A",
          "size": [
           75
          ],
          "sizemode": "area",
          "sizeref": 0.09583333333333334,
          "symbol": "circle"
         },
         "mode": "markers",
         "name": "etanol hidratado",
         "orientation": "v",
         "showlegend": true,
         "type": "scatter",
         "x": [
          14
         ],
         "xaxis": "x",
         "y": [
          75
         ],
         "yaxis": "y"
        },
        {
         "hovertemplate": "<b>%{hovertext}</b><br><br>word=exploração<br>index=%{x}<br>count=%{marker.size}<extra></extra>",
         "hovertext": [
          "exploração"
         ],
         "legendgroup": "exploração",
         "marker": {
          "color": "#19d3f3",
          "size": [
           72
          ],
          "sizemode": "area",
          "sizeref": 0.09583333333333334,
          "symbol": "circle"
         },
         "mode": "markers",
         "name": "exploração",
         "orientation": "v",
         "showlegend": true,
         "type": "scatter",
         "x": [
          15
         ],
         "xaxis": "x",
         "y": [
          72
         ],
         "yaxis": "y"
        },
        {
         "hovertemplate": "<b>%{hovertext}</b><br><br>word=estado<br>index=%{x}<br>count=%{marker.size}<extra></extra>",
         "hovertext": [
          "estado"
         ],
         "legendgroup": "estado",
         "marker": {
          "color": "#FF6692",
          "size": [
           66
          ],
          "sizemode": "area",
          "sizeref": 0.09583333333333334,
          "symbol": "circle"
         },
         "mode": "markers",
         "name": "estado",
         "orientation": "v",
         "showlegend": true,
         "type": "scatter",
         "x": [
          16
         ],
         "xaxis": "x",
         "y": [
          66
         ],
         "yaxis": "y"
        },
        {
         "hovertemplate": "<b>%{hovertext}</b><br><br>word=segurança<br>index=%{x}<br>count=%{marker.size}<extra></extra>",
         "hovertext": [
          "segurança"
         ],
         "legendgroup": "segurança",
         "marker": {
          "color": "#B6E880",
          "size": [
           63
          ],
          "sizemode": "area",
          "sizeref": 0.09583333333333334,
          "symbol": "circle"
         },
         "mode": "markers",
         "name": "segurança",
         "orientation": "v",
         "showlegend": true,
         "type": "scatter",
         "x": [
          17
         ],
         "xaxis": "x",
         "y": [
          63
         ],
         "yaxis": "y"
        },
        {
         "hovertemplate": "<b>%{hovertext}</b><br><br>word=irregularidade<br>index=%{x}<br>count=%{marker.size}<extra></extra>",
         "hovertext": [
          "irregularidade"
         ],
         "legendgroup": "irregularidade",
         "marker": {
          "color": "#FF97FF",
          "size": [
           63
          ],
          "sizemode": "area",
          "sizeref": 0.09583333333333334,
          "symbol": "circle"
         },
         "mode": "markers",
         "name": "irregularidade",
         "orientation": "v",
         "showlegend": true,
         "type": "scatter",
         "x": [
          18
         ],
         "xaxis": "x",
         "y": [
          63
         ],
         "yaxis": "y"
        },
        {
         "hovertemplate": "<b>%{hovertext}</b><br><br>word=análise<br>index=%{x}<br>count=%{marker.size}<extra></extra>",
         "hovertext": [
          "análise"
         ],
         "legendgroup": "análise",
         "marker": {
          "color": "#FECB52",
          "size": [
           60
          ],
          "sizemode": "area",
          "sizeref": 0.09583333333333334,
          "symbol": "circle"
         },
         "mode": "markers",
         "name": "análise",
         "orientation": "v",
         "showlegend": true,
         "type": "scatter",
         "x": [
          19
         ],
         "xaxis": "x",
         "y": [
          60
         ],
         "yaxis": "y"
        },
        {
         "hovertemplate": "<b>%{hovertext}</b><br><br>word=fiscais<br>index=%{x}<br>count=%{marker.size}<extra></extra>",
         "hovertext": [
          "fiscais"
         ],
         "legendgroup": "fiscais",
         "marker": {
          "color": "#636efa",
          "size": [
           57
          ],
          "sizemode": "area",
          "sizeref": 0.09583333333333334,
          "symbol": "circle"
         },
         "mode": "markers",
         "name": "fiscais",
         "orientation": "v",
         "showlegend": true,
         "type": "scatter",
         "x": [
          20
         ],
         "xaxis": "x",
         "y": [
          57
         ],
         "yaxis": "y"
        },
        {
         "hovertemplate": "<b>%{hovertext}</b><br><br>word=combustível<br>index=%{x}<br>count=%{marker.size}<extra></extra>",
         "hovertext": [
          "combustível"
         ],
         "legendgroup": "combustível",
         "marker": {
          "color": "#EF553B",
          "size": [
           57
          ],
          "sizemode": "area",
          "sizeref": 0.09583333333333334,
          "symbol": "circle"
         },
         "mode": "markers",
         "name": "combustível",
         "orientation": "v",
         "showlegend": true,
         "type": "scatter",
         "x": [
          21
         ],
         "xaxis": "x",
         "y": [
          57
         ],
         "yaxis": "y"
        },
        {
         "hovertemplate": "<b>%{hovertext}</b><br><br>word=resolução<br>index=%{x}<br>count=%{marker.size}<extra></extra>",
         "hovertext": [
          "resolução"
         ],
         "legendgroup": "resolução",
         "marker": {
          "color": "#00cc96",
          "size": [
           54
          ],
          "sizemode": "area",
          "sizeref": 0.09583333333333334,
          "symbol": "circle"
         },
         "mode": "markers",
         "name": "resolução",
         "orientation": "v",
         "showlegend": true,
         "type": "scatter",
         "x": [
          22
         ],
         "xaxis": "x",
         "y": [
          54
         ],
         "yaxis": "y"
        },
        {
         "hovertemplate": "<b>%{hovertext}</b><br><br>word=contrato<br>index=%{x}<br>count=%{marker.size}<extra></extra>",
         "hovertext": [
          "contrato"
         ],
         "legendgroup": "contrato",
         "marker": {
          "color": "#ab63fa",
          "size": [
           51
          ],
          "sizemode": "area",
          "sizeref": 0.09583333333333334,
          "symbol": "circle"
         },
         "mode": "markers",
         "name": "contrato",
         "orientation": "v",
         "showlegend": true,
         "type": "scatter",
         "x": [
          23
         ],
         "xaxis": "x",
         "y": [
          51
         ],
         "yaxis": "y"
        },
        {
         "hovertemplate": "<b>%{hovertext}</b><br><br>word=ponto<br>index=%{x}<br>count=%{marker.size}<extra></extra>",
         "hovertext": [
          "ponto"
         ],
         "legendgroup": "ponto",
         "marker": {
          "color": "#FFA15A",
          "size": [
           51
          ],
          "sizemode": "area",
          "sizeref": 0.09583333333333334,
          "symbol": "circle"
         },
         "mode": "markers",
         "name": "ponto",
         "orientation": "v",
         "showlegend": true,
         "type": "scatter",
         "x": [
          24
         ],
         "xaxis": "x",
         "y": [
          51
         ],
         "yaxis": "y"
        },
        {
         "hovertemplate": "<b>%{hovertext}</b><br><br>word=rio<br>index=%{x}<br>count=%{marker.size}<extra></extra>",
         "hovertext": [
          "rio"
         ],
         "legendgroup": "rio",
         "marker": {
          "color": "#19d3f3",
          "size": [
           51
          ],
          "sizemode": "area",
          "sizeref": 0.09583333333333334,
          "symbol": "circle"
         },
         "mode": "markers",
         "name": "rio",
         "orientation": "v",
         "showlegend": true,
         "type": "scatter",
         "x": [
          25
         ],
         "xaxis": "x",
         "y": [
          51
         ],
         "yaxis": "y"
        },
        {
         "hovertemplate": "<b>%{hovertext}</b><br><br>word=dados<br>index=%{x}<br>count=%{marker.size}<extra></extra>",
         "hovertext": [
          "dados"
         ],
         "legendgroup": "dados",
         "marker": {
          "color": "#FF6692",
          "size": [
           48
          ],
          "sizemode": "area",
          "sizeref": 0.09583333333333334,
          "symbol": "circle"
         },
         "mode": "markers",
         "name": "dados",
         "orientation": "v",
         "showlegend": true,
         "type": "scatter",
         "x": [
          26
         ],
         "xaxis": "x",
         "y": [
          48
         ],
         "yaxis": "y"
        },
        {
         "hovertemplate": "<b>%{hovertext}</b><br><br>word=gasolina comum<br>index=%{x}<br>count=%{marker.size}<extra></extra>",
         "hovertext": [
          "gasolina comum"
         ],
         "legendgroup": "gasolina comum",
         "marker": {
          "color": "#B6E880",
          "size": [
           48
          ],
          "sizemode": "area",
          "sizeref": 0.09583333333333334,
          "symbol": "circle"
         },
         "mode": "markers",
         "name": "gasolina comum",
         "orientation": "v",
         "showlegend": true,
         "type": "scatter",
         "x": [
          27
         ],
         "xaxis": "x",
         "y": [
          48
         ],
         "yaxis": "y"
        },
        {
         "hovertemplate": "<b>%{hovertext}</b><br><br>word=bloco<br>index=%{x}<br>count=%{marker.size}<extra></extra>",
         "hovertext": [
          "bloco"
         ],
         "legendgroup": "bloco",
         "marker": {
          "color": "#FF97FF",
          "size": [
           48
          ],
          "sizemode": "area",
          "sizeref": 0.09583333333333334,
          "symbol": "circle"
         },
         "mode": "markers",
         "name": "bloco",
         "orientation": "v",
         "showlegend": true,
         "type": "scatter",
         "x": [
          28
         ],
         "xaxis": "x",
         "y": [
          48
         ],
         "yaxis": "y"
        },
        {
         "hovertemplate": "<b>%{hovertext}</b><br><br>word=cidades<br>index=%{x}<br>count=%{marker.size}<extra></extra>",
         "hovertext": [
          "cidades"
         ],
         "legendgroup": "cidades",
         "marker": {
          "color": "#FECB52",
          "size": [
           48
          ],
          "sizemode": "area",
          "sizeref": 0.09583333333333334,
          "symbol": "circle"
         },
         "mode": "markers",
         "name": "cidades",
         "orientation": "v",
         "showlegend": true,
         "type": "scatter",
         "x": [
          29
         ],
         "xaxis": "x",
         "y": [
          48
         ],
         "yaxis": "y"
        },
        {
         "hovertemplate": "<b>%{hovertext}</b><br><br>word=norma<br>index=%{x}<br>count=%{marker.size}<extra></extra>",
         "hovertext": [
          "norma"
         ],
         "legendgroup": "norma",
         "marker": {
          "color": "#636efa",
          "size": [
           48
          ],
          "sizemode": "area",
          "sizeref": 0.09583333333333334,
          "symbol": "circle"
         },
         "mode": "markers",
         "name": "norma",
         "orientation": "v",
         "showlegend": true,
         "type": "scatter",
         "x": [
          30
         ],
         "xaxis": "x",
         "y": [
          48
         ],
         "yaxis": "y"
        },
        {
         "hovertemplate": "<b>%{hovertext}</b><br><br>word=bomba<br>index=%{x}<br>count=%{marker.size}<extra></extra>",
         "hovertext": [
          "bomba"
         ],
         "legendgroup": "bomba",
         "marker": {
          "color": "#EF553B",
          "size": [
           45
          ],
          "sizemode": "area",
          "sizeref": 0.09583333333333334,
          "symbol": "circle"
         },
         "mode": "markers",
         "name": "bomba",
         "orientation": "v",
         "showlegend": true,
         "type": "scatter",
         "x": [
          31
         ],
         "xaxis": "x",
         "y": [
          45
         ],
         "yaxis": "y"
        },
        {
         "hovertemplate": "<b>%{hovertext}</b><br><br>word=óleo diesel<br>index=%{x}<br>count=%{marker.size}<extra></extra>",
         "hovertext": [
          "óleo diesel"
         ],
         "legendgroup": "óleo diesel",
         "marker": {
          "color": "#00cc96",
          "size": [
           45
          ],
          "sizemode": "area",
          "sizeref": 0.09583333333333334,
          "symbol": "circle"
         },
         "mode": "markers",
         "name": "óleo diesel",
         "orientation": "v",
         "showlegend": true,
         "type": "scatter",
         "x": [
          32
         ],
         "xaxis": "x",
         "y": [
          45
         ],
         "yaxis": "y"
        },
        {
         "hovertemplate": "<b>%{hovertext}</b><br><br>word=interditado<br>index=%{x}<br>count=%{marker.size}<extra></extra>",
         "hovertext": [
          "interditado"
         ],
         "legendgroup": "interditado",
         "marker": {
          "color": "#ab63fa",
          "size": [
           42
          ],
          "sizemode": "area",
          "sizeref": 0.09583333333333334,
          "symbol": "circle"
         },
         "mode": "markers",
         "name": "interditado",
         "orientation": "v",
         "showlegend": true,
         "type": "scatter",
         "x": [
          33
         ],
         "xaxis": "x",
         "y": [
          42
         ],
         "yaxis": "y"
        },
        {
         "hovertemplate": "<b>%{hovertext}</b><br><br>word=preço<br>index=%{x}<br>count=%{marker.size}<extra></extra>",
         "hovertext": [
          "preço"
         ],
         "legendgroup": "preço",
         "marker": {
          "color": "#FFA15A",
          "size": [
           42
          ],
          "sizemode": "area",
          "sizeref": 0.09583333333333334,
          "symbol": "circle"
         },
         "mode": "markers",
         "name": "preço",
         "orientation": "v",
         "showlegend": true,
         "type": "scatter",
         "x": [
          34
         ],
         "xaxis": "x",
         "y": [
          42
         ],
         "yaxis": "y"
        },
        {
         "hovertemplate": "<b>%{hovertext}</b><br><br>word=fase<br>index=%{x}<br>count=%{marker.size}<extra></extra>",
         "hovertext": [
          "fase"
         ],
         "legendgroup": "fase",
         "marker": {
          "color": "#19d3f3",
          "size": [
           42
          ],
          "sizemode": "area",
          "sizeref": 0.09583333333333334,
          "symbol": "circle"
         },
         "mode": "markers",
         "name": "fase",
         "orientation": "v",
         "showlegend": true,
         "type": "scatter",
         "x": [
          35
         ],
         "xaxis": "x",
         "y": [
          42
         ],
         "yaxis": "y"
        },
        {
         "hovertemplate": "<b>%{hovertext}</b><br><br>word=distribuidora<br>index=%{x}<br>count=%{marker.size}<extra></extra>",
         "hovertext": [
          "distribuidora"
         ],
         "legendgroup": "distribuidora",
         "marker": {
          "color": "#FF6692",
          "size": [
           42
          ],
          "sizemode": "area",
          "sizeref": 0.09583333333333334,
          "symbol": "circle"
         },
         "mode": "markers",
         "name": "distribuidora",
         "orientation": "v",
         "showlegend": true,
         "type": "scatter",
         "x": [
          36
         ],
         "xaxis": "x",
         "y": [
          42
         ],
         "yaxis": "y"
        },
        {
         "hovertemplate": "<b>%{hovertext}</b><br><br>word=tanque<br>index=%{x}<br>count=%{marker.size}<extra></extra>",
         "hovertext": [
          "tanque"
         ],
         "legendgroup": "tanque",
         "marker": {
          "color": "#B6E880",
          "size": [
           42
          ],
          "sizemode": "area",
          "sizeref": 0.09583333333333334,
          "symbol": "circle"
         },
         "mode": "markers",
         "name": "tanque",
         "orientation": "v",
         "showlegend": true,
         "type": "scatter",
         "x": [
          37
         ],
         "xaxis": "x",
         "y": [
          42
         ],
         "yaxis": "y"
        },
        {
         "hovertemplate": "<b>%{hovertext}</b><br><br>word=bomba medidora<br>index=%{x}<br>count=%{marker.size}<extra></extra>",
         "hovertext": [
          "bomba medidora"
         ],
         "legendgroup": "bomba medidora",
         "marker": {
          "color": "#FF97FF",
          "size": [
           42
          ],
          "sizemode": "area",
          "sizeref": 0.09583333333333334,
          "symbol": "circle"
         },
         "mode": "markers",
         "name": "bomba medidora",
         "orientation": "v",
         "showlegend": true,
         "type": "scatter",
         "x": [
          38
         ],
         "xaxis": "x",
         "y": [
          42
         ],
         "yaxis": "y"
        },
        {
         "hovertemplate": "<b>%{hovertext}</b><br><br>word=equipamento<br>index=%{x}<br>count=%{marker.size}<extra></extra>",
         "hovertext": [
          "equipamento"
         ],
         "legendgroup": "equipamento",
         "marker": {
          "color": "#FECB52",
          "size": [
           39
          ],
          "sizemode": "area",
          "sizeref": 0.09583333333333334,
          "symbol": "circle"
         },
         "mode": "markers",
         "name": "equipamento",
         "orientation": "v",
         "showlegend": true,
         "type": "scatter",
         "x": [
          39
         ],
         "xaxis": "x",
         "y": [
          39
         ],
         "yaxis": "y"
        },
        {
         "hovertemplate": "<b>%{hovertext}</b><br><br>word=realização<br>index=%{x}<br>count=%{marker.size}<extra></extra>",
         "hovertext": [
          "realização"
         ],
         "legendgroup": "realização",
         "marker": {
          "color": "#636efa",
          "size": [
           39
          ],
          "sizemode": "area",
          "sizeref": 0.09583333333333334,
          "symbol": "circle"
         },
         "mode": "markers",
         "name": "realização",
         "orientation": "v",
         "showlegend": true,
         "type": "scatter",
         "x": [
          40
         ],
         "xaxis": "x",
         "y": [
          39
         ],
         "yaxis": "y"
        },
        {
         "hovertemplate": "<b>%{hovertext}</b><br><br>word=aferição irregular<br>index=%{x}<br>count=%{marker.size}<extra></extra>",
         "hovertext": [
          "aferição irregular"
         ],
         "legendgroup": "aferição irregular",
         "marker": {
          "color": "#EF553B",
          "size": [
           39
          ],
          "sizemode": "area",
          "sizeref": 0.09583333333333334,
          "symbol": "circle"
         },
         "mode": "markers",
         "name": "aferição irregular",
         "orientation": "v",
         "showlegend": true,
         "type": "scatter",
         "x": [
          41
         ],
         "xaxis": "x",
         "y": [
          39
         ],
         "yaxis": "y"
        },
        {
         "hovertemplate": "<b>%{hovertext}</b><br><br>word=capital<br>index=%{x}<br>count=%{marker.size}<extra></extra>",
         "hovertext": [
          "capital"
         ],
         "legendgroup": "capital",
         "marker": {
          "color": "#00cc96",
          "size": [
           39
          ],
          "sizemode": "area",
          "sizeref": 0.09583333333333334,
          "symbol": "circle"
         },
         "mode": "markers",
         "name": "capital",
         "orientation": "v",
         "showlegend": true,
         "type": "scatter",
         "x": [
          42
         ],
         "xaxis": "x",
         "y": [
          39
         ],
         "yaxis": "y"
        },
        {
         "hovertemplate": "<b>%{hovertext}</b><br><br>word=armazenamento<br>index=%{x}<br>count=%{marker.size}<extra></extra>",
         "hovertext": [
          "armazenamento"
         ],
         "legendgroup": "armazenamento",
         "marker": {
          "color": "#ab63fa",
          "size": [
           39
          ],
          "sizemode": "area",
          "sizeref": 0.09583333333333334,
          "symbol": "circle"
         },
         "mode": "markers",
         "name": "armazenamento",
         "orientation": "v",
         "showlegend": true,
         "type": "scatter",
         "x": [
          43
         ],
         "xaxis": "x",
         "y": [
          39
         ],
         "yaxis": "y"
        },
        {
         "hovertemplate": "<b>%{hovertext}</b><br><br>word=instrumento<br>index=%{x}<br>count=%{marker.size}<extra></extra>",
         "hovertext": [
          "instrumento"
         ],
         "legendgroup": "instrumento",
         "marker": {
          "color": "#FFA15A",
          "size": [
           36
          ],
          "sizemode": "area",
          "sizeref": 0.09583333333333334,
          "symbol": "circle"
         },
         "mode": "markers",
         "name": "instrumento",
         "orientation": "v",
         "showlegend": true,
         "type": "scatter",
         "x": [
          44
         ],
         "xaxis": "x",
         "y": [
          36
         ],
         "yaxis": "y"
        },
        {
         "hovertemplate": "<b>%{hovertext}</b><br><br>word=fiscalizado<br>index=%{x}<br>count=%{marker.size}<extra></extra>",
         "hovertext": [
          "fiscalizado"
         ],
         "legendgroup": "fiscalizado",
         "marker": {
          "color": "#19d3f3",
          "size": [
           36
          ],
          "sizemode": "area",
          "sizeref": 0.09583333333333334,
          "symbol": "circle"
         },
         "mode": "markers",
         "name": "fiscalizado",
         "orientation": "v",
         "showlegend": true,
         "type": "scatter",
         "x": [
          45
         ],
         "xaxis": "x",
         "y": [
          36
         ],
         "yaxis": "y"
        },
        {
         "hovertemplate": "<b>%{hovertext}</b><br><br>word=outros<br>index=%{x}<br>count=%{marker.size}<extra></extra>",
         "hovertext": [
          "outros"
         ],
         "legendgroup": "outros",
         "marker": {
          "color": "#FF6692",
          "size": [
           36
          ],
          "sizemode": "area",
          "sizeref": 0.09583333333333334,
          "symbol": "circle"
         },
         "mode": "markers",
         "name": "outros",
         "orientation": "v",
         "showlegend": true,
         "type": "scatter",
         "x": [
          46
         ],
         "xaxis": "x",
         "y": [
          36
         ],
         "yaxis": "y"
        },
        {
         "hovertemplate": "<b>%{hovertext}</b><br><br>word=áreas<br>index=%{x}<br>count=%{marker.size}<extra></extra>",
         "hovertext": [
          "áreas"
         ],
         "legendgroup": "áreas",
         "marker": {
          "color": "#B6E880",
          "size": [
           36
          ],
          "sizemode": "area",
          "sizeref": 0.09583333333333334,
          "symbol": "circle"
         },
         "mode": "markers",
         "name": "áreas",
         "orientation": "v",
         "showlegend": true,
         "type": "scatter",
         "x": [
          47
         ],
         "xaxis": "x",
         "y": [
          36
         ],
         "yaxis": "y"
        },
        {
         "hovertemplate": "<b>%{hovertext}</b><br><br>word=agentes econômicos<br>index=%{x}<br>count=%{marker.size}<extra></extra>",
         "hovertext": [
          "agentes econômicos"
         ],
         "legendgroup": "agentes econômicos",
         "marker": {
          "color": "#FF97FF",
          "size": [
           36
          ],
          "sizemode": "area",
          "sizeref": 0.09583333333333334,
          "symbol": "circle"
         },
         "mode": "markers",
         "name": "agentes econômicos",
         "orientation": "v",
         "showlegend": true,
         "type": "scatter",
         "x": [
          48
         ],
         "xaxis": "x",
         "y": [
          36
         ],
         "yaxis": "y"
        },
        {
         "hovertemplate": "<b>%{hovertext}</b><br><br>word=bicos<br>index=%{x}<br>count=%{marker.size}<extra></extra>",
         "hovertext": [
          "bicos"
         ],
         "legendgroup": "bicos",
         "marker": {
          "color": "#FECB52",
          "size": [
           33
          ],
          "sizemode": "area",
          "sizeref": 0.09583333333333334,
          "symbol": "circle"
         },
         "mode": "markers",
         "name": "bicos",
         "orientation": "v",
         "showlegend": true,
         "type": "scatter",
         "x": [
          49
         ],
         "xaxis": "x",
         "y": [
          33
         ],
         "yaxis": "y"
        },
        {
         "hovertemplate": "<b>%{hovertext}</b><br><br>word=plano<br>index=%{x}<br>count=%{marker.size}<extra></extra>",
         "hovertext": [
          "plano"
         ],
         "legendgroup": "plano",
         "marker": {
          "color": "#636efa",
          "size": [
           33
          ],
          "sizemode": "area",
          "sizeref": 0.09583333333333334,
          "symbol": "circle"
         },
         "mode": "markers",
         "name": "plano",
         "orientation": "v",
         "showlegend": true,
         "type": "scatter",
         "x": [
          50
         ],
         "xaxis": "x",
         "y": [
          33
         ],
         "yaxis": "y"
        },
        {
         "hovertemplate": "<b>%{hovertext}</b><br><br>word=proprietário<br>index=%{x}<br>count=%{marker.size}<extra></extra>",
         "hovertext": [
          "proprietário"
         ],
         "legendgroup": "proprietário",
         "marker": {
          "color": "#EF553B",
          "size": [
           33
          ],
          "sizemode": "area",
          "sizeref": 0.09583333333333334,
          "symbol": "circle"
         },
         "mode": "markers",
         "name": "proprietário",
         "orientation": "v",
         "showlegend": true,
         "type": "scatter",
         "x": [
          51
         ],
         "xaxis": "x",
         "y": [
          33
         ],
         "yaxis": "y"
        },
        {
         "hovertemplate": "<b>%{hovertext}</b><br><br>word=terra<br>index=%{x}<br>count=%{marker.size}<extra></extra>",
         "hovertext": [
          "terra"
         ],
         "legendgroup": "terra",
         "marker": {
          "color": "#00cc96",
          "size": [
           33
          ],
          "sizemode": "area",
          "sizeref": 0.09583333333333334,
          "symbol": "circle"
         },
         "mode": "markers",
         "name": "terra",
         "orientation": "v",
         "showlegend": true,
         "type": "scatter",
         "x": [
          52
         ],
         "xaxis": "x",
         "y": [
          33
         ],
         "yaxis": "y"
        },
        {
         "hovertemplate": "<b>%{hovertext}</b><br><br>word=procon municipal<br>index=%{x}<br>count=%{marker.size}<extra></extra>",
         "hovertext": [
          "procon municipal"
         ],
         "legendgroup": "procon municipal",
         "marker": {
          "color": "#ab63fa",
          "size": [
           33
          ],
          "sizemode": "area",
          "sizeref": 0.09583333333333334,
          "symbol": "circle"
         },
         "mode": "markers",
         "name": "procon municipal",
         "orientation": "v",
         "showlegend": true,
         "type": "scatter",
         "x": [
          53
         ],
         "xaxis": "x",
         "y": [
          33
         ],
         "yaxis": "y"
        },
        {
         "hovertemplate": "<b>%{hovertext}</b><br><br>word=ausência<br>index=%{x}<br>count=%{marker.size}<extra></extra>",
         "hovertext": [
          "ausência"
         ],
         "legendgroup": "ausência",
         "marker": {
          "color": "#FFA15A",
          "size": [
           33
          ],
          "sizemode": "area",
          "sizeref": 0.09583333333333334,
          "symbol": "circle"
         },
         "mode": "markers",
         "name": "ausência",
         "orientation": "v",
         "showlegend": true,
         "type": "scatter",
         "x": [
          54
         ],
         "xaxis": "x",
         "y": [
          33
         ],
         "yaxis": "y"
        },
        {
         "hovertemplate": "<b>%{hovertext}</b><br><br>word=oferta permanente<br>index=%{x}<br>count=%{marker.size}<extra></extra>",
         "hovertext": [
          "oferta permanente"
         ],
         "legendgroup": "oferta permanente",
         "marker": {
          "color": "#19d3f3",
          "size": [
           33
          ],
          "sizemode": "area",
          "sizeref": 0.09583333333333334,
          "symbol": "circle"
         },
         "mode": "markers",
         "name": "oferta permanente",
         "orientation": "v",
         "showlegend": true,
         "type": "scatter",
         "x": [
          55
         ],
         "xaxis": "x",
         "y": [
          33
         ],
         "yaxis": "y"
        },
        {
         "hovertemplate": "<b>%{hovertext}</b><br><br>word=prazo<br>index=%{x}<br>count=%{marker.size}<extra></extra>",
         "hovertext": [
          "prazo"
         ],
         "legendgroup": "prazo",
         "marker": {
          "color": "#FF6692",
          "size": [
           33
          ],
          "sizemode": "area",
          "sizeref": 0.09583333333333334,
          "symbol": "circle"
         },
         "mode": "markers",
         "name": "prazo",
         "orientation": "v",
         "showlegend": true,
         "type": "scatter",
         "x": [
          56
         ],
         "xaxis": "x",
         "y": [
          33
         ],
         "yaxis": "y"
        },
        {
         "hovertemplate": "<b>%{hovertext}</b><br><br>word=litro<br>index=%{x}<br>count=%{marker.size}<extra></extra>",
         "hovertext": [
          "litro"
         ],
         "legendgroup": "litro",
         "marker": {
          "color": "#B6E880",
          "size": [
           33
          ],
          "sizemode": "area",
          "sizeref": 0.09583333333333334,
          "symbol": "circle"
         },
         "mode": "markers",
         "name": "litro",
         "orientation": "v",
         "showlegend": true,
         "type": "scatter",
         "x": [
          57
         ],
         "xaxis": "x",
         "y": [
          33
         ],
         "yaxis": "y"
        },
        {
         "hovertemplate": "<b>%{hovertext}</b><br><br>word=instalações<br>index=%{x}<br>count=%{marker.size}<extra></extra>",
         "hovertext": [
          "instalações"
         ],
         "legendgroup": "instalações",
         "marker": {
          "color": "#FF97FF",
          "size": [
           30
          ],
          "sizemode": "area",
          "sizeref": 0.09583333333333334,
          "symbol": "circle"
         },
         "mode": "markers",
         "name": "instalações",
         "orientation": "v",
         "showlegend": true,
         "type": "scatter",
         "x": [
          58
         ],
         "xaxis": "x",
         "y": [
          30
         ],
         "yaxis": "y"
        },
        {
         "hovertemplate": "<b>%{hovertext}</b><br><br>word=consumidores<br>index=%{x}<br>count=%{marker.size}<extra></extra>",
         "hovertext": [
          "consumidores"
         ],
         "legendgroup": "consumidores",
         "marker": {
          "color": "#FECB52",
          "size": [
           30
          ],
          "sizemode": "area",
          "sizeref": 0.09583333333333334,
          "symbol": "circle"
         },
         "mode": "markers",
         "name": "consumidores",
         "orientation": "v",
         "showlegend": true,
         "type": "scatter",
         "x": [
          59
         ],
         "xaxis": "x",
         "y": [
          30
         ],
         "yaxis": "y"
        },
        {
         "hovertemplate": "<b>%{hovertext}</b><br><br>word=medida padrão<br>index=%{x}<br>count=%{marker.size}<extra></extra>",
         "hovertext": [
          "medida padrão"
         ],
         "legendgroup": "medida padrão",
         "marker": {
          "color": "#636efa",
          "size": [
           30
          ],
          "sizemode": "area",
          "sizeref": 0.09583333333333334,
          "symbol": "circle"
         },
         "mode": "markers",
         "name": "medida padrão",
         "orientation": "v",
         "showlegend": true,
         "type": "scatter",
         "x": [
          60
         ],
         "xaxis": "x",
         "y": [
          30
         ],
         "yaxis": "y"
        },
        {
         "hovertemplate": "<b>%{hovertext}</b><br><br>word=teste<br>index=%{x}<br>count=%{marker.size}<extra></extra>",
         "hovertext": [
          "teste"
         ],
         "legendgroup": "teste",
         "marker": {
          "color": "#EF553B",
          "size": [
           30
          ],
          "sizemode": "area",
          "sizeref": 0.09583333333333334,
          "symbol": "circle"
         },
         "mode": "markers",
         "name": "teste",
         "orientation": "v",
         "showlegend": true,
         "type": "scatter",
         "x": [
          61
         ],
         "xaxis": "x",
         "y": [
          30
         ],
         "yaxis": "y"
        },
        {
         "hovertemplate": "<b>%{hovertext}</b><br><br>word=óleo<br>index=%{x}<br>count=%{marker.size}<extra></extra>",
         "hovertext": [
          "óleo"
         ],
         "legendgroup": "óleo",
         "marker": {
          "color": "#00cc96",
          "size": [
           30
          ],
          "sizemode": "area",
          "sizeref": 0.09583333333333334,
          "symbol": "circle"
         },
         "mode": "markers",
         "name": "óleo",
         "orientation": "v",
         "showlegend": true,
         "type": "scatter",
         "x": [
          62
         ],
         "xaxis": "x",
         "y": [
          30
         ],
         "yaxis": "y"
        },
        {
         "hovertemplate": "<b>%{hovertext}</b><br><br>word=sistema<br>index=%{x}<br>count=%{marker.size}<extra></extra>",
         "hovertext": [
          "sistema"
         ],
         "legendgroup": "sistema",
         "marker": {
          "color": "#ab63fa",
          "size": [
           30
          ],
          "sizemode": "area",
          "sizeref": 0.09583333333333334,
          "symbol": "circle"
         },
         "mode": "markers",
         "name": "sistema",
         "orientation": "v",
         "showlegend": true,
         "type": "scatter",
         "x": [
          63
         ],
         "xaxis": "x",
         "y": [
          30
         ],
         "yaxis": "y"
        },
        {
         "hovertemplate": "<b>%{hovertext}</b><br><br>word=recebeu autuação<br>index=%{x}<br>count=%{marker.size}<extra></extra>",
         "hovertext": [
          "recebeu autuação"
         ],
         "legendgroup": "recebeu autuação",
         "marker": {
          "color": "#FFA15A",
          "size": [
           30
          ],
          "sizemode": "area",
          "sizeref": 0.09583333333333334,
          "symbol": "circle"
         },
         "mode": "markers",
         "name": "recebeu autuação",
         "orientation": "v",
         "showlegend": true,
         "type": "scatter",
         "x": [
          64
         ],
         "xaxis": "x",
         "y": [
          30
         ],
         "yaxis": "y"
        },
        {
         "hovertemplate": "<b>%{hovertext}</b><br><br>word=atendimento<br>index=%{x}<br>count=%{marker.size}<extra></extra>",
         "hovertext": [
          "atendimento"
         ],
         "legendgroup": "atendimento",
         "marker": {
          "color": "#19d3f3",
          "size": [
           30
          ],
          "sizemode": "area",
          "sizeref": 0.09583333333333334,
          "symbol": "circle"
         },
         "mode": "markers",
         "name": "atendimento",
         "orientation": "v",
         "showlegend": true,
         "type": "scatter",
         "x": [
          65
         ],
         "xaxis": "x",
         "y": [
          30
         ],
         "yaxis": "y"
        },
        {
         "hovertemplate": "<b>%{hovertext}</b><br><br>word=óleo lubrificante<br>index=%{x}<br>count=%{marker.size}<extra></extra>",
         "hovertext": [
          "óleo lubrificante"
         ],
         "legendgroup": "óleo lubrificante",
         "marker": {
          "color": "#FF6692",
          "size": [
           30
          ],
          "sizemode": "area",
          "sizeref": 0.09583333333333334,
          "symbol": "circle"
         },
         "mode": "markers",
         "name": "óleo lubrificante",
         "orientation": "v",
         "showlegend": true,
         "type": "scatter",
         "x": [
          66
         ],
         "xaxis": "x",
         "y": [
          30
         ],
         "yaxis": "y"
        },
        {
         "hovertemplate": "<b>%{hovertext}</b><br><br>word=estabelecimento<br>index=%{x}<br>count=%{marker.size}<extra></extra>",
         "hovertext": [
          "estabelecimento"
         ],
         "legendgroup": "estabelecimento",
         "marker": {
          "color": "#B6E880",
          "size": [
           30
          ],
          "sizemode": "area",
          "sizeref": 0.09583333333333334,
          "symbol": "circle"
         },
         "mode": "markers",
         "name": "estabelecimento",
         "orientation": "v",
         "showlegend": true,
         "type": "scatter",
         "x": [
          67
         ],
         "xaxis": "x",
         "y": [
          30
         ],
         "yaxis": "y"
        },
        {
         "hovertemplate": "<b>%{hovertext}</b><br><br>word=sul<br>index=%{x}<br>count=%{marker.size}<extra></extra>",
         "hovertext": [
          "sul"
         ],
         "legendgroup": "sul",
         "marker": {
          "color": "#FF97FF",
          "size": [
           27
          ],
          "sizemode": "area",
          "sizeref": 0.09583333333333334,
          "symbol": "circle"
         },
         "mode": "markers",
         "name": "sul",
         "orientation": "v",
         "showlegend": true,
         "type": "scatter",
         "x": [
          68
         ],
         "xaxis": "x",
         "y": [
          27
         ],
         "yaxis": "y"
        },
        {
         "hovertemplate": "<b>%{hovertext}</b><br><br>word=atender<br>index=%{x}<br>count=%{marker.size}<extra></extra>",
         "hovertext": [
          "atender"
         ],
         "legendgroup": "atender",
         "marker": {
          "color": "#FECB52",
          "size": [
           27
          ],
          "sizemode": "area",
          "sizeref": 0.09583333333333334,
          "symbol": "circle"
         },
         "mode": "markers",
         "name": "atender",
         "orientation": "v",
         "showlegend": true,
         "type": "scatter",
         "x": [
          69
         ],
         "xaxis": "x",
         "y": [
          27
         ],
         "yaxis": "y"
        },
        {
         "hovertemplate": "<b>%{hovertext}</b><br><br>word=poço<br>index=%{x}<br>count=%{marker.size}<extra></extra>",
         "hovertext": [
          "poço"
         ],
         "legendgroup": "poço",
         "marker": {
          "color": "#636efa",
          "size": [
           27
          ],
          "sizemode": "area",
          "sizeref": 0.09583333333333334,
          "symbol": "circle"
         },
         "mode": "markers",
         "name": "poço",
         "orientation": "v",
         "showlegend": true,
         "type": "scatter",
         "x": [
          70
         ],
         "xaxis": "x",
         "y": [
          27
         ],
         "yaxis": "y"
        },
        {
         "hovertemplate": "<b>%{hovertext}</b><br><br>word=atividades<br>index=%{x}<br>count=%{marker.size}<extra></extra>",
         "hovertext": [
          "atividades"
         ],
         "legendgroup": "atividades",
         "marker": {
          "color": "#EF553B",
          "size": [
           27
          ],
          "sizemode": "area",
          "sizeref": 0.09583333333333334,
          "symbol": "circle"
         },
         "mode": "markers",
         "name": "atividades",
         "orientation": "v",
         "showlegend": true,
         "type": "scatter",
         "x": [
          71
         ],
         "xaxis": "x",
         "y": [
          27
         ],
         "yaxis": "y"
        },
        {
         "hovertemplate": "<b>%{hovertext}</b><br><br>word=março<br>index=%{x}<br>count=%{marker.size}<extra></extra>",
         "hovertext": [
          "março"
         ],
         "legendgroup": "março",
         "marker": {
          "color": "#00cc96",
          "size": [
           27
          ],
          "sizemode": "area",
          "sizeref": 0.09583333333333334,
          "symbol": "circle"
         },
         "mode": "markers",
         "name": "março",
         "orientation": "v",
         "showlegend": true,
         "type": "scatter",
         "x": [
          72
         ],
         "xaxis": "x",
         "y": [
          27
         ],
         "yaxis": "y"
        },
        {
         "hovertemplate": "<b>%{hovertext}</b><br><br>word=inmetro<br>index=%{x}<br>count=%{marker.size}<extra></extra>",
         "hovertext": [
          "inmetro"
         ],
         "legendgroup": "inmetro",
         "marker": {
          "color": "#ab63fa",
          "size": [
           27
          ],
          "sizemode": "area",
          "sizeref": 0.09583333333333334,
          "symbol": "circle"
         },
         "mode": "markers",
         "name": "inmetro",
         "orientation": "v",
         "showlegend": true,
         "type": "scatter",
         "x": [
          73
         ],
         "xaxis": "x",
         "y": [
          27
         ],
         "yaxis": "y"
        },
        {
         "hovertemplate": "<b>%{hovertext}</b><br><br>word=retalhistas trrs<br>index=%{x}<br>count=%{marker.size}<extra></extra>",
         "hovertext": [
          "retalhistas trrs"
         ],
         "legendgroup": "retalhistas trrs",
         "marker": {
          "color": "#FFA15A",
          "size": [
           27
          ],
          "sizemode": "area",
          "sizeref": 0.09583333333333334,
          "symbol": "circle"
         },
         "mode": "markers",
         "name": "retalhistas trrs",
         "orientation": "v",
         "showlegend": true,
         "type": "scatter",
         "x": [
          74
         ],
         "xaxis": "x",
         "y": [
          27
         ],
         "yaxis": "y"
        },
        {
         "hovertemplate": "<b>%{hovertext}</b><br><br>word=painel<br>index=%{x}<br>count=%{marker.size}<extra></extra>",
         "hovertext": [
          "painel"
         ],
         "legendgroup": "painel",
         "marker": {
          "color": "#19d3f3",
          "size": [
           27
          ],
          "sizemode": "area",
          "sizeref": 0.09583333333333334,
          "symbol": "circle"
         },
         "mode": "markers",
         "name": "painel",
         "orientation": "v",
         "showlegend": true,
         "type": "scatter",
         "x": [
          75
         ],
         "xaxis": "x",
         "y": [
          27
         ],
         "yaxis": "y"
        },
        {
         "hovertemplate": "<b>%{hovertext}</b><br><br>word=pré sal<br>index=%{x}<br>count=%{marker.size}<extra></extra>",
         "hovertext": [
          "pré sal"
         ],
         "legendgroup": "pré sal",
         "marker": {
          "color": "#FF6692",
          "size": [
           27
          ],
          "sizemode": "area",
          "sizeref": 0.09583333333333334,
          "symbol": "circle"
         },
         "mode": "markers",
         "name": "pré sal",
         "orientation": "v",
         "showlegend": true,
         "type": "scatter",
         "x": [
          76
         ],
         "xaxis": "x",
         "y": [
          27
         ],
         "yaxis": "y"
        },
        {
         "hovertemplate": "<b>%{hovertext}</b><br><br>word=produtor<br>index=%{x}<br>count=%{marker.size}<extra></extra>",
         "hovertext": [
          "produtor"
         ],
         "legendgroup": "produtor",
         "marker": {
          "color": "#B6E880",
          "size": [
           27
          ],
          "sizemode": "area",
          "sizeref": 0.09583333333333334,
          "symbol": "circle"
         },
         "mode": "markers",
         "name": "produtor",
         "orientation": "v",
         "showlegend": true,
         "type": "scatter",
         "x": [
          77
         ],
         "xaxis": "x",
         "y": [
          27
         ],
         "yaxis": "y"
        },
        {
         "hovertemplate": "<b>%{hovertext}</b><br><br>word=posto revendedor<br>index=%{x}<br>count=%{marker.size}<extra></extra>",
         "hovertext": [
          "posto revendedor"
         ],
         "legendgroup": "posto revendedor",
         "marker": {
          "color": "#FF97FF",
          "size": [
           27
          ],
          "sizemode": "area",
          "sizeref": 0.09583333333333334,
          "symbol": "circle"
         },
         "mode": "markers",
         "name": "posto revendedor",
         "orientation": "v",
         "showlegend": true,
         "type": "scatter",
         "x": [
          78
         ],
         "xaxis": "x",
         "y": [
          27
         ],
         "yaxis": "y"
        },
        {
         "hovertemplate": "<b>%{hovertext}</b><br><br>word=boe d<br>index=%{x}<br>count=%{marker.size}<extra></extra>",
         "hovertext": [
          "boe d"
         ],
         "legendgroup": "boe d",
         "marker": {
          "color": "#FECB52",
          "size": [
           27
          ],
          "sizemode": "area",
          "sizeref": 0.09583333333333334,
          "symbol": "circle"
         },
         "mode": "markers",
         "name": "boe d",
         "orientation": "v",
         "showlegend": true,
         "type": "scatter",
         "x": [
          79
         ],
         "xaxis": "x",
         "y": [
          27
         ],
         "yaxis": "y"
        },
        {
         "hovertemplate": "<b>%{hovertext}</b><br><br>word=segmentos<br>index=%{x}<br>count=%{marker.size}<extra></extra>",
         "hovertext": [
          "segmentos"
         ],
         "legendgroup": "segmentos",
         "marker": {
          "color": "#636efa",
          "size": [
           27
          ],
          "sizemode": "area",
          "sizeref": 0.09583333333333334,
          "symbol": "circle"
         },
         "mode": "markers",
         "name": "segmentos",
         "orientation": "v",
         "showlegend": true,
         "type": "scatter",
         "x": [
          80
         ],
         "xaxis": "x",
         "y": [
          27
         ],
         "yaxis": "y"
        },
        {
         "hovertemplate": "<b>%{hovertext}</b><br><br>word=revendedores retalhistas<br>index=%{x}<br>count=%{marker.size}<extra></extra>",
         "hovertext": [
          "revendedores retalhistas"
         ],
         "legendgroup": "revendedores retalhistas",
         "marker": {
          "color": "#EF553B",
          "size": [
           27
          ],
          "sizemode": "area",
          "sizeref": 0.09583333333333334,
          "symbol": "circle"
         },
         "mode": "markers",
         "name": "revendedores retalhistas",
         "orientation": "v",
         "showlegend": true,
         "type": "scatter",
         "x": [
          81
         ],
         "xaxis": "x",
         "y": [
          27
         ],
         "yaxis": "y"
        },
        {
         "hovertemplate": "<b>%{hovertext}</b><br><br>word=transportadores revendedores<br>index=%{x}<br>count=%{marker.size}<extra></extra>",
         "hovertext": [
          "transportadores revendedores"
         ],
         "legendgroup": "transportadores revendedores",
         "marker": {
          "color": "#00cc96",
          "size": [
           27
          ],
          "sizemode": "area",
          "sizeref": 0.09583333333333334,
          "symbol": "circle"
         },
         "mode": "markers",
         "name": "transportadores revendedores",
         "orientation": "v",
         "showlegend": true,
         "type": "scatter",
         "x": [
          82
         ],
         "xaxis": "x",
         "y": [
          27
         ],
         "yaxis": "y"
        },
        {
         "hovertemplate": "<b>%{hovertext}</b><br><br>word=mercado<br>index=%{x}<br>count=%{marker.size}<extra></extra>",
         "hovertext": [
          "mercado"
         ],
         "legendgroup": "mercado",
         "marker": {
          "color": "#ab63fa",
          "size": [
           27
          ],
          "sizemode": "area",
          "sizeref": 0.09583333333333334,
          "symbol": "circle"
         },
         "mode": "markers",
         "name": "mercado",
         "orientation": "v",
         "showlegend": true,
         "type": "scatter",
         "x": [
          83
         ],
         "xaxis": "x",
         "y": [
          27
         ],
         "yaxis": "y"
        },
        {
         "hovertemplate": "<b>%{hovertext}</b><br><br>word=resultado<br>index=%{x}<br>count=%{marker.size}<extra></extra>",
         "hovertext": [
          "resultado"
         ],
         "legendgroup": "resultado",
         "marker": {
          "color": "#FFA15A",
          "size": [
           27
          ],
          "sizemode": "area",
          "sizeref": 0.09583333333333334,
          "symbol": "circle"
         },
         "mode": "markers",
         "name": "resultado",
         "orientation": "v",
         "showlegend": true,
         "type": "scatter",
         "x": [
          84
         ],
         "xaxis": "x",
         "y": [
          27
         ],
         "yaxis": "y"
        },
        {
         "hovertemplate": "<b>%{hovertext}</b><br><br>word=medida<br>index=%{x}<br>count=%{marker.size}<extra></extra>",
         "hovertext": [
          "medida"
         ],
         "legendgroup": "medida",
         "marker": {
          "color": "#19d3f3",
          "size": [
           27
          ],
          "sizemode": "area",
          "sizeref": 0.09583333333333334,
          "symbol": "circle"
         },
         "mode": "markers",
         "name": "medida",
         "orientation": "v",
         "showlegend": true,
         "type": "scatter",
         "x": [
          85
         ],
         "xaxis": "x",
         "y": [
          27
         ],
         "yaxis": "y"
        },
        {
         "hovertemplate": "<b>%{hovertext}</b><br><br>word=autorização<br>index=%{x}<br>count=%{marker.size}<extra></extra>",
         "hovertext": [
          "autorização"
         ],
         "legendgroup": "autorização",
         "marker": {
          "color": "#FF6692",
          "size": [
           27
          ],
          "sizemode": "area",
          "sizeref": 0.09583333333333334,
          "symbol": "circle"
         },
         "mode": "markers",
         "name": "autorização",
         "orientation": "v",
         "showlegend": true,
         "type": "scatter",
         "x": [
          86
         ],
         "xaxis": "x",
         "y": [
          27
         ],
         "yaxis": "y"
        },
        {
         "hovertemplate": "<b>%{hovertext}</b><br><br>word=audiência pública<br>index=%{x}<br>count=%{marker.size}<extra></extra>",
         "hovertext": [
          "audiência pública"
         ],
         "legendgroup": "audiência pública",
         "marker": {
          "color": "#B6E880",
          "size": [
           24
          ],
          "sizemode": "area",
          "sizeref": 0.09583333333333334,
          "symbol": "circle"
         },
         "mode": "markers",
         "name": "audiência pública",
         "orientation": "v",
         "showlegend": true,
         "type": "scatter",
         "x": [
          87
         ],
         "xaxis": "x",
         "y": [
          24
         ],
         "yaxis": "y"
        },
        {
         "hovertemplate": "<b>%{hovertext}</b><br><br>word=parceria<br>index=%{x}<br>count=%{marker.size}<extra></extra>",
         "hovertext": [
          "parceria"
         ],
         "legendgroup": "parceria",
         "marker": {
          "color": "#FF97FF",
          "size": [
           24
          ],
          "sizemode": "area",
          "sizeref": 0.09583333333333334,
          "symbol": "circle"
         },
         "mode": "markers",
         "name": "parceria",
         "orientation": "v",
         "showlegend": true,
         "type": "scatter",
         "x": [
          88
         ],
         "xaxis": "x",
         "y": [
          24
         ],
         "yaxis": "y"
        },
        {
         "hovertemplate": "<b>%{hovertext}</b><br><br>word=empresas<br>index=%{x}<br>count=%{marker.size}<extra></extra>",
         "hovertext": [
          "empresas"
         ],
         "legendgroup": "empresas",
         "marker": {
          "color": "#FECB52",
          "size": [
           24
          ],
          "sizemode": "area",
          "sizeref": 0.09583333333333334,
          "symbol": "circle"
         },
         "mode": "markers",
         "name": "empresas",
         "orientation": "v",
         "showlegend": true,
         "type": "scatter",
         "x": [
          89
         ],
         "xaxis": "x",
         "y": [
          24
         ],
         "yaxis": "y"
        },
        {
         "hovertemplate": "<b>%{hovertext}</b><br><br>word=falta<br>index=%{x}<br>count=%{marker.size}<extra></extra>",
         "hovertext": [
          "falta"
         ],
         "legendgroup": "falta",
         "marker": {
          "color": "#636efa",
          "size": [
           24
          ],
          "sizemode": "area",
          "sizeref": 0.09583333333333334,
          "symbol": "circle"
         },
         "mode": "markers",
         "name": "falta",
         "orientation": "v",
         "showlegend": true,
         "type": "scatter",
         "x": [
          90
         ],
         "xaxis": "x",
         "y": [
          24
         ],
         "yaxis": "y"
        },
        {
         "hovertemplate": "<b>%{hovertext}</b><br><br>word=acumulações marginais<br>index=%{x}<br>count=%{marker.size}<extra></extra>",
         "hovertext": [
          "acumulações marginais"
         ],
         "legendgroup": "acumulações marginais",
         "marker": {
          "color": "#EF553B",
          "size": [
           24
          ],
          "sizemode": "area",
          "sizeref": 0.09583333333333334,
          "symbol": "circle"
         },
         "mode": "markers",
         "name": "acumulações marginais",
         "orientation": "v",
         "showlegend": true,
         "type": "scatter",
         "x": [
          91
         ],
         "xaxis": "x",
         "y": [
          24
         ],
         "yaxis": "y"
        },
        {
         "hovertemplate": "<b>%{hovertext}</b><br><br>word=produto<br>index=%{x}<br>count=%{marker.size}<extra></extra>",
         "hovertext": [
          "produto"
         ],
         "legendgroup": "produto",
         "marker": {
          "color": "#00cc96",
          "size": [
           24
          ],
          "sizemode": "area",
          "sizeref": 0.09583333333333334,
          "symbol": "circle"
         },
         "mode": "markers",
         "name": "produto",
         "orientation": "v",
         "showlegend": true,
         "type": "scatter",
         "x": [
          92
         ],
         "xaxis": "x",
         "y": [
          24
         ],
         "yaxis": "y"
        },
        {
         "hovertemplate": "<b>%{hovertext}</b><br><br>word=marca comercial<br>index=%{x}<br>count=%{marker.size}<extra></extra>",
         "hovertext": [
          "marca comercial"
         ],
         "legendgroup": "marca comercial",
         "marker": {
          "color": "#ab63fa",
          "size": [
           24
          ],
          "sizemode": "area",
          "sizeref": 0.09583333333333334,
          "symbol": "circle"
         },
         "mode": "markers",
         "name": "marca comercial",
         "orientation": "v",
         "showlegend": true,
         "type": "scatter",
         "x": [
          93
         ],
         "xaxis": "x",
         "y": [
          24
         ],
         "yaxis": "y"
        },
        {
         "hovertemplate": "<b>%{hovertext}</b><br><br>word=bacia<br>index=%{x}<br>count=%{marker.size}<extra></extra>",
         "hovertext": [
          "bacia"
         ],
         "legendgroup": "bacia",
         "marker": {
          "color": "#FFA15A",
          "size": [
           24
          ],
          "sizemode": "area",
          "sizeref": 0.09583333333333334,
          "symbol": "circle"
         },
         "mode": "markers",
         "name": "bacia",
         "orientation": "v",
         "showlegend": true,
         "type": "scatter",
         "x": [
          94
         ],
         "xaxis": "x",
         "y": [
          24
         ],
         "yaxis": "y"
        },
        {
         "hovertemplate": "<b>%{hovertext}</b><br><br>word=certificado<br>index=%{x}<br>count=%{marker.size}<extra></extra>",
         "hovertext": [
          "certificado"
         ],
         "legendgroup": "certificado",
         "marker": {
          "color": "#19d3f3",
          "size": [
           24
          ],
          "sizemode": "area",
          "sizeref": 0.09583333333333334,
          "symbol": "circle"
         },
         "mode": "markers",
         "name": "certificado",
         "orientation": "v",
         "showlegend": true,
         "type": "scatter",
         "x": [
          95
         ],
         "xaxis": "x",
         "y": [
          24
         ],
         "yaxis": "y"
        },
        {
         "hovertemplate": "<b>%{hovertext}</b><br><br>word=percentual<br>index=%{x}<br>count=%{marker.size}<extra></extra>",
         "hovertext": [
          "percentual"
         ],
         "legendgroup": "percentual",
         "marker": {
          "color": "#FF6692",
          "size": [
           24
          ],
          "sizemode": "area",
          "sizeref": 0.09583333333333334,
          "symbol": "circle"
         },
         "mode": "markers",
         "name": "percentual",
         "orientation": "v",
         "showlegend": true,
         "type": "scatter",
         "x": [
          96
         ],
         "xaxis": "x",
         "y": [
          24
         ],
         "yaxis": "y"
        },
        {
         "hovertemplate": "<b>%{hovertext}</b><br><br>word=avaliação<br>index=%{x}<br>count=%{marker.size}<extra></extra>",
         "hovertext": [
          "avaliação"
         ],
         "legendgroup": "avaliação",
         "marker": {
          "color": "#B6E880",
          "size": [
           24
          ],
          "sizemode": "area",
          "sizeref": 0.09583333333333334,
          "symbol": "circle"
         },
         "mode": "markers",
         "name": "avaliação",
         "orientation": "v",
         "showlegend": true,
         "type": "scatter",
         "x": [
          97
         ],
         "xaxis": "x",
         "y": [
          24
         ],
         "yaxis": "y"
        },
        {
         "hovertemplate": "<b>%{hovertext}</b><br><br>word=vasilhames<br>index=%{x}<br>count=%{marker.size}<extra></extra>",
         "hovertext": [
          "vasilhames"
         ],
         "legendgroup": "vasilhames",
         "marker": {
          "color": "#FF97FF",
          "size": [
           24
          ],
          "sizemode": "area",
          "sizeref": 0.09583333333333334,
          "symbol": "circle"
         },
         "mode": "markers",
         "name": "vasilhames",
         "orientation": "v",
         "showlegend": true,
         "type": "scatter",
         "x": [
          98
         ],
         "xaxis": "x",
         "y": [
          24
         ],
         "yaxis": "y"
        },
        {
         "hovertemplate": "<b>%{hovertext}</b><br><br>word=ação<br>index=%{x}<br>count=%{marker.size}<extra></extra>",
         "hovertext": [
          "ação"
         ],
         "legendgroup": "ação",
         "marker": {
          "color": "#FECB52",
          "size": [
           24
          ],
          "sizemode": "area",
          "sizeref": 0.09583333333333334,
          "symbol": "circle"
         },
         "mode": "markers",
         "name": "ação",
         "orientation": "v",
         "showlegend": true,
         "type": "scatter",
         "x": [
          99
         ],
         "xaxis": "x",
         "y": [
          24
         ],
         "yaxis": "y"
        },
        {
         "hovertemplate": "<b>%{hovertext}</b><br><br>word=aviação<br>index=%{x}<br>count=%{marker.size}<extra></extra>",
         "hovertext": [
          "aviação"
         ],
         "legendgroup": "aviação",
         "marker": {
          "color": "#636efa",
          "size": [
           24
          ],
          "sizemode": "area",
          "sizeref": 0.09583333333333334,
          "symbol": "circle"
         },
         "mode": "markers",
         "name": "aviação",
         "orientation": "v",
         "showlegend": true,
         "type": "scatter",
         "x": [
          100
         ],
         "xaxis": "x",
         "y": [
          24
         ],
         "yaxis": "y"
        },
        {
         "hovertemplate": "<b>%{hovertext}</b><br><br>word=consulta<br>index=%{x}<br>count=%{marker.size}<extra></extra>",
         "hovertext": [
          "consulta"
         ],
         "legendgroup": "consulta",
         "marker": {
          "color": "#EF553B",
          "size": [
           24
          ],
          "sizemode": "area",
          "sizeref": 0.09583333333333334,
          "symbol": "circle"
         },
         "mode": "markers",
         "name": "consulta",
         "orientation": "v",
         "showlegend": true,
         "type": "scatter",
         "x": [
          101
         ],
         "xaxis": "x",
         "y": [
          24
         ],
         "yaxis": "y"
        },
        {
         "hovertemplate": "<b>%{hovertext}</b><br><br>word=pagamento<br>index=%{x}<br>count=%{marker.size}<extra></extra>",
         "hovertext": [
          "pagamento"
         ],
         "legendgroup": "pagamento",
         "marker": {
          "color": "#00cc96",
          "size": [
           24
          ],
          "sizemode": "area",
          "sizeref": 0.09583333333333334,
          "symbol": "circle"
         },
         "mode": "markers",
         "name": "pagamento",
         "orientation": "v",
         "showlegend": true,
         "type": "scatter",
         "x": [
          102
         ],
         "xaxis": "x",
         "y": [
          24
         ],
         "yaxis": "y"
        },
        {
         "hovertemplate": "<b>%{hovertext}</b><br><br>word=todos<br>index=%{x}<br>count=%{marker.size}<extra></extra>",
         "hovertext": [
          "todos"
         ],
         "legendgroup": "todos",
         "marker": {
          "color": "#ab63fa",
          "size": [
           24
          ],
          "sizemode": "area",
          "sizeref": 0.09583333333333334,
          "symbol": "circle"
         },
         "mode": "markers",
         "name": "todos",
         "orientation": "v",
         "showlegend": true,
         "type": "scatter",
         "x": [
          103
         ],
         "xaxis": "x",
         "y": [
          24
         ],
         "yaxis": "y"
        },
        {
         "hovertemplate": "<b>%{hovertext}</b><br><br>word=especificação<br>index=%{x}<br>count=%{marker.size}<extra></extra>",
         "hovertext": [
          "especificação"
         ],
         "legendgroup": "especificação",
         "marker": {
          "color": "#FFA15A",
          "size": [
           21
          ],
          "sizemode": "area",
          "sizeref": 0.09583333333333334,
          "symbol": "circle"
         },
         "mode": "markers",
         "name": "especificação",
         "orientation": "v",
         "showlegend": true,
         "type": "scatter",
         "x": [
          104
         ],
         "xaxis": "x",
         "y": [
          21
         ],
         "yaxis": "y"
        },
        {
         "hovertemplate": "<b>%{hovertext}</b><br><br>word=verificação<br>index=%{x}<br>count=%{marker.size}<extra></extra>",
         "hovertext": [
          "verificação"
         ],
         "legendgroup": "verificação",
         "marker": {
          "color": "#19d3f3",
          "size": [
           21
          ],
          "sizemode": "area",
          "sizeref": 0.09583333333333334,
          "symbol": "circle"
         },
         "mode": "markers",
         "name": "verificação",
         "orientation": "v",
         "showlegend": true,
         "type": "scatter",
         "x": [
          105
         ],
         "xaxis": "x",
         "y": [
          21
         ],
         "yaxis": "y"
        },
        {
         "hovertemplate": "<b>%{hovertext}</b><br><br>word=acesse<br>index=%{x}<br>count=%{marker.size}<extra></extra>",
         "hovertext": [
          "acesse"
         ],
         "legendgroup": "acesse",
         "marker": {
          "color": "#FF6692",
          "size": [
           21
          ],
          "sizemode": "area",
          "sizeref": 0.09583333333333334,
          "symbol": "circle"
         },
         "mode": "markers",
         "name": "acesse",
         "orientation": "v",
         "showlegend": true,
         "type": "scatter",
         "x": [
          106
         ],
         "xaxis": "x",
         "y": [
          21
         ],
         "yaxis": "y"
        },
        {
         "hovertemplate": "<b>%{hovertext}</b><br><br>word=lei<br>index=%{x}<br>count=%{marker.size}<extra></extra>",
         "hovertext": [
          "lei"
         ],
         "legendgroup": "lei",
         "marker": {
          "color": "#B6E880",
          "size": [
           21
          ],
          "sizemode": "area",
          "sizeref": 0.09583333333333334,
          "symbol": "circle"
         },
         "mode": "markers",
         "name": "lei",
         "orientation": "v",
         "showlegend": true,
         "type": "scatter",
         "x": [
          107
         ],
         "xaxis": "x",
         "y": [
          21
         ],
         "yaxis": "y"
        },
        {
         "hovertemplate": "<b>%{hovertext}</b><br><br>word=minuta<br>index=%{x}<br>count=%{marker.size}<extra></extra>",
         "hovertext": [
          "minuta"
         ],
         "legendgroup": "minuta",
         "marker": {
          "color": "#FF97FF",
          "size": [
           21
          ],
          "sizemode": "area",
          "sizeref": 0.09583333333333334,
          "symbol": "circle"
         },
         "mode": "markers",
         "name": "minuta",
         "orientation": "v",
         "showlegend": true,
         "type": "scatter",
         "x": [
          108
         ],
         "xaxis": "x",
         "y": [
          21
         ],
         "yaxis": "y"
        },
        {
         "hovertemplate": "<b>%{hovertext}</b><br><br>word=operação<br>index=%{x}<br>count=%{marker.size}<extra></extra>",
         "hovertext": [
          "operação"
         ],
         "legendgroup": "operação",
         "marker": {
          "color": "#FECB52",
          "size": [
           21
          ],
          "sizemode": "area",
          "sizeref": 0.09583333333333334,
          "symbol": "circle"
         },
         "mode": "markers",
         "name": "operação",
         "orientation": "v",
         "showlegend": true,
         "type": "scatter",
         "x": [
          109
         ],
         "xaxis": "x",
         "y": [
          21
         ],
         "yaxis": "y"
        },
        {
         "hovertemplate": "<b>%{hovertext}</b><br><br>word=participação<br>index=%{x}<br>count=%{marker.size}<extra></extra>",
         "hovertext": [
          "participação"
         ],
         "legendgroup": "participação",
         "marker": {
          "color": "#636efa",
          "size": [
           21
          ],
          "sizemode": "area",
          "sizeref": 0.09583333333333334,
          "symbol": "circle"
         },
         "mode": "markers",
         "name": "participação",
         "orientation": "v",
         "showlegend": true,
         "type": "scatter",
         "x": [
          110
         ],
         "xaxis": "x",
         "y": [
          21
         ],
         "yaxis": "y"
        },
        {
         "hovertemplate": "<b>%{hovertext}</b><br><br>word=consumidor<br>index=%{x}<br>count=%{marker.size}<extra></extra>",
         "hovertext": [
          "consumidor"
         ],
         "legendgroup": "consumidor",
         "marker": {
          "color": "#EF553B",
          "size": [
           21
          ],
          "sizemode": "area",
          "sizeref": 0.09583333333333334,
          "symbol": "circle"
         },
         "mode": "markers",
         "name": "consumidor",
         "orientation": "v",
         "showlegend": true,
         "type": "scatter",
         "x": [
          111
         ],
         "xaxis": "x",
         "y": [
          21
         ],
         "yaxis": "y"
        },
        {
         "hovertemplate": "<b>%{hovertext}</b><br><br>word=comum interditado<br>index=%{x}<br>count=%{marker.size}<extra></extra>",
         "hovertext": [
          "comum interditado"
         ],
         "legendgroup": "comum interditado",
         "marker": {
          "color": "#00cc96",
          "size": [
           21
          ],
          "sizemode": "area",
          "sizeref": 0.09583333333333334,
          "symbol": "circle"
         },
         "mode": "markers",
         "name": "comum interditado",
         "orientation": "v",
         "showlegend": true,
         "type": "scatter",
         "x": [
          112
         ],
         "xaxis": "x",
         "y": [
          21
         ],
         "yaxis": "y"
        },
        {
         "hovertemplate": "<b>%{hovertext}</b><br><br>word=bem<br>index=%{x}<br>count=%{marker.size}<extra></extra>",
         "hovertext": [
          "bem"
         ],
         "legendgroup": "bem",
         "marker": {
          "color": "#ab63fa",
          "size": [
           21
          ],
          "sizemode": "area",
          "sizeref": 0.09583333333333334,
          "symbol": "circle"
         },
         "mode": "markers",
         "name": "bem",
         "orientation": "v",
         "showlegend": true,
         "type": "scatter",
         "x": [
          113
         ],
         "xaxis": "x",
         "y": [
          21
         ],
         "yaxis": "y"
        },
        {
         "hovertemplate": "<b>%{hovertext}</b><br><br>word=combustíveis revenda<br>index=%{x}<br>count=%{marker.size}<extra></extra>",
         "hovertext": [
          "combustíveis revenda"
         ],
         "legendgroup": "combustíveis revenda",
         "marker": {
          "color": "#FFA15A",
          "size": [
           21
          ],
          "sizemode": "area",
          "sizeref": 0.09583333333333334,
          "symbol": "circle"
         },
         "mode": "markers",
         "name": "combustíveis revenda",
         "orientation": "v",
         "showlegend": true,
         "type": "scatter",
         "x": [
          114
         ],
         "xaxis": "x",
         "y": [
          21
         ],
         "yaxis": "y"
        },
        {
         "hovertemplate": "<b>%{hovertext}</b><br><br>word=critério<br>index=%{x}<br>count=%{marker.size}<extra></extra>",
         "hovertext": [
          "critério"
         ],
         "legendgroup": "critério",
         "marker": {
          "color": "#19d3f3",
          "size": [
           21
          ],
          "sizemode": "area",
          "sizeref": 0.09583333333333334,
          "symbol": "circle"
         },
         "mode": "markers",
         "name": "critério",
         "orientation": "v",
         "showlegend": true,
         "type": "scatter",
         "x": [
          115
         ],
         "xaxis": "x",
         "y": [
          21
         ],
         "yaxis": "y"
        },
        {
         "hovertemplate": "<b>%{hovertext}</b><br><br>word=utilizado<br>index=%{x}<br>count=%{marker.size}<extra></extra>",
         "hovertext": [
          "utilizado"
         ],
         "legendgroup": "utilizado",
         "marker": {
          "color": "#FF6692",
          "size": [
           21
          ],
          "sizemode": "area",
          "sizeref": 0.09583333333333334,
          "symbol": "circle"
         },
         "mode": "markers",
         "name": "utilizado",
         "orientation": "v",
         "showlegend": true,
         "type": "scatter",
         "x": [
          116
         ],
         "xaxis": "x",
         "y": [
          21
         ],
         "yaxis": "y"
        },
        {
         "hovertemplate": "<b>%{hovertext}</b><br><br>word=força tarefa<br>index=%{x}<br>count=%{marker.size}<extra></extra>",
         "hovertext": [
          "força tarefa"
         ],
         "legendgroup": "força tarefa",
         "marker": {
          "color": "#B6E880",
          "size": [
           21
          ],
          "sizemode": "area",
          "sizeref": 0.09583333333333334,
          "symbol": "circle"
         },
         "mode": "markers",
         "name": "força tarefa",
         "orientation": "v",
         "showlegend": true,
         "type": "scatter",
         "x": [
          117
         ],
         "xaxis": "x",
         "y": [
          21
         ],
         "yaxis": "y"
        },
        {
         "hovertemplate": "<b>%{hovertext}</b><br><br>word=polícia civil<br>index=%{x}<br>count=%{marker.size}<extra></extra>",
         "hovertext": [
          "polícia civil"
         ],
         "legendgroup": "polícia civil",
         "marker": {
          "color": "#FF97FF",
          "size": [
           21
          ],
          "sizemode": "area",
          "sizeref": 0.09583333333333334,
          "symbol": "circle"
         },
         "mode": "markers",
         "name": "polícia civil",
         "orientation": "v",
         "showlegend": true,
         "type": "scatter",
         "x": [
          118
         ],
         "xaxis": "x",
         "y": [
          21
         ],
         "yaxis": "y"
        },
        {
         "hovertemplate": "<b>%{hovertext}</b><br><br>word=concessão<br>index=%{x}<br>count=%{marker.size}<extra></extra>",
         "hovertext": [
          "concessão"
         ],
         "legendgroup": "concessão",
         "marker": {
          "color": "#FECB52",
          "size": [
           21
          ],
          "sizemode": "area",
          "sizeref": 0.09583333333333334,
          "symbol": "circle"
         },
         "mode": "markers",
         "name": "concessão",
         "orientation": "v",
         "showlegend": true,
         "type": "scatter",
         "x": [
          119
         ],
         "xaxis": "x",
         "y": [
          21
         ],
         "yaxis": "y"
        },
        {
         "hovertemplate": "<b>%{hovertext}</b><br><br>word=funcionamento<br>index=%{x}<br>count=%{marker.size}<extra></extra>",
         "hovertext": [
          "funcionamento"
         ],
         "legendgroup": "funcionamento",
         "marker": {
          "color": "#636efa",
          "size": [
           21
          ],
          "sizemode": "area",
          "sizeref": 0.09583333333333334,
          "symbol": "circle"
         },
         "mode": "markers",
         "name": "funcionamento",
         "orientation": "v",
         "showlegend": true,
         "type": "scatter",
         "x": [
          120
         ],
         "xaxis": "x",
         "y": [
          21
         ],
         "yaxis": "y"
        },
        {
         "hovertemplate": "<b>%{hovertext}</b><br><br>word=recipiente<br>index=%{x}<br>count=%{marker.size}<extra></extra>",
         "hovertext": [
          "recipiente"
         ],
         "legendgroup": "recipiente",
         "marker": {
          "color": "#EF553B",
          "size": [
           21
          ],
          "sizemode": "area",
          "sizeref": 0.09583333333333334,
          "symbol": "circle"
         },
         "mode": "markers",
         "name": "recipiente",
         "orientation": "v",
         "showlegend": true,
         "type": "scatter",
         "x": [
          121
         ],
         "xaxis": "x",
         "y": [
          21
         ],
         "yaxis": "y"
        },
        {
         "hovertemplate": "<b>%{hovertext}</b><br><br>word=além<br>index=%{x}<br>count=%{marker.size}<extra></extra>",
         "hovertext": [
          "além"
         ],
         "legendgroup": "além",
         "marker": {
          "color": "#00cc96",
          "size": [
           21
          ],
          "sizemode": "area",
          "sizeref": 0.09583333333333334,
          "symbol": "circle"
         },
         "mode": "markers",
         "name": "além",
         "orientation": "v",
         "showlegend": true,
         "type": "scatter",
         "x": [
          122
         ],
         "xaxis": "x",
         "y": [
          21
         ],
         "yaxis": "y"
        },
        {
         "hovertemplate": "<b>%{hovertext}</b><br><br>word=encontradas irregularidades<br>index=%{x}<br>count=%{marker.size}<extra></extra>",
         "hovertext": [
          "encontradas irregularidades"
         ],
         "legendgroup": "encontradas irregularidades",
         "marker": {
          "color": "#ab63fa",
          "size": [
           21
          ],
          "sizemode": "area",
          "sizeref": 0.09583333333333334,
          "symbol": "circle"
         },
         "mode": "markers",
         "name": "encontradas irregularidades",
         "orientation": "v",
         "showlegend": true,
         "type": "scatter",
         "x": [
          123
         ],
         "xaxis": "x",
         "y": [
          21
         ],
         "yaxis": "y"
        },
        {
         "hovertemplate": "<b>%{hovertext}</b><br><br>word=desenvolvimento<br>index=%{x}<br>count=%{marker.size}<extra></extra>",
         "hovertext": [
          "desenvolvimento"
         ],
         "legendgroup": "desenvolvimento",
         "marker": {
          "color": "#FFA15A",
          "size": [
           21
          ],
          "sizemode": "area",
          "sizeref": 0.09583333333333334,
          "symbol": "circle"
         },
         "mode": "markers",
         "name": "desenvolvimento",
         "orientation": "v",
         "showlegend": true,
         "type": "scatter",
         "x": [
          124
         ],
         "xaxis": "x",
         "y": [
          21
         ],
         "yaxis": "y"
        },
        {
         "hovertemplate": "<b>%{hovertext}</b><br><br>word=paulo<br>index=%{x}<br>count=%{marker.size}<extra></extra>",
         "hovertext": [
          "paulo"
         ],
         "legendgroup": "paulo",
         "marker": {
          "color": "#19d3f3",
          "size": [
           21
          ],
          "sizemode": "area",
          "sizeref": 0.09583333333333334,
          "symbol": "circle"
         },
         "mode": "markers",
         "name": "paulo",
         "orientation": "v",
         "showlegend": true,
         "type": "scatter",
         "x": [
          125
         ],
         "xaxis": "x",
         "y": [
          21
         ],
         "yaxis": "y"
        },
        {
         "hovertemplate": "<b>%{hovertext}</b><br><br>word=excedente<br>index=%{x}<br>count=%{marker.size}<extra></extra>",
         "hovertext": [
          "excedente"
         ],
         "legendgroup": "excedente",
         "marker": {
          "color": "#FF6692",
          "size": [
           18
          ],
          "sizemode": "area",
          "sizeref": 0.09583333333333334,
          "symbol": "circle"
         },
         "mode": "markers",
         "name": "excedente",
         "orientation": "v",
         "showlegend": true,
         "type": "scatter",
         "x": [
          126
         ],
         "xaxis": "x",
         "y": [
          18
         ],
         "yaxis": "y"
        },
        {
         "hovertemplate": "<b>%{hovertext}</b><br><br>word=postos revendedores<br>index=%{x}<br>count=%{marker.size}<extra></extra>",
         "hovertext": [
          "postos revendedores"
         ],
         "legendgroup": "postos revendedores",
         "marker": {
          "color": "#B6E880",
          "size": [
           18
          ],
          "sizemode": "area",
          "sizeref": 0.09583333333333334,
          "symbol": "circle"
         },
         "mode": "markers",
         "name": "postos revendedores",
         "orientation": "v",
         "showlegend": true,
         "type": "scatter",
         "x": [
          127
         ],
         "xaxis": "x",
         "y": [
          18
         ],
         "yaxis": "y"
        },
        {
         "hovertemplate": "<b>%{hovertext}</b><br><br>word=painel dinâmico<br>index=%{x}<br>count=%{marker.size}<extra></extra>",
         "hovertext": [
          "painel dinâmico"
         ],
         "legendgroup": "painel dinâmico",
         "marker": {
          "color": "#FF97FF",
          "size": [
           18
          ],
          "sizemode": "area",
          "sizeref": 0.09583333333333334,
          "symbol": "circle"
         },
         "mode": "markers",
         "name": "painel dinâmico",
         "orientation": "v",
         "showlegend": true,
         "type": "scatter",
         "x": [
          128
         ],
         "xaxis": "x",
         "y": [
          18
         ],
         "yaxis": "y"
        },
        {
         "hovertemplate": "<b>%{hovertext}</b><br><br>word=exibir<br>index=%{x}<br>count=%{marker.size}<extra></extra>",
         "hovertext": [
          "exibir"
         ],
         "legendgroup": "exibir",
         "marker": {
          "color": "#FECB52",
          "size": [
           18
          ],
          "sizemode": "area",
          "sizeref": 0.09583333333333334,
          "symbol": "circle"
         },
         "mode": "markers",
         "name": "exibir",
         "orientation": "v",
         "showlegend": true,
         "type": "scatter",
         "x": [
          129
         ],
         "xaxis": "x",
         "y": [
          18
         ],
         "yaxis": "y"
        },
        {
         "hovertemplate": "<b>%{hovertext}</b><br><br>word=espírito santo<br>index=%{x}<br>count=%{marker.size}<extra></extra>",
         "hovertext": [
          "espírito santo"
         ],
         "legendgroup": "espírito santo",
         "marker": {
          "color": "#636efa",
          "size": [
           18
          ],
          "sizemode": "area",
          "sizeref": 0.09583333333333334,
          "symbol": "circle"
         },
         "mode": "markers",
         "name": "espírito santo",
         "orientation": "v",
         "showlegend": true,
         "type": "scatter",
         "x": [
          130
         ],
         "xaxis": "x",
         "y": [
          18
         ],
         "yaxis": "y"
        },
        {
         "hovertemplate": "<b>%{hovertext}</b><br><br>word=horário mínimo<br>index=%{x}<br>count=%{marker.size}<extra></extra>",
         "hovertext": [
          "horário mínimo"
         ],
         "legendgroup": "horário mínimo",
         "marker": {
          "color": "#EF553B",
          "size": [
           18
          ],
          "sizemode": "area",
          "sizeref": 0.09583333333333334,
          "symbol": "circle"
         },
         "mode": "markers",
         "name": "horário mínimo",
         "orientation": "v",
         "showlegend": true,
         "type": "scatter",
         "x": [
          131
         ],
         "xaxis": "x",
         "y": [
          18
         ],
         "yaxis": "y"
        },
        {
         "hovertemplate": "<b>%{hovertext}</b><br><br>word=bahia<br>index=%{x}<br>count=%{marker.size}<extra></extra>",
         "hovertext": [
          "bahia"
         ],
         "legendgroup": "bahia",
         "marker": {
          "color": "#00cc96",
          "size": [
           18
          ],
          "sizemode": "area",
          "sizeref": 0.09583333333333334,
          "symbol": "circle"
         },
         "mode": "markers",
         "name": "bahia",
         "orientation": "v",
         "showlegend": true,
         "type": "scatter",
         "x": [
          132
         ],
         "xaxis": "x",
         "y": [
          18
         ],
         "yaxis": "y"
        },
        {
         "hovertemplate": "<b>%{hovertext}</b><br><br>word=meio<br>index=%{x}<br>count=%{marker.size}<extra></extra>",
         "hovertext": [
          "meio"
         ],
         "legendgroup": "meio",
         "marker": {
          "color": "#ab63fa",
          "size": [
           18
          ],
          "sizemode": "area",
          "sizeref": 0.09583333333333334,
          "symbol": "circle"
         },
         "mode": "markers",
         "name": "meio",
         "orientation": "v",
         "showlegend": true,
         "type": "scatter",
         "x": [
          133
         ],
         "xaxis": "x",
         "y": [
          18
         ],
         "yaxis": "y"
        },
        {
         "hovertemplate": "<b>%{hovertext}</b><br><br>word=santana<br>index=%{x}<br>count=%{marker.size}<extra></extra>",
         "hovertext": [
          "santana"
         ],
         "legendgroup": "santana",
         "marker": {
          "color": "#FFA15A",
          "size": [
           18
          ],
          "sizemode": "area",
          "sizeref": 0.09583333333333334,
          "symbol": "circle"
         },
         "mode": "markers",
         "name": "santana",
         "orientation": "v",
         "showlegend": true,
         "type": "scatter",
         "x": [
          134
         ],
         "xaxis": "x",
         "y": [
          18
         ],
         "yaxis": "y"
        },
        {
         "hovertemplate": "<b>%{hovertext}</b><br><br>word=onde<br>index=%{x}<br>count=%{marker.size}<extra></extra>",
         "hovertext": [
          "onde"
         ],
         "legendgroup": "onde",
         "marker": {
          "color": "#19d3f3",
          "size": [
           18
          ],
          "sizemode": "area",
          "sizeref": 0.09583333333333334,
          "symbol": "circle"
         },
         "mode": "markers",
         "name": "onde",
         "orientation": "v",
         "showlegend": true,
         "type": "scatter",
         "x": [
          135
         ],
         "xaxis": "x",
         "y": [
          18
         ],
         "yaxis": "y"
        },
        {
         "hovertemplate": "<b>%{hovertext}</b><br><br>word=toda<br>index=%{x}<br>count=%{marker.size}<extra></extra>",
         "hovertext": [
          "toda"
         ],
         "legendgroup": "toda",
         "marker": {
          "color": "#FF6692",
          "size": [
           18
          ],
          "sizemode": "area",
          "sizeref": 0.09583333333333334,
          "symbol": "circle"
         },
         "mode": "markers",
         "name": "toda",
         "orientation": "v",
         "showlegend": true,
         "type": "scatter",
         "x": [
          136
         ],
         "xaxis": "x",
         "y": [
          18
         ],
         "yaxis": "y"
        },
        {
         "hovertemplate": "<b>%{hovertext}</b><br><br>word=secretaria<br>index=%{x}<br>count=%{marker.size}<extra></extra>",
         "hovertext": [
          "secretaria"
         ],
         "legendgroup": "secretaria",
         "marker": {
          "color": "#B6E880",
          "size": [
           18
          ],
          "sizemode": "area",
          "sizeref": 0.09583333333333334,
          "symbol": "circle"
         },
         "mode": "markers",
         "name": "secretaria",
         "orientation": "v",
         "showlegend": true,
         "type": "scatter",
         "x": [
          137
         ],
         "xaxis": "x",
         "y": [
          18
         ],
         "yaxis": "y"
        },
        {
         "hovertemplate": "<b>%{hovertext}</b><br><br>word=especificações<br>index=%{x}<br>count=%{marker.size}<extra></extra>",
         "hovertext": [
          "especificações"
         ],
         "legendgroup": "especificações",
         "marker": {
          "color": "#FF97FF",
          "size": [
           18
          ],
          "sizemode": "area",
          "sizeref": 0.09583333333333334,
          "symbol": "circle"
         },
         "mode": "markers",
         "name": "especificações",
         "orientation": "v",
         "showlegend": true,
         "type": "scatter",
         "x": [
          138
         ],
         "xaxis": "x",
         "y": [
          18
         ],
         "yaxis": "y"
        },
        {
         "hovertemplate": "<b>%{hovertext}</b><br><br>word=biodiesel<br>index=%{x}<br>count=%{marker.size}<extra></extra>",
         "hovertext": [
          "biodiesel"
         ],
         "legendgroup": "biodiesel",
         "marker": {
          "color": "#FECB52",
          "size": [
           18
          ],
          "sizemode": "area",
          "sizeref": 0.09583333333333334,
          "symbol": "circle"
         },
         "mode": "markers",
         "name": "biodiesel",
         "orientation": "v",
         "showlegend": true,
         "type": "scatter",
         "x": [
          139
         ],
         "xaxis": "x",
         "y": [
          18
         ],
         "yaxis": "y"
        },
        {
         "hovertemplate": "<b>%{hovertext}</b><br><br>word=enquadramento<br>index=%{x}<br>count=%{marker.size}<extra></extra>",
         "hovertext": [
          "enquadramento"
         ],
         "legendgroup": "enquadramento",
         "marker": {
          "color": "#636efa",
          "size": [
           18
          ],
          "sizemode": "area",
          "sizeref": 0.09583333333333334,
          "symbol": "circle"
         },
         "mode": "markers",
         "name": "enquadramento",
         "orientation": "v",
         "showlegend": true,
         "type": "scatter",
         "x": [
          140
         ],
         "xaxis": "x",
         "y": [
          18
         ],
         "yaxis": "y"
        },
        {
         "hovertemplate": "<b>%{hovertext}</b><br><br>word=participou<br>index=%{x}<br>count=%{marker.size}<extra></extra>",
         "hovertext": [
          "participou"
         ],
         "legendgroup": "participou",
         "marker": {
          "color": "#EF553B",
          "size": [
           18
          ],
          "sizemode": "area",
          "sizeref": 0.09583333333333334,
          "symbol": "circle"
         },
         "mode": "markers",
         "name": "participou",
         "orientation": "v",
         "showlegend": true,
         "type": "scatter",
         "x": [
          141
         ],
         "xaxis": "x",
         "y": [
          18
         ],
         "yaxis": "y"
        },
        {
         "hovertemplate": "<b>%{hovertext}</b><br><br>word=revisão<br>index=%{x}<br>count=%{marker.size}<extra></extra>",
         "hovertext": [
          "revisão"
         ],
         "legendgroup": "revisão",
         "marker": {
          "color": "#00cc96",
          "size": [
           18
          ],
          "sizemode": "area",
          "sizeref": 0.09583333333333334,
          "symbol": "circle"
         },
         "mode": "markers",
         "name": "revisão",
         "orientation": "v",
         "showlegend": true,
         "type": "scatter",
         "x": [
          142
         ],
         "xaxis": "x",
         "y": [
          18
         ],
         "yaxis": "y"
        },
        {
         "hovertemplate": "<b>%{hovertext}</b><br><br>word=acumulações<br>index=%{x}<br>count=%{marker.size}<extra></extra>",
         "hovertext": [
          "acumulações"
         ],
         "legendgroup": "acumulações",
         "marker": {
          "color": "#ab63fa",
          "size": [
           18
          ],
          "sizemode": "area",
          "sizeref": 0.09583333333333334,
          "symbol": "circle"
         },
         "mode": "markers",
         "name": "acumulações",
         "orientation": "v",
         "showlegend": true,
         "type": "scatter",
         "x": [
          143
         ],
         "xaxis": "x",
         "y": [
          18
         ],
         "yaxis": "y"
        },
        {
         "hovertemplate": "<b>%{hovertext}</b><br><br>word=ministério<br>index=%{x}<br>count=%{marker.size}<extra></extra>",
         "hovertext": [
          "ministério"
         ],
         "legendgroup": "ministério",
         "marker": {
          "color": "#FFA15A",
          "size": [
           18
          ],
          "sizemode": "area",
          "sizeref": 0.09583333333333334,
          "symbol": "circle"
         },
         "mode": "markers",
         "name": "ministério",
         "orientation": "v",
         "showlegend": true,
         "type": "scatter",
         "x": [
          144
         ],
         "xaxis": "x",
         "y": [
          18
         ],
         "yaxis": "y"
        },
        {
         "hovertemplate": "<b>%{hovertext}</b><br><br>word=programa<br>index=%{x}<br>count=%{marker.size}<extra></extra>",
         "hovertext": [
          "programa"
         ],
         "legendgroup": "programa",
         "marker": {
          "color": "#19d3f3",
          "size": [
           18
          ],
          "sizemode": "area",
          "sizeref": 0.09583333333333334,
          "symbol": "circle"
         },
         "mode": "markers",
         "name": "programa",
         "orientation": "v",
         "showlegend": true,
         "type": "scatter",
         "x": [
          145
         ],
         "xaxis": "x",
         "y": [
          18
         ],
         "yaxis": "y"
        },
        {
         "hovertemplate": "<b>%{hovertext}</b><br><br>word=cada<br>index=%{x}<br>count=%{marker.size}<extra></extra>",
         "hovertext": [
          "cada"
         ],
         "legendgroup": "cada",
         "marker": {
          "color": "#FF6692",
          "size": [
           18
          ],
          "sizemode": "area",
          "sizeref": 0.09583333333333334,
          "symbol": "circle"
         },
         "mode": "markers",
         "name": "cada",
         "orientation": "v",
         "showlegend": true,
         "type": "scatter",
         "x": [
          146
         ],
         "xaxis": "x",
         "y": [
          18
         ],
         "yaxis": "y"
        },
        {
         "hovertemplate": "<b>%{hovertext}</b><br><br>word=período<br>index=%{x}<br>count=%{marker.size}<extra></extra>",
         "hovertext": [
          "período"
         ],
         "legendgroup": "período",
         "marker": {
          "color": "#B6E880",
          "size": [
           18
          ],
          "sizemode": "area",
          "sizeref": 0.09583333333333334,
          "symbol": "circle"
         },
         "mode": "markers",
         "name": "período",
         "orientation": "v",
         "showlegend": true,
         "type": "scatter",
         "x": [
          147
         ],
         "xaxis": "x",
         "y": [
          18
         ],
         "yaxis": "y"
        },
        {
         "hovertemplate": "<b>%{hovertext}</b><br><br>word=etanol anidro<br>index=%{x}<br>count=%{marker.size}<extra></extra>",
         "hovertext": [
          "etanol anidro"
         ],
         "legendgroup": "etanol anidro",
         "marker": {
          "color": "#FF97FF",
          "size": [
           18
          ],
          "sizemode": "area",
          "sizeref": 0.09583333333333334,
          "symbol": "circle"
         },
         "mode": "markers",
         "name": "etanol anidro",
         "orientation": "v",
         "showlegend": true,
         "type": "scatter",
         "x": [
          148
         ],
         "xaxis": "x",
         "y": [
          18
         ],
         "yaxis": "y"
        },
        {
         "hovertemplate": "<b>%{hovertext}</b><br><br>word=norte<br>index=%{x}<br>count=%{marker.size}<extra></extra>",
         "hovertext": [
          "norte"
         ],
         "legendgroup": "norte",
         "marker": {
          "color": "#FECB52",
          "size": [
           18
          ],
          "sizemode": "area",
          "sizeref": 0.09583333333333334,
          "symbol": "circle"
         },
         "mode": "markers",
         "name": "norte",
         "orientation": "v",
         "showlegend": true,
         "type": "scatter",
         "x": [
          149
         ],
         "xaxis": "x",
         "y": [
          18
         ],
         "yaxis": "y"
        },
        {
         "hovertemplate": "<b>%{hovertext}</b><br><br>word=trabalho<br>index=%{x}<br>count=%{marker.size}<extra></extra>",
         "hovertext": [
          "trabalho"
         ],
         "legendgroup": "trabalho",
         "marker": {
          "color": "#636efa",
          "size": [
           18
          ],
          "sizemode": "area",
          "sizeref": 0.09583333333333334,
          "symbol": "circle"
         },
         "mode": "markers",
         "name": "trabalho",
         "orientation": "v",
         "showlegend": true,
         "type": "scatter",
         "x": [
          150
         ],
         "xaxis": "x",
         "y": [
          18
         ],
         "yaxis": "y"
        },
        {
         "hovertemplate": "<b>%{hovertext}</b><br><br>word=objetivo<br>index=%{x}<br>count=%{marker.size}<extra></extra>",
         "hovertext": [
          "objetivo"
         ],
         "legendgroup": "objetivo",
         "marker": {
          "color": "#EF553B",
          "size": [
           18
          ],
          "sizemode": "area",
          "sizeref": 0.09583333333333334,
          "symbol": "circle"
         },
         "mode": "markers",
         "name": "objetivo",
         "orientation": "v",
         "showlegend": true,
         "type": "scatter",
         "x": [
          151
         ],
         "xaxis": "x",
         "y": [
          18
         ],
         "yaxis": "y"
        },
        {
         "hovertemplate": "<b>%{hovertext}</b><br><br>word=fazenda<br>index=%{x}<br>count=%{marker.size}<extra></extra>",
         "hovertext": [
          "fazenda"
         ],
         "legendgroup": "fazenda",
         "marker": {
          "color": "#00cc96",
          "size": [
           15
          ],
          "sizemode": "area",
          "sizeref": 0.09583333333333334,
          "symbol": "circle"
         },
         "mode": "markers",
         "name": "fazenda",
         "orientation": "v",
         "showlegend": true,
         "type": "scatter",
         "x": [
          152
         ],
         "xaxis": "x",
         "y": [
          15
         ],
         "yaxis": "y"
        },
        {
         "hovertemplate": "<b>%{hovertext}</b><br><br>word=regiões<br>index=%{x}<br>count=%{marker.size}<extra></extra>",
         "hovertext": [
          "regiões"
         ],
         "legendgroup": "regiões",
         "marker": {
          "color": "#ab63fa",
          "size": [
           15
          ],
          "sizemode": "area",
          "sizeref": 0.09583333333333334,
          "symbol": "circle"
         },
         "mode": "markers",
         "name": "regiões",
         "orientation": "v",
         "showlegend": true,
         "type": "scatter",
         "x": [
          153
         ],
         "xaxis": "x",
         "y": [
          15
         ],
         "yaxis": "y"
        },
        {
         "hovertemplate": "<b>%{hovertext}</b><br><br>word=pesagem<br>index=%{x}<br>count=%{marker.size}<extra></extra>",
         "hovertext": [
          "pesagem"
         ],
         "legendgroup": "pesagem",
         "marker": {
          "color": "#FFA15A",
          "size": [
           15
          ],
          "sizemode": "area",
          "sizeref": 0.09583333333333334,
          "symbol": "circle"
         },
         "mode": "markers",
         "name": "pesagem",
         "orientation": "v",
         "showlegend": true,
         "type": "scatter",
         "x": [
          154
         ],
         "xaxis": "x",
         "y": [
          15
         ],
         "yaxis": "y"
        },
        {
         "hovertemplate": "<b>%{hovertext}</b><br><br>word=janeiro<br>index=%{x}<br>count=%{marker.size}<extra></extra>",
         "hovertext": [
          "janeiro"
         ],
         "legendgroup": "janeiro",
         "marker": {
          "color": "#19d3f3",
          "size": [
           15
          ],
          "sizemode": "area",
          "sizeref": 0.09583333333333334,
          "symbol": "circle"
         },
         "mode": "markers",
         "name": "janeiro",
         "orientation": "v",
         "showlegend": true,
         "type": "scatter",
         "x": [
          155
         ],
         "xaxis": "x",
         "y": [
          15
         ],
         "yaxis": "y"
        },
        {
         "hovertemplate": "<b>%{hovertext}</b><br><br>word=mesma<br>index=%{x}<br>count=%{marker.size}<extra></extra>",
         "hovertext": [
          "mesma"
         ],
         "legendgroup": "mesma",
         "marker": {
          "color": "#FF6692",
          "size": [
           15
          ],
          "sizemode": "area",
          "sizeref": 0.09583333333333334,
          "symbol": "circle"
         },
         "mode": "markers",
         "name": "mesma",
         "orientation": "v",
         "showlegend": true,
         "type": "scatter",
         "x": [
          156
         ],
         "xaxis": "x",
         "y": [
          15
         ],
         "yaxis": "y"
        },
        {
         "hovertemplate": "<b>%{hovertext}</b><br><br>word=diesel s10<br>index=%{x}<br>count=%{marker.size}<extra></extra>",
         "hovertext": [
          "diesel s10"
         ],
         "legendgroup": "diesel s10",
         "marker": {
          "color": "#B6E880",
          "size": [
           15
          ],
          "sizemode": "area",
          "sizeref": 0.09583333333333334,
          "symbol": "circle"
         },
         "mode": "markers",
         "name": "diesel s10",
         "orientation": "v",
         "showlegend": true,
         "type": "scatter",
         "x": [
          157
         ],
         "xaxis": "x",
         "y": [
          15
         ],
         "yaxis": "y"
        },
        {
         "hovertemplate": "<b>%{hovertext}</b><br><br>word=bombas medidoras<br>index=%{x}<br>count=%{marker.size}<extra></extra>",
         "hovertext": [
          "bombas medidoras"
         ],
         "legendgroup": "bombas medidoras",
         "marker": {
          "color": "#FF97FF",
          "size": [
           15
          ],
          "sizemode": "area",
          "sizeref": 0.09583333333333334,
          "symbol": "circle"
         },
         "mode": "markers",
         "name": "bombas medidoras",
         "orientation": "v",
         "showlegend": true,
         "type": "scatter",
         "x": [
          158
         ],
         "xaxis": "x",
         "y": [
          15
         ],
         "yaxis": "y"
        },
        {
         "hovertemplate": "<b>%{hovertext}</b><br><br>word=quanto<br>index=%{x}<br>count=%{marker.size}<extra></extra>",
         "hovertext": [
          "quanto"
         ],
         "legendgroup": "quanto",
         "marker": {
          "color": "#FECB52",
          "size": [
           15
          ],
          "sizemode": "area",
          "sizeref": 0.09583333333333334,
          "symbol": "circle"
         },
         "mode": "markers",
         "name": "quanto",
         "orientation": "v",
         "showlegend": true,
         "type": "scatter",
         "x": [
          159
         ],
         "xaxis": "x",
         "y": [
          15
         ],
         "yaxis": "y"
        },
        {
         "hovertemplate": "<b>%{hovertext}</b><br><br>word=bandeira branca<br>index=%{x}<br>count=%{marker.size}<extra></extra>",
         "hovertext": [
          "bandeira branca"
         ],
         "legendgroup": "bandeira branca",
         "marker": {
          "color": "#636efa",
          "size": [
           15
          ],
          "sizemode": "area",
          "sizeref": 0.09583333333333334,
          "symbol": "circle"
         },
         "mode": "markers",
         "name": "bandeira branca",
         "orientation": "v",
         "showlegend": true,
         "type": "scatter",
         "x": [
          160
         ],
         "xaxis": "x",
         "y": [
          15
         ],
         "yaxis": "y"
        },
        {
         "hovertemplate": "<b>%{hovertext}</b><br><br>word=mato grosso<br>index=%{x}<br>count=%{marker.size}<extra></extra>",
         "hovertext": [
          "mato grosso"
         ],
         "legendgroup": "mato grosso",
         "marker": {
          "color": "#EF553B",
          "size": [
           15
          ],
          "sizemode": "area",
          "sizeref": 0.09583333333333334,
          "symbol": "circle"
         },
         "mode": "markers",
         "name": "mato grosso",
         "orientation": "v",
         "showlegend": true,
         "type": "scatter",
         "x": [
          161
         ],
         "xaxis": "x",
         "y": [
          15
         ],
         "yaxis": "y"
        },
        {
         "hovertemplate": "<b>%{hovertext}</b><br><br>word=possuírem<br>index=%{x}<br>count=%{marker.size}<extra></extra>",
         "hovertext": [
          "possuírem"
         ],
         "legendgroup": "possuírem",
         "marker": {
          "color": "#00cc96",
          "size": [
           15
          ],
          "sizemode": "area",
          "sizeref": 0.09583333333333334,
          "symbol": "circle"
         },
         "mode": "markers",
         "name": "possuírem",
         "orientation": "v",
         "showlegend": true,
         "type": "scatter",
         "x": [
          162
         ],
         "xaxis": "x",
         "y": [
          15
         ],
         "yaxis": "y"
        },
        {
         "hovertemplate": "<b>%{hovertext}</b><br><br>word=parte<br>index=%{x}<br>count=%{marker.size}<extra></extra>",
         "hovertext": [
          "parte"
         ],
         "legendgroup": "parte",
         "marker": {
          "color": "#ab63fa",
          "size": [
           15
          ],
          "sizemode": "area",
          "sizeref": 0.09583333333333334,
          "symbol": "circle"
         },
         "mode": "markers",
         "name": "parte",
         "orientation": "v",
         "showlegend": true,
         "type": "scatter",
         "x": [
          163
         ],
         "xaxis": "x",
         "y": [
          15
         ],
         "yaxis": "y"
        },
        {
         "hovertemplate": "<b>%{hovertext}</b><br><br>word=s500<br>index=%{x}<br>count=%{marker.size}<extra></extra>",
         "hovertext": [
          "s500"
         ],
         "legendgroup": "s500",
         "marker": {
          "color": "#FFA15A",
          "size": [
           15
          ],
          "sizemode": "area",
          "sizeref": 0.09583333333333334,
          "symbol": "circle"
         },
         "mode": "markers",
         "name": "s500",
         "orientation": "v",
         "showlegend": true,
         "type": "scatter",
         "x": [
          164
         ],
         "xaxis": "x",
         "y": [
          15
         ],
         "yaxis": "y"
        },
        {
         "hovertemplate": "<b>%{hovertext}</b><br><br>word=licitação<br>index=%{x}<br>count=%{marker.size}<extra></extra>",
         "hovertext": [
          "licitação"
         ],
         "legendgroup": "licitação",
         "marker": {
          "color": "#19d3f3",
          "size": [
           15
          ],
          "sizemode": "area",
          "sizeref": 0.09583333333333334,
          "symbol": "circle"
         },
         "mode": "markers",
         "name": "licitação",
         "orientation": "v",
         "showlegend": true,
         "type": "scatter",
         "x": [
          165
         ],
         "xaxis": "x",
         "y": [
          15
         ],
         "yaxis": "y"
        },
        {
         "hovertemplate": "<b>%{hovertext}</b><br><br>word=glp gás<br>index=%{x}<br>count=%{marker.size}<extra></extra>",
         "hovertext": [
          "glp gás"
         ],
         "legendgroup": "glp gás",
         "marker": {
          "color": "#FF6692",
          "size": [
           15
          ],
          "sizemode": "area",
          "sizeref": 0.09583333333333334,
          "symbol": "circle"
         },
         "mode": "markers",
         "name": "glp gás",
         "orientation": "v",
         "showlegend": true,
         "type": "scatter",
         "x": [
          166
         ],
         "xaxis": "x",
         "y": [
          15
         ],
         "yaxis": "y"
        },
        {
         "hovertemplate": "<b>%{hovertext}</b><br><br>word=termodensímetro acoplado<br>index=%{x}<br>count=%{marker.size}<extra></extra>",
         "hovertext": [
          "termodensímetro acoplado"
         ],
         "legendgroup": "termodensímetro acoplado",
         "marker": {
          "color": "#B6E880",
          "size": [
           15
          ],
          "sizemode": "area",
          "sizeref": 0.09583333333333334,
          "symbol": "circle"
         },
         "mode": "markers",
         "name": "termodensímetro acoplado",
         "orientation": "v",
         "showlegend": true,
         "type": "scatter",
         "x": [
          167
         ],
         "xaxis": "x",
         "y": [
          15
         ],
         "yaxis": "y"
        },
        {
         "hovertemplate": "<b>%{hovertext}</b><br><br>word=direito<br>index=%{x}<br>count=%{marker.size}<extra></extra>",
         "hovertext": [
          "direito"
         ],
         "legendgroup": "direito",
         "marker": {
          "color": "#FF97FF",
          "size": [
           15
          ],
          "sizemode": "area",
          "sizeref": 0.09583333333333334,
          "symbol": "circle"
         },
         "mode": "markers",
         "name": "direito",
         "orientation": "v",
         "showlegend": true,
         "type": "scatter",
         "x": [
          168
         ],
         "xaxis": "x",
         "y": [
          15
         ],
         "yaxis": "y"
        },
        {
         "hovertemplate": "<b>%{hovertext}</b><br><br>word=processo<br>index=%{x}<br>count=%{marker.size}<extra></extra>",
         "hovertext": [
          "processo"
         ],
         "legendgroup": "processo",
         "marker": {
          "color": "#FECB52",
          "size": [
           15
          ],
          "sizemode": "area",
          "sizeref": 0.09583333333333334,
          "symbol": "circle"
         },
         "mode": "markers",
         "name": "processo",
         "orientation": "v",
         "showlegend": true,
         "type": "scatter",
         "x": [
          169
         ],
         "xaxis": "x",
         "y": [
          15
         ],
         "yaxis": "y"
        },
        {
         "hovertemplate": "<b>%{hovertext}</b><br><br>word=solicitado<br>index=%{x}<br>count=%{marker.size}<extra></extra>",
         "hovertext": [
          "solicitado"
         ],
         "legendgroup": "solicitado",
         "marker": {
          "color": "#636efa",
          "size": [
           15
          ],
          "sizemode": "area",
          "sizeref": 0.09583333333333334,
          "symbol": "circle"
         },
         "mode": "markers",
         "name": "solicitado",
         "orientation": "v",
         "showlegend": true,
         "type": "scatter",
         "x": [
          170
         ],
         "xaxis": "x",
         "y": [
          15
         ],
         "yaxis": "y"
        },
        {
         "hovertemplate": "<b>%{hovertext}</b><br><br>word=paraná<br>index=%{x}<br>count=%{marker.size}<extra></extra>",
         "hovertext": [
          "paraná"
         ],
         "legendgroup": "paraná",
         "marker": {
          "color": "#EF553B",
          "size": [
           15
          ],
          "sizemode": "area",
          "sizeref": 0.09583333333333334,
          "symbol": "circle"
         },
         "mode": "markers",
         "name": "paraná",
         "orientation": "v",
         "showlegend": true,
         "type": "scatter",
         "x": [
          171
         ],
         "xaxis": "x",
         "y": [
          15
         ],
         "yaxis": "y"
        },
        {
         "hovertemplate": "<b>%{hovertext}</b><br><br>word=anterior<br>index=%{x}<br>count=%{marker.size}<extra></extra>",
         "hovertext": [
          "anterior"
         ],
         "legendgroup": "anterior",
         "marker": {
          "color": "#00cc96",
          "size": [
           15
          ],
          "sizemode": "area",
          "sizeref": 0.09583333333333334,
          "symbol": "circle"
         },
         "mode": "markers",
         "name": "anterior",
         "orientation": "v",
         "showlegend": true,
         "type": "scatter",
         "x": [
          172
         ],
         "xaxis": "x",
         "y": [
          15
         ],
         "yaxis": "y"
        },
        {
         "hovertemplate": "<b>%{hovertext}</b><br><br>word=comercializar gasolina<br>index=%{x}<br>count=%{marker.size}<extra></extra>",
         "hovertext": [
          "comercializar gasolina"
         ],
         "legendgroup": "comercializar gasolina",
         "marker": {
          "color": "#ab63fa",
          "size": [
           15
          ],
          "sizemode": "area",
          "sizeref": 0.09583333333333334,
          "symbol": "circle"
         },
         "mode": "markers",
         "name": "comercializar gasolina",
         "orientation": "v",
         "showlegend": true,
         "type": "scatter",
         "x": [
          173
         ],
         "xaxis": "x",
         "y": [
          15
         ],
         "yaxis": "y"
        },
        {
         "hovertemplate": "<b>%{hovertext}</b><br><br>word=edital<br>index=%{x}<br>count=%{marker.size}<extra></extra>",
         "hovertext": [
          "edital"
         ],
         "legendgroup": "edital",
         "marker": {
          "color": "#FFA15A",
          "size": [
           15
          ],
          "sizemode": "area",
          "sizeref": 0.09583333333333334,
          "symbol": "circle"
         },
         "mode": "markers",
         "name": "edital",
         "orientation": "v",
         "showlegend": true,
         "type": "scatter",
         "x": [
          174
         ],
         "xaxis": "x",
         "y": [
          15
         ],
         "yaxis": "y"
        },
        {
         "hovertemplate": "<b>%{hovertext}</b><br><br>word=base<br>index=%{x}<br>count=%{marker.size}<extra></extra>",
         "hovertext": [
          "base"
         ],
         "legendgroup": "base",
         "marker": {
          "color": "#19d3f3",
          "size": [
           15
          ],
          "sizemode": "area",
          "sizeref": 0.09583333333333334,
          "symbol": "circle"
         },
         "mode": "markers",
         "name": "base",
         "orientation": "v",
         "showlegend": true,
         "type": "scatter",
         "x": [
          175
         ],
         "xaxis": "x",
         "y": [
          15
         ],
         "yaxis": "y"
        },
        {
         "hovertemplate": "<b>%{hovertext}</b><br><br>word=disponíveis<br>index=%{x}<br>count=%{marker.size}<extra></extra>",
         "hovertext": [
          "disponíveis"
         ],
         "legendgroup": "disponíveis",
         "marker": {
          "color": "#FF6692",
          "size": [
           15
          ],
          "sizemode": "area",
          "sizeref": 0.09583333333333334,
          "symbol": "circle"
         },
         "mode": "markers",
         "name": "disponíveis",
         "orientation": "v",
         "showlegend": true,
         "type": "scatter",
         "x": [
          176
         ],
         "xaxis": "x",
         "y": [
          15
         ],
         "yaxis": "y"
        },
        {
         "hovertemplate": "<b>%{hovertext}</b><br><br>word=inteligência<br>index=%{x}<br>count=%{marker.size}<extra></extra>",
         "hovertext": [
          "inteligência"
         ],
         "legendgroup": "inteligência",
         "marker": {
          "color": "#B6E880",
          "size": [
           15
          ],
          "sizemode": "area",
          "sizeref": 0.09583333333333334,
          "symbol": "circle"
         },
         "mode": "markers",
         "name": "inteligência",
         "orientation": "v",
         "showlegend": true,
         "type": "scatter",
         "x": [
          177
         ],
         "xaxis": "x",
         "y": [
          15
         ],
         "yaxis": "y"
        },
        {
         "hovertemplate": "<b>%{hovertext}</b><br><br>word=autuadas<br>index=%{x}<br>count=%{marker.size}<extra></extra>",
         "hovertext": [
          "autuadas"
         ],
         "legendgroup": "autuadas",
         "marker": {
          "color": "#FF97FF",
          "size": [
           15
          ],
          "sizemode": "area",
          "sizeref": 0.09583333333333334,
          "symbol": "circle"
         },
         "mode": "markers",
         "name": "autuadas",
         "orientation": "v",
         "showlegend": true,
         "type": "scatter",
         "x": [
          178
         ],
         "xaxis": "x",
         "y": [
          15
         ],
         "yaxis": "y"
        },
        {
         "hovertemplate": "<b>%{hovertext}</b><br><br>word=volumes dispensados<br>index=%{x}<br>count=%{marker.size}<extra></extra>",
         "hovertext": [
          "volumes dispensados"
         ],
         "legendgroup": "volumes dispensados",
         "marker": {
          "color": "#FECB52",
          "size": [
           15
          ],
          "sizemode": "area",
          "sizeref": 0.09583333333333334,
          "symbol": "circle"
         },
         "mode": "markers",
         "name": "volumes dispensados",
         "orientation": "v",
         "showlegend": true,
         "type": "scatter",
         "x": [
          179
         ],
         "xaxis": "x",
         "y": [
          15
         ],
         "yaxis": "y"
        },
        {
         "hovertemplate": "<b>%{hovertext}</b><br><br>word=agente econômico<br>index=%{x}<br>count=%{marker.size}<extra></extra>",
         "hovertext": [
          "agente econômico"
         ],
         "legendgroup": "agente econômico",
         "marker": {
          "color": "#636efa",
          "size": [
           15
          ],
          "sizemode": "area",
          "sizeref": 0.09583333333333334,
          "symbol": "circle"
         },
         "mode": "markers",
         "name": "agente econômico",
         "orientation": "v",
         "showlegend": true,
         "type": "scatter",
         "x": [
          180
         ],
         "xaxis": "x",
         "y": [
          15
         ],
         "yaxis": "y"
        },
        {
         "hovertemplate": "<b>%{hovertext}</b><br><br>word=diretoria<br>index=%{x}<br>count=%{marker.size}<extra></extra>",
         "hovertext": [
          "diretoria"
         ],
         "legendgroup": "diretoria",
         "marker": {
          "color": "#EF553B",
          "size": [
           15
          ],
          "sizemode": "area",
          "sizeref": 0.09583333333333334,
          "symbol": "circle"
         },
         "mode": "markers",
         "name": "diretoria",
         "orientation": "v",
         "showlegend": true,
         "type": "scatter",
         "x": [
          181
         ],
         "xaxis": "x",
         "y": [
          15
         ],
         "yaxis": "y"
        },
        {
         "hovertemplate": "<b>%{hovertext}</b><br><br>word=aumento<br>index=%{x}<br>count=%{marker.size}<extra></extra>",
         "hovertext": [
          "aumento"
         ],
         "legendgroup": "aumento",
         "marker": {
          "color": "#00cc96",
          "size": [
           15
          ],
          "sizemode": "area",
          "sizeref": 0.09583333333333334,
          "symbol": "circle"
         },
         "mode": "markers",
         "name": "aumento",
         "orientation": "v",
         "showlegend": true,
         "type": "scatter",
         "x": [
          182
         ],
         "xaxis": "x",
         "y": [
          15
         ],
         "yaxis": "y"
        },
        {
         "hovertemplate": "<b>%{hovertext}</b><br><br>word=autuação<br>index=%{x}<br>count=%{marker.size}<extra></extra>",
         "hovertext": [
          "autuação"
         ],
         "legendgroup": "autuação",
         "marker": {
          "color": "#ab63fa",
          "size": [
           15
          ],
          "sizemode": "area",
          "sizeref": 0.09583333333333334,
          "symbol": "circle"
         },
         "mode": "markers",
         "name": "autuação",
         "orientation": "v",
         "showlegend": true,
         "type": "scatter",
         "x": [
          183
         ],
         "xaxis": "x",
         "y": [
          15
         ],
         "yaxis": "y"
        },
        {
         "hovertemplate": "<b>%{hovertext}</b><br><br>word=conteúdo local<br>index=%{x}<br>count=%{marker.size}<extra></extra>",
         "hovertext": [
          "conteúdo local"
         ],
         "legendgroup": "conteúdo local",
         "marker": {
          "color": "#FFA15A",
          "size": [
           15
          ],
          "sizemode": "area",
          "sizeref": 0.09583333333333334,
          "symbol": "circle"
         },
         "mode": "markers",
         "name": "conteúdo local",
         "orientation": "v",
         "showlegend": true,
         "type": "scatter",
         "x": [
          184
         ],
         "xaxis": "x",
         "y": [
          15
         ],
         "yaxis": "y"
        },
        {
         "hovertemplate": "<b>%{hovertext}</b><br><br>word=total<br>index=%{x}<br>count=%{marker.size}<extra></extra>",
         "hovertext": [
          "total"
         ],
         "legendgroup": "total",
         "marker": {
          "color": "#19d3f3",
          "size": [
           15
          ],
          "sizemode": "area",
          "sizeref": 0.09583333333333334,
          "symbol": "circle"
         },
         "mode": "markers",
         "name": "total",
         "orientation": "v",
         "showlegend": true,
         "type": "scatter",
         "x": [
          185
         ],
         "xaxis": "x",
         "y": [
          15
         ],
         "yaxis": "y"
        },
        {
         "hovertemplate": "<b>%{hovertext}</b><br><br>word=minas<br>index=%{x}<br>count=%{marker.size}<extra></extra>",
         "hovertext": [
          "minas"
         ],
         "legendgroup": "minas",
         "marker": {
          "color": "#FF6692",
          "size": [
           15
          ],
          "sizemode": "area",
          "sizeref": 0.09583333333333334,
          "symbol": "circle"
         },
         "mode": "markers",
         "name": "minas",
         "orientation": "v",
         "showlegend": true,
         "type": "scatter",
         "x": [
          186
         ],
         "xaxis": "x",
         "y": [
          15
         ],
         "yaxis": "y"
        },
        {
         "hovertemplate": "<b>%{hovertext}</b><br><br>word=registro<br>index=%{x}<br>count=%{marker.size}<extra></extra>",
         "hovertext": [
          "registro"
         ],
         "legendgroup": "registro",
         "marker": {
          "color": "#B6E880",
          "size": [
           15
          ],
          "sizemode": "area",
          "sizeref": 0.09583333333333334,
          "symbol": "circle"
         },
         "mode": "markers",
         "name": "registro",
         "orientation": "v",
         "showlegend": true,
         "type": "scatter",
         "x": [
          187
         ],
         "xaxis": "x",
         "y": [
          15
         ],
         "yaxis": "y"
        },
        {
         "hovertemplate": "<b>%{hovertext}</b><br><br>word=botijões<br>index=%{x}<br>count=%{marker.size}<extra></extra>",
         "hovertext": [
          "botijões"
         ],
         "legendgroup": "botijões",
         "marker": {
          "color": "#FF97FF",
          "size": [
           15
          ],
          "sizemode": "area",
          "sizeref": 0.09583333333333334,
          "symbol": "circle"
         },
         "mode": "markers",
         "name": "botijões",
         "orientation": "v",
         "showlegend": true,
         "type": "scatter",
         "x": [
          188
         ],
         "xaxis": "x",
         "y": [
          15
         ],
         "yaxis": "y"
        },
        {
         "hovertemplate": "<b>%{hovertext}</b><br><br>word=envio<br>index=%{x}<br>count=%{marker.size}<extra></extra>",
         "hovertext": [
          "envio"
         ],
         "legendgroup": "envio",
         "marker": {
          "color": "#FECB52",
          "size": [
           15
          ],
          "sizemode": "area",
          "sizeref": 0.09583333333333334,
          "symbol": "circle"
         },
         "mode": "markers",
         "name": "envio",
         "orientation": "v",
         "showlegend": true,
         "type": "scatter",
         "x": [
          189
         ],
         "xaxis": "x",
         "y": [
          15
         ],
         "yaxis": "y"
        },
        {
         "hovertemplate": "<b>%{hovertext}</b><br><br>word=apresenta<br>index=%{x}<br>count=%{marker.size}<extra></extra>",
         "hovertext": [
          "apresenta"
         ],
         "legendgroup": "apresenta",
         "marker": {
          "color": "#636efa",
          "size": [
           15
          ],
          "sizemode": "area",
          "sizeref": 0.09583333333333334,
          "symbol": "circle"
         },
         "mode": "markers",
         "name": "apresenta",
         "orientation": "v",
         "showlegend": true,
         "type": "scatter",
         "x": [
          190
         ],
         "xaxis": "x",
         "y": [
          15
         ],
         "yaxis": "y"
        },
        {
         "hovertemplate": "<b>%{hovertext}</b><br><br>word=apreendidos<br>index=%{x}<br>count=%{marker.size}<extra></extra>",
         "hovertext": [
          "apreendidos"
         ],
         "legendgroup": "apreendidos",
         "marker": {
          "color": "#EF553B",
          "size": [
           15
          ],
          "sizemode": "area",
          "sizeref": 0.09583333333333334,
          "symbol": "circle"
         },
         "mode": "markers",
         "name": "apreendidos",
         "orientation": "v",
         "showlegend": true,
         "type": "scatter",
         "x": [
          191
         ],
         "xaxis": "x",
         "y": [
          15
         ],
         "yaxis": "y"
        },
        {
         "hovertemplate": "<b>%{hovertext}</b><br><br>word=coleta<br>index=%{x}<br>count=%{marker.size}<extra></extra>",
         "hovertext": [
          "coleta"
         ],
         "legendgroup": "coleta",
         "marker": {
          "color": "#00cc96",
          "size": [
           15
          ],
          "sizemode": "area",
          "sizeref": 0.09583333333333334,
          "symbol": "circle"
         },
         "mode": "markers",
         "name": "coleta",
         "orientation": "v",
         "showlegend": true,
         "type": "scatter",
         "x": [
          192
         ],
         "xaxis": "x",
         "y": [
          15
         ],
         "yaxis": "y"
        },
        {
         "hovertemplate": "<b>%{hovertext}</b><br><br>word=interditada<br>index=%{x}<br>count=%{marker.size}<extra></extra>",
         "hovertext": [
          "interditada"
         ],
         "legendgroup": "interditada",
         "marker": {
          "color": "#ab63fa",
          "size": [
           15
          ],
          "sizemode": "area",
          "sizeref": 0.09583333333333334,
          "symbol": "circle"
         },
         "mode": "markers",
         "name": "interditada",
         "orientation": "v",
         "showlegend": true,
         "type": "scatter",
         "x": [
          193
         ],
         "xaxis": "x",
         "y": [
          15
         ],
         "yaxis": "y"
        },
        {
         "hovertemplate": "<b>%{hovertext}</b><br><br>word=podem<br>index=%{x}<br>count=%{marker.size}<extra></extra>",
         "hovertext": [
          "podem"
         ],
         "legendgroup": "podem",
         "marker": {
          "color": "#FFA15A",
          "size": [
           12
          ],
          "sizemode": "area",
          "sizeref": 0.09583333333333334,
          "symbol": "circle"
         },
         "mode": "markers",
         "name": "podem",
         "orientation": "v",
         "showlegend": true,
         "type": "scatter",
         "x": [
          194
         ],
         "xaxis": "x",
         "y": [
          12
         ],
         "yaxis": "y"
        },
        {
         "hovertemplate": "<b>%{hovertext}</b><br><br>word=energia mme<br>index=%{x}<br>count=%{marker.size}<extra></extra>",
         "hovertext": [
          "energia mme"
         ],
         "legendgroup": "energia mme",
         "marker": {
          "color": "#19d3f3",
          "size": [
           12
          ],
          "sizemode": "area",
          "sizeref": 0.09583333333333334,
          "symbol": "circle"
         },
         "mode": "markers",
         "name": "energia mme",
         "orientation": "v",
         "showlegend": true,
         "type": "scatter",
         "x": [
          195
         ],
         "xaxis": "x",
         "y": [
          12
         ],
         "yaxis": "y"
        },
        {
         "hovertemplate": "<b>%{hovertext}</b><br><br>word=milhões<br>index=%{x}<br>count=%{marker.size}<extra></extra>",
         "hovertext": [
          "milhões"
         ],
         "legendgroup": "milhões",
         "marker": {
          "color": "#FF6692",
          "size": [
           12
          ],
          "sizemode": "area",
          "sizeref": 0.09583333333333334,
          "symbol": "circle"
         },
         "mode": "markers",
         "name": "milhões",
         "orientation": "v",
         "showlegend": true,
         "type": "scatter",
         "x": [
          196
         ],
         "xaxis": "x",
         "y": [
          12
         ],
         "yaxis": "y"
        },
        {
         "hovertemplate": "<b>%{hovertext}</b><br><br>word=d milhões<br>index=%{x}<br>count=%{marker.size}<extra></extra>",
         "hovertext": [
          "d milhões"
         ],
         "legendgroup": "d milhões",
         "marker": {
          "color": "#B6E880",
          "size": [
           12
          ],
          "sizemode": "area",
          "sizeref": 0.09583333333333334,
          "symbol": "circle"
         },
         "mode": "markers",
         "name": "d milhões",
         "orientation": "v",
         "showlegend": true,
         "type": "scatter",
         "x": [
          197
         ],
         "xaxis": "x",
         "y": [
          12
         ],
         "yaxis": "y"
        },
        {
         "hovertemplate": "<b>%{hovertext}</b><br><br>word=economicidade marginal<br>index=%{x}<br>count=%{marker.size}<extra></extra>",
         "hovertext": [
          "economicidade marginal"
         ],
         "legendgroup": "economicidade marginal",
         "marker": {
          "color": "#FF97FF",
          "size": [
           12
          ],
          "sizemode": "area",
          "sizeref": 0.09583333333333334,
          "symbol": "circle"
         },
         "mode": "markers",
         "name": "economicidade marginal",
         "orientation": "v",
         "showlegend": true,
         "type": "scatter",
         "x": [
          198
         ],
         "xaxis": "x",
         "y": [
          12
         ],
         "yaxis": "y"
        },
        {
         "hovertemplate": "<b>%{hovertext}</b><br><br>word=marginais<br>index=%{x}<br>count=%{marker.size}<extra></extra>",
         "hovertext": [
          "marginais"
         ],
         "legendgroup": "marginais",
         "marker": {
          "color": "#FECB52",
          "size": [
           12
          ],
          "sizemode": "area",
          "sizeref": 0.09583333333333334,
          "symbol": "circle"
         },
         "mode": "markers",
         "name": "marginais",
         "orientation": "v",
         "showlegend": true,
         "type": "scatter",
         "x": [
          199
         ],
         "xaxis": "x",
         "y": [
          12
         ],
         "yaxis": "y"
        },
        {
         "hovertemplate": "<b>%{hovertext}</b><br><br>word=resolução cnpe<br>index=%{x}<br>count=%{marker.size}<extra></extra>",
         "hovertext": [
          "resolução cnpe"
         ],
         "legendgroup": "resolução cnpe",
         "marker": {
          "color": "#636efa",
          "size": [
           12
          ],
          "sizemode": "area",
          "sizeref": 0.09583333333333334,
          "symbol": "circle"
         },
         "mode": "markers",
         "name": "resolução cnpe",
         "orientation": "v",
         "showlegend": true,
         "type": "scatter",
         "x": [
          200
         ],
         "xaxis": "x",
         "y": [
          12
         ],
         "yaxis": "y"
        },
        {
         "hovertemplate": "<b>%{hovertext}</b><br><br>word=serem<br>index=%{x}<br>count=%{marker.size}<extra></extra>",
         "hovertext": [
          "serem"
         ],
         "legendgroup": "serem",
         "marker": {
          "color": "#EF553B",
          "size": [
           12
          ],
          "sizemode": "area",
          "sizeref": 0.09583333333333334,
          "symbol": "circle"
         },
         "mode": "markers",
         "name": "serem",
         "orientation": "v",
         "showlegend": true,
         "type": "scatter",
         "x": [
          201
         ],
         "xaxis": "x",
         "y": [
          12
         ],
         "yaxis": "y"
        },
        {
         "hovertemplate": "<b>%{hovertext}</b><br><br>word=relação<br>index=%{x}<br>count=%{marker.size}<extra></extra>",
         "hovertext": [
          "relação"
         ],
         "legendgroup": "relação",
         "marker": {
          "color": "#00cc96",
          "size": [
           12
          ],
          "sizemode": "area",
          "sizeref": 0.09583333333333334,
          "symbol": "circle"
         },
         "mode": "markers",
         "name": "relação",
         "orientation": "v",
         "showlegend": true,
         "type": "scatter",
         "x": [
          202
         ],
         "xaxis": "x",
         "y": [
          12
         ],
         "yaxis": "y"
        },
        {
         "hovertemplate": "<b>%{hovertext}</b><br><br>word=casas decimais<br>index=%{x}<br>count=%{marker.size}<extra></extra>",
         "hovertext": [
          "casas decimais"
         ],
         "legendgroup": "casas decimais",
         "marker": {
          "color": "#ab63fa",
          "size": [
           12
          ],
          "sizemode": "area",
          "sizeref": 0.09583333333333334,
          "symbol": "circle"
         },
         "mode": "markers",
         "name": "casas decimais",
         "orientation": "v",
         "showlegend": true,
         "type": "scatter",
         "x": [
          203
         ],
         "xaxis": "x",
         "y": [
          12
         ],
         "yaxis": "y"
        },
        {
         "hovertemplate": "<b>%{hovertext}</b><br><br>word=redução<br>index=%{x}<br>count=%{marker.size}<extra></extra>",
         "hovertext": [
          "redução"
         ],
         "legendgroup": "redução",
         "marker": {
          "color": "#FFA15A",
          "size": [
           12
          ],
          "sizemode": "area",
          "sizeref": 0.09583333333333334,
          "symbol": "circle"
         },
         "mode": "markers",
         "name": "redução",
         "orientation": "v",
         "showlegend": true,
         "type": "scatter",
         "x": [
          204
         ],
         "xaxis": "x",
         "y": [
          12
         ],
         "yaxis": "y"
        },
        {
         "hovertemplate": "<b>%{hovertext}</b><br><br>word=meses<br>index=%{x}<br>count=%{marker.size}<extra></extra>",
         "hovertext": [
          "meses"
         ],
         "legendgroup": "meses",
         "marker": {
          "color": "#19d3f3",
          "size": [
           12
          ],
          "sizemode": "area",
          "sizeref": 0.09583333333333334,
          "symbol": "circle"
         },
         "mode": "markers",
         "name": "meses",
         "orientation": "v",
         "showlegend": true,
         "type": "scatter",
         "x": [
          205
         ],
         "xaxis": "x",
         "y": [
          12
         ],
         "yaxis": "y"
        },
        {
         "hovertemplate": "<b>%{hovertext}</b><br><br>word=processo administrativo<br>index=%{x}<br>count=%{marker.size}<extra></extra>",
         "hovertext": [
          "processo administrativo"
         ],
         "legendgroup": "processo administrativo",
         "marker": {
          "color": "#FF6692",
          "size": [
           12
          ],
          "sizemode": "area",
          "sizeref": 0.09583333333333334,
          "symbol": "circle"
         },
         "mode": "markers",
         "name": "processo administrativo",
         "orientation": "v",
         "showlegend": true,
         "type": "scatter",
         "x": [
          206
         ],
         "xaxis": "x",
         "y": [
          12
         ],
         "yaxis": "y"
        },
        {
         "hovertemplate": "<b>%{hovertext}</b><br><br>word=solicitada<br>index=%{x}<br>count=%{marker.size}<extra></extra>",
         "hovertext": [
          "solicitada"
         ],
         "legendgroup": "solicitada",
         "marker": {
          "color": "#B6E880",
          "size": [
           12
          ],
          "sizemode": "area",
          "sizeref": 0.09583333333333334,
          "symbol": "circle"
         },
         "mode": "markers",
         "name": "solicitada",
         "orientation": "v",
         "showlegend": true,
         "type": "scatter",
         "x": [
          207
         ],
         "xaxis": "x",
         "y": [
          12
         ],
         "yaxis": "y"
        },
        {
         "hovertemplate": "<b>%{hovertext}</b><br><br>word=inspecionados<br>index=%{x}<br>count=%{marker.size}<extra></extra>",
         "hovertext": [
          "inspecionados"
         ],
         "legendgroup": "inspecionados",
         "marker": {
          "color": "#FF97FF",
          "size": [
           12
          ],
          "sizemode": "area",
          "sizeref": 0.09583333333333334,
          "symbol": "circle"
         },
         "mode": "markers",
         "name": "inspecionados",
         "orientation": "v",
         "showlegend": true,
         "type": "scatter",
         "x": [
          208
         ],
         "xaxis": "x",
         "y": [
          12
         ],
         "yaxis": "y"
        },
        {
         "hovertemplate": "<b>%{hovertext}</b><br><br>word=forma<br>index=%{x}<br>count=%{marker.size}<extra></extra>",
         "hovertext": [
          "forma"
         ],
         "legendgroup": "forma",
         "marker": {
          "color": "#FECB52",
          "size": [
           12
          ],
          "sizemode": "area",
          "sizeref": 0.09583333333333334,
          "symbol": "circle"
         },
         "mode": "markers",
         "name": "forma",
         "orientation": "v",
         "showlegend": true,
         "type": "scatter",
         "x": [
          209
         ],
         "xaxis": "x",
         "y": [
          12
         ],
         "yaxis": "y"
        },
        {
         "hovertemplate": "<b>%{hovertext}</b><br><br>word=certificação<br>index=%{x}<br>count=%{marker.size}<extra></extra>",
         "hovertext": [
          "certificação"
         ],
         "legendgroup": "certificação",
         "marker": {
          "color": "#636efa",
          "size": [
           12
          ],
          "sizemode": "area",
          "sizeref": 0.09583333333333334,
          "symbol": "circle"
         },
         "mode": "markers",
         "name": "certificação",
         "orientation": "v",
         "showlegend": true,
         "type": "scatter",
         "x": [
          210
         ],
         "xaxis": "x",
         "y": [
          12
         ],
         "yaxis": "y"
        },
        {
         "hovertemplate": "<b>%{hovertext}</b><br><br>word=monitoramento<br>index=%{x}<br>count=%{marker.size}<extra></extra>",
         "hovertext": [
          "monitoramento"
         ],
         "legendgroup": "monitoramento",
         "marker": {
          "color": "#EF553B",
          "size": [
           12
          ],
          "sizemode": "area",
          "sizeref": 0.09583333333333334,
          "symbol": "circle"
         },
         "mode": "markers",
         "name": "monitoramento",
         "orientation": "v",
         "showlegend": true,
         "type": "scatter",
         "x": [
          211
         ],
         "xaxis": "x",
         "y": [
          12
         ],
         "yaxis": "y"
        },
        {
         "hovertemplate": "<b>%{hovertext}</b><br><br>word=agentes regulados<br>index=%{x}<br>count=%{marker.size}<extra></extra>",
         "hovertext": [
          "agentes regulados"
         ],
         "legendgroup": "agentes regulados",
         "marker": {
          "color": "#00cc96",
          "size": [
           12
          ],
          "sizemode": "area",
          "sizeref": 0.09583333333333334,
          "symbol": "circle"
         },
         "mode": "markers",
         "name": "agentes regulados",
         "orientation": "v",
         "showlegend": true,
         "type": "scatter",
         "x": [
          212
         ],
         "xaxis": "x",
         "y": [
          12
         ],
         "yaxis": "y"
        },
        {
         "hovertemplate": "<b>%{hovertext}</b><br><br>word=proposta<br>index=%{x}<br>count=%{marker.size}<extra></extra>",
         "hovertext": [
          "proposta"
         ],
         "legendgroup": "proposta",
         "marker": {
          "color": "#ab63fa",
          "size": [
           12
          ],
          "sizemode": "area",
          "sizeref": 0.09583333333333334,
          "symbol": "circle"
         },
         "mode": "markers",
         "name": "proposta",
         "orientation": "v",
         "showlegend": true,
         "type": "scatter",
         "x": [
          213
         ],
         "xaxis": "x",
         "y": [
          12
         ],
         "yaxis": "y"
        },
        {
         "hovertemplate": "<b>%{hovertext}</b><br><br>word=incentivo<br>index=%{x}<br>count=%{marker.size}<extra></extra>",
         "hovertext": [
          "incentivo"
         ],
         "legendgroup": "incentivo",
         "marker": {
          "color": "#FFA15A",
          "size": [
           12
          ],
          "sizemode": "area",
          "sizeref": 0.09583333333333334,
          "symbol": "circle"
         },
         "mode": "markers",
         "name": "incentivo",
         "orientation": "v",
         "showlegend": true,
         "type": "scatter",
         "x": [
          214
         ],
         "xaxis": "x",
         "y": [
          12
         ],
         "yaxis": "y"
        },
        {
         "hovertemplate": "<b>%{hovertext}</b><br><br>word=volume<br>index=%{x}<br>count=%{marker.size}<extra></extra>",
         "hovertext": [
          "volume"
         ],
         "legendgroup": "volume",
         "marker": {
          "color": "#19d3f3",
          "size": [
           12
          ],
          "sizemode": "area",
          "sizeref": 0.09583333333333334,
          "symbol": "circle"
         },
         "mode": "markers",
         "name": "volume",
         "orientation": "v",
         "showlegend": true,
         "type": "scatter",
         "x": [
          215
         ],
         "xaxis": "x",
         "y": [
          12
         ],
         "yaxis": "y"
        },
        {
         "hovertemplate": "<b>%{hovertext}</b><br><br>word=litros certificada<br>index=%{x}<br>count=%{marker.size}<extra></extra>",
         "hovertext": [
          "litros certificada"
         ],
         "legendgroup": "litros certificada",
         "marker": {
          "color": "#FF6692",
          "size": [
           12
          ],
          "sizemode": "area",
          "sizeref": 0.09583333333333334,
          "symbol": "circle"
         },
         "mode": "markers",
         "name": "litros certificada",
         "orientation": "v",
         "showlegend": true,
         "type": "scatter",
         "x": [
          216
         ],
         "xaxis": "x",
         "y": [
          12
         ],
         "yaxis": "y"
        },
        {
         "hovertemplate": "<b>%{hovertext}</b><br><br>word=cinco<br>index=%{x}<br>count=%{marker.size}<extra></extra>",
         "hovertext": [
          "cinco"
         ],
         "legendgroup": "cinco",
         "marker": {
          "color": "#B6E880",
          "size": [
           12
          ],
          "sizemode": "area",
          "sizeref": 0.09583333333333334,
          "symbol": "circle"
         },
         "mode": "markers",
         "name": "cinco",
         "orientation": "v",
         "showlegend": true,
         "type": "scatter",
         "x": [
          217
         ],
         "xaxis": "x",
         "y": [
          12
         ],
         "yaxis": "y"
        },
        {
         "hovertemplate": "<b>%{hovertext}</b><br><br>word=documento<br>index=%{x}<br>count=%{marker.size}<extra></extra>",
         "hovertext": [
          "documento"
         ],
         "legendgroup": "documento",
         "marker": {
          "color": "#FF97FF",
          "size": [
           12
          ],
          "sizemode": "area",
          "sizeref": 0.09583333333333334,
          "symbol": "circle"
         },
         "mode": "markers",
         "name": "documento",
         "orientation": "v",
         "showlegend": true,
         "type": "scatter",
         "x": [
          218
         ],
         "xaxis": "x",
         "y": [
          12
         ],
         "yaxis": "y"
        },
        {
         "hovertemplate": "<b>%{hovertext}</b><br><br>word=enviada<br>index=%{x}<br>count=%{marker.size}<extra></extra>",
         "hovertext": [
          "enviada"
         ],
         "legendgroup": "enviada",
         "marker": {
          "color": "#FECB52",
          "size": [
           12
          ],
          "sizemode": "area",
          "sizeref": 0.09583333333333334,
          "symbol": "circle"
         },
         "mode": "markers",
         "name": "enviada",
         "orientation": "v",
         "showlegend": true,
         "type": "scatter",
         "x": [
          219
         ],
         "xaxis": "x",
         "y": [
          12
         ],
         "yaxis": "y"
        },
        {
         "hovertemplate": "<b>%{hovertext}</b><br><br>word=produção nacional<br>index=%{x}<br>count=%{marker.size}<extra></extra>",
         "hovertext": [
          "produção nacional"
         ],
         "legendgroup": "produção nacional",
         "marker": {
          "color": "#636efa",
          "size": [
           12
          ],
          "sizemode": "area",
          "sizeref": 0.09583333333333334,
          "symbol": "circle"
         },
         "mode": "markers",
         "name": "produção nacional",
         "orientation": "v",
         "showlegend": true,
         "type": "scatter",
         "x": [
          220
         ],
         "xaxis": "x",
         "y": [
          12
         ],
         "yaxis": "y"
        },
        {
         "hovertemplate": "<b>%{hovertext}</b><br><br>word=etanol<br>index=%{x}<br>count=%{marker.size}<extra></extra>",
         "hovertext": [
          "etanol"
         ],
         "legendgroup": "etanol",
         "marker": {
          "color": "#EF553B",
          "size": [
           12
          ],
          "sizemode": "area",
          "sizeref": 0.09583333333333334,
          "symbol": "circle"
         },
         "mode": "markers",
         "name": "etanol",
         "orientation": "v",
         "showlegend": true,
         "type": "scatter",
         "x": [
          221
         ],
         "xaxis": "x",
         "y": [
          12
         ],
         "yaxis": "y"
        },
        {
         "hovertemplate": "<b>%{hovertext}</b><br><br>word=possibilidade<br>index=%{x}<br>count=%{marker.size}<extra></extra>",
         "hovertext": [
          "possibilidade"
         ],
         "legendgroup": "possibilidade",
         "marker": {
          "color": "#00cc96",
          "size": [
           12
          ],
          "sizemode": "area",
          "sizeref": 0.09583333333333334,
          "symbol": "circle"
         },
         "mode": "markers",
         "name": "possibilidade",
         "orientation": "v",
         "showlegend": true,
         "type": "scatter",
         "x": [
          222
         ],
         "xaxis": "x",
         "y": [
          12
         ],
         "yaxis": "y"
        },
        {
         "hovertemplate": "<b>%{hovertext}</b><br><br>word=gasolina aditivada<br>index=%{x}<br>count=%{marker.size}<extra></extra>",
         "hovertext": [
          "gasolina aditivada"
         ],
         "legendgroup": "gasolina aditivada",
         "marker": {
          "color": "#ab63fa",
          "size": [
           12
          ],
          "sizemode": "area",
          "sizeref": 0.09583333333333334,
          "symbol": "circle"
         },
         "mode": "markers",
         "name": "gasolina aditivada",
         "orientation": "v",
         "showlegend": true,
         "type": "scatter",
         "x": [
          223
         ],
         "xaxis": "x",
         "y": [
          12
         ],
         "yaxis": "y"
        },
        {
         "hovertemplate": "<b>%{hovertext}</b><br><br>word=página<br>index=%{x}<br>count=%{marker.size}<extra></extra>",
         "hovertext": [
          "página"
         ],
         "legendgroup": "página",
         "marker": {
          "color": "#FFA15A",
          "size": [
           12
          ],
          "sizemode": "area",
          "sizeref": 0.09583333333333334,
          "symbol": "circle"
         },
         "mode": "markers",
         "name": "página",
         "orientation": "v",
         "showlegend": true,
         "type": "scatter",
         "x": [
          224
         ],
         "xaxis": "x",
         "y": [
          12
         ],
         "yaxis": "y"
        },
        {
         "hovertemplate": "<b>%{hovertext}</b><br><br>word=origem<br>index=%{x}<br>count=%{marker.size}<extra></extra>",
         "hovertext": [
          "origem"
         ],
         "legendgroup": "origem",
         "marker": {
          "color": "#19d3f3",
          "size": [
           12
          ],
          "sizemode": "area",
          "sizeref": 0.09583333333333334,
          "symbol": "circle"
         },
         "mode": "markers",
         "name": "origem",
         "orientation": "v",
         "showlegend": true,
         "type": "scatter",
         "x": [
          225
         ],
         "xaxis": "x",
         "y": [
          12
         ],
         "yaxis": "y"
        },
        {
         "hovertemplate": "<b>%{hovertext}</b><br><br>word=atualização<br>index=%{x}<br>count=%{marker.size}<extra></extra>",
         "hovertext": [
          "atualização"
         ],
         "legendgroup": "atualização",
         "marker": {
          "color": "#FF6692",
          "size": [
           12
          ],
          "sizemode": "area",
          "sizeref": 0.09583333333333334,
          "symbol": "circle"
         },
         "mode": "markers",
         "name": "atualização",
         "orientation": "v",
         "showlegend": true,
         "type": "scatter",
         "x": [
          226
         ],
         "xaxis": "x",
         "y": [
          12
         ],
         "yaxis": "y"
        },
        {
         "hovertemplate": "<b>%{hovertext}</b><br><br>word=aprovou<br>index=%{x}<br>count=%{marker.size}<extra></extra>",
         "hovertext": [
          "aprovou"
         ],
         "legendgroup": "aprovou",
         "marker": {
          "color": "#B6E880",
          "size": [
           12
          ],
          "sizemode": "area",
          "sizeref": 0.09583333333333334,
          "symbol": "circle"
         },
         "mode": "markers",
         "name": "aprovou",
         "orientation": "v",
         "showlegend": true,
         "type": "scatter",
         "x": [
          227
         ],
         "xaxis": "x",
         "y": [
          12
         ],
         "yaxis": "y"
        },
        {
         "hovertemplate": "<b>%{hovertext}</b><br><br>word=produzidos<br>index=%{x}<br>count=%{marker.size}<extra></extra>",
         "hovertext": [
          "produzidos"
         ],
         "legendgroup": "produzidos",
         "marker": {
          "color": "#FF97FF",
          "size": [
           12
          ],
          "sizemode": "area",
          "sizeref": 0.09583333333333334,
          "symbol": "circle"
         },
         "mode": "markers",
         "name": "produzidos",
         "orientation": "v",
         "showlegend": true,
         "type": "scatter",
         "x": [
          228
         ],
         "xaxis": "x",
         "y": [
          12
         ],
         "yaxis": "y"
        },
        {
         "hovertemplate": "<b>%{hovertext}</b><br><br>word=definição<br>index=%{x}<br>count=%{marker.size}<extra></extra>",
         "hovertext": [
          "definição"
         ],
         "legendgroup": "definição",
         "marker": {
          "color": "#FECB52",
          "size": [
           12
          ],
          "sizemode": "area",
          "sizeref": 0.09583333333333334,
          "symbol": "circle"
         },
         "mode": "markers",
         "name": "definição",
         "orientation": "v",
         "showlegend": true,
         "type": "scatter",
         "x": [
          229
         ],
         "xaxis": "x",
         "y": [
          12
         ],
         "yaxis": "y"
        },
        {
         "hovertemplate": "<b>%{hovertext}</b><br><br>word=mil<br>index=%{x}<br>count=%{marker.size}<extra></extra>",
         "hovertext": [
          "mil"
         ],
         "legendgroup": "mil",
         "marker": {
          "color": "#636efa",
          "size": [
           12
          ],
          "sizemode": "area",
          "sizeref": 0.09583333333333334,
          "symbol": "circle"
         },
         "mode": "markers",
         "name": "mil",
         "orientation": "v",
         "showlegend": true,
         "type": "scatter",
         "x": [
          230
         ],
         "xaxis": "x",
         "y": [
          12
         ],
         "yaxis": "y"
        },
        {
         "hovertemplate": "<b>%{hovertext}</b><br><br>word=coletores<br>index=%{x}<br>count=%{marker.size}<extra></extra>",
         "hovertext": [
          "coletores"
         ],
         "legendgroup": "coletores",
         "marker": {
          "color": "#EF553B",
          "size": [
           12
          ],
          "sizemode": "area",
          "sizeref": 0.09583333333333334,
          "symbol": "circle"
         },
         "mode": "markers",
         "name": "coletores",
         "orientation": "v",
         "showlegend": true,
         "type": "scatter",
         "x": [
          231
         ],
         "xaxis": "x",
         "y": [
          12
         ],
         "yaxis": "y"
        },
        {
         "hovertemplate": "<b>%{hovertext}</b><br><br>word=outras<br>index=%{x}<br>count=%{marker.size}<extra></extra>",
         "hovertext": [
          "outras"
         ],
         "legendgroup": "outras",
         "marker": {
          "color": "#00cc96",
          "size": [
           12
          ],
          "sizemode": "area",
          "sizeref": 0.09583333333333334,
          "symbol": "circle"
         },
         "mode": "markers",
         "name": "outras",
         "orientation": "v",
         "showlegend": true,
         "type": "scatter",
         "x": [
          232
         ],
         "xaxis": "x",
         "y": [
          12
         ],
         "yaxis": "y"
        },
        {
         "hovertemplate": "<b>%{hovertext}</b><br><br>word=combustíveis pmqc<br>index=%{x}<br>count=%{marker.size}<extra></extra>",
         "hovertext": [
          "combustíveis pmqc"
         ],
         "legendgroup": "combustíveis pmqc",
         "marker": {
          "color": "#ab63fa",
          "size": [
           12
          ],
          "sizemode": "area",
          "sizeref": 0.09583333333333334,
          "symbol": "circle"
         },
         "mode": "markers",
         "name": "combustíveis pmqc",
         "orientation": "v",
         "showlegend": true,
         "type": "scatter",
         "x": [
          233
         ],
         "xaxis": "x",
         "y": [
          12
         ],
         "yaxis": "y"
        },
        {
         "hovertemplate": "<b>%{hovertext}</b><br><br>word=estagiários<br>index=%{x}<br>count=%{marker.size}<extra></extra>",
         "hovertext": [
          "estagiários"
         ],
         "legendgroup": "estagiários",
         "marker": {
          "color": "#FFA15A",
          "size": [
           12
          ],
          "sizemode": "area",
          "sizeref": 0.09583333333333334,
          "symbol": "circle"
         },
         "mode": "markers",
         "name": "estagiários",
         "orientation": "v",
         "showlegend": true,
         "type": "scatter",
         "x": [
          234
         ],
         "xaxis": "x",
         "y": [
          12
         ],
         "yaxis": "y"
        },
        {
         "hovertemplate": "<b>%{hovertext}</b><br><br>word=hidratado interditado<br>index=%{x}<br>count=%{marker.size}<extra></extra>",
         "hovertext": [
          "hidratado interditado"
         ],
         "legendgroup": "hidratado interditado",
         "marker": {
          "color": "#19d3f3",
          "size": [
           12
          ],
          "sizemode": "area",
          "sizeref": 0.09583333333333334,
          "symbol": "circle"
         },
         "mode": "markers",
         "name": "hidratado interditado",
         "orientation": "v",
         "showlegend": true,
         "type": "scatter",
         "x": [
          235
         ],
         "xaxis": "x",
         "y": [
          12
         ],
         "yaxis": "y"
        },
        {
         "hovertemplate": "<b>%{hovertext}</b><br><br>word=defeito<br>index=%{x}<br>count=%{marker.size}<extra></extra>",
         "hovertext": [
          "defeito"
         ],
         "legendgroup": "defeito",
         "marker": {
          "color": "#FF6692",
          "size": [
           12
          ],
          "sizemode": "area",
          "sizeref": 0.09583333333333334,
          "symbol": "circle"
         },
         "mode": "markers",
         "name": "defeito",
         "orientation": "v",
         "showlegend": true,
         "type": "scatter",
         "x": [
          236
         ],
         "xaxis": "x",
         "y": [
          12
         ],
         "yaxis": "y"
        },
        {
         "hovertemplate": "<b>%{hovertext}</b><br><br>word=dessa forma<br>index=%{x}<br>count=%{marker.size}<extra></extra>",
         "hovertext": [
          "dessa forma"
         ],
         "legendgroup": "dessa forma",
         "marker": {
          "color": "#B6E880",
          "size": [
           12
          ],
          "sizemode": "area",
          "sizeref": 0.09583333333333334,
          "symbol": "circle"
         },
         "mode": "markers",
         "name": "dessa forma",
         "orientation": "v",
         "showlegend": true,
         "type": "scatter",
         "x": [
          237
         ],
         "xaxis": "x",
         "y": [
          12
         ],
         "yaxis": "y"
        },
        {
         "hovertemplate": "<b>%{hovertext}</b><br><br>word=serra<br>index=%{x}<br>count=%{marker.size}<extra></extra>",
         "hovertext": [
          "serra"
         ],
         "legendgroup": "serra",
         "marker": {
          "color": "#FF97FF",
          "size": [
           12
          ],
          "sizemode": "area",
          "sizeref": 0.09583333333333334,
          "symbol": "circle"
         },
         "mode": "markers",
         "name": "serra",
         "orientation": "v",
         "showlegend": true,
         "type": "scatter",
         "x": [
          238
         ],
         "xaxis": "x",
         "y": [
          12
         ],
         "yaxis": "y"
        },
        {
         "hovertemplate": "<b>%{hovertext}</b><br><br>word=rotina<br>index=%{x}<br>count=%{marker.size}<extra></extra>",
         "hovertext": [
          "rotina"
         ],
         "legendgroup": "rotina",
         "marker": {
          "color": "#FECB52",
          "size": [
           12
          ],
          "sizemode": "area",
          "sizeref": 0.09583333333333334,
          "symbol": "circle"
         },
         "mode": "markers",
         "name": "rotina",
         "orientation": "v",
         "showlegend": true,
         "type": "scatter",
         "x": [
          239
         ],
         "xaxis": "x",
         "y": [
          12
         ],
         "yaxis": "y"
        },
        {
         "hovertemplate": "<b>%{hovertext}</b><br><br>word=ostentar marca<br>index=%{x}<br>count=%{marker.size}<extra></extra>",
         "hovertext": [
          "ostentar marca"
         ],
         "legendgroup": "ostentar marca",
         "marker": {
          "color": "#636efa",
          "size": [
           12
          ],
          "sizemode": "area",
          "sizeref": 0.09583333333333334,
          "symbol": "circle"
         },
         "mode": "markers",
         "name": "ostentar marca",
         "orientation": "v",
         "showlegend": true,
         "type": "scatter",
         "x": [
          240
         ],
         "xaxis": "x",
         "y": [
          12
         ],
         "yaxis": "y"
        },
        {
         "hovertemplate": "<b>%{hovertext}</b><br><br>word=terrestres<br>index=%{x}<br>count=%{marker.size}<extra></extra>",
         "hovertext": [
          "terrestres"
         ],
         "legendgroup": "terrestres",
         "marker": {
          "color": "#EF553B",
          "size": [
           12
          ],
          "sizemode": "area",
          "sizeref": 0.09583333333333334,
          "symbol": "circle"
         },
         "mode": "markers",
         "name": "terrestres",
         "orientation": "v",
         "showlegend": true,
         "type": "scatter",
         "x": [
          241
         ],
         "xaxis": "x",
         "y": [
          12
         ],
         "yaxis": "y"
        },
        {
         "hovertemplate": "<b>%{hovertext}</b><br><br>word=produção marginal<br>index=%{x}<br>count=%{marker.size}<extra></extra>",
         "hovertext": [
          "produção marginal"
         ],
         "legendgroup": "produção marginal",
         "marker": {
          "color": "#00cc96",
          "size": [
           12
          ],
          "sizemode": "area",
          "sizeref": 0.09583333333333334,
          "symbol": "circle"
         },
         "mode": "markers",
         "name": "produção marginal",
         "orientation": "v",
         "showlegend": true,
         "type": "scatter",
         "x": [
          242
         ],
         "xaxis": "x",
         "y": [
          12
         ],
         "yaxis": "y"
        },
        {
         "hovertemplate": "<b>%{hovertext}</b><br><br>word=minas gerais<br>index=%{x}<br>count=%{marker.size}<extra></extra>",
         "hovertext": [
          "minas gerais"
         ],
         "legendgroup": "minas gerais",
         "marker": {
          "color": "#ab63fa",
          "size": [
           12
          ],
          "sizemode": "area",
          "sizeref": 0.09583333333333334,
          "symbol": "circle"
         },
         "mode": "markers",
         "name": "minas gerais",
         "orientation": "v",
         "showlegend": true,
         "type": "scatter",
         "x": [
          243
         ],
         "xaxis": "x",
         "y": [
          12
         ],
         "yaxis": "y"
        },
        {
         "hovertemplate": "<b>%{hovertext}</b><br><br>word=rodada<br>index=%{x}<br>count=%{marker.size}<extra></extra>",
         "hovertext": [
          "rodada"
         ],
         "legendgroup": "rodada",
         "marker": {
          "color": "#FFA15A",
          "size": [
           12
          ],
          "sizemode": "area",
          "sizeref": 0.09583333333333334,
          "symbol": "circle"
         },
         "mode": "markers",
         "name": "rodada",
         "orientation": "v",
         "showlegend": true,
         "type": "scatter",
         "x": [
          244
         ],
         "xaxis": "x",
         "y": [
          12
         ],
         "yaxis": "y"
        },
        {
         "hovertemplate": "<b>%{hovertext}</b><br><br>word=dispor<br>index=%{x}<br>count=%{marker.size}<extra></extra>",
         "hovertext": [
          "dispor"
         ],
         "legendgroup": "dispor",
         "marker": {
          "color": "#19d3f3",
          "size": [
           12
          ],
          "sizemode": "area",
          "sizeref": 0.09583333333333334,
          "symbol": "circle"
         },
         "mode": "markers",
         "name": "dispor",
         "orientation": "v",
         "showlegend": true,
         "type": "scatter",
         "x": [
          245
         ],
         "xaxis": "x",
         "y": [
          12
         ],
         "yaxis": "y"
        },
        {
         "hovertemplate": "<b>%{hovertext}</b><br><br>word=vistoriados<br>index=%{x}<br>count=%{marker.size}<extra></extra>",
         "hovertext": [
          "vistoriados"
         ],
         "legendgroup": "vistoriados",
         "marker": {
          "color": "#FF6692",
          "size": [
           12
          ],
          "sizemode": "area",
          "sizeref": 0.09583333333333334,
          "symbol": "circle"
         },
         "mode": "markers",
         "name": "vistoriados",
         "orientation": "v",
         "showlegend": true,
         "type": "scatter",
         "x": [
          246
         ],
         "xaxis": "x",
         "y": [
          12
         ],
         "yaxis": "y"
        },
        {
         "hovertemplate": "<b>%{hovertext}</b><br><br>word=tecnologia inmetro<br>index=%{x}<br>count=%{marker.size}<extra></extra>",
         "hovertext": [
          "tecnologia inmetro"
         ],
         "legendgroup": "tecnologia inmetro",
         "marker": {
          "color": "#B6E880",
          "size": [
           12
          ],
          "sizemode": "area",
          "sizeref": 0.09583333333333334,
          "symbol": "circle"
         },
         "mode": "markers",
         "name": "tecnologia inmetro",
         "orientation": "v",
         "showlegend": true,
         "type": "scatter",
         "x": [
          247
         ],
         "xaxis": "x",
         "y": [
          12
         ],
         "yaxis": "y"
        },
        {
         "hovertemplate": "<b>%{hovertext}</b><br><br>word=desacordo<br>index=%{x}<br>count=%{marker.size}<extra></extra>",
         "hovertext": [
          "desacordo"
         ],
         "legendgroup": "desacordo",
         "marker": {
          "color": "#FF97FF",
          "size": [
           12
          ],
          "sizemode": "area",
          "sizeref": 0.09583333333333334,
          "symbol": "circle"
         },
         "mode": "markers",
         "name": "desacordo",
         "orientation": "v",
         "showlegend": true,
         "type": "scatter",
         "x": [
          248
         ],
         "xaxis": "x",
         "y": [
          12
         ],
         "yaxis": "y"
        },
        {
         "hovertemplate": "<b>%{hovertext}</b><br><br>word=transporte<br>index=%{x}<br>count=%{marker.size}<extra></extra>",
         "hovertext": [
          "transporte"
         ],
         "legendgroup": "transporte",
         "marker": {
          "color": "#FECB52",
          "size": [
           12
          ],
          "sizemode": "area",
          "sizeref": 0.09583333333333334,
          "symbol": "circle"
         },
         "mode": "markers",
         "name": "transporte",
         "orientation": "v",
         "showlegend": true,
         "type": "scatter",
         "x": [
          249
         ],
         "xaxis": "x",
         "y": [
          12
         ],
         "yaxis": "y"
        },
        {
         "hovertemplate": "<b>%{hovertext}</b><br><br>word=distribuidor<br>index=%{x}<br>count=%{marker.size}<extra></extra>",
         "hovertext": [
          "distribuidor"
         ],
         "legendgroup": "distribuidor",
         "marker": {
          "color": "#636efa",
          "size": [
           12
          ],
          "sizemode": "area",
          "sizeref": 0.09583333333333334,
          "symbol": "circle"
         },
         "mode": "markers",
         "name": "distribuidor",
         "orientation": "v",
         "showlegend": true,
         "type": "scatter",
         "x": [
          250
         ],
         "xaxis": "x",
         "y": [
          12
         ],
         "yaxis": "y"
        },
        {
         "hovertemplate": "<b>%{hovertext}</b><br><br>word=abastecedor<br>index=%{x}<br>count=%{marker.size}<extra></extra>",
         "hovertext": [
          "abastecedor"
         ],
         "legendgroup": "abastecedor",
         "marker": {
          "color": "#EF553B",
          "size": [
           12
          ],
          "sizemode": "area",
          "sizeref": 0.09583333333333334,
          "symbol": "circle"
         },
         "mode": "markers",
         "name": "abastecedor",
         "orientation": "v",
         "showlegend": true,
         "type": "scatter",
         "x": [
          251
         ],
         "xaxis": "x",
         "y": [
          12
         ],
         "yaxis": "y"
        },
        {
         "hovertemplate": "<b>%{hovertext}</b><br><br>word=cinco postos<br>index=%{x}<br>count=%{marker.size}<extra></extra>",
         "hovertext": [
          "cinco postos"
         ],
         "legendgroup": "cinco postos",
         "marker": {
          "color": "#00cc96",
          "size": [
           12
          ],
          "sizemode": "area",
          "sizeref": 0.09583333333333334,
          "symbol": "circle"
         },
         "mode": "markers",
         "name": "cinco postos",
         "orientation": "v",
         "showlegend": true,
         "type": "scatter",
         "x": [
          252
         ],
         "xaxis": "x",
         "y": [
          12
         ],
         "yaxis": "y"
        },
        {
         "hovertemplate": "<b>%{hovertext}</b><br><br>word=tanque deste<br>index=%{x}<br>count=%{marker.size}<extra></extra>",
         "hovertext": [
          "tanque deste"
         ],
         "legendgroup": "tanque deste",
         "marker": {
          "color": "#ab63fa",
          "size": [
           12
          ],
          "sizemode": "area",
          "sizeref": 0.09583333333333334,
          "symbol": "circle"
         },
         "mode": "markers",
         "name": "tanque deste",
         "orientation": "v",
         "showlegend": true,
         "type": "scatter",
         "x": [
          253
         ],
         "xaxis": "x",
         "y": [
          12
         ],
         "yaxis": "y"
        },
        {
         "hovertemplate": "<b>%{hovertext}</b><br><br>word=previsto<br>index=%{x}<br>count=%{marker.size}<extra></extra>",
         "hovertext": [
          "previsto"
         ],
         "legendgroup": "previsto",
         "marker": {
          "color": "#FFA15A",
          "size": [
           12
          ],
          "sizemode": "area",
          "sizeref": 0.09583333333333334,
          "symbol": "circle"
         },
         "mode": "markers",
         "name": "previsto",
         "orientation": "v",
         "showlegend": true,
         "type": "scatter",
         "x": [
          254
         ],
         "xaxis": "x",
         "y": [
          12
         ],
         "yaxis": "y"
        },
        {
         "hovertemplate": "<b>%{hovertext}</b><br><br>word=deste produto<br>index=%{x}<br>count=%{marker.size}<extra></extra>",
         "hovertext": [
          "deste produto"
         ],
         "legendgroup": "deste produto",
         "marker": {
          "color": "#19d3f3",
          "size": [
           12
          ],
          "sizemode": "area",
          "sizeref": 0.09583333333333334,
          "symbol": "circle"
         },
         "mode": "markers",
         "name": "deste produto",
         "orientation": "v",
         "showlegend": true,
         "type": "scatter",
         "x": [
          255
         ],
         "xaxis": "x",
         "y": [
          12
         ],
         "yaxis": "y"
        },
        {
         "hovertemplate": "<b>%{hovertext}</b><br><br>word=produto interditados<br>index=%{x}<br>count=%{marker.size}<extra></extra>",
         "hovertext": [
          "produto interditados"
         ],
         "legendgroup": "produto interditados",
         "marker": {
          "color": "#FF6692",
          "size": [
           12
          ],
          "sizemode": "area",
          "sizeref": 0.09583333333333334,
          "symbol": "circle"
         },
         "mode": "markers",
         "name": "produto interditados",
         "orientation": "v",
         "showlegend": true,
         "type": "scatter",
         "x": [
          256
         ],
         "xaxis": "x",
         "y": [
          12
         ],
         "yaxis": "y"
        },
        {
         "hovertemplate": "<b>%{hovertext}</b><br><br>word=interdição<br>index=%{x}<br>count=%{marker.size}<extra></extra>",
         "hovertext": [
          "interdição"
         ],
         "legendgroup": "interdição",
         "marker": {
          "color": "#B6E880",
          "size": [
           12
          ],
          "sizemode": "area",
          "sizeref": 0.09583333333333334,
          "symbol": "circle"
         },
         "mode": "markers",
         "name": "interdição",
         "orientation": "v",
         "showlegend": true,
         "type": "scatter",
         "x": [
          257
         ],
         "xaxis": "x",
         "y": [
          12
         ],
         "yaxis": "y"
        },
        {
         "hovertemplate": "<b>%{hovertext}</b><br><br>word=número<br>index=%{x}<br>count=%{marker.size}<extra></extra>",
         "hovertext": [
          "número"
         ],
         "legendgroup": "número",
         "marker": {
          "color": "#FF97FF",
          "size": [
           12
          ],
          "sizemode": "area",
          "sizeref": 0.09583333333333334,
          "symbol": "circle"
         },
         "mode": "markers",
         "name": "número",
         "orientation": "v",
         "showlegend": true,
         "type": "scatter",
         "x": [
          258
         ],
         "xaxis": "x",
         "y": [
          12
         ],
         "yaxis": "y"
        },
        {
         "hovertemplate": "<b>%{hovertext}</b><br><br>word=união<br>index=%{x}<br>count=%{marker.size}<extra></extra>",
         "hovertext": [
          "união"
         ],
         "legendgroup": "união",
         "marker": {
          "color": "#FECB52",
          "size": [
           12
          ],
          "sizemode": "area",
          "sizeref": 0.09583333333333334,
          "symbol": "circle"
         },
         "mode": "markers",
         "name": "união",
         "orientation": "v",
         "showlegend": true,
         "type": "scatter",
         "x": [
          259
         ],
         "xaxis": "x",
         "y": [
          12
         ],
         "yaxis": "y"
        },
        {
         "hovertemplate": "<b>%{hovertext}</b><br><br>word=revendedor retalhista<br>index=%{x}<br>count=%{marker.size}<extra></extra>",
         "hovertext": [
          "revendedor retalhista"
         ],
         "legendgroup": "revendedor retalhista",
         "marker": {
          "color": "#636efa",
          "size": [
           12
          ],
          "sizemode": "area",
          "sizeref": 0.09583333333333334,
          "symbol": "circle"
         },
         "mode": "markers",
         "name": "revendedor retalhista",
         "orientation": "v",
         "showlegend": true,
         "type": "scatter",
         "x": [
          260
         ],
         "xaxis": "x",
         "y": [
          12
         ],
         "yaxis": "y"
        },
        {
         "hovertemplate": "<b>%{hovertext}</b><br><br>word=transportador revendedor<br>index=%{x}<br>count=%{marker.size}<extra></extra>",
         "hovertext": [
          "transportador revendedor"
         ],
         "legendgroup": "transportador revendedor",
         "marker": {
          "color": "#EF553B",
          "size": [
           12
          ],
          "sizemode": "area",
          "sizeref": 0.09583333333333334,
          "symbol": "circle"
         },
         "mode": "markers",
         "name": "transportador revendedor",
         "orientation": "v",
         "showlegend": true,
         "type": "scatter",
         "x": [
          261
         ],
         "xaxis": "x",
         "y": [
          12
         ],
         "yaxis": "y"
        },
        {
         "hovertemplate": "<b>%{hovertext}</b><br><br>word=selo<br>index=%{x}<br>count=%{marker.size}<extra></extra>",
         "hovertext": [
          "selo"
         ],
         "legendgroup": "selo",
         "marker": {
          "color": "#00cc96",
          "size": [
           12
          ],
          "sizemode": "area",
          "sizeref": 0.09583333333333334,
          "symbol": "circle"
         },
         "mode": "markers",
         "name": "selo",
         "orientation": "v",
         "showlegend": true,
         "type": "scatter",
         "x": [
          262
         ],
         "xaxis": "x",
         "y": [
          12
         ],
         "yaxis": "y"
        },
        {
         "hovertemplate": "<b>%{hovertext}</b><br><br>word=problema<br>index=%{x}<br>count=%{marker.size}<extra></extra>",
         "hovertext": [
          "problema"
         ],
         "legendgroup": "problema",
         "marker": {
          "color": "#ab63fa",
          "size": [
           12
          ],
          "sizemode": "area",
          "sizeref": 0.09583333333333334,
          "symbol": "circle"
         },
         "mode": "markers",
         "name": "problema",
         "orientation": "v",
         "showlegend": true,
         "type": "scatter",
         "x": [
          263
         ],
         "xaxis": "x",
         "y": [
          12
         ],
         "yaxis": "y"
        },
        {
         "hovertemplate": "<b>%{hovertext}</b><br><br>word=equipamentos medidores<br>index=%{x}<br>count=%{marker.size}<extra></extra>",
         "hovertext": [
          "equipamentos medidores"
         ],
         "legendgroup": "equipamentos medidores",
         "marker": {
          "color": "#FFA15A",
          "size": [
           12
          ],
          "sizemode": "area",
          "sizeref": 0.09583333333333334,
          "symbol": "circle"
         },
         "mode": "markers",
         "name": "equipamentos medidores",
         "orientation": "v",
         "showlegend": true,
         "type": "scatter",
         "x": [
          264
         ],
         "xaxis": "x",
         "y": [
          12
         ],
         "yaxis": "y"
        },
        {
         "hovertemplate": "<b>%{hovertext}</b><br><br>word=gás<br>index=%{x}<br>count=%{marker.size}<extra></extra>",
         "hovertext": [
          "gás"
         ],
         "legendgroup": "gás",
         "marker": {
          "color": "#19d3f3",
          "size": [
           12
          ],
          "sizemode": "area",
          "sizeref": 0.09583333333333334,
          "symbol": "circle"
         },
         "mode": "markers",
         "name": "gás",
         "orientation": "v",
         "showlegend": true,
         "type": "scatter",
         "x": [
          265
         ],
         "xaxis": "x",
         "y": [
          12
         ],
         "yaxis": "y"
        },
        {
         "hovertemplate": "<b>%{hovertext}</b><br><br>word=bônus<br>index=%{x}<br>count=%{marker.size}<extra></extra>",
         "hovertext": [
          "bônus"
         ],
         "legendgroup": "bônus",
         "marker": {
          "color": "#FF6692",
          "size": [
           12
          ],
          "sizemode": "area",
          "sizeref": 0.09583333333333334,
          "symbol": "circle"
         },
         "mode": "markers",
         "name": "bônus",
         "orientation": "v",
         "showlegend": true,
         "type": "scatter",
         "x": [
          266
         ],
         "xaxis": "x",
         "y": [
          12
         ],
         "yaxis": "y"
        },
        {
         "hovertemplate": "<b>%{hovertext}</b><br><br>word=produtores<br>index=%{x}<br>count=%{marker.size}<extra></extra>",
         "hovertext": [
          "produtores"
         ],
         "legendgroup": "produtores",
         "marker": {
          "color": "#B6E880",
          "size": [
           12
          ],
          "sizemode": "area",
          "sizeref": 0.09583333333333334,
          "symbol": "circle"
         },
         "mode": "markers",
         "name": "produtores",
         "orientation": "v",
         "showlegend": true,
         "type": "scatter",
         "x": [
          267
         ],
         "xaxis": "x",
         "y": [
          12
         ],
         "yaxis": "y"
        },
        {
         "hovertemplate": "<b>%{hovertext}</b><br><br>word=inspecionados postos<br>index=%{x}<br>count=%{marker.size}<extra></extra>",
         "hovertext": [
          "inspecionados postos"
         ],
         "legendgroup": "inspecionados postos",
         "marker": {
          "color": "#FF97FF",
          "size": [
           12
          ],
          "sizemode": "area",
          "sizeref": 0.09583333333333334,
          "symbol": "circle"
         },
         "mode": "markers",
         "name": "inspecionados postos",
         "orientation": "v",
         "showlegend": true,
         "type": "scatter",
         "x": [
          268
         ],
         "xaxis": "x",
         "y": [
          12
         ],
         "yaxis": "y"
        },
        {
         "hovertemplate": "<b>%{hovertext}</b><br><br>word=distrito federal<br>index=%{x}<br>count=%{marker.size}<extra></extra>",
         "hovertext": [
          "distrito federal"
         ],
         "legendgroup": "distrito federal",
         "marker": {
          "color": "#FECB52",
          "size": [
           12
          ],
          "sizemode": "area",
          "sizeref": 0.09583333333333334,
          "symbol": "circle"
         },
         "mode": "markers",
         "name": "distrito federal",
         "orientation": "v",
         "showlegend": true,
         "type": "scatter",
         "x": [
          269
         ],
         "xaxis": "x",
         "y": [
          12
         ],
         "yaxis": "y"
        },
        {
         "hovertemplate": "<b>%{hovertext}</b><br><br>word=metrologia qualidade<br>index=%{x}<br>count=%{marker.size}<extra></extra>",
         "hovertext": [
          "metrologia qualidade"
         ],
         "legendgroup": "metrologia qualidade",
         "marker": {
          "color": "#636efa",
          "size": [
           12
          ],
          "sizemode": "area",
          "sizeref": 0.09583333333333334,
          "symbol": "circle"
         },
         "mode": "markers",
         "name": "metrologia qualidade",
         "orientation": "v",
         "showlegend": true,
         "type": "scatter",
         "x": [
          270
         ],
         "xaxis": "x",
         "y": [
          12
         ],
         "yaxis": "y"
        },
        {
         "hovertemplate": "<b>%{hovertext}</b><br><br>word=pesos<br>index=%{x}<br>count=%{marker.size}<extra></extra>",
         "hovertext": [
          "pesos"
         ],
         "legendgroup": "pesos",
         "marker": {
          "color": "#EF553B",
          "size": [
           12
          ],
          "sizemode": "area",
          "sizeref": 0.09583333333333334,
          "symbol": "circle"
         },
         "mode": "markers",
         "name": "pesos",
         "orientation": "v",
         "showlegend": true,
         "type": "scatter",
         "x": [
          271
         ],
         "xaxis": "x",
         "y": [
          12
         ],
         "yaxis": "y"
        },
        {
         "hovertemplate": "<b>%{hovertext}</b><br><br>word=atuou<br>index=%{x}<br>count=%{marker.size}<extra></extra>",
         "hovertext": [
          "atuou"
         ],
         "legendgroup": "atuou",
         "marker": {
          "color": "#00cc96",
          "size": [
           12
          ],
          "sizemode": "area",
          "sizeref": 0.09583333333333334,
          "symbol": "circle"
         },
         "mode": "markers",
         "name": "atuou",
         "orientation": "v",
         "showlegend": true,
         "type": "scatter",
         "x": [
          272
         ],
         "xaxis": "x",
         "y": [
          12
         ],
         "yaxis": "y"
        },
        {
         "hovertemplate": "<b>%{hovertext}</b><br><br>word=utilizada<br>index=%{x}<br>count=%{marker.size}<extra></extra>",
         "hovertext": [
          "utilizada"
         ],
         "legendgroup": "utilizada",
         "marker": {
          "color": "#ab63fa",
          "size": [
           12
          ],
          "sizemode": "area",
          "sizeref": 0.09583333333333334,
          "symbol": "circle"
         },
         "mode": "markers",
         "name": "utilizada",
         "orientation": "v",
         "showlegend": true,
         "type": "scatter",
         "x": [
          273
         ],
         "xaxis": "x",
         "y": [
          12
         ],
         "yaxis": "y"
        },
        {
         "hovertemplate": "<b>%{hovertext}</b><br><br>word=instituto nacional<br>index=%{x}<br>count=%{marker.size}<extra></extra>",
         "hovertext": [
          "instituto nacional"
         ],
         "legendgroup": "instituto nacional",
         "marker": {
          "color": "#FFA15A",
          "size": [
           12
          ],
          "sizemode": "area",
          "sizeref": 0.09583333333333334,
          "symbol": "circle"
         },
         "mode": "markers",
         "name": "instituto nacional",
         "orientation": "v",
         "showlegend": true,
         "type": "scatter",
         "x": [
          274
         ],
         "xaxis": "x",
         "y": [
          12
         ],
         "yaxis": "y"
        },
        {
         "hovertemplate": "<b>%{hovertext}</b><br><br>word=assinatura<br>index=%{x}<br>count=%{marker.size}<extra></extra>",
         "hovertext": [
          "assinatura"
         ],
         "legendgroup": "assinatura",
         "marker": {
          "color": "#19d3f3",
          "size": [
           12
          ],
          "sizemode": "area",
          "sizeref": 0.09583333333333334,
          "symbol": "circle"
         },
         "mode": "markers",
         "name": "assinatura",
         "orientation": "v",
         "showlegend": true,
         "type": "scatter",
         "x": [
          275
         ],
         "xaxis": "x",
         "y": [
          12
         ],
         "yaxis": "y"
        },
        {
         "hovertemplate": "<b>%{hovertext}</b><br><br>word=comercialidade<br>index=%{x}<br>count=%{marker.size}<extra></extra>",
         "hovertext": [
          "comercialidade"
         ],
         "legendgroup": "comercialidade",
         "marker": {
          "color": "#FF6692",
          "size": [
           12
          ],
          "sizemode": "area",
          "sizeref": 0.09583333333333334,
          "symbol": "circle"
         },
         "mode": "markers",
         "name": "comercialidade",
         "orientation": "v",
         "showlegend": true,
         "type": "scatter",
         "x": [
          276
         ],
         "xaxis": "x",
         "y": [
          12
         ],
         "yaxis": "y"
        },
        {
         "hovertemplate": "<b>%{hovertext}</b><br><br>word=irregular<br>index=%{x}<br>count=%{marker.size}<extra></extra>",
         "hovertext": [
          "irregular"
         ],
         "legendgroup": "irregular",
         "marker": {
          "color": "#B6E880",
          "size": [
           12
          ],
          "sizemode": "area",
          "sizeref": 0.09583333333333334,
          "symbol": "circle"
         },
         "mode": "markers",
         "name": "irregular",
         "orientation": "v",
         "showlegend": true,
         "type": "scatter",
         "x": [
          277
         ],
         "xaxis": "x",
         "y": [
          12
         ],
         "yaxis": "y"
        },
        {
         "hovertemplate": "<b>%{hovertext}</b><br><br>word=comercializar etanol<br>index=%{x}<br>count=%{marker.size}<extra></extra>",
         "hovertext": [
          "comercializar etanol"
         ],
         "legendgroup": "comercializar etanol",
         "marker": {
          "color": "#FF97FF",
          "size": [
           12
          ],
          "sizemode": "area",
          "sizeref": 0.09583333333333334,
          "symbol": "circle"
         },
         "mode": "markers",
         "name": "comercializar etanol",
         "orientation": "v",
         "showlegend": true,
         "type": "scatter",
         "x": [
          278
         ],
         "xaxis": "x",
         "y": [
          12
         ],
         "yaxis": "y"
        },
        {
         "hovertemplate": "<b>%{hovertext}</b><br><br>word=localizados<br>index=%{x}<br>count=%{marker.size}<extra></extra>",
         "hovertext": [
          "localizados"
         ],
         "legendgroup": "localizados",
         "marker": {
          "color": "#FECB52",
          "size": [
           12
          ],
          "sizemode": "area",
          "sizeref": 0.09583333333333334,
          "symbol": "circle"
         },
         "mode": "markers",
         "name": "localizados",
         "orientation": "v",
         "showlegend": true,
         "type": "scatter",
         "x": [
          279
         ],
         "xaxis": "x",
         "y": [
          12
         ],
         "yaxis": "y"
        }
       ],
       "layout": {
        "height": 750,
        "legend": {
         "itemsizing": "constant",
         "title": {
          "text": "word"
         },
         "tracegroupgap": 0
        },
        "template": {
         "data": {
          "bar": [
           {
            "error_x": {
             "color": "#2a3f5f"
            },
            "error_y": {
             "color": "#2a3f5f"
            },
            "marker": {
             "line": {
              "color": "#E5ECF6",
              "width": 0.5
             },
             "pattern": {
              "fillmode": "overlay",
              "size": 10,
              "solidity": 0.2
             }
            },
            "type": "bar"
           }
          ],
          "barpolar": [
           {
            "marker": {
             "line": {
              "color": "#E5ECF6",
              "width": 0.5
             },
             "pattern": {
              "fillmode": "overlay",
              "size": 10,
              "solidity": 0.2
             }
            },
            "type": "barpolar"
           }
          ],
          "carpet": [
           {
            "aaxis": {
             "endlinecolor": "#2a3f5f",
             "gridcolor": "white",
             "linecolor": "white",
             "minorgridcolor": "white",
             "startlinecolor": "#2a3f5f"
            },
            "baxis": {
             "endlinecolor": "#2a3f5f",
             "gridcolor": "white",
             "linecolor": "white",
             "minorgridcolor": "white",
             "startlinecolor": "#2a3f5f"
            },
            "type": "carpet"
           }
          ],
          "choropleth": [
           {
            "colorbar": {
             "outlinewidth": 0,
             "ticks": ""
            },
            "type": "choropleth"
           }
          ],
          "contour": [
           {
            "colorbar": {
             "outlinewidth": 0,
             "ticks": ""
            },
            "colorscale": [
             [
              0,
              "#0d0887"
             ],
             [
              0.1111111111111111,
              "#46039f"
             ],
             [
              0.2222222222222222,
              "#7201a8"
             ],
             [
              0.3333333333333333,
              "#9c179e"
             ],
             [
              0.4444444444444444,
              "#bd3786"
             ],
             [
              0.5555555555555556,
              "#d8576b"
             ],
             [
              0.6666666666666666,
              "#ed7953"
             ],
             [
              0.7777777777777778,
              "#fb9f3a"
             ],
             [
              0.8888888888888888,
              "#fdca26"
             ],
             [
              1,
              "#f0f921"
             ]
            ],
            "type": "contour"
           }
          ],
          "contourcarpet": [
           {
            "colorbar": {
             "outlinewidth": 0,
             "ticks": ""
            },
            "type": "contourcarpet"
           }
          ],
          "heatmap": [
           {
            "colorbar": {
             "outlinewidth": 0,
             "ticks": ""
            },
            "colorscale": [
             [
              0,
              "#0d0887"
             ],
             [
              0.1111111111111111,
              "#46039f"
             ],
             [
              0.2222222222222222,
              "#7201a8"
             ],
             [
              0.3333333333333333,
              "#9c179e"
             ],
             [
              0.4444444444444444,
              "#bd3786"
             ],
             [
              0.5555555555555556,
              "#d8576b"
             ],
             [
              0.6666666666666666,
              "#ed7953"
             ],
             [
              0.7777777777777778,
              "#fb9f3a"
             ],
             [
              0.8888888888888888,
              "#fdca26"
             ],
             [
              1,
              "#f0f921"
             ]
            ],
            "type": "heatmap"
           }
          ],
          "heatmapgl": [
           {
            "colorbar": {
             "outlinewidth": 0,
             "ticks": ""
            },
            "colorscale": [
             [
              0,
              "#0d0887"
             ],
             [
              0.1111111111111111,
              "#46039f"
             ],
             [
              0.2222222222222222,
              "#7201a8"
             ],
             [
              0.3333333333333333,
              "#9c179e"
             ],
             [
              0.4444444444444444,
              "#bd3786"
             ],
             [
              0.5555555555555556,
              "#d8576b"
             ],
             [
              0.6666666666666666,
              "#ed7953"
             ],
             [
              0.7777777777777778,
              "#fb9f3a"
             ],
             [
              0.8888888888888888,
              "#fdca26"
             ],
             [
              1,
              "#f0f921"
             ]
            ],
            "type": "heatmapgl"
           }
          ],
          "histogram": [
           {
            "marker": {
             "pattern": {
              "fillmode": "overlay",
              "size": 10,
              "solidity": 0.2
             }
            },
            "type": "histogram"
           }
          ],
          "histogram2d": [
           {
            "colorbar": {
             "outlinewidth": 0,
             "ticks": ""
            },
            "colorscale": [
             [
              0,
              "#0d0887"
             ],
             [
              0.1111111111111111,
              "#46039f"
             ],
             [
              0.2222222222222222,
              "#7201a8"
             ],
             [
              0.3333333333333333,
              "#9c179e"
             ],
             [
              0.4444444444444444,
              "#bd3786"
             ],
             [
              0.5555555555555556,
              "#d8576b"
             ],
             [
              0.6666666666666666,
              "#ed7953"
             ],
             [
              0.7777777777777778,
              "#fb9f3a"
             ],
             [
              0.8888888888888888,
              "#fdca26"
             ],
             [
              1,
              "#f0f921"
             ]
            ],
            "type": "histogram2d"
           }
          ],
          "histogram2dcontour": [
           {
            "colorbar": {
             "outlinewidth": 0,
             "ticks": ""
            },
            "colorscale": [
             [
              0,
              "#0d0887"
             ],
             [
              0.1111111111111111,
              "#46039f"
             ],
             [
              0.2222222222222222,
              "#7201a8"
             ],
             [
              0.3333333333333333,
              "#9c179e"
             ],
             [
              0.4444444444444444,
              "#bd3786"
             ],
             [
              0.5555555555555556,
              "#d8576b"
             ],
             [
              0.6666666666666666,
              "#ed7953"
             ],
             [
              0.7777777777777778,
              "#fb9f3a"
             ],
             [
              0.8888888888888888,
              "#fdca26"
             ],
             [
              1,
              "#f0f921"
             ]
            ],
            "type": "histogram2dcontour"
           }
          ],
          "mesh3d": [
           {
            "colorbar": {
             "outlinewidth": 0,
             "ticks": ""
            },
            "type": "mesh3d"
           }
          ],
          "parcoords": [
           {
            "line": {
             "colorbar": {
              "outlinewidth": 0,
              "ticks": ""
             }
            },
            "type": "parcoords"
           }
          ],
          "pie": [
           {
            "automargin": true,
            "type": "pie"
           }
          ],
          "scatter": [
           {
            "marker": {
             "colorbar": {
              "outlinewidth": 0,
              "ticks": ""
             }
            },
            "type": "scatter"
           }
          ],
          "scatter3d": [
           {
            "line": {
             "colorbar": {
              "outlinewidth": 0,
              "ticks": ""
             }
            },
            "marker": {
             "colorbar": {
              "outlinewidth": 0,
              "ticks": ""
             }
            },
            "type": "scatter3d"
           }
          ],
          "scattercarpet": [
           {
            "marker": {
             "colorbar": {
              "outlinewidth": 0,
              "ticks": ""
             }
            },
            "type": "scattercarpet"
           }
          ],
          "scattergeo": [
           {
            "marker": {
             "colorbar": {
              "outlinewidth": 0,
              "ticks": ""
             }
            },
            "type": "scattergeo"
           }
          ],
          "scattergl": [
           {
            "marker": {
             "colorbar": {
              "outlinewidth": 0,
              "ticks": ""
             }
            },
            "type": "scattergl"
           }
          ],
          "scattermapbox": [
           {
            "marker": {
             "colorbar": {
              "outlinewidth": 0,
              "ticks": ""
             }
            },
            "type": "scattermapbox"
           }
          ],
          "scatterpolar": [
           {
            "marker": {
             "colorbar": {
              "outlinewidth": 0,
              "ticks": ""
             }
            },
            "type": "scatterpolar"
           }
          ],
          "scatterpolargl": [
           {
            "marker": {
             "colorbar": {
              "outlinewidth": 0,
              "ticks": ""
             }
            },
            "type": "scatterpolargl"
           }
          ],
          "scatterternary": [
           {
            "marker": {
             "colorbar": {
              "outlinewidth": 0,
              "ticks": ""
             }
            },
            "type": "scatterternary"
           }
          ],
          "surface": [
           {
            "colorbar": {
             "outlinewidth": 0,
             "ticks": ""
            },
            "colorscale": [
             [
              0,
              "#0d0887"
             ],
             [
              0.1111111111111111,
              "#46039f"
             ],
             [
              0.2222222222222222,
              "#7201a8"
             ],
             [
              0.3333333333333333,
              "#9c179e"
             ],
             [
              0.4444444444444444,
              "#bd3786"
             ],
             [
              0.5555555555555556,
              "#d8576b"
             ],
             [
              0.6666666666666666,
              "#ed7953"
             ],
             [
              0.7777777777777778,
              "#fb9f3a"
             ],
             [
              0.8888888888888888,
              "#fdca26"
             ],
             [
              1,
              "#f0f921"
             ]
            ],
            "type": "surface"
           }
          ],
          "table": [
           {
            "cells": {
             "fill": {
              "color": "#EBF0F8"
             },
             "line": {
              "color": "white"
             }
            },
            "header": {
             "fill": {
              "color": "#C8D4E3"
             },
             "line": {
              "color": "white"
             }
            },
            "type": "table"
           }
          ]
         },
         "layout": {
          "annotationdefaults": {
           "arrowcolor": "#2a3f5f",
           "arrowhead": 0,
           "arrowwidth": 1
          },
          "autotypenumbers": "strict",
          "coloraxis": {
           "colorbar": {
            "outlinewidth": 0,
            "ticks": ""
           }
          },
          "colorscale": {
           "diverging": [
            [
             0,
             "#8e0152"
            ],
            [
             0.1,
             "#c51b7d"
            ],
            [
             0.2,
             "#de77ae"
            ],
            [
             0.3,
             "#f1b6da"
            ],
            [
             0.4,
             "#fde0ef"
            ],
            [
             0.5,
             "#f7f7f7"
            ],
            [
             0.6,
             "#e6f5d0"
            ],
            [
             0.7,
             "#b8e186"
            ],
            [
             0.8,
             "#7fbc41"
            ],
            [
             0.9,
             "#4d9221"
            ],
            [
             1,
             "#276419"
            ]
           ],
           "sequential": [
            [
             0,
             "#0d0887"
            ],
            [
             0.1111111111111111,
             "#46039f"
            ],
            [
             0.2222222222222222,
             "#7201a8"
            ],
            [
             0.3333333333333333,
             "#9c179e"
            ],
            [
             0.4444444444444444,
             "#bd3786"
            ],
            [
             0.5555555555555556,
             "#d8576b"
            ],
            [
             0.6666666666666666,
             "#ed7953"
            ],
            [
             0.7777777777777778,
             "#fb9f3a"
            ],
            [
             0.8888888888888888,
             "#fdca26"
            ],
            [
             1,
             "#f0f921"
            ]
           ],
           "sequentialminus": [
            [
             0,
             "#0d0887"
            ],
            [
             0.1111111111111111,
             "#46039f"
            ],
            [
             0.2222222222222222,
             "#7201a8"
            ],
            [
             0.3333333333333333,
             "#9c179e"
            ],
            [
             0.4444444444444444,
             "#bd3786"
            ],
            [
             0.5555555555555556,
             "#d8576b"
            ],
            [
             0.6666666666666666,
             "#ed7953"
            ],
            [
             0.7777777777777778,
             "#fb9f3a"
            ],
            [
             0.8888888888888888,
             "#fdca26"
            ],
            [
             1,
             "#f0f921"
            ]
           ]
          },
          "colorway": [
           "#636efa",
           "#EF553B",
           "#00cc96",
           "#ab63fa",
           "#FFA15A",
           "#19d3f3",
           "#FF6692",
           "#B6E880",
           "#FF97FF",
           "#FECB52"
          ],
          "font": {
           "color": "#2a3f5f"
          },
          "geo": {
           "bgcolor": "white",
           "lakecolor": "white",
           "landcolor": "#E5ECF6",
           "showlakes": true,
           "showland": true,
           "subunitcolor": "white"
          },
          "hoverlabel": {
           "align": "left"
          },
          "hovermode": "closest",
          "mapbox": {
           "style": "light"
          },
          "paper_bgcolor": "white",
          "plot_bgcolor": "#E5ECF6",
          "polar": {
           "angularaxis": {
            "gridcolor": "white",
            "linecolor": "white",
            "ticks": ""
           },
           "bgcolor": "#E5ECF6",
           "radialaxis": {
            "gridcolor": "white",
            "linecolor": "white",
            "ticks": ""
           }
          },
          "scene": {
           "xaxis": {
            "backgroundcolor": "#E5ECF6",
            "gridcolor": "white",
            "gridwidth": 2,
            "linecolor": "white",
            "showbackground": true,
            "ticks": "",
            "zerolinecolor": "white"
           },
           "yaxis": {
            "backgroundcolor": "#E5ECF6",
            "gridcolor": "white",
            "gridwidth": 2,
            "linecolor": "white",
            "showbackground": true,
            "ticks": "",
            "zerolinecolor": "white"
           },
           "zaxis": {
            "backgroundcolor": "#E5ECF6",
            "gridcolor": "white",
            "gridwidth": 2,
            "linecolor": "white",
            "showbackground": true,
            "ticks": "",
            "zerolinecolor": "white"
           }
          },
          "shapedefaults": {
           "line": {
            "color": "#2a3f5f"
           }
          },
          "ternary": {
           "aaxis": {
            "gridcolor": "white",
            "linecolor": "white",
            "ticks": ""
           },
           "baxis": {
            "gridcolor": "white",
            "linecolor": "white",
            "ticks": ""
           },
           "bgcolor": "#E5ECF6",
           "caxis": {
            "gridcolor": "white",
            "linecolor": "white",
            "ticks": ""
           }
          },
          "title": {
           "x": 0.05
          },
          "xaxis": {
           "automargin": true,
           "gridcolor": "white",
           "linecolor": "white",
           "ticks": "",
           "title": {
            "standoff": 15
           },
           "zerolinecolor": "white",
           "zerolinewidth": 2
          },
          "yaxis": {
           "automargin": true,
           "gridcolor": "white",
           "linecolor": "white",
           "ticks": "",
           "title": {
            "standoff": 15
           },
           "zerolinecolor": "white",
           "zerolinewidth": 2
          }
         }
        },
        "title": {
         "text": "Author: ANP │ Theme: Noticias │ DF Date Rage: from [05/02/2022 at 09:13:00] to [05/06/2022 at 19:22:00]"
        },
        "width": 1500,
        "xaxis": {
         "anchor": "y",
         "domain": [
          0,
          1
         ],
         "title": {
          "text": "index"
         },
         "type": "log"
        },
        "yaxis": {
         "anchor": "x",
         "domain": [
          0,
          1
         ],
         "title": {
          "text": "count"
         }
        }
       }
      }
     },
     "metadata": {},
     "output_type": "display_data"
    },
    {
     "data": {
      "text/plain": [
       "'anp.html'"
      ]
     },
     "execution_count": 17,
     "metadata": {},
     "output_type": "execute_result"
    }
   ],
   "source": [
    "## generating a scatterplot from the plotfy library\n",
    "fig = px.scatter(df2.query('count > 10'),\n",
    "                y=\"count\",\n",
    "                size=\"count\",\n",
    "                color=\"word\",\n",
    "                hover_name=\"word\",\n",
    "                log_x=True,\n",
    "                title = wordcloud_title,\n",
    "                width=1500, \n",
    "                height=750,\n",
    "                size_max=60)\n",
    "fig.show()\n",
    "\n",
    "plt.offline.plot(fig, filename = search+'.html')"
   ]
  }
 ],
 "metadata": {
  "interpreter": {
   "hash": "b80af393ece9516bb574eaf2accc0f3996a7feeecd6bd1b55c66f68cb5cc8c2a"
  },
  "kernelspec": {
   "display_name": "Python 3.9.12 ('geo_env')",
   "language": "python",
   "name": "python3"
  },
  "language_info": {
   "codemirror_mode": {
    "name": "ipython",
    "version": 3
   },
   "file_extension": ".py",
   "mimetype": "text/x-python",
   "name": "python",
   "nbconvert_exporter": "python",
   "pygments_lexer": "ipython3",
   "version": "3.9.12"
  },
  "orig_nbformat": 4
 },
 "nbformat": 4,
 "nbformat_minor": 2
}
