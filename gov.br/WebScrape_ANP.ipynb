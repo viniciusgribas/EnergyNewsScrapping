{
 "cells": [
  {
   "cell_type": "code",
   "execution_count": 1,
   "metadata": {},
   "outputs": [
    {
     "name": "stderr",
     "output_type": "stream",
     "text": [
      "[nltk_data] Downloading package floresta to\n",
      "[nltk_data]     C:\\Users\\vinic\\AppData\\Roaming\\nltk_data...\n",
      "[nltk_data]   Package floresta is already up-to-date!\n"
     ]
    }
   ],
   "source": [
    "# import the libraries\n",
    "\n",
    "## WebScrapping Libraries\n",
    "from bs4 import BeautifulSoup\n",
    "import requests\n",
    "import urllib.request\n",
    "\n",
    "## NLP and ML Libraries\n",
    "import nltk\n",
    "from newspaper import Article\n",
    "nltk.download('floresta') # \"Portuguese Treebank\" divides the text into a list of sentences using ML algorithm\n",
    "from nltk.corpus import stopwords\n",
    "from wordcloud import WordCloud, STOPWORDS, ImageColorGenerator\n",
    "\n",
    "## Data Frame manipulation and Analytics Libraries\n",
    "import pandas as pd\n",
    "import time\n",
    "import matplotlib.pyplot as py\n",
    "import plotly_express as px\n",
    "import plotly as plt\n",
    "import datetime\n"
   ]
  },
  {
   "cell_type": "code",
   "execution_count": 2,
   "metadata": {},
   "outputs": [],
   "source": [
    "def scrape_anp_website(search,page):\n",
    "    page_theme = search\n",
    "\n",
    "\n",
    "    if page == 1:\n",
    "        page = 0\n",
    "    else:\n",
    "        page = page*20\n",
    "\n",
    "    page_number = str(page)\n",
    "    url = 'https://www.gov.br/anp/pt-br/canais_atendimento/imprensa/noticias-comunicados?b_start:int=' + page_number +'/' \n",
    "    webpage = requests.get(url)\n",
    "    soup = BeautifulSoup(webpage.text, 'html.parser')\n",
    "    article_links = soup.find_all('h2', attrs= {'class' : 'titulo'})\n",
    "\n",
    "    for i in article_links:\n",
    "        temp=0\n",
    "        temp = i.find('a').get('href')\n",
    "        links.append(temp)\n",
    "\n",
    "    for i in range(len(links)):  # NLP Process: Scrapes the article, download the information and parse a nlp into a interable object\n",
    "        article = Article(links[i]) # Scrapes the Article\n",
    "        article.download()\n",
    "        article.parse()\n",
    "        article.nlp()\n",
    "\n",
    "        # Interact with the articles\n",
    "        titles.append(article.title)\n",
    "        try:\n",
    "            tags.append(BeautifulSoup(article.html, 'html.parser').find(id=\"form-widgets-categoria\").get_text())\n",
    "        except:\n",
    "            tags.append(BeautifulSoup(article.html, 'html.parser').find(id=\"content\").find('p', attrs= {'class':'nitfSubtitle'}).get_text())\n",
    "        texts.append(article.text) \n",
    "        summarys.append(article.meta_description) \n",
    "        authors.append(BeautifulSoup(article.html, 'html.parser').find(id=\"content\").find('p', attrs= {'class':'nitfSubtitle'}).get_text()) \n",
    "        themes.append(search)\n",
    "        dates.append(BeautifulSoup(article.html, 'html.parser').find(id=\"plone-document-byline\").get_text()[16:32])\n",
    "\n",
    "        print(\n",
    "        len(authors),  \n",
    "        len(links), \n",
    "        len(themes), \n",
    "        len(tags), \n",
    "        len(titles),\n",
    "        len(dates), \n",
    "        len(texts), \n",
    "        len(summarys)\n",
    "        )\n",
    "        \n",
    "        if len(authors) == len(links):\n",
    "            break\n",
    "    "
   ]
  },
  {
   "cell_type": "code",
   "execution_count": 9,
   "metadata": {},
   "outputs": [
    {
     "name": "stdout",
     "output_type": "stream",
     "text": [
      "1 20 1 1 1 1 1 1\n",
      "2 20 2 2 2 2 2 2\n",
      "3 20 3 3 3 3 3 3\n",
      "4 20 4 4 4 4 4 4\n",
      "5 20 5 5 5 5 5 5\n",
      "6 20 6 6 6 6 6 6\n",
      "7 20 7 7 7 7 7 7\n",
      "8 20 8 8 8 8 8 8\n",
      "9 20 9 9 9 9 9 9\n",
      "10 20 10 10 10 10 10 10\n",
      "11 20 11 11 11 11 11 11\n",
      "12 20 12 12 12 12 12 12\n",
      "13 20 13 13 13 13 13 13\n",
      "14 20 14 14 14 14 14 14\n",
      "15 20 15 15 15 15 15 15\n",
      "16 20 16 16 16 16 16 16\n",
      "17 20 17 17 17 17 17 17\n",
      "18 20 18 18 18 18 18 18\n",
      "19 20 19 19 19 19 19 19\n",
      "20 20 20 20 20 20 20 20\n",
      "21 40 21 21 21 21 21 21\n",
      "22 40 22 22 22 22 22 22\n",
      "23 40 23 23 23 23 23 23\n",
      "24 40 24 24 24 24 24 24\n",
      "25 40 25 25 25 25 25 25\n",
      "26 40 26 26 26 26 26 26\n",
      "27 40 27 27 27 27 27 27\n",
      "28 40 28 28 28 28 28 28\n",
      "29 40 29 29 29 29 29 29\n",
      "30 40 30 30 30 30 30 30\n",
      "31 40 31 31 31 31 31 31\n",
      "32 40 32 32 32 32 32 32\n",
      "33 40 33 33 33 33 33 33\n",
      "34 40 34 34 34 34 34 34\n",
      "35 40 35 35 35 35 35 35\n",
      "36 40 36 36 36 36 36 36\n",
      "37 40 37 37 37 37 37 37\n",
      "38 40 38 38 38 38 38 38\n",
      "39 40 39 39 39 39 39 39\n",
      "40 40 40 40 40 40 40 40\n",
      "41 60 41 41 41 41 41 41\n",
      "42 60 42 42 42 42 42 42\n",
      "43 60 43 43 43 43 43 43\n",
      "44 60 44 44 44 44 44 44\n",
      "45 60 45 45 45 45 45 45\n",
      "46 60 46 46 46 46 46 46\n",
      "47 60 47 47 47 47 47 47\n",
      "48 60 48 48 48 48 48 48\n",
      "49 60 49 49 49 49 49 49\n",
      "50 60 50 50 50 50 50 50\n",
      "51 60 51 51 51 51 51 51\n",
      "52 60 52 52 52 52 52 52\n",
      "53 60 53 53 53 53 53 53\n",
      "54 60 54 54 54 54 54 54\n",
      "55 60 55 55 55 55 55 55\n",
      "56 60 56 56 56 56 56 56\n",
      "57 60 57 57 57 57 57 57\n",
      "58 60 58 58 58 58 58 58\n",
      "59 60 59 59 59 59 59 59\n",
      "60 60 60 60 60 60 60 60\n"
     ]
    }
   ],
   "source": [
    "\n",
    "themes = []\n",
    "tags = []\n",
    "titles = []\n",
    "authors = []\n",
    "dates = []\n",
    "links = []\n",
    "texts = []\n",
    "summarys = []\n",
    "search = 'anp'\n",
    "n = 3\n",
    "\n",
    "# performs the scrapping with the chosen search on the given pages\n",
    "for i in range(1 , n+1):\n",
    "\n",
    "    #applies the function\n",
    "    scrape_anp_website(search, i )"
   ]
  },
  {
   "cell_type": "code",
   "execution_count": 4,
   "metadata": {},
   "outputs": [
    {
     "name": "stdout",
     "output_type": "stream",
     "text": [
      "DF Date Rage: from [05/02/2022 at 09:13:00] to [05/06/2022 at 19:22:00]\n"
     ]
    },
    {
     "data": {
      "text/plain": [
       "dates       0\n",
       "themes      0\n",
       "authors     0\n",
       "tags        0\n",
       "titles      0\n",
       "summarys    0\n",
       "texts       0\n",
       "links       0\n",
       "dtype: int64"
      ]
     },
     "execution_count": 4,
     "metadata": {},
     "output_type": "execute_result"
    }
   ],
   "source": [
    "# creates a dataframe based on the stored lists\n",
    "df = pd.DataFrame( columns= ['dates','themes','authors','tags','titles','summarys','texts','links' ] )\n",
    "df.dates = dates\n",
    "df.dates = pd.to_datetime(df.dates)\n",
    "df.authors = authors\n",
    "df.tags = tags\n",
    "df.titles = titles\n",
    "df.summarys = summarys\n",
    "df.texts = texts\n",
    "df.links = links\n",
    "df.themes = themes\n",
    "\n",
    "# check the analyzed dates\n",
    "\n",
    "df_filtered = df.loc[(df['dates'] > '2022-01-01')]\n",
    "\n",
    "date_min = str(df_filtered.dates.dt.date.min().strftime('%d/%m/%Y'))+' at '+ str(df_filtered.dates.dt.time.min())\n",
    "date_max = str(df_filtered.dates.dt.date.max().strftime('%d/%m/%Y'))+' at '+ str(df_filtered.dates.dt.time.max())\n",
    "df_date_range = 'DF Date Rage: from ['+ date_min + '] to [' + date_max + ']'\n",
    "\n",
    "print(df_date_range)\n",
    "\n",
    "# checks if the dataframe has null values\n",
    "df_filtered.isnull().sum()"
   ]
  },
  {
   "cell_type": "code",
   "execution_count": 5,
   "metadata": {},
   "outputs": [],
   "source": [
    "# NLP: stopword parametres\n",
    "\n",
    "## github patch with Brazilian stopwords\n",
    "PORTUGUESE_STOPWORDS_PATCH_1 = r'https://gist.githubusercontent.com/alopes/5358189/raw/2107d809cca6b83ce3d8e04dbd9463283025284f/stopwords.txt' ##online patch\n",
    "response_PATCH = requests.get(PORTUGUESE_STOPWORDS_PATCH_1) ## accessing via webscrapping\n",
    "pt_stopwords = response_PATCH.text ## assigning to a variable\n",
    "pt_stopwords = pt_stopwords.replace(\" \",\"\").splitlines() ## manipulating extraction\n",
    "\n",
    "# WordCloud text and additional parameters\n",
    "\n",
    "text = \" \".join(s.lower() for s in df_filtered.texts) # lowercasing all the text words\n",
    "wordcloud_theme = df_filtered.themes[0].lower() # get the search theme\n",
    "wordcloud_search_theme = search\n",
    "wordcloud_title = ('Author: ANP' +' │ Theme: ' + 'Noticias' +' │ '+ df_date_range )# setting the title\n",
    "\n",
    "\n",
    "## manual stopwords input\n",
    "manual_stopwords = [wordcloud_theme,\n",
    "    'cerca',\n",
    "    'país',\n",
    "    'disse',\n",
    "    'agora',\n",
    "    'ouvir',\n",
    "    'notícia',\n",
    "    'ano' ,\n",
    "    'entanto',\n",
    "    'episódio',\n",
    "    'ainda',\n",
    "    'acordo',\n",
    "    'demanda',\n",
    "    'maior',\n",
    "    'dia',\n",
    "    'segundo',\n",
    "    'pode',\n",
    "    'desde',\n",
    "    'todo',\n",
    "    'sobre',\n",
    "    'getty',\n",
    "    'getty images',\n",
    "    'anadolu',\n",
    "    'images',\n",
    "    'agency',\n",
    "    'ante',\n",
    "    'após',\n",
    "    'segunda',\n",
    "    'terça',\n",
    "    'quarta',\n",
    "    'quinta',\n",
    "    'sexta',\n",
    "    'sabado',\n",
    "    'domingo',\n",
    "    'feira',\n",
    "    'enquanto',\n",
    "    'deve',\n",
    "    'semana',\n",
    "    'nesta',\n",
    "    'caso',\n",
    "    'diz',\n",
    "    'hoje',\n",
    "    'brasil',\n",
    "    'empresa',\n",
    "    'grande',\n",
    "    'fonte',\n",
    "    'renovável',\n",
    "    'afirma',\n",
    "    'área',\n",
    "    'uso',\n",
    "    'capacidade',\n",
    "    'apenas',\n",
    "    'partir',\n",
    "    'projeto',\n",
    "    'cnn',\n",
    "    'passado',\n",
    "    'partir',\n",
    "    'porque',\n",
    "    'custo',\n",
    "    'exemplo',\n",
    "    'especialista',\n",
    "    'skydweller',\n",
    "    'vai',\n",
    "    'outra',\n",
    "    'gera',\n",
    "    'loja',\n",
    "    'cidade',\n",
    "    'autuada',\n",
    "    'dias',\n",
    "    'quatro',\n",
    "    'bico',\n",
    "    'mês',\n",
    "    'partilha',\n",
    "    'dois',\n",
    "    'possuir',\n",
    "    'três',\n",
    "    'nº',\n",
    "    'duas',\n",
    "    'outro',\n",
    "    'sendo',\n",
    "    'atividade',\n",
    "    'realizada',\n",
    "    'agência',\n",
    "    'informações']\n",
    "\n",
    "## stopwords used\n",
    "stop_words  = list(pt_stopwords) + list(STOPWORDS) + list(manual_stopwords) \n",
    "\n",
    "\n",
    "\n",
    "# WordCloud NLP algorithm\n",
    "\n",
    "## WordCloud Figure\n",
    "wordcloud = WordCloud(min_font_size=50, \n",
    "               max_font_size=500, \n",
    "               background_color='white', \n",
    "               mode=\"RGB\",\n",
    "               colormap='tab10',\n",
    "               stopwords=stop_words,\n",
    "               width=3000, \n",
    "               height=1500,\n",
    "               normalize_plurals= True\n",
    ").generate(text)\n",
    "\n",
    "## WordCloud Text Count\n",
    "wordcloud_text = WordCloud(min_font_size=50, \n",
    "               max_font_size=500, \n",
    "               background_color='white', \n",
    "               mode=\"RGB\",\n",
    "               colormap='tab10',\n",
    "               stopwords=stop_words,\n",
    "               width=3000, \n",
    "               height=1500,\n",
    "               normalize_plurals= True\n",
    ").process_text(text)"
   ]
  },
  {
   "cell_type": "code",
   "execution_count": 6,
   "metadata": {},
   "outputs": [
    {
     "data": {
      "image/png": "[encoded data removed]",
      "text/plain": [
       "<Figure size 1440x720 with 1 Axes>"
      ]
     },
     "metadata": {
      "needs_background": "light"
     },
     "output_type": "display_data"
    },
    {
     "data": {
      "text/plain": [
       "<Figure size 432x288 with 0 Axes>"
      ]
     },
     "metadata": {},
     "output_type": "display_data"
    }
   ],
   "source": [
    "# Ploting the WordCloud figure\n",
    "py.figure(figsize=(20,10))\n",
    "py.title(wordcloud_title, fontsize=10, color=\"red\")\n",
    "py.imshow(wordcloud, interpolation=\"bilinear\")\n",
    "py.axis(\"off\")\n",
    "\n",
    "fig1 = py.gcf()\n",
    "py.show()\n",
    "py.draw()\n",
    "fig1.savefig(search+'.png', dpi=100)\n",
    "\n",
    "\n"
   ]
  },
  {
   "cell_type": "code",
   "execution_count": 7,
   "metadata": {},
   "outputs": [],
   "source": [
    "# iterative scatter analysis with wordcloud words\n",
    "\n",
    "## creating a dataframe with the dictionary generated by the NLP algorithm\n",
    "df2 = pd.DataFrame.from_dict(wordcloud_text, orient='index') # generating a dataframe from a dictionary\n",
    "df2 = df2.rename(columns={0:'count'}) \n",
    "df2['word'] = df2.index\n",
    "df2 = df2.reset_index(drop=True)\n",
    "df2 = df2[['word','count']]\n",
    "df2.sort_values(by = ['count'],ascending = False,inplace = True, ignore_index = True)"
   ]
  },
  {
   "cell_type": "code",
   "execution_count": 8,
   "metadata": {},
   "outputs": [
    {
     "data": {
      "application/vnd.plotly.v1+json": {
       "config": {
        "plotlyServerURL": "https://plot.ly"
       },
       "data": [
        {
         "hovertemplate": "<b>%{hovertext}</b><br><br>word=combustíveis<br>index=%{x}<br>count=%{marker.size}<extra></extra>",
         "hovertext": [
          "combustíveis"
         ],
         "legendgroup": "combustíveis",
         "marker": {
          "color": "#636efa",
          "size": [
           127
          ],
          "sizemode": "area",
          "sizeref": 0.035277777777777776,
          "symbol": "circle"
         },
         "mode": "markers",
         "name": "combustíveis",
         "orientation": "v",
         "showlegend": true,
         "type": "scatter",
         "x": [
          0
         ],
         "xaxis": "x",
         "y": [
          127
         ],
         "yaxis": "y"
        },
        {
         "hovertemplate": "<b>%{hovertext}</b><br><br>word=posto<br>index=%{x}<br>count=%{marker.size}<extra></extra>",
         "hovertext": [
          "posto"
         ],
         "legendgroup": "posto",
         "marker": {
          "color": "#EF553B",
          "size": [
           127
          ],
          "sizemode": "area",
          "sizeref": 0.035277777777777776,
          "symbol": "circle"
         },
         "mode": "markers",
         "name": "posto",
         "orientation": "v",
         "showlegend": true,
         "type": "scatter",
         "x": [
          1
         ],
         "xaxis": "x",
         "y": [
          127
         ],
         "yaxis": "y"
        },
        {
         "hovertemplate": "<b>%{hovertext}</b><br><br>word=autuado<br>index=%{x}<br>count=%{marker.size}<extra></extra>",
         "hovertext": [
          "autuado"
         ],
         "legendgroup": "autuado",
         "marker": {
          "color": "#00cc96",
          "size": [
           87
          ],
          "sizemode": "area",
          "sizeref": 0.035277777777777776,
          "symbol": "circle"
         },
         "mode": "markers",
         "name": "autuado",
         "orientation": "v",
         "showlegend": true,
         "type": "scatter",
         "x": [
          2
         ],
         "xaxis": "x",
         "y": [
          87
         ],
         "yaxis": "y"
        },
        {
         "hovertemplate": "<b>%{hovertext}</b><br><br>word=produção<br>index=%{x}<br>count=%{marker.size}<extra></extra>",
         "hovertext": [
          "produção"
         ],
         "legendgroup": "produção",
         "marker": {
          "color": "#ab63fa",
          "size": [
           64
          ],
          "sizemode": "area",
          "sizeref": 0.035277777777777776,
          "symbol": "circle"
         },
         "mode": "markers",
         "name": "produção",
         "orientation": "v",
         "showlegend": true,
         "type": "scatter",
         "x": [
          3
         ],
         "xaxis": "x",
         "y": [
          64
         ],
         "yaxis": "y"
        },
        {
         "hovertemplate": "<b>%{hovertext}</b><br><br>word=revenda<br>index=%{x}<br>count=%{marker.size}<extra></extra>",
         "hovertext": [
          "revenda"
         ],
         "legendgroup": "revenda",
         "marker": {
          "color": "#FFA15A",
          "size": [
           62
          ],
          "sizemode": "area",
          "sizeref": 0.035277777777777776,
          "symbol": "circle"
         },
         "mode": "markers",
         "name": "revenda",
         "orientation": "v",
         "showlegend": true,
         "type": "scatter",
         "x": [
          4
         ],
         "xaxis": "x",
         "y": [
          62
         ],
         "yaxis": "y"
        },
        {
         "hovertemplate": "<b>%{hovertext}</b><br><br>word=glp<br>index=%{x}<br>count=%{marker.size}<extra></extra>",
         "hovertext": [
          "glp"
         ],
         "legendgroup": "glp",
         "marker": {
          "color": "#19d3f3",
          "size": [
           54
          ],
          "sizemode": "area",
          "sizeref": 0.035277777777777776,
          "symbol": "circle"
         },
         "mode": "markers",
         "name": "glp",
         "orientation": "v",
         "showlegend": true,
         "type": "scatter",
         "x": [
          5
         ],
         "xaxis": "x",
         "y": [
          54
         ],
         "yaxis": "y"
        },
        {
         "hovertemplate": "<b>%{hovertext}</b><br><br>word=fiscalização<br>index=%{x}<br>count=%{marker.size}<extra></extra>",
         "hovertext": [
          "fiscalização"
         ],
         "legendgroup": "fiscalização",
         "marker": {
          "color": "#FF6692",
          "size": [
           42
          ],
          "sizemode": "area",
          "sizeref": 0.035277777777777776,
          "symbol": "circle"
         },
         "mode": "markers",
         "name": "fiscalização",
         "orientation": "v",
         "showlegend": true,
         "type": "scatter",
         "x": [
          6
         ],
         "xaxis": "x",
         "y": [
          42
         ],
         "yaxis": "y"
        },
        {
         "hovertemplate": "<b>%{hovertext}</b><br><br>word=campo<br>index=%{x}<br>count=%{marker.size}<extra></extra>",
         "hovertext": [
          "campo"
         ],
         "legendgroup": "campo",
         "marker": {
          "color": "#B6E880",
          "size": [
           42
          ],
          "sizemode": "area",
          "sizeref": 0.035277777777777776,
          "symbol": "circle"
         },
         "mode": "markers",
         "name": "campo",
         "orientation": "v",
         "showlegend": true,
         "type": "scatter",
         "x": [
          7
         ],
         "xaxis": "x",
         "y": [
          42
         ],
         "yaxis": "y"
        },
        {
         "hovertemplate": "<b>%{hovertext}</b><br><br>word=ações<br>index=%{x}<br>count=%{marker.size}<extra></extra>",
         "hovertext": [
          "ações"
         ],
         "legendgroup": "ações",
         "marker": {
          "color": "#FF97FF",
          "size": [
           41
          ],
          "sizemode": "area",
          "sizeref": 0.035277777777777776,
          "symbol": "circle"
         },
         "mode": "markers",
         "name": "ações",
         "orientation": "v",
         "showlegend": true,
         "type": "scatter",
         "x": [
          8
         ],
         "xaxis": "x",
         "y": [
          41
         ],
         "yaxis": "y"
        },
        {
         "hovertemplate": "<b>%{hovertext}</b><br><br>word=petróleo<br>index=%{x}<br>count=%{marker.size}<extra></extra>",
         "hovertext": [
          "petróleo"
         ],
         "legendgroup": "petróleo",
         "marker": {
          "color": "#FECB52",
          "size": [
           34
          ],
          "sizemode": "area",
          "sizeref": 0.035277777777777776,
          "symbol": "circle"
         },
         "mode": "markers",
         "name": "petróleo",
         "orientation": "v",
         "showlegend": true,
         "type": "scatter",
         "x": [
          9
         ],
         "xaxis": "x",
         "y": [
          34
         ],
         "yaxis": "y"
        },
        {
         "hovertemplate": "<b>%{hovertext}</b><br><br>word=qualidade<br>index=%{x}<br>count=%{marker.size}<extra></extra>",
         "hovertext": [
          "qualidade"
         ],
         "legendgroup": "qualidade",
         "marker": {
          "color": "#636efa",
          "size": [
           34
          ],
          "sizemode": "area",
          "sizeref": 0.035277777777777776,
          "symbol": "circle"
         },
         "mode": "markers",
         "name": "qualidade",
         "orientation": "v",
         "showlegend": true,
         "type": "scatter",
         "x": [
          10
         ],
         "xaxis": "x",
         "y": [
          34
         ],
         "yaxis": "y"
        },
        {
         "hovertemplate": "<b>%{hovertext}</b><br><br>word=gás natural<br>index=%{x}<br>count=%{marker.size}<extra></extra>",
         "hovertext": [
          "gás natural"
         ],
         "legendgroup": "gás natural",
         "marker": {
          "color": "#EF553B",
          "size": [
           33
          ],
          "sizemode": "area",
          "sizeref": 0.035277777777777776,
          "symbol": "circle"
         },
         "mode": "markers",
         "name": "gás natural",
         "orientation": "v",
         "showlegend": true,
         "type": "scatter",
         "x": [
          11
         ],
         "xaxis": "x",
         "y": [
          33
         ],
         "yaxis": "y"
        },
        {
         "hovertemplate": "<b>%{hovertext}</b><br><br>word=município<br>index=%{x}<br>count=%{marker.size}<extra></extra>",
         "hovertext": [
          "município"
         ],
         "legendgroup": "município",
         "marker": {
          "color": "#00cc96",
          "size": [
           33
          ],
          "sizemode": "area",
          "sizeref": 0.035277777777777776,
          "symbol": "circle"
         },
         "mode": "markers",
         "name": "município",
         "orientation": "v",
         "showlegend": true,
         "type": "scatter",
         "x": [
          12
         ],
         "xaxis": "x",
         "y": [
          33
         ],
         "yaxis": "y"
        },
        {
         "hovertemplate": "<b>%{hovertext}</b><br><br>word=abastecimento<br>index=%{x}<br>count=%{marker.size}<extra></extra>",
         "hovertext": [
          "abastecimento"
         ],
         "legendgroup": "abastecimento",
         "marker": {
          "color": "#ab63fa",
          "size": [
           30
          ],
          "sizemode": "area",
          "sizeref": 0.035277777777777776,
          "symbol": "circle"
         },
         "mode": "markers",
         "name": "abastecimento",
         "orientation": "v",
         "showlegend": true,
         "type": "scatter",
         "x": [
          13
         ],
         "xaxis": "x",
         "y": [
          30
         ],
         "yaxis": "y"
        },
        {
         "hovertemplate": "<b>%{hovertext}</b><br><br>word=irregularidade<br>index=%{x}<br>count=%{marker.size}<extra></extra>",
         "hovertext": [
          "irregularidade"
         ],
         "legendgroup": "irregularidade",
         "marker": {
          "color": "#FFA15A",
          "size": [
           29
          ],
          "sizemode": "area",
          "sizeref": 0.035277777777777776,
          "symbol": "circle"
         },
         "mode": "markers",
         "name": "irregularidade",
         "orientation": "v",
         "showlegend": true,
         "type": "scatter",
         "x": [
          14
         ],
         "xaxis": "x",
         "y": [
          29
         ],
         "yaxis": "y"
        },
        {
         "hovertemplate": "<b>%{hovertext}</b><br><br>word=bomba<br>index=%{x}<br>count=%{marker.size}<extra></extra>",
         "hovertext": [
          "bomba"
         ],
         "legendgroup": "bomba",
         "marker": {
          "color": "#19d3f3",
          "size": [
           28
          ],
          "sizemode": "area",
          "sizeref": 0.035277777777777776,
          "symbol": "circle"
         },
         "mode": "markers",
         "name": "bomba",
         "orientation": "v",
         "showlegend": true,
         "type": "scatter",
         "x": [
          15
         ],
         "xaxis": "x",
         "y": [
          28
         ],
         "yaxis": "y"
        },
        {
         "hovertemplate": "<b>%{hovertext}</b><br><br>word=interditado<br>index=%{x}<br>count=%{marker.size}<extra></extra>",
         "hovertext": [
          "interditado"
         ],
         "legendgroup": "interditado",
         "marker": {
          "color": "#FF6692",
          "size": [
           28
          ],
          "sizemode": "area",
          "sizeref": 0.035277777777777776,
          "symbol": "circle"
         },
         "mode": "markers",
         "name": "interditado",
         "orientation": "v",
         "showlegend": true,
         "type": "scatter",
         "x": [
          16
         ],
         "xaxis": "x",
         "y": [
          28
         ],
         "yaxis": "y"
        },
        {
         "hovertemplate": "<b>%{hovertext}</b><br><br>word=estado<br>index=%{x}<br>count=%{marker.size}<extra></extra>",
         "hovertext": [
          "estado"
         ],
         "legendgroup": "estado",
         "marker": {
          "color": "#B6E880",
          "size": [
           27
          ],
          "sizemode": "area",
          "sizeref": 0.035277777777777776,
          "symbol": "circle"
         },
         "mode": "markers",
         "name": "estado",
         "orientation": "v",
         "showlegend": true,
         "type": "scatter",
         "x": [
          17
         ],
         "xaxis": "x",
         "y": [
          27
         ],
         "yaxis": "y"
        },
        {
         "hovertemplate": "<b>%{hovertext}</b><br><br>word=fiscais<br>index=%{x}<br>count=%{marker.size}<extra></extra>",
         "hovertext": [
          "fiscais"
         ],
         "legendgroup": "fiscais",
         "marker": {
          "color": "#FF97FF",
          "size": [
           26
          ],
          "sizemode": "area",
          "sizeref": 0.035277777777777776,
          "symbol": "circle"
         },
         "mode": "markers",
         "name": "fiscais",
         "orientation": "v",
         "showlegend": true,
         "type": "scatter",
         "x": [
          18
         ],
         "xaxis": "x",
         "y": [
          26
         ],
         "yaxis": "y"
        },
        {
         "hovertemplate": "<b>%{hovertext}</b><br><br>word=equipamento<br>index=%{x}<br>count=%{marker.size}<extra></extra>",
         "hovertext": [
          "equipamento"
         ],
         "legendgroup": "equipamento",
         "marker": {
          "color": "#FECB52",
          "size": [
           25
          ],
          "sizemode": "area",
          "sizeref": 0.035277777777777776,
          "symbol": "circle"
         },
         "mode": "markers",
         "name": "equipamento",
         "orientation": "v",
         "showlegend": true,
         "type": "scatter",
         "x": [
          19
         ],
         "xaxis": "x",
         "y": [
          25
         ],
         "yaxis": "y"
        },
        {
         "hovertemplate": "<b>%{hovertext}</b><br><br>word=etanol hidratado<br>index=%{x}<br>count=%{marker.size}<extra></extra>",
         "hovertext": [
          "etanol hidratado"
         ],
         "legendgroup": "etanol hidratado",
         "marker": {
          "color": "#636efa",
          "size": [
           25
          ],
          "sizemode": "area",
          "sizeref": 0.035277777777777776,
          "symbol": "circle"
         },
         "mode": "markers",
         "name": "etanol hidratado",
         "orientation": "v",
         "showlegend": true,
         "type": "scatter",
         "x": [
          20
         ],
         "xaxis": "x",
         "y": [
          25
         ],
         "yaxis": "y"
        },
        {
         "hovertemplate": "<b>%{hovertext}</b><br><br>word=combustível<br>index=%{x}<br>count=%{marker.size}<extra></extra>",
         "hovertext": [
          "combustível"
         ],
         "legendgroup": "combustível",
         "marker": {
          "color": "#EF553B",
          "size": [
           24
          ],
          "sizemode": "area",
          "sizeref": 0.035277777777777776,
          "symbol": "circle"
         },
         "mode": "markers",
         "name": "combustível",
         "orientation": "v",
         "showlegend": true,
         "type": "scatter",
         "x": [
          21
         ],
         "xaxis": "x",
         "y": [
          24
         ],
         "yaxis": "y"
        },
        {
         "hovertemplate": "<b>%{hovertext}</b><br><br>word=exploração<br>index=%{x}<br>count=%{marker.size}<extra></extra>",
         "hovertext": [
          "exploração"
         ],
         "legendgroup": "exploração",
         "marker": {
          "color": "#00cc96",
          "size": [
           24
          ],
          "sizemode": "area",
          "sizeref": 0.035277777777777776,
          "symbol": "circle"
         },
         "mode": "markers",
         "name": "exploração",
         "orientation": "v",
         "showlegend": true,
         "type": "scatter",
         "x": [
          22
         ],
         "xaxis": "x",
         "y": [
          24
         ],
         "yaxis": "y"
        },
        {
         "hovertemplate": "<b>%{hovertext}</b><br><br>word=segurança<br>index=%{x}<br>count=%{marker.size}<extra></extra>",
         "hovertext": [
          "segurança"
         ],
         "legendgroup": "segurança",
         "marker": {
          "color": "#ab63fa",
          "size": [
           23
          ],
          "sizemode": "area",
          "sizeref": 0.035277777777777776,
          "symbol": "circle"
         },
         "mode": "markers",
         "name": "segurança",
         "orientation": "v",
         "showlegend": true,
         "type": "scatter",
         "x": [
          23
         ],
         "xaxis": "x",
         "y": [
          23
         ],
         "yaxis": "y"
        },
        {
         "hovertemplate": "<b>%{hovertext}</b><br><br>word=resolução<br>index=%{x}<br>count=%{marker.size}<extra></extra>",
         "hovertext": [
          "resolução"
         ],
         "legendgroup": "resolução",
         "marker": {
          "color": "#FFA15A",
          "size": [
           23
          ],
          "sizemode": "area",
          "sizeref": 0.035277777777777776,
          "symbol": "circle"
         },
         "mode": "markers",
         "name": "resolução",
         "orientation": "v",
         "showlegend": true,
         "type": "scatter",
         "x": [
          24
         ],
         "xaxis": "x",
         "y": [
          23
         ],
         "yaxis": "y"
        },
        {
         "hovertemplate": "<b>%{hovertext}</b><br><br>word=análise<br>index=%{x}<br>count=%{marker.size}<extra></extra>",
         "hovertext": [
          "análise"
         ],
         "legendgroup": "análise",
         "marker": {
          "color": "#19d3f3",
          "size": [
           23
          ],
          "sizemode": "area",
          "sizeref": 0.035277777777777776,
          "symbol": "circle"
         },
         "mode": "markers",
         "name": "análise",
         "orientation": "v",
         "showlegend": true,
         "type": "scatter",
         "x": [
          25
         ],
         "xaxis": "x",
         "y": [
          23
         ],
         "yaxis": "y"
        },
        {
         "hovertemplate": "<b>%{hovertext}</b><br><br>word=rio<br>index=%{x}<br>count=%{marker.size}<extra></extra>",
         "hovertext": [
          "rio"
         ],
         "legendgroup": "rio",
         "marker": {
          "color": "#FF6692",
          "size": [
           22
          ],
          "sizemode": "area",
          "sizeref": 0.035277777777777776,
          "symbol": "circle"
         },
         "mode": "markers",
         "name": "rio",
         "orientation": "v",
         "showlegend": true,
         "type": "scatter",
         "x": [
          26
         ],
         "xaxis": "x",
         "y": [
          22
         ],
         "yaxis": "y"
        },
        {
         "hovertemplate": "<b>%{hovertext}</b><br><br>word=contrato<br>index=%{x}<br>count=%{marker.size}<extra></extra>",
         "hovertext": [
          "contrato"
         ],
         "legendgroup": "contrato",
         "marker": {
          "color": "#B6E880",
          "size": [
           22
          ],
          "sizemode": "area",
          "sizeref": 0.035277777777777776,
          "symbol": "circle"
         },
         "mode": "markers",
         "name": "contrato",
         "orientation": "v",
         "showlegend": true,
         "type": "scatter",
         "x": [
          27
         ],
         "xaxis": "x",
         "y": [
          22
         ],
         "yaxis": "y"
        },
        {
         "hovertemplate": "<b>%{hovertext}</b><br><br>word=outros<br>index=%{x}<br>count=%{marker.size}<extra></extra>",
         "hovertext": [
          "outros"
         ],
         "legendgroup": "outros",
         "marker": {
          "color": "#FF97FF",
          "size": [
           22
          ],
          "sizemode": "area",
          "sizeref": 0.035277777777777776,
          "symbol": "circle"
         },
         "mode": "markers",
         "name": "outros",
         "orientation": "v",
         "showlegend": true,
         "type": "scatter",
         "x": [
          28
         ],
         "xaxis": "x",
         "y": [
          22
         ],
         "yaxis": "y"
        },
        {
         "hovertemplate": "<b>%{hovertext}</b><br><br>word=bicos<br>index=%{x}<br>count=%{marker.size}<extra></extra>",
         "hovertext": [
          "bicos"
         ],
         "legendgroup": "bicos",
         "marker": {
          "color": "#FECB52",
          "size": [
           22
          ],
          "sizemode": "area",
          "sizeref": 0.035277777777777776,
          "symbol": "circle"
         },
         "mode": "markers",
         "name": "bicos",
         "orientation": "v",
         "showlegend": true,
         "type": "scatter",
         "x": [
          29
         ],
         "xaxis": "x",
         "y": [
          22
         ],
         "yaxis": "y"
        },
        {
         "hovertemplate": "<b>%{hovertext}</b><br><br>word=áreas<br>index=%{x}<br>count=%{marker.size}<extra></extra>",
         "hovertext": [
          "áreas"
         ],
         "legendgroup": "áreas",
         "marker": {
          "color": "#636efa",
          "size": [
           21
          ],
          "sizemode": "area",
          "sizeref": 0.035277777777777776,
          "symbol": "circle"
         },
         "mode": "markers",
         "name": "áreas",
         "orientation": "v",
         "showlegend": true,
         "type": "scatter",
         "x": [
          30
         ],
         "xaxis": "x",
         "y": [
          21
         ],
         "yaxis": "y"
        },
        {
         "hovertemplate": "<b>%{hovertext}</b><br><br>word=dados<br>index=%{x}<br>count=%{marker.size}<extra></extra>",
         "hovertext": [
          "dados"
         ],
         "legendgroup": "dados",
         "marker": {
          "color": "#EF553B",
          "size": [
           20
          ],
          "sizemode": "area",
          "sizeref": 0.035277777777777776,
          "symbol": "circle"
         },
         "mode": "markers",
         "name": "dados",
         "orientation": "v",
         "showlegend": true,
         "type": "scatter",
         "x": [
          31
         ],
         "xaxis": "x",
         "y": [
          20
         ],
         "yaxis": "y"
        },
        {
         "hovertemplate": "<b>%{hovertext}</b><br><br>word=bloco<br>index=%{x}<br>count=%{marker.size}<extra></extra>",
         "hovertext": [
          "bloco"
         ],
         "legendgroup": "bloco",
         "marker": {
          "color": "#00cc96",
          "size": [
           20
          ],
          "sizemode": "area",
          "sizeref": 0.035277777777777776,
          "symbol": "circle"
         },
         "mode": "markers",
         "name": "bloco",
         "orientation": "v",
         "showlegend": true,
         "type": "scatter",
         "x": [
          32
         ],
         "xaxis": "x",
         "y": [
          20
         ],
         "yaxis": "y"
        },
        {
         "hovertemplate": "<b>%{hovertext}</b><br><br>word=óleo<br>index=%{x}<br>count=%{marker.size}<extra></extra>",
         "hovertext": [
          "óleo"
         ],
         "legendgroup": "óleo",
         "marker": {
          "color": "#ab63fa",
          "size": [
           19
          ],
          "sizemode": "area",
          "sizeref": 0.035277777777777776,
          "symbol": "circle"
         },
         "mode": "markers",
         "name": "óleo",
         "orientation": "v",
         "showlegend": true,
         "type": "scatter",
         "x": [
          33
         ],
         "xaxis": "x",
         "y": [
          19
         ],
         "yaxis": "y"
        },
        {
         "hovertemplate": "<b>%{hovertext}</b><br><br>word=tanque<br>index=%{x}<br>count=%{marker.size}<extra></extra>",
         "hovertext": [
          "tanque"
         ],
         "legendgroup": "tanque",
         "marker": {
          "color": "#FFA15A",
          "size": [
           19
          ],
          "sizemode": "area",
          "sizeref": 0.035277777777777776,
          "symbol": "circle"
         },
         "mode": "markers",
         "name": "tanque",
         "orientation": "v",
         "showlegend": true,
         "type": "scatter",
         "x": [
          34
         ],
         "xaxis": "x",
         "y": [
          19
         ],
         "yaxis": "y"
        },
        {
         "hovertemplate": "<b>%{hovertext}</b><br><br>word=ponto<br>index=%{x}<br>count=%{marker.size}<extra></extra>",
         "hovertext": [
          "ponto"
         ],
         "legendgroup": "ponto",
         "marker": {
          "color": "#19d3f3",
          "size": [
           18
          ],
          "sizemode": "area",
          "sizeref": 0.035277777777777776,
          "symbol": "circle"
         },
         "mode": "markers",
         "name": "ponto",
         "orientation": "v",
         "showlegend": true,
         "type": "scatter",
         "x": [
          35
         ],
         "xaxis": "x",
         "y": [
          18
         ],
         "yaxis": "y"
        },
        {
         "hovertemplate": "<b>%{hovertext}</b><br><br>word=distribuidora<br>index=%{x}<br>count=%{marker.size}<extra></extra>",
         "hovertext": [
          "distribuidora"
         ],
         "legendgroup": "distribuidora",
         "marker": {
          "color": "#FF6692",
          "size": [
           17
          ],
          "sizemode": "area",
          "sizeref": 0.035277777777777776,
          "symbol": "circle"
         },
         "mode": "markers",
         "name": "distribuidora",
         "orientation": "v",
         "showlegend": true,
         "type": "scatter",
         "x": [
          36
         ],
         "xaxis": "x",
         "y": [
          17
         ],
         "yaxis": "y"
        },
        {
         "hovertemplate": "<b>%{hovertext}</b><br><br>word=norma<br>index=%{x}<br>count=%{marker.size}<extra></extra>",
         "hovertext": [
          "norma"
         ],
         "legendgroup": "norma",
         "marker": {
          "color": "#B6E880",
          "size": [
           16
          ],
          "sizemode": "area",
          "sizeref": 0.035277777777777776,
          "symbol": "circle"
         },
         "mode": "markers",
         "name": "norma",
         "orientation": "v",
         "showlegend": true,
         "type": "scatter",
         "x": [
          37
         ],
         "xaxis": "x",
         "y": [
          16
         ],
         "yaxis": "y"
        },
        {
         "hovertemplate": "<b>%{hovertext}</b><br><br>word=instrumento<br>index=%{x}<br>count=%{marker.size}<extra></extra>",
         "hovertext": [
          "instrumento"
         ],
         "legendgroup": "instrumento",
         "marker": {
          "color": "#FF97FF",
          "size": [
           16
          ],
          "sizemode": "area",
          "sizeref": 0.035277777777777776,
          "symbol": "circle"
         },
         "mode": "markers",
         "name": "instrumento",
         "orientation": "v",
         "showlegend": true,
         "type": "scatter",
         "x": [
          38
         ],
         "xaxis": "x",
         "y": [
          16
         ],
         "yaxis": "y"
        },
        {
         "hovertemplate": "<b>%{hovertext}</b><br><br>word=gasolina comum<br>index=%{x}<br>count=%{marker.size}<extra></extra>",
         "hovertext": [
          "gasolina comum"
         ],
         "legendgroup": "gasolina comum",
         "marker": {
          "color": "#FECB52",
          "size": [
           16
          ],
          "sizemode": "area",
          "sizeref": 0.035277777777777776,
          "symbol": "circle"
         },
         "mode": "markers",
         "name": "gasolina comum",
         "orientation": "v",
         "showlegend": true,
         "type": "scatter",
         "x": [
          39
         ],
         "xaxis": "x",
         "y": [
          16
         ],
         "yaxis": "y"
        },
        {
         "hovertemplate": "<b>%{hovertext}</b><br><br>word=cidades<br>index=%{x}<br>count=%{marker.size}<extra></extra>",
         "hovertext": [
          "cidades"
         ],
         "legendgroup": "cidades",
         "marker": {
          "color": "#636efa",
          "size": [
           16
          ],
          "sizemode": "area",
          "sizeref": 0.035277777777777776,
          "symbol": "circle"
         },
         "mode": "markers",
         "name": "cidades",
         "orientation": "v",
         "showlegend": true,
         "type": "scatter",
         "x": [
          40
         ],
         "xaxis": "x",
         "y": [
          16
         ],
         "yaxis": "y"
        },
        {
         "hovertemplate": "<b>%{hovertext}</b><br><br>word=óleo diesel<br>index=%{x}<br>count=%{marker.size}<extra></extra>",
         "hovertext": [
          "óleo diesel"
         ],
         "legendgroup": "óleo diesel",
         "marker": {
          "color": "#EF553B",
          "size": [
           15
          ],
          "sizemode": "area",
          "sizeref": 0.035277777777777776,
          "symbol": "circle"
         },
         "mode": "markers",
         "name": "óleo diesel",
         "orientation": "v",
         "showlegend": true,
         "type": "scatter",
         "x": [
          41
         ],
         "xaxis": "x",
         "y": [
          15
         ],
         "yaxis": "y"
        },
        {
         "hovertemplate": "<b>%{hovertext}</b><br><br>word=estabelecimento<br>index=%{x}<br>count=%{marker.size}<extra></extra>",
         "hovertext": [
          "estabelecimento"
         ],
         "legendgroup": "estabelecimento",
         "marker": {
          "color": "#00cc96",
          "size": [
           15
          ],
          "sizemode": "area",
          "sizeref": 0.035277777777777776,
          "symbol": "circle"
         },
         "mode": "markers",
         "name": "estabelecimento",
         "orientation": "v",
         "showlegend": true,
         "type": "scatter",
         "x": [
          42
         ],
         "xaxis": "x",
         "y": [
          15
         ],
         "yaxis": "y"
        },
        {
         "hovertemplate": "<b>%{hovertext}</b><br><br>word=preço<br>index=%{x}<br>count=%{marker.size}<extra></extra>",
         "hovertext": [
          "preço"
         ],
         "legendgroup": "preço",
         "marker": {
          "color": "#ab63fa",
          "size": [
           15
          ],
          "sizemode": "area",
          "sizeref": 0.035277777777777776,
          "symbol": "circle"
         },
         "mode": "markers",
         "name": "preço",
         "orientation": "v",
         "showlegend": true,
         "type": "scatter",
         "x": [
          43
         ],
         "xaxis": "x",
         "y": [
          15
         ],
         "yaxis": "y"
        },
        {
         "hovertemplate": "<b>%{hovertext}</b><br><br>word=consumidores<br>index=%{x}<br>count=%{marker.size}<extra></extra>",
         "hovertext": [
          "consumidores"
         ],
         "legendgroup": "consumidores",
         "marker": {
          "color": "#FFA15A",
          "size": [
           14
          ],
          "sizemode": "area",
          "sizeref": 0.035277777777777776,
          "symbol": "circle"
         },
         "mode": "markers",
         "name": "consumidores",
         "orientation": "v",
         "showlegend": true,
         "type": "scatter",
         "x": [
          44
         ],
         "xaxis": "x",
         "y": [
          14
         ],
         "yaxis": "y"
        },
        {
         "hovertemplate": "<b>%{hovertext}</b><br><br>word=consulta<br>index=%{x}<br>count=%{marker.size}<extra></extra>",
         "hovertext": [
          "consulta"
         ],
         "legendgroup": "consulta",
         "marker": {
          "color": "#19d3f3",
          "size": [
           14
          ],
          "sizemode": "area",
          "sizeref": 0.035277777777777776,
          "symbol": "circle"
         },
         "mode": "markers",
         "name": "consulta",
         "orientation": "v",
         "showlegend": true,
         "type": "scatter",
         "x": [
          45
         ],
         "xaxis": "x",
         "y": [
          14
         ],
         "yaxis": "y"
        },
        {
         "hovertemplate": "<b>%{hovertext}</b><br><br>word=bomba medidora<br>index=%{x}<br>count=%{marker.size}<extra></extra>",
         "hovertext": [
          "bomba medidora"
         ],
         "legendgroup": "bomba medidora",
         "marker": {
          "color": "#FF6692",
          "size": [
           14
          ],
          "sizemode": "area",
          "sizeref": 0.035277777777777776,
          "symbol": "circle"
         },
         "mode": "markers",
         "name": "bomba medidora",
         "orientation": "v",
         "showlegend": true,
         "type": "scatter",
         "x": [
          46
         ],
         "xaxis": "x",
         "y": [
          14
         ],
         "yaxis": "y"
        },
        {
         "hovertemplate": "<b>%{hovertext}</b><br><br>word=aviação<br>index=%{x}<br>count=%{marker.size}<extra></extra>",
         "hovertext": [
          "aviação"
         ],
         "legendgroup": "aviação",
         "marker": {
          "color": "#B6E880",
          "size": [
           14
          ],
          "sizemode": "area",
          "sizeref": 0.035277777777777776,
          "symbol": "circle"
         },
         "mode": "markers",
         "name": "aviação",
         "orientation": "v",
         "showlegend": true,
         "type": "scatter",
         "x": [
          47
         ],
         "xaxis": "x",
         "y": [
          14
         ],
         "yaxis": "y"
        },
        {
         "hovertemplate": "<b>%{hovertext}</b><br><br>word=fase<br>index=%{x}<br>count=%{marker.size}<extra></extra>",
         "hovertext": [
          "fase"
         ],
         "legendgroup": "fase",
         "marker": {
          "color": "#FF97FF",
          "size": [
           14
          ],
          "sizemode": "area",
          "sizeref": 0.035277777777777776,
          "symbol": "circle"
         },
         "mode": "markers",
         "name": "fase",
         "orientation": "v",
         "showlegend": true,
         "type": "scatter",
         "x": [
          48
         ],
         "xaxis": "x",
         "y": [
          14
         ],
         "yaxis": "y"
        },
        {
         "hovertemplate": "<b>%{hovertext}</b><br><br>word=operação<br>index=%{x}<br>count=%{marker.size}<extra></extra>",
         "hovertext": [
          "operação"
         ],
         "legendgroup": "operação",
         "marker": {
          "color": "#FECB52",
          "size": [
           13
          ],
          "sizemode": "area",
          "sizeref": 0.035277777777777776,
          "symbol": "circle"
         },
         "mode": "markers",
         "name": "operação",
         "orientation": "v",
         "showlegend": true,
         "type": "scatter",
         "x": [
          49
         ],
         "xaxis": "x",
         "y": [
          13
         ],
         "yaxis": "y"
        },
        {
         "hovertemplate": "<b>%{hovertext}</b><br><br>word=aferição irregular<br>index=%{x}<br>count=%{marker.size}<extra></extra>",
         "hovertext": [
          "aferição irregular"
         ],
         "legendgroup": "aferição irregular",
         "marker": {
          "color": "#636efa",
          "size": [
           13
          ],
          "sizemode": "area",
          "sizeref": 0.035277777777777776,
          "symbol": "circle"
         },
         "mode": "markers",
         "name": "aferição irregular",
         "orientation": "v",
         "showlegend": true,
         "type": "scatter",
         "x": [
          50
         ],
         "xaxis": "x",
         "y": [
          13
         ],
         "yaxis": "y"
        },
        {
         "hovertemplate": "<b>%{hovertext}</b><br><br>word=realização<br>index=%{x}<br>count=%{marker.size}<extra></extra>",
         "hovertext": [
          "realização"
         ],
         "legendgroup": "realização",
         "marker": {
          "color": "#EF553B",
          "size": [
           13
          ],
          "sizemode": "area",
          "sizeref": 0.035277777777777776,
          "symbol": "circle"
         },
         "mode": "markers",
         "name": "realização",
         "orientation": "v",
         "showlegend": true,
         "type": "scatter",
         "x": [
          51
         ],
         "xaxis": "x",
         "y": [
          13
         ],
         "yaxis": "y"
        },
        {
         "hovertemplate": "<b>%{hovertext}</b><br><br>word=litro<br>index=%{x}<br>count=%{marker.size}<extra></extra>",
         "hovertext": [
          "litro"
         ],
         "legendgroup": "litro",
         "marker": {
          "color": "#00cc96",
          "size": [
           13
          ],
          "sizemode": "area",
          "sizeref": 0.035277777777777776,
          "symbol": "circle"
         },
         "mode": "markers",
         "name": "litro",
         "orientation": "v",
         "showlegend": true,
         "type": "scatter",
         "x": [
          52
         ],
         "xaxis": "x",
         "y": [
          13
         ],
         "yaxis": "y"
        },
        {
         "hovertemplate": "<b>%{hovertext}</b><br><br>word=poço<br>index=%{x}<br>count=%{marker.size}<extra></extra>",
         "hovertext": [
          "poço"
         ],
         "legendgroup": "poço",
         "marker": {
          "color": "#ab63fa",
          "size": [
           13
          ],
          "sizemode": "area",
          "sizeref": 0.035277777777777776,
          "symbol": "circle"
         },
         "mode": "markers",
         "name": "poço",
         "orientation": "v",
         "showlegend": true,
         "type": "scatter",
         "x": [
          53
         ],
         "xaxis": "x",
         "y": [
          13
         ],
         "yaxis": "y"
        },
        {
         "hovertemplate": "<b>%{hovertext}</b><br><br>word=atividades<br>index=%{x}<br>count=%{marker.size}<extra></extra>",
         "hovertext": [
          "atividades"
         ],
         "legendgroup": "atividades",
         "marker": {
          "color": "#FFA15A",
          "size": [
           13
          ],
          "sizemode": "area",
          "sizeref": 0.035277777777777776,
          "symbol": "circle"
         },
         "mode": "markers",
         "name": "atividades",
         "orientation": "v",
         "showlegend": true,
         "type": "scatter",
         "x": [
          54
         ],
         "xaxis": "x",
         "y": [
          13
         ],
         "yaxis": "y"
        },
        {
         "hovertemplate": "<b>%{hovertext}</b><br><br>word=produto<br>index=%{x}<br>count=%{marker.size}<extra></extra>",
         "hovertext": [
          "produto"
         ],
         "legendgroup": "produto",
         "marker": {
          "color": "#19d3f3",
          "size": [
           13
          ],
          "sizemode": "area",
          "sizeref": 0.035277777777777776,
          "symbol": "circle"
         },
         "mode": "markers",
         "name": "produto",
         "orientation": "v",
         "showlegend": true,
         "type": "scatter",
         "x": [
          55
         ],
         "xaxis": "x",
         "y": [
          13
         ],
         "yaxis": "y"
        },
        {
         "hovertemplate": "<b>%{hovertext}</b><br><br>word=armazenamento<br>index=%{x}<br>count=%{marker.size}<extra></extra>",
         "hovertext": [
          "armazenamento"
         ],
         "legendgroup": "armazenamento",
         "marker": {
          "color": "#FF6692",
          "size": [
           13
          ],
          "sizemode": "area",
          "sizeref": 0.035277777777777776,
          "symbol": "circle"
         },
         "mode": "markers",
         "name": "armazenamento",
         "orientation": "v",
         "showlegend": true,
         "type": "scatter",
         "x": [
          56
         ],
         "xaxis": "x",
         "y": [
          13
         ],
         "yaxis": "y"
        },
        {
         "hovertemplate": "<b>%{hovertext}</b><br><br>word=empresas<br>index=%{x}<br>count=%{marker.size}<extra></extra>",
         "hovertext": [
          "empresas"
         ],
         "legendgroup": "empresas",
         "marker": {
          "color": "#B6E880",
          "size": [
           13
          ],
          "sizemode": "area",
          "sizeref": 0.035277777777777776,
          "symbol": "circle"
         },
         "mode": "markers",
         "name": "empresas",
         "orientation": "v",
         "showlegend": true,
         "type": "scatter",
         "x": [
          57
         ],
         "xaxis": "x",
         "y": [
          13
         ],
         "yaxis": "y"
        },
        {
         "hovertemplate": "<b>%{hovertext}</b><br><br>word=capital<br>index=%{x}<br>count=%{marker.size}<extra></extra>",
         "hovertext": [
          "capital"
         ],
         "legendgroup": "capital",
         "marker": {
          "color": "#FF97FF",
          "size": [
           13
          ],
          "sizemode": "area",
          "sizeref": 0.035277777777777776,
          "symbol": "circle"
         },
         "mode": "markers",
         "name": "capital",
         "orientation": "v",
         "showlegend": true,
         "type": "scatter",
         "x": [
          58
         ],
         "xaxis": "x",
         "y": [
          13
         ],
         "yaxis": "y"
        },
        {
         "hovertemplate": "<b>%{hovertext}</b><br><br>word=prazo<br>index=%{x}<br>count=%{marker.size}<extra></extra>",
         "hovertext": [
          "prazo"
         ],
         "legendgroup": "prazo",
         "marker": {
          "color": "#FECB52",
          "size": [
           13
          ],
          "sizemode": "area",
          "sizeref": 0.035277777777777776,
          "symbol": "circle"
         },
         "mode": "markers",
         "name": "prazo",
         "orientation": "v",
         "showlegend": true,
         "type": "scatter",
         "x": [
          59
         ],
         "xaxis": "x",
         "y": [
          13
         ],
         "yaxis": "y"
        },
        {
         "hovertemplate": "<b>%{hovertext}</b><br><br>word=agentes econômicos<br>index=%{x}<br>count=%{marker.size}<extra></extra>",
         "hovertext": [
          "agentes econômicos"
         ],
         "legendgroup": "agentes econômicos",
         "marker": {
          "color": "#636efa",
          "size": [
           12
          ],
          "sizemode": "area",
          "sizeref": 0.035277777777777776,
          "symbol": "circle"
         },
         "mode": "markers",
         "name": "agentes econômicos",
         "orientation": "v",
         "showlegend": true,
         "type": "scatter",
         "x": [
          60
         ],
         "xaxis": "x",
         "y": [
          12
         ],
         "yaxis": "y"
        },
        {
         "hovertemplate": "<b>%{hovertext}</b><br><br>word=plano<br>index=%{x}<br>count=%{marker.size}<extra></extra>",
         "hovertext": [
          "plano"
         ],
         "legendgroup": "plano",
         "marker": {
          "color": "#EF553B",
          "size": [
           12
          ],
          "sizemode": "area",
          "sizeref": 0.035277777777777776,
          "symbol": "circle"
         },
         "mode": "markers",
         "name": "plano",
         "orientation": "v",
         "showlegend": true,
         "type": "scatter",
         "x": [
          61
         ],
         "xaxis": "x",
         "y": [
          12
         ],
         "yaxis": "y"
        },
        {
         "hovertemplate": "<b>%{hovertext}</b><br><br>word=fiscalizado<br>index=%{x}<br>count=%{marker.size}<extra></extra>",
         "hovertext": [
          "fiscalizado"
         ],
         "legendgroup": "fiscalizado",
         "marker": {
          "color": "#00cc96",
          "size": [
           12
          ],
          "sizemode": "area",
          "sizeref": 0.035277777777777776,
          "symbol": "circle"
         },
         "mode": "markers",
         "name": "fiscalizado",
         "orientation": "v",
         "showlegend": true,
         "type": "scatter",
         "x": [
          62
         ],
         "xaxis": "x",
         "y": [
          12
         ],
         "yaxis": "y"
        },
        {
         "hovertemplate": "<b>%{hovertext}</b><br><br>word=sistema<br>index=%{x}<br>count=%{marker.size}<extra></extra>",
         "hovertext": [
          "sistema"
         ],
         "legendgroup": "sistema",
         "marker": {
          "color": "#ab63fa",
          "size": [
           12
          ],
          "sizemode": "area",
          "sizeref": 0.035277777777777776,
          "symbol": "circle"
         },
         "mode": "markers",
         "name": "sistema",
         "orientation": "v",
         "showlegend": true,
         "type": "scatter",
         "x": [
          63
         ],
         "xaxis": "x",
         "y": [
          12
         ],
         "yaxis": "y"
        },
        {
         "hovertemplate": "<b>%{hovertext}</b><br><br>word=terra<br>index=%{x}<br>count=%{marker.size}<extra></extra>",
         "hovertext": [
          "terra"
         ],
         "legendgroup": "terra",
         "marker": {
          "color": "#FFA15A",
          "size": [
           12
          ],
          "sizemode": "area",
          "sizeref": 0.035277777777777776,
          "symbol": "circle"
         },
         "mode": "markers",
         "name": "terra",
         "orientation": "v",
         "showlegend": true,
         "type": "scatter",
         "x": [
          64
         ],
         "xaxis": "x",
         "y": [
          12
         ],
         "yaxis": "y"
        },
        {
         "hovertemplate": "<b>%{hovertext}</b><br><br>word=proprietário<br>index=%{x}<br>count=%{marker.size}<extra></extra>",
         "hovertext": [
          "proprietário"
         ],
         "legendgroup": "proprietário",
         "marker": {
          "color": "#19d3f3",
          "size": [
           12
          ],
          "sizemode": "area",
          "sizeref": 0.035277777777777776,
          "symbol": "circle"
         },
         "mode": "markers",
         "name": "proprietário",
         "orientation": "v",
         "showlegend": true,
         "type": "scatter",
         "x": [
          65
         ],
         "xaxis": "x",
         "y": [
          12
         ],
         "yaxis": "y"
        },
        {
         "hovertemplate": "<b>%{hovertext}</b><br><br>word=sul<br>index=%{x}<br>count=%{marker.size}<extra></extra>",
         "hovertext": [
          "sul"
         ],
         "legendgroup": "sul",
         "marker": {
          "color": "#FF6692",
          "size": [
           12
          ],
          "sizemode": "area",
          "sizeref": 0.035277777777777776,
          "symbol": "circle"
         },
         "mode": "markers",
         "name": "sul",
         "orientation": "v",
         "showlegend": true,
         "type": "scatter",
         "x": [
          66
         ],
         "xaxis": "x",
         "y": [
          12
         ],
         "yaxis": "y"
        },
        {
         "hovertemplate": "<b>%{hovertext}</b><br><br>word=onde<br>index=%{x}<br>count=%{marker.size}<extra></extra>",
         "hovertext": [
          "onde"
         ],
         "legendgroup": "onde",
         "marker": {
          "color": "#B6E880",
          "size": [
           11
          ],
          "sizemode": "area",
          "sizeref": 0.035277777777777776,
          "symbol": "circle"
         },
         "mode": "markers",
         "name": "onde",
         "orientation": "v",
         "showlegend": true,
         "type": "scatter",
         "x": [
          67
         ],
         "xaxis": "x",
         "y": [
          11
         ],
         "yaxis": "y"
        },
        {
         "hovertemplate": "<b>%{hovertext}</b><br><br>word=percentual<br>index=%{x}<br>count=%{marker.size}<extra></extra>",
         "hovertext": [
          "percentual"
         ],
         "legendgroup": "percentual",
         "marker": {
          "color": "#FF97FF",
          "size": [
           11
          ],
          "sizemode": "area",
          "sizeref": 0.035277777777777776,
          "symbol": "circle"
         },
         "mode": "markers",
         "name": "percentual",
         "orientation": "v",
         "showlegend": true,
         "type": "scatter",
         "x": [
          68
         ],
         "xaxis": "x",
         "y": [
          11
         ],
         "yaxis": "y"
        },
        {
         "hovertemplate": "<b>%{hovertext}</b><br><br>word=ausência<br>index=%{x}<br>count=%{marker.size}<extra></extra>",
         "hovertext": [
          "ausência"
         ],
         "legendgroup": "ausência",
         "marker": {
          "color": "#FECB52",
          "size": [
           11
          ],
          "sizemode": "area",
          "sizeref": 0.035277777777777776,
          "symbol": "circle"
         },
         "mode": "markers",
         "name": "ausência",
         "orientation": "v",
         "showlegend": true,
         "type": "scatter",
         "x": [
          69
         ],
         "xaxis": "x",
         "y": [
          11
         ],
         "yaxis": "y"
        },
        {
         "hovertemplate": "<b>%{hovertext}</b><br><br>word=utilizado<br>index=%{x}<br>count=%{marker.size}<extra></extra>",
         "hovertext": [
          "utilizado"
         ],
         "legendgroup": "utilizado",
         "marker": {
          "color": "#636efa",
          "size": [
           11
          ],
          "sizemode": "area",
          "sizeref": 0.035277777777777776,
          "symbol": "circle"
         },
         "mode": "markers",
         "name": "utilizado",
         "orientation": "v",
         "showlegend": true,
         "type": "scatter",
         "x": [
          70
         ],
         "xaxis": "x",
         "y": [
          11
         ],
         "yaxis": "y"
        },
        {
         "hovertemplate": "<b>%{hovertext}</b><br><br>word=produtores<br>index=%{x}<br>count=%{marker.size}<extra></extra>",
         "hovertext": [
          "produtores"
         ],
         "legendgroup": "produtores",
         "marker": {
          "color": "#EF553B",
          "size": [
           11
          ],
          "sizemode": "area",
          "sizeref": 0.035277777777777776,
          "symbol": "circle"
         },
         "mode": "markers",
         "name": "produtores",
         "orientation": "v",
         "showlegend": true,
         "type": "scatter",
         "x": [
          71
         ],
         "xaxis": "x",
         "y": [
          11
         ],
         "yaxis": "y"
        },
        {
         "hovertemplate": "<b>%{hovertext}</b><br><br>word=painel<br>index=%{x}<br>count=%{marker.size}<extra></extra>",
         "hovertext": [
          "painel"
         ],
         "legendgroup": "painel",
         "marker": {
          "color": "#00cc96",
          "size": [
           11
          ],
          "sizemode": "area",
          "sizeref": 0.035277777777777776,
          "symbol": "circle"
         },
         "mode": "markers",
         "name": "painel",
         "orientation": "v",
         "showlegend": true,
         "type": "scatter",
         "x": [
          72
         ],
         "xaxis": "x",
         "y": [
          11
         ],
         "yaxis": "y"
        },
        {
         "hovertemplate": "<b>%{hovertext}</b><br><br>word=bacia<br>index=%{x}<br>count=%{marker.size}<extra></extra>",
         "hovertext": [
          "bacia"
         ],
         "legendgroup": "bacia",
         "marker": {
          "color": "#ab63fa",
          "size": [
           11
          ],
          "sizemode": "area",
          "sizeref": 0.035277777777777776,
          "symbol": "circle"
         },
         "mode": "markers",
         "name": "bacia",
         "orientation": "v",
         "showlegend": true,
         "type": "scatter",
         "x": [
          73
         ],
         "xaxis": "x",
         "y": [
          11
         ],
         "yaxis": "y"
        },
        {
         "hovertemplate": "<b>%{hovertext}</b><br><br>word=ação<br>index=%{x}<br>count=%{marker.size}<extra></extra>",
         "hovertext": [
          "ação"
         ],
         "legendgroup": "ação",
         "marker": {
          "color": "#FFA15A",
          "size": [
           11
          ],
          "sizemode": "area",
          "sizeref": 0.035277777777777776,
          "symbol": "circle"
         },
         "mode": "markers",
         "name": "ação",
         "orientation": "v",
         "showlegend": true,
         "type": "scatter",
         "x": [
          74
         ],
         "xaxis": "x",
         "y": [
          11
         ],
         "yaxis": "y"
        },
        {
         "hovertemplate": "<b>%{hovertext}</b><br><br>word=procon municipal<br>index=%{x}<br>count=%{marker.size}<extra></extra>",
         "hovertext": [
          "procon municipal"
         ],
         "legendgroup": "procon municipal",
         "marker": {
          "color": "#19d3f3",
          "size": [
           11
          ],
          "sizemode": "area",
          "sizeref": 0.035277777777777776,
          "symbol": "circle"
         },
         "mode": "markers",
         "name": "procon municipal",
         "orientation": "v",
         "showlegend": true,
         "type": "scatter",
         "x": [
          75
         ],
         "xaxis": "x",
         "y": [
          11
         ],
         "yaxis": "y"
        },
        {
         "hovertemplate": "<b>%{hovertext}</b><br><br>word=outras<br>index=%{x}<br>count=%{marker.size}<extra></extra>",
         "hovertext": [
          "outras"
         ],
         "legendgroup": "outras",
         "marker": {
          "color": "#FF6692",
          "size": [
           11
          ],
          "sizemode": "area",
          "sizeref": 0.035277777777777776,
          "symbol": "circle"
         },
         "mode": "markers",
         "name": "outras",
         "orientation": "v",
         "showlegend": true,
         "type": "scatter",
         "x": [
          76
         ],
         "xaxis": "x",
         "y": [
          11
         ],
         "yaxis": "y"
        },
        {
         "hovertemplate": "<b>%{hovertext}</b><br><br>word=além<br>index=%{x}<br>count=%{marker.size}<extra></extra>",
         "hovertext": [
          "além"
         ],
         "legendgroup": "além",
         "marker": {
          "color": "#B6E880",
          "size": [
           11
          ],
          "sizemode": "area",
          "sizeref": 0.035277777777777776,
          "symbol": "circle"
         },
         "mode": "markers",
         "name": "além",
         "orientation": "v",
         "showlegend": true,
         "type": "scatter",
         "x": [
          77
         ],
         "xaxis": "x",
         "y": [
          11
         ],
         "yaxis": "y"
        },
        {
         "hovertemplate": "<b>%{hovertext}</b><br><br>word=oferta permanente<br>index=%{x}<br>count=%{marker.size}<extra></extra>",
         "hovertext": [
          "oferta permanente"
         ],
         "legendgroup": "oferta permanente",
         "marker": {
          "color": "#FF97FF",
          "size": [
           11
          ],
          "sizemode": "area",
          "sizeref": 0.035277777777777776,
          "symbol": "circle"
         },
         "mode": "markers",
         "name": "oferta permanente",
         "orientation": "v",
         "showlegend": true,
         "type": "scatter",
         "x": [
          78
         ],
         "xaxis": "x",
         "y": [
          11
         ],
         "yaxis": "y"
        },
        {
         "hovertemplate": "<b>%{hovertext}</b><br><br>word=inmetro<br>index=%{x}<br>count=%{marker.size}<extra></extra>",
         "hovertext": [
          "inmetro"
         ],
         "legendgroup": "inmetro",
         "marker": {
          "color": "#FECB52",
          "size": [
           11
          ],
          "sizemode": "area",
          "sizeref": 0.035277777777777776,
          "symbol": "circle"
         },
         "mode": "markers",
         "name": "inmetro",
         "orientation": "v",
         "showlegend": true,
         "type": "scatter",
         "x": [
          79
         ],
         "xaxis": "x",
         "y": [
          11
         ],
         "yaxis": "y"
        }
       ],
       "layout": {
        "height": 750,
        "legend": {
         "itemsizing": "constant",
         "title": {
          "text": "word"
         },
         "tracegroupgap": 0
        },
        "template": {
         "data": {
          "bar": [
           {
            "error_x": {
             "color": "#2a3f5f"
            },
            "error_y": {
             "color": "#2a3f5f"
            },
            "marker": {
             "line": {
              "color": "#E5ECF6",
              "width": 0.5
             },
             "pattern": {
              "fillmode": "overlay",
              "size": 10,
              "solidity": 0.2
             }
            },
            "type": "bar"
           }
          ],
          "barpolar": [
           {
            "marker": {
             "line": {
              "color": "#E5ECF6",
              "width": 0.5
             },
             "pattern": {
              "fillmode": "overlay",
              "size": 10,
              "solidity": 0.2
             }
            },
            "type": "barpolar"
           }
          ],
          "carpet": [
           {
            "aaxis": {
             "endlinecolor": "#2a3f5f",
             "gridcolor": "white",
             "linecolor": "white",
             "minorgridcolor": "white",
             "startlinecolor": "#2a3f5f"
            },
            "baxis": {
             "endlinecolor": "#2a3f5f",
             "gridcolor": "white",
             "linecolor": "white",
             "minorgridcolor": "white",
             "startlinecolor": "#2a3f5f"
            },
            "type": "carpet"
           }
          ],
          "choropleth": [
           {
            "colorbar": {
             "outlinewidth": 0,
             "ticks": ""
            },
            "type": "choropleth"
           }
          ],
          "contour": [
           {
            "colorbar": {
             "outlinewidth": 0,
             "ticks": ""
            },
            "colorscale": [
             [
              0,
              "#0d0887"
             ],
             [
              0.1111111111111111,
              "#46039f"
             ],
             [
              0.2222222222222222,
              "#7201a8"
             ],
             [
              0.3333333333333333,
              "#9c179e"
             ],
             [
              0.4444444444444444,
              "#bd3786"
             ],
             [
              0.5555555555555556,
              "#d8576b"
             ],
             [
              0.6666666666666666,
              "#ed7953"
             ],
             [
              0.7777777777777778,
              "#fb9f3a"
             ],
             [
              0.8888888888888888,
              "#fdca26"
             ],
             [
              1,
              "#f0f921"
             ]
            ],
            "type": "contour"
           }
          ],
          "contourcarpet": [
           {
            "colorbar": {
             "outlinewidth": 0,
             "ticks": ""
            },
            "type": "contourcarpet"
           }
          ],
          "heatmap": [
           {
            "colorbar": {
             "outlinewidth": 0,
             "ticks": ""
            },
            "colorscale": [
             [
              0,
              "#0d0887"
             ],
             [
              0.1111111111111111,
              "#46039f"
             ],
             [
              0.2222222222222222,
              "#7201a8"
             ],
             [
              0.3333333333333333,
              "#9c179e"
             ],
             [
              0.4444444444444444,
              "#bd3786"
             ],
             [
              0.5555555555555556,
              "#d8576b"
             ],
             [
              0.6666666666666666,
              "#ed7953"
             ],
             [
              0.7777777777777778,
              "#fb9f3a"
             ],
             [
              0.8888888888888888,
              "#fdca26"
             ],
             [
              1,
              "#f0f921"
             ]
            ],
            "type": "heatmap"
           }
          ],
          "heatmapgl": [
           {
            "colorbar": {
             "outlinewidth": 0,
             "ticks": ""
            },
            "colorscale": [
             [
              0,
              "#0d0887"
             ],
             [
              0.1111111111111111,
              "#46039f"
             ],
             [
              0.2222222222222222,
              "#7201a8"
             ],
             [
              0.3333333333333333,
              "#9c179e"
             ],
             [
              0.4444444444444444,
              "#bd3786"
             ],
             [
              0.5555555555555556,
              "#d8576b"
             ],
             [
              0.6666666666666666,
              "#ed7953"
             ],
             [
              0.7777777777777778,
              "#fb9f3a"
             ],
             [
              0.8888888888888888,
              "#fdca26"
             ],
             [
              1,
              "#f0f921"
             ]
            ],
            "type": "heatmapgl"
           }
          ],
          "histogram": [
           {
            "marker": {
             "pattern": {
              "fillmode": "overlay",
              "size": 10,
              "solidity": 0.2
             }
            },
            "type": "histogram"
           }
          ],
          "histogram2d": [
           {
            "colorbar": {
             "outlinewidth": 0,
             "ticks": ""
            },
            "colorscale": [
             [
              0,
              "#0d0887"
             ],
             [
              0.1111111111111111,
              "#46039f"
             ],
             [
              0.2222222222222222,
              "#7201a8"
             ],
             [
              0.3333333333333333,
              "#9c179e"
             ],
             [
              0.4444444444444444,
              "#bd3786"
             ],
             [
              0.5555555555555556,
              "#d8576b"
             ],
             [
              0.6666666666666666,
              "#ed7953"
             ],
             [
              0.7777777777777778,
              "#fb9f3a"
             ],
             [
              0.8888888888888888,
              "#fdca26"
             ],
             [
              1,
              "#f0f921"
             ]
            ],
            "type": "histogram2d"
           }
          ],
          "histogram2dcontour": [
           {
            "colorbar": {
             "outlinewidth": 0,
             "ticks": ""
            },
            "colorscale": [
             [
              0,
              "#0d0887"
             ],
             [
              0.1111111111111111,
              "#46039f"
             ],
             [
              0.2222222222222222,
              "#7201a8"
             ],
             [
              0.3333333333333333,
              "#9c179e"
             ],
             [
              0.4444444444444444,
              "#bd3786"
             ],
             [
              0.5555555555555556,
              "#d8576b"
             ],
             [
              0.6666666666666666,
              "#ed7953"
             ],
             [
              0.7777777777777778,
              "#fb9f3a"
             ],
             [
              0.8888888888888888,
              "#fdca26"
             ],
             [
              1,
              "#f0f921"
             ]
            ],
            "type": "histogram2dcontour"
           }
          ],
          "mesh3d": [
           {
            "colorbar": {
             "outlinewidth": 0,
             "ticks": ""
            },
            "type": "mesh3d"
           }
          ],
          "parcoords": [
           {
            "line": {
             "colorbar": {
              "outlinewidth": 0,
              "ticks": ""
             }
            },
            "type": "parcoords"
           }
          ],
          "pie": [
           {
            "automargin": true,
            "type": "pie"
           }
          ],
          "scatter": [
           {
            "marker": {
             "colorbar": {
              "outlinewidth": 0,
              "ticks": ""
             }
            },
            "type": "scatter"
           }
          ],
          "scatter3d": [
           {
            "line": {
             "colorbar": {
              "outlinewidth": 0,
              "ticks": ""
             }
            },
            "marker": {
             "colorbar": {
              "outlinewidth": 0,
              "ticks": ""
             }
            },
            "type": "scatter3d"
           }
          ],
          "scattercarpet": [
           {
            "marker": {
             "colorbar": {
              "outlinewidth": 0,
              "ticks": ""
             }
            },
            "type": "scattercarpet"
           }
          ],
          "scattergeo": [
           {
            "marker": {
             "colorbar": {
              "outlinewidth": 0,
              "ticks": ""
             }
            },
            "type": "scattergeo"
           }
          ],
          "scattergl": [
           {
            "marker": {
             "colorbar": {
              "outlinewidth": 0,
              "ticks": ""
             }
            },
            "type": "scattergl"
           }
          ],
          "scattermapbox": [
           {
            "marker": {
             "colorbar": {
              "outlinewidth": 0,
              "ticks": ""
             }
            },
            "type": "scattermapbox"
           }
          ],
          "scatterpolar": [
           {
            "marker": {
             "colorbar": {
              "outlinewidth": 0,
              "ticks": ""
             }
            },
            "type": "scatterpolar"
           }
          ],
          "scatterpolargl": [
           {
            "marker": {
             "colorbar": {
              "outlinewidth": 0,
              "ticks": ""
             }
            },
            "type": "scatterpolargl"
           }
          ],
          "scatterternary": [
           {
            "marker": {
             "colorbar": {
              "outlinewidth": 0,
              "ticks": ""
             }
            },
            "type": "scatterternary"
           }
          ],
          "surface": [
           {
            "colorbar": {
             "outlinewidth": 0,
             "ticks": ""
            },
            "colorscale": [
             [
              0,
              "#0d0887"
             ],
             [
              0.1111111111111111,
              "#46039f"
             ],
             [
              0.2222222222222222,
              "#7201a8"
             ],
             [
              0.3333333333333333,
              "#9c179e"
             ],
             [
              0.4444444444444444,
              "#bd3786"
             ],
             [
              0.5555555555555556,
              "#d8576b"
             ],
             [
              0.6666666666666666,
              "#ed7953"
             ],
             [
              0.7777777777777778,
              "#fb9f3a"
             ],
             [
              0.8888888888888888,
              "#fdca26"
             ],
             [
              1,
              "#f0f921"
             ]
            ],
            "type": "surface"
           }
          ],
          "table": [
           {
            "cells": {
             "fill": {
              "color": "#EBF0F8"
             },
             "line": {
              "color": "white"
             }
            },
            "header": {
             "fill": {
              "color": "#C8D4E3"
             },
             "line": {
              "color": "white"
             }
            },
            "type": "table"
           }
          ]
         },
         "layout": {
          "annotationdefaults": {
           "arrowcolor": "#2a3f5f",
           "arrowhead": 0,
           "arrowwidth": 1
          },
          "autotypenumbers": "strict",
          "coloraxis": {
           "colorbar": {
            "outlinewidth": 0,
            "ticks": ""
           }
          },
          "colorscale": {
           "diverging": [
            [
             0,
             "#8e0152"
            ],
            [
             0.1,
             "#c51b7d"
            ],
            [
             0.2,
             "#de77ae"
            ],
            [
             0.3,
             "#f1b6da"
            ],
            [
             0.4,
             "#fde0ef"
            ],
            [
             0.5,
             "#f7f7f7"
            ],
            [
             0.6,
             "#e6f5d0"
            ],
            [
             0.7,
             "#b8e186"
            ],
            [
             0.8,
             "#7fbc41"
            ],
            [
             0.9,
             "#4d9221"
            ],
            [
             1,
             "#276419"
            ]
           ],
           "sequential": [
            [
             0,
             "#0d0887"
            ],
            [
             0.1111111111111111,
             "#46039f"
            ],
            [
             0.2222222222222222,
             "#7201a8"
            ],
            [
             0.3333333333333333,
             "#9c179e"
            ],
            [
             0.4444444444444444,
             "#bd3786"
            ],
            [
             0.5555555555555556,
             "#d8576b"
            ],
            [
             0.6666666666666666,
             "#ed7953"
            ],
            [
             0.7777777777777778,
             "#fb9f3a"
            ],
            [
             0.8888888888888888,
             "#fdca26"
            ],
            [
             1,
             "#f0f921"
            ]
           ],
           "sequentialminus": [
            [
             0,
             "#0d0887"
            ],
            [
             0.1111111111111111,
             "#46039f"
            ],
            [
             0.2222222222222222,
             "#7201a8"
            ],
            [
             0.3333333333333333,
             "#9c179e"
            ],
            [
             0.4444444444444444,
             "#bd3786"
            ],
            [
             0.5555555555555556,
             "#d8576b"
            ],
            [
             0.6666666666666666,
             "#ed7953"
            ],
            [
             0.7777777777777778,
             "#fb9f3a"
            ],
            [
             0.8888888888888888,
             "#fdca26"
            ],
            [
             1,
             "#f0f921"
            ]
           ]
          },
          "colorway": [
           "#636efa",
           "#EF553B",
           "#00cc96",
           "#ab63fa",
           "#FFA15A",
           "#19d3f3",
           "#FF6692",
           "#B6E880",
           "#FF97FF",
           "#FECB52"
          ],
          "font": {
           "color": "#2a3f5f"
          },
          "geo": {
           "bgcolor": "white",
           "lakecolor": "white",
           "landcolor": "#E5ECF6",
           "showlakes": true,
           "showland": true,
           "subunitcolor": "white"
          },
          "hoverlabel": {
           "align": "left"
          },
          "hovermode": "closest",
          "mapbox": {
           "style": "light"
          },
          "paper_bgcolor": "white",
          "plot_bgcolor": "#E5ECF6",
          "polar": {
           "angularaxis": {
            "gridcolor": "white",
            "linecolor": "white",
            "ticks": ""
           },
           "bgcolor": "#E5ECF6",
           "radialaxis": {
            "gridcolor": "white",
            "linecolor": "white",
            "ticks": ""
           }
          },
          "scene": {
           "xaxis": {
            "backgroundcolor": "#E5ECF6",
            "gridcolor": "white",
            "gridwidth": 2,
            "linecolor": "white",
            "showbackground": true,
            "ticks": "",
            "zerolinecolor": "white"
           },
           "yaxis": {
            "backgroundcolor": "#E5ECF6",
            "gridcolor": "white",
            "gridwidth": 2,
            "linecolor": "white",
            "showbackground": true,
            "ticks": "",
            "zerolinecolor": "white"
           },
           "zaxis": {
            "backgroundcolor": "#E5ECF6",
            "gridcolor": "white",
            "gridwidth": 2,
            "linecolor": "white",
            "showbackground": true,
            "ticks": "",
            "zerolinecolor": "white"
           }
          },
          "shapedefaults": {
           "line": {
            "color": "#2a3f5f"
           }
          },
          "ternary": {
           "aaxis": {
            "gridcolor": "white",
            "linecolor": "white",
            "ticks": ""
           },
           "baxis": {
            "gridcolor": "white",
            "linecolor": "white",
            "ticks": ""
           },
           "bgcolor": "#E5ECF6",
           "caxis": {
            "gridcolor": "white",
            "linecolor": "white",
            "ticks": ""
           }
          },
          "title": {
           "x": 0.05
          },
          "xaxis": {
           "automargin": true,
           "gridcolor": "white",
           "linecolor": "white",
           "ticks": "",
           "title": {
            "standoff": 15
           },
           "zerolinecolor": "white",
           "zerolinewidth": 2
          },
          "yaxis": {
           "automargin": true,
           "gridcolor": "white",
           "linecolor": "white",
           "ticks": "",
           "title": {
            "standoff": 15
           },
           "zerolinecolor": "white",
           "zerolinewidth": 2
          }
         }
        },
        "title": {
         "text": "Author: ANP │ Theme: Noticias │ DF Date Rage: from [05/02/2022 at 09:13:00] to [05/06/2022 at 19:22:00]"
        },
        "width": 1500,
        "xaxis": {
         "anchor": "y",
         "domain": [
          0,
          1
         ],
         "title": {
          "text": "index"
         },
         "type": "log"
        },
        "yaxis": {
         "anchor": "x",
         "domain": [
          0,
          1
         ],
         "title": {
          "text": "count"
         }
        }
       }
      }
     },
     "metadata": {},
     "output_type": "display_data"
    },
    {
     "data": {
      "text/plain": [
       "'anp.html'"
      ]
     },
     "execution_count": 8,
     "metadata": {},
     "output_type": "execute_result"
    }
   ],
   "source": [
    "## generating a scatterplot from the plotfy library\n",
    "fig = px.scatter(df2.query('count > 10'),\n",
    "                y=\"count\",\n",
    "                size=\"count\",\n",
    "                color=\"word\",\n",
    "                hover_name=\"word\",\n",
    "                log_x=True,\n",
    "                title = wordcloud_title,\n",
    "                width=1500, \n",
    "                height=750,\n",
    "                size_max=60)\n",
    "fig.show()\n",
    "\n",
    "plt.offline.plot(fig, filename = search+'.html')"
   ]
  }
 ],
 "metadata": {
  "interpreter": {
   "hash": "b80af393ece9516bb574eaf2accc0f3996a7feeecd6bd1b55c66f68cb5cc8c2a"
  },
  "kernelspec": {
   "display_name": "Python 3.9.12 ('geo_env')",
   "language": "python",
   "name": "python3"
  },
  "language_info": {
   "codemirror_mode": {
    "name": "ipython",
    "version": 3
   },
   "file_extension": ".py",
   "mimetype": "text/x-python",
   "name": "python",
   "nbconvert_exporter": "python",
   "pygments_lexer": "ipython3",
   "version": "3.9.12"
  },
  "orig_nbformat": 4
 },
 "nbformat": 4,
 "nbformat_minor": 2
}
