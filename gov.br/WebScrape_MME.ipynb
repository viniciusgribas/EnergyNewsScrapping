{
 "cells": [
  {
   "cell_type": "code",
   "execution_count": 1,
   "metadata": {},
   "outputs": [
    {
     "name": "stderr",
     "output_type": "stream",
     "text": [
      "[nltk_data] Downloading package floresta to\n",
      "[nltk_data]     C:\\Users\\vinic\\AppData\\Roaming\\nltk_data...\n",
      "[nltk_data]   Package floresta is already up-to-date!\n"
     ]
    }
   ],
   "source": [
    "# import the libraries\n",
    "\n",
    "## WebScrapping Libraries\n",
    "from bs4 import BeautifulSoup\n",
    "import requests\n",
    "import urllib.request\n",
    "\n",
    "## NLP and ML Libraries\n",
    "import nltk\n",
    "from newspaper import Article\n",
    "nltk.download('floresta') # \"Portuguese Treebank\" divides the text into a list of sentences using ML algorithm\n",
    "from nltk.corpus import stopwords\n",
    "from wordcloud import WordCloud, STOPWORDS, ImageColorGenerator\n",
    "\n",
    "## Data Frame manipulation and Analytics Libraries\n",
    "import pandas as pd\n",
    "import time\n",
    "import matplotlib.pyplot as py\n",
    "import plotly_express as px\n",
    "import plotly as plt\n",
    "import datetime\n"
   ]
  },
  {
   "cell_type": "code",
   "execution_count": 2,
   "metadata": {},
   "outputs": [],
   "source": [
    "def scrape_mme_website(search,page):\n",
    "    page_theme = search\n",
    "\n",
    "\n",
    "    if page == 1:\n",
    "        page = 0\n",
    "    else:\n",
    "        page = page*20\n",
    "\n",
    "    page_number = str(page)\n",
    "    url = 'https://www.gov.br/mme/pt-br/assuntos/noticias?b_start:int=' + page_number +'/' \n",
    "    webpage = requests.get(url)\n",
    "    soup = BeautifulSoup(webpage.text, 'html.parser')\n",
    "    article_links = soup.find_all('h2', attrs= {'class' : 'titulo'})\n",
    "\n",
    "    for i in article_links:\n",
    "        temp=0\n",
    "        temp = i.find('a').get('href')\n",
    "        links.append(temp)\n",
    "\n",
    "    for i in range(len(links)):  # NLP Process: Scrapes the article, download the information and parse a nlp into a interable object\n",
    "        article = Article(links[i]) # Scrapes the Article\n",
    "        article.download()\n",
    "        article.parse()\n",
    "        article.nlp()\n",
    "\n",
    "        # Interact with the articles\n",
    "        titles.append(article.title)\n",
    "        try:\n",
    "            tags.append(BeautifulSoup(article.html, 'html.parser').find(id=\"form-widgets-categoria\").get_text())\n",
    "        except:\n",
    "            tags.append(BeautifulSoup(article.html, 'html.parser').find(id=\"content\").find('p', attrs= {'class':'nitfSubtitle'}).get_text())\n",
    "        texts.append(article.text) \n",
    "        summarys.append(article.meta_description) \n",
    "        authors.append(BeautifulSoup(article.html, 'html.parser').find(id=\"content\").find('p', attrs= {'class':'nitfSubtitle'}).get_text()) \n",
    "        themes.append(search)\n",
    "        dates.append(BeautifulSoup(article.html, 'html.parser').find(id=\"plone-document-byline\").get_text()[16:32])\n",
    "\n",
    "        print(\n",
    "        len(authors),  \n",
    "        len(links), \n",
    "        len(themes), \n",
    "        len(tags), \n",
    "        len(titles),\n",
    "        len(dates), \n",
    "        len(texts), \n",
    "        len(summarys)\n",
    "        )\n",
    "        \n",
    "        if len(authors) == len(links):\n",
    "            break\n",
    "    \n",
    "\n"
   ]
  },
  {
   "cell_type": "code",
   "execution_count": 3,
   "metadata": {},
   "outputs": [
    {
     "name": "stdout",
     "output_type": "stream",
     "text": [
      "1 20 1 1 1 1 1 1\n",
      "2 20 2 2 2 2 2 2\n",
      "3 20 3 3 3 3 3 3\n",
      "4 20 4 4 4 4 4 4\n",
      "5 20 5 5 5 5 5 5\n",
      "6 20 6 6 6 6 6 6\n",
      "7 20 7 7 7 7 7 7\n",
      "8 20 8 8 8 8 8 8\n",
      "9 20 9 9 9 9 9 9\n",
      "10 20 10 10 10 10 10 10\n",
      "11 20 11 11 11 11 11 11\n",
      "12 20 12 12 12 12 12 12\n",
      "13 20 13 13 13 13 13 13\n",
      "14 20 14 14 14 14 14 14\n",
      "15 20 15 15 15 15 15 15\n",
      "16 20 16 16 16 16 16 16\n",
      "17 20 17 17 17 17 17 17\n",
      "18 20 18 18 18 18 18 18\n",
      "19 20 19 19 19 19 19 19\n",
      "20 20 20 20 20 20 20 20\n",
      "21 40 21 21 21 21 21 21\n",
      "22 40 22 22 22 22 22 22\n",
      "23 40 23 23 23 23 23 23\n",
      "24 40 24 24 24 24 24 24\n",
      "25 40 25 25 25 25 25 25\n",
      "26 40 26 26 26 26 26 26\n",
      "27 40 27 27 27 27 27 27\n",
      "28 40 28 28 28 28 28 28\n",
      "29 40 29 29 29 29 29 29\n",
      "30 40 30 30 30 30 30 30\n",
      "31 40 31 31 31 31 31 31\n",
      "32 40 32 32 32 32 32 32\n",
      "33 40 33 33 33 33 33 33\n",
      "34 40 34 34 34 34 34 34\n",
      "35 40 35 35 35 35 35 35\n",
      "36 40 36 36 36 36 36 36\n",
      "37 40 37 37 37 37 37 37\n",
      "38 40 38 38 38 38 38 38\n",
      "39 40 39 39 39 39 39 39\n",
      "40 40 40 40 40 40 40 40\n",
      "41 60 41 41 41 41 41 41\n",
      "42 60 42 42 42 42 42 42\n",
      "43 60 43 43 43 43 43 43\n",
      "44 60 44 44 44 44 44 44\n",
      "45 60 45 45 45 45 45 45\n",
      "46 60 46 46 46 46 46 46\n",
      "47 60 47 47 47 47 47 47\n",
      "48 60 48 48 48 48 48 48\n",
      "49 60 49 49 49 49 49 49\n",
      "50 60 50 50 50 50 50 50\n",
      "51 60 51 51 51 51 51 51\n",
      "52 60 52 52 52 52 52 52\n",
      "53 60 53 53 53 53 53 53\n",
      "54 60 54 54 54 54 54 54\n",
      "55 60 55 55 55 55 55 55\n",
      "56 60 56 56 56 56 56 56\n",
      "57 60 57 57 57 57 57 57\n",
      "58 60 58 58 58 58 58 58\n",
      "59 60 59 59 59 59 59 59\n",
      "60 60 60 60 60 60 60 60\n"
     ]
    }
   ],
   "source": [
    "\n",
    "themes = []\n",
    "tags = []\n",
    "titles = []\n",
    "authors = []\n",
    "dates = []\n",
    "links = []\n",
    "texts = []\n",
    "summarys = []\n",
    "search = 'MME'\n",
    "n = 3\n",
    "\n",
    "# performs the scrapping with the chosen search on the given pages\n",
    "for i in range(1 , n+1):\n",
    "\n",
    "    #applies the function\n",
    "    scrape_aneel_website(search, i )"
   ]
  },
  {
   "cell_type": "code",
   "execution_count": 4,
   "metadata": {},
   "outputs": [
    {
     "name": "stdout",
     "output_type": "stream",
     "text": [
      "DF Date Rage: from [05/02/2022 at 10:57:00] to [05/12/2022 at 19:48:00]\n"
     ]
    },
    {
     "data": {
      "text/plain": [
       "dates       0\n",
       "themes      0\n",
       "authors     0\n",
       "tags        0\n",
       "titles      0\n",
       "summarys    0\n",
       "texts       0\n",
       "links       0\n",
       "dtype: int64"
      ]
     },
     "execution_count": 4,
     "metadata": {},
     "output_type": "execute_result"
    }
   ],
   "source": [
    "# creates a dataframe based on the stored lists\n",
    "df = pd.DataFrame( columns= ['dates','themes','authors','tags','titles','summarys','texts','links' ] )\n",
    "df.dates = dates\n",
    "df.dates = pd.to_datetime(df.dates)\n",
    "df.authors = authors\n",
    "df.tags = tags\n",
    "df.titles = titles\n",
    "df.summarys = summarys\n",
    "df.texts = texts\n",
    "df.links = links\n",
    "df.themes = themes\n",
    "\n",
    "# check the analyzed dates\n",
    "\n",
    "df_filtered = df.loc[(df['dates'] > '2022-01-01')]\n",
    "\n",
    "date_min = str(df_filtered.dates.dt.date.min().strftime('%d/%m/%Y'))+' at '+ str(df_filtered.dates.dt.time.min())\n",
    "date_max = str(df_filtered.dates.dt.date.max().strftime('%d/%m/%Y'))+' at '+ str(df_filtered.dates.dt.time.max())\n",
    "df_date_range = 'DF Date Rage: from ['+ date_min + '] to [' + date_max + ']'\n",
    "\n",
    "print(df_date_range)\n",
    "\n",
    "# checks if the dataframe has null values\n",
    "df_filtered.isnull().sum()"
   ]
  },
  {
   "cell_type": "code",
   "execution_count": 19,
   "metadata": {},
   "outputs": [],
   "source": [
    "# NLP: stopword parametres\n",
    "\n",
    "## github patch with Brazilian stopwords\n",
    "PORTUGUESE_STOPWORDS_PATCH_1 = r'https://gist.githubusercontent.com/alopes/5358189/raw/2107d809cca6b83ce3d8e04dbd9463283025284f/stopwords.txt' ##online patch\n",
    "response_PATCH = requests.get(PORTUGUESE_STOPWORDS_PATCH_1) ## accessing via webscrapping\n",
    "pt_stopwords = response_PATCH.text ## assigning to a variable\n",
    "pt_stopwords = pt_stopwords.replace(\" \",\"\").splitlines() ## manipulating extraction\n",
    "\n",
    "# WordCloud text and additional parameters\n",
    "\n",
    "text = \" \".join(s.lower() for s in df_filtered.texts) # lowercasing all the text words\n",
    "wordcloud_theme = df_filtered.themes[0].lower() # get the search theme\n",
    "wordcloud_search_theme = search\n",
    "wordcloud_title = ('Author: MME' +' │ Theme: ' + 'Noticias' +' │ '+ df_date_range )# setting the title\n",
    "\n",
    "\n",
    "## manual stopwords input\n",
    "manual_stopwords = [wordcloud_theme,\n",
    "    'cerca',\n",
    "    'país',\n",
    "    'disse',\n",
    "    'agora',\n",
    "    'ouvir',\n",
    "    'notícia',\n",
    "    'ano' ,\n",
    "    'entanto',\n",
    "    'episódio',\n",
    "    'ainda',\n",
    "    'acordo',\n",
    "    'demanda',\n",
    "    'maior',\n",
    "    'dia',\n",
    "    'segundo',\n",
    "    'pode',\n",
    "    'desde',\n",
    "    'todo',\n",
    "    'sobre',\n",
    "    'getty',\n",
    "    'getty images',\n",
    "    'anadolu',\n",
    "    'images',\n",
    "    'agency',\n",
    "    'ante',\n",
    "    'após',\n",
    "    'segunda',\n",
    "    'terça',\n",
    "    'quarta',\n",
    "    'quinta',\n",
    "    'sexta',\n",
    "    'sabado',\n",
    "    'domingo',\n",
    "    'feira',\n",
    "    'enquanto',\n",
    "    'deve',\n",
    "    'semana',\n",
    "    'nesta',\n",
    "    'caso',\n",
    "    'diz',\n",
    "    'hoje',\n",
    "    'brasil',\n",
    "    'empresa',\n",
    "    'grande',\n",
    "    'fonte',\n",
    "    'renovável',\n",
    "    'afirma',\n",
    "    'área',\n",
    "    'uso',\n",
    "    'capacidade',\n",
    "    'apenas',\n",
    "    'partir',\n",
    "    'projeto',\n",
    "    'cnn',\n",
    "    'passado',\n",
    "    'partir',\n",
    "    'porque',\n",
    "    'custo',\n",
    "    'exemplo',\n",
    "    'especialista',\n",
    "    'skydweller',\n",
    "    'vai',\n",
    "    'outra',\n",
    "    'gera',\n",
    "    'loja',\n",
    "    'minas_energia',\n",
    "    'twitter',\n",
    "    'antigo',\n",
    "    'minaseenergia',\n",
    "    'flickr',\n",
    "    'linkedin',\n",
    "    'facebook',\n",
    "    'social',\n",
    "    'instauram',\n",
    "    'gov',\n",
    "    'br',\n",
    "    'processo',\n",
    "    'ascom',\n",
    "    'setor',\n",
    "    'lei',\n",
    "    'gov br',\n",
    "    'youtube',\n",
    "    'comunicação',\n",
    "    'evento',\n",
    "    'oportunidade',\n",
    "    'energia',\n",
    "    'minas',\n",
    "    'ministério',\n",
    "    'ministro',\n",
    "    'objetivo',\n",
    "    'meio',\n",
    "    'bihões',\n",
    "    'assessoria',\n",
    "    'programa',\n",
    "    'produção',\n",
    "    'além',\n",
    "    'acesso',\n",
    "    'especial',\n",
    "    'bento albuquerque',\n",
    "    'além disso',\n",
    "    'termo',\n",
    "    'fim',\n",
    "    'novo',\n",
    "    'necessidade',\n",
    "    'final',\n",
    "    'nova',\n",
    "    'condições',\n",
    "    'bento albuquerque'\n",
    "    'bento',\n",
    "    'albuquerque',\n",
    "    'atendimento',\n",
    "    'bento']\n",
    "\n",
    "## stopwords used\n",
    "stop_words  = list(pt_stopwords) + list(STOPWORDS) + list(manual_stopwords) \n",
    "\n",
    "\n",
    "\n",
    "# WordCloud NLP algorithm\n",
    "\n",
    "## WordCloud Figure\n",
    "wordcloud = WordCloud(min_font_size=50, \n",
    "               max_font_size=500, \n",
    "               background_color='white', \n",
    "               mode=\"RGB\",\n",
    "               colormap='tab10',\n",
    "               stopwords=stop_words,\n",
    "               width=3000, \n",
    "               height=1500,\n",
    "               normalize_plurals= True\n",
    ").generate(text)\n",
    "\n",
    "## WordCloud Text Count\n",
    "wordcloud_text = WordCloud(min_font_size=50, \n",
    "               max_font_size=500, \n",
    "               background_color='white', \n",
    "               mode=\"RGB\",\n",
    "               colormap='tab10',\n",
    "               stopwords=stop_words,\n",
    "               width=3000, \n",
    "               height=1500,\n",
    "               normalize_plurals= True\n",
    ").process_text(text)"
   ]
  },
  {
   "cell_type": "code",
   "execution_count": 20,
   "metadata": {},
   "outputs": [
    {
     "data": {
      "image/png": "[encoded data removed]",
      "text/plain": [
       "<Figure size 1440x720 with 1 Axes>"
      ]
     },
     "metadata": {
      "needs_background": "light"
     },
     "output_type": "display_data"
    },
    {
     "data": {
      "text/plain": [
       "<Figure size 432x288 with 0 Axes>"
      ]
     },
     "metadata": {},
     "output_type": "display_data"
    }
   ],
   "source": [
    "# Ploting the WordCloud figure\n",
    "py.figure(figsize=(20,10))\n",
    "py.title(wordcloud_title, fontsize=10, color=\"red\")\n",
    "py.imshow(wordcloud, interpolation=\"bilinear\")\n",
    "py.axis(\"off\")\n",
    "\n",
    "fig1 = py.gcf()\n",
    "py.show()\n",
    "py.draw()\n",
    "fig1.savefig(search+'.png', dpi=100)\n",
    "\n",
    "\n",
    "\n"
   ]
  },
  {
   "cell_type": "code",
   "execution_count": 125,
   "metadata": {},
   "outputs": [],
   "source": [
    "# iterative scatter analysis with wordcloud words\n",
    "\n",
    "## creating a dataframe with the dictionary generated by the NLP algorithm\n",
    "df2 = pd.DataFrame.from_dict(wordcloud_text, orient='index') # generating a dataframe from a dictionary\n",
    "df2 = df2.rename(columns={0:'count'}) \n",
    "df2['word'] = df2.index\n",
    "df2 = df2.reset_index(drop=True)\n",
    "df2 = df2[['word','count']]\n",
    "df2.sort_values(by = ['count'],ascending = False,inplace = True, ignore_index = True)\n"
   ]
  },
  {
   "cell_type": "code",
   "execution_count": 126,
   "metadata": {},
   "outputs": [
    {
     "data": {
      "application/vnd.plotly.v1+json": {
       "config": {
        "plotlyServerURL": "https://plot.ly"
       },
       "data": [
        {
         "hovertemplate": "<b>%{hovertext}</b><br><br>word=geração<br>index=%{x}<br>count=%{marker.size}<extra></extra>",
         "hovertext": [
          "geração"
         ],
         "legendgroup": "geração",
         "marker": {
          "color": "#636efa",
          "size": [
           66
          ],
          "sizemode": "area",
          "sizeref": 0.018333333333333333,
          "symbol": "circle"
         },
         "mode": "markers",
         "name": "geração",
         "orientation": "v",
         "showlegend": true,
         "type": "scatter",
         "x": [
          0
         ],
         "xaxis": "x",
         "y": [
          66
         ],
         "yaxis": "y"
        },
        {
         "hovertemplate": "<b>%{hovertext}</b><br><br>word=consumidor<br>index=%{x}<br>count=%{marker.size}<extra></extra>",
         "hovertext": [
          "consumidor"
         ],
         "legendgroup": "consumidor",
         "marker": {
          "color": "#EF553B",
          "size": [
           45
          ],
          "sizemode": "area",
          "sizeref": 0.018333333333333333,
          "symbol": "circle"
         },
         "mode": "markers",
         "name": "consumidor",
         "orientation": "v",
         "showlegend": true,
         "type": "scatter",
         "x": [
          1
         ],
         "xaxis": "x",
         "y": [
          45
         ],
         "yaxis": "y"
        },
        {
         "hovertemplate": "<b>%{hovertext}</b><br><br>word=proposta<br>index=%{x}<br>count=%{marker.size}<extra></extra>",
         "hovertext": [
          "proposta"
         ],
         "legendgroup": "proposta",
         "marker": {
          "color": "#00cc96",
          "size": [
           42
          ],
          "sizemode": "area",
          "sizeref": 0.018333333333333333,
          "symbol": "circle"
         },
         "mode": "markers",
         "name": "proposta",
         "orientation": "v",
         "showlegend": true,
         "type": "scatter",
         "x": [
          2
         ],
         "xaxis": "x",
         "y": [
          42
         ],
         "yaxis": "y"
        },
        {
         "hovertemplate": "<b>%{hovertext}</b><br><br>word=contribuições<br>index=%{x}<br>count=%{marker.size}<extra></extra>",
         "hovertext": [
          "contribuições"
         ],
         "legendgroup": "contribuições",
         "marker": {
          "color": "#ab63fa",
          "size": [
           39
          ],
          "sizemode": "area",
          "sizeref": 0.018333333333333333,
          "symbol": "circle"
         },
         "mode": "markers",
         "name": "contribuições",
         "orientation": "v",
         "showlegend": true,
         "type": "scatter",
         "x": [
          3
         ],
         "xaxis": "x",
         "y": [
          39
         ],
         "yaxis": "y"
        },
        {
         "hovertemplate": "<b>%{hovertext}</b><br><br>word=junho<br>index=%{x}<br>count=%{marker.size}<extra></extra>",
         "hovertext": [
          "junho"
         ],
         "legendgroup": "junho",
         "marker": {
          "color": "#FFA15A",
          "size": [
           36
          ],
          "sizemode": "area",
          "sizeref": 0.018333333333333333,
          "symbol": "circle"
         },
         "mode": "markers",
         "name": "junho",
         "orientation": "v",
         "showlegend": true,
         "type": "scatter",
         "x": [
          4
         ],
         "xaxis": "x",
         "y": [
          36
         ],
         "yaxis": "y"
        },
        {
         "hovertemplate": "<b>%{hovertext}</b><br><br>word=transmissão<br>index=%{x}<br>count=%{marker.size}<extra></extra>",
         "hovertext": [
          "transmissão"
         ],
         "legendgroup": "transmissão",
         "marker": {
          "color": "#19d3f3",
          "size": [
           33
          ],
          "sizemode": "area",
          "sizeref": 0.018333333333333333,
          "symbol": "circle"
         },
         "mode": "markers",
         "name": "transmissão",
         "orientation": "v",
         "showlegend": true,
         "type": "scatter",
         "x": [
          5
         ],
         "xaxis": "x",
         "y": [
          33
         ],
         "yaxis": "y"
        },
        {
         "hovertemplate": "<b>%{hovertext}</b><br><br>word=efeito médio<br>index=%{x}<br>count=%{marker.size}<extra></extra>",
         "hovertext": [
          "efeito médio"
         ],
         "legendgroup": "efeito médio",
         "marker": {
          "color": "#FF6692",
          "size": [
           30
          ],
          "sizemode": "area",
          "sizeref": 0.018333333333333333,
          "symbol": "circle"
         },
         "mode": "markers",
         "name": "efeito médio",
         "orientation": "v",
         "showlegend": true,
         "type": "scatter",
         "x": [
          6
         ],
         "xaxis": "x",
         "y": [
          30
         ],
         "yaxis": "y"
        },
        {
         "hovertemplate": "<b>%{hovertext}</b><br><br>word=encargos setoriais<br>index=%{x}<br>count=%{marker.size}<extra></extra>",
         "hovertext": [
          "encargos setoriais"
         ],
         "legendgroup": "encargos setoriais",
         "marker": {
          "color": "#B6E880",
          "size": [
           27
          ],
          "sizemode": "area",
          "sizeref": 0.018333333333333333,
          "symbol": "circle"
         },
         "mode": "markers",
         "name": "encargos setoriais",
         "orientation": "v",
         "showlegend": true,
         "type": "scatter",
         "x": [
          7
         ],
         "xaxis": "x",
         "y": [
          27
         ],
         "yaxis": "y"
        },
        {
         "hovertemplate": "<b>%{hovertext}</b><br><br>word=regulação<br>index=%{x}<br>count=%{marker.size}<extra></extra>",
         "hovertext": [
          "regulação"
         ],
         "legendgroup": "regulação",
         "marker": {
          "color": "#FF97FF",
          "size": [
           27
          ],
          "sizemode": "area",
          "sizeref": 0.018333333333333333,
          "symbol": "circle"
         },
         "mode": "markers",
         "name": "regulação",
         "orientation": "v",
         "showlegend": true,
         "type": "scatter",
         "x": [
          8
         ],
         "xaxis": "x",
         "y": [
          27
         ],
         "yaxis": "y"
        },
        {
         "hovertemplate": "<b>%{hovertext}</b><br><br>word=revisão tarifária<br>index=%{x}<br>count=%{marker.size}<extra></extra>",
         "hovertext": [
          "revisão tarifária"
         ],
         "legendgroup": "revisão tarifária",
         "marker": {
          "color": "#FECB52",
          "size": [
           27
          ],
          "sizemode": "area",
          "sizeref": 0.018333333333333333,
          "symbol": "circle"
         },
         "mode": "markers",
         "name": "revisão tarifária",
         "orientation": "v",
         "showlegend": true,
         "type": "scatter",
         "x": [
          9
         ],
         "xaxis": "x",
         "y": [
          27
         ],
         "yaxis": "y"
        },
        {
         "hovertemplate": "<b>%{hovertext}</b><br><br>word=nova palma<br>index=%{x}<br>count=%{marker.size}<extra></extra>",
         "hovertext": [
          "nova palma"
         ],
         "legendgroup": "nova palma",
         "marker": {
          "color": "#636efa",
          "size": [
           27
          ],
          "sizemode": "area",
          "sizeref": 0.018333333333333333,
          "symbol": "circle"
         },
         "mode": "markers",
         "name": "nova palma",
         "orientation": "v",
         "showlegend": true,
         "type": "scatter",
         "x": [
          10
         ],
         "xaxis": "x",
         "y": [
          27
         ],
         "yaxis": "y"
        },
        {
         "hovertemplate": "<b>%{hovertext}</b><br><br>word=unidade consumidora<br>index=%{x}<br>count=%{marker.size}<extra></extra>",
         "hovertext": [
          "unidade consumidora"
         ],
         "legendgroup": "unidade consumidora",
         "marker": {
          "color": "#EF553B",
          "size": [
           24
          ],
          "sizemode": "area",
          "sizeref": 0.018333333333333333,
          "symbol": "circle"
         },
         "mode": "markers",
         "name": "unidade consumidora",
         "orientation": "v",
         "showlegend": true,
         "type": "scatter",
         "x": [
          11
         ],
         "xaxis": "x",
         "y": [
          24
         ],
         "yaxis": "y"
        },
        {
         "hovertemplate": "<b>%{hovertext}</b><br><br>word=município<br>index=%{x}<br>count=%{marker.size}<extra></extra>",
         "hovertext": [
          "município"
         ],
         "legendgroup": "município",
         "marker": {
          "color": "#00cc96",
          "size": [
           24
          ],
          "sizemode": "area",
          "sizeref": 0.018333333333333333,
          "symbol": "circle"
         },
         "mode": "markers",
         "name": "município",
         "orientation": "v",
         "showlegend": true,
         "type": "scatter",
         "x": [
          12
         ],
         "xaxis": "x",
         "y": [
          24
         ],
         "yaxis": "y"
        },
        {
         "hovertemplate": "<b>%{hovertext}</b><br><br>word=atendimento<br>index=%{x}<br>count=%{marker.size}<extra></extra>",
         "hovertext": [
          "atendimento"
         ],
         "legendgroup": "atendimento",
         "marker": {
          "color": "#ab63fa",
          "size": [
           24
          ],
          "sizemode": "area",
          "sizeref": 0.018333333333333333,
          "symbol": "circle"
         },
         "mode": "markers",
         "name": "atendimento",
         "orientation": "v",
         "showlegend": true,
         "type": "scatter",
         "x": [
          13
         ],
         "xaxis": "x",
         "y": [
          24
         ],
         "yaxis": "y"
        },
        {
         "hovertemplate": "<b>%{hovertext}</b><br><br>word=interrupção<br>index=%{x}<br>count=%{marker.size}<extra></extra>",
         "hovertext": [
          "interrupção"
         ],
         "legendgroup": "interrupção",
         "marker": {
          "color": "#FFA15A",
          "size": [
           24
          ],
          "sizemode": "area",
          "sizeref": 0.018333333333333333,
          "symbol": "circle"
         },
         "mode": "markers",
         "name": "interrupção",
         "orientation": "v",
         "showlegend": true,
         "type": "scatter",
         "x": [
          14
         ],
         "xaxis": "x",
         "y": [
          24
         ],
         "yaxis": "y"
        },
        {
         "hovertemplate": "<b>%{hovertext}</b><br><br>word=expansão<br>index=%{x}<br>count=%{marker.size}<extra></extra>",
         "hovertext": [
          "expansão"
         ],
         "legendgroup": "expansão",
         "marker": {
          "color": "#19d3f3",
          "size": [
           24
          ],
          "sizemode": "area",
          "sizeref": 0.018333333333333333,
          "symbol": "circle"
         },
         "mode": "markers",
         "name": "expansão",
         "orientation": "v",
         "showlegend": true,
         "type": "scatter",
         "x": [
          15
         ],
         "xaxis": "x",
         "y": [
          24
         ],
         "yaxis": "y"
        },
        {
         "hovertemplate": "<b>%{hovertext}</b><br><br>word=superintendência<br>index=%{x}<br>count=%{marker.size}<extra></extra>",
         "hovertext": [
          "superintendência"
         ],
         "legendgroup": "superintendência",
         "marker": {
          "color": "#FF6692",
          "size": [
           24
          ],
          "sizemode": "area",
          "sizeref": 0.018333333333333333,
          "symbol": "circle"
         },
         "mode": "markers",
         "name": "superintendência",
         "orientation": "v",
         "showlegend": true,
         "type": "scatter",
         "x": [
          16
         ],
         "xaxis": "x",
         "y": [
          24
         ],
         "yaxis": "y"
        },
        {
         "hovertemplate": "<b>%{hovertext}</b><br><br>word=segurança<br>index=%{x}<br>count=%{marker.size}<extra></extra>",
         "hovertext": [
          "segurança"
         ],
         "legendgroup": "segurança",
         "marker": {
          "color": "#B6E880",
          "size": [
           24
          ],
          "sizemode": "area",
          "sizeref": 0.018333333333333333,
          "symbol": "circle"
         },
         "mode": "markers",
         "name": "segurança",
         "orientation": "v",
         "showlegend": true,
         "type": "scatter",
         "x": [
          17
         ],
         "xaxis": "x",
         "y": [
          24
         ],
         "yaxis": "y"
        },
        {
         "hovertemplate": "<b>%{hovertext}</b><br><br>word=superintendente<br>index=%{x}<br>count=%{marker.size}<extra></extra>",
         "hovertext": [
          "superintendente"
         ],
         "legendgroup": "superintendente",
         "marker": {
          "color": "#FF97FF",
          "size": [
           21
          ],
          "sizemode": "area",
          "sizeref": 0.018333333333333333,
          "symbol": "circle"
         },
         "mode": "markers",
         "name": "superintendente",
         "orientation": "v",
         "showlegend": true,
         "type": "scatter",
         "x": [
          18
         ],
         "xaxis": "x",
         "y": [
          21
         ],
         "yaxis": "y"
        },
        {
         "hovertemplate": "<b>%{hovertext}</b><br><br>word=suprimento<br>index=%{x}<br>count=%{marker.size}<extra></extra>",
         "hovertext": [
          "suprimento"
         ],
         "legendgroup": "suprimento",
         "marker": {
          "color": "#FECB52",
          "size": [
           21
          ],
          "sizemode": "area",
          "sizeref": 0.018333333333333333,
          "symbol": "circle"
         },
         "mode": "markers",
         "name": "suprimento",
         "orientation": "v",
         "showlegend": true,
         "type": "scatter",
         "x": [
          19
         ],
         "xaxis": "x",
         "y": [
          21
         ],
         "yaxis": "y"
        },
        {
         "hovertemplate": "<b>%{hovertext}</b><br><br>word=paraíba<br>index=%{x}<br>count=%{marker.size}<extra></extra>",
         "hovertext": [
          "paraíba"
         ],
         "legendgroup": "paraíba",
         "marker": {
          "color": "#636efa",
          "size": [
           21
          ],
          "sizemode": "area",
          "sizeref": 0.018333333333333333,
          "symbol": "circle"
         },
         "mode": "markers",
         "name": "paraíba",
         "orientation": "v",
         "showlegend": true,
         "type": "scatter",
         "x": [
          20
         ],
         "xaxis": "x",
         "y": [
          21
         ],
         "yaxis": "y"
        },
        {
         "hovertemplate": "<b>%{hovertext}</b><br><br>word=fiscalização<br>index=%{x}<br>count=%{marker.size}<extra></extra>",
         "hovertext": [
          "fiscalização"
         ],
         "legendgroup": "fiscalização",
         "marker": {
          "color": "#EF553B",
          "size": [
           21
          ],
          "sizemode": "area",
          "sizeref": 0.018333333333333333,
          "symbol": "circle"
         },
         "mode": "markers",
         "name": "fiscalização",
         "orientation": "v",
         "showlegend": true,
         "type": "scatter",
         "x": [
          21
         ],
         "xaxis": "x",
         "y": [
          21
         ],
         "yaxis": "y"
        },
        {
         "hovertemplate": "<b>%{hovertext}</b><br><br>word=diretor geral<br>index=%{x}<br>count=%{marker.size}<extra></extra>",
         "hovertext": [
          "diretor geral"
         ],
         "legendgroup": "diretor geral",
         "marker": {
          "color": "#00cc96",
          "size": [
           21
          ],
          "sizemode": "area",
          "sizeref": 0.018333333333333333,
          "symbol": "circle"
         },
         "mode": "markers",
         "name": "diretor geral",
         "orientation": "v",
         "showlegend": true,
         "type": "scatter",
         "x": [
          22
         ],
         "xaxis": "x",
         "y": [
          21
         ],
         "yaxis": "y"
        },
        {
         "hovertemplate": "<b>%{hovertext}</b><br><br>word=usina<br>index=%{x}<br>count=%{marker.size}<extra></extra>",
         "hovertext": [
          "usina"
         ],
         "legendgroup": "usina",
         "marker": {
          "color": "#ab63fa",
          "size": [
           21
          ],
          "sizemode": "area",
          "sizeref": 0.018333333333333333,
          "symbol": "circle"
         },
         "mode": "markers",
         "name": "usina",
         "orientation": "v",
         "showlegend": true,
         "type": "scatter",
         "x": [
          23
         ],
         "xaxis": "x",
         "y": [
          21
         ],
         "yaxis": "y"
        },
        {
         "hovertemplate": "<b>%{hovertext}</b><br><br>word=subestações<br>index=%{x}<br>count=%{marker.size}<extra></extra>",
         "hovertext": [
          "subestações"
         ],
         "legendgroup": "subestações",
         "marker": {
          "color": "#FFA15A",
          "size": [
           18
          ],
          "sizemode": "area",
          "sizeref": 0.018333333333333333,
          "symbol": "circle"
         },
         "mode": "markers",
         "name": "subestações",
         "orientation": "v",
         "showlegend": true,
         "type": "scatter",
         "x": [
          24
         ],
         "xaxis": "x",
         "y": [
          18
         ],
         "yaxis": "y"
        },
        {
         "hovertemplate": "<b>%{hovertext}</b><br><br>word=residenciais b1<br>index=%{x}<br>count=%{marker.size}<extra></extra>",
         "hovertext": [
          "residenciais b1"
         ],
         "legendgroup": "residenciais b1",
         "marker": {
          "color": "#19d3f3",
          "size": [
           18
          ],
          "sizemode": "area",
          "sizeref": 0.018333333333333333,
          "symbol": "circle"
         },
         "mode": "markers",
         "name": "residenciais b1",
         "orientation": "v",
         "showlegend": true,
         "type": "scatter",
         "x": [
          25
         ],
         "xaxis": "x",
         "y": [
          18
         ],
         "yaxis": "y"
        },
        {
         "hovertemplate": "<b>%{hovertext}</b><br><br>word=distribuição<br>index=%{x}<br>count=%{marker.size}<extra></extra>",
         "hovertext": [
          "distribuição"
         ],
         "legendgroup": "distribuição",
         "marker": {
          "color": "#FF6692",
          "size": [
           18
          ],
          "sizemode": "area",
          "sizeref": 0.018333333333333333,
          "symbol": "circle"
         },
         "mode": "markers",
         "name": "distribuição",
         "orientation": "v",
         "showlegend": true,
         "type": "scatter",
         "x": [
          26
         ],
         "xaxis": "x",
         "y": [
          18
         ],
         "yaxis": "y"
        },
        {
         "hovertemplate": "<b>%{hovertext}</b><br><br>word=consumidores residenciais<br>index=%{x}<br>count=%{marker.size}<extra></extra>",
         "hovertext": [
          "consumidores residenciais"
         ],
         "legendgroup": "consumidores residenciais",
         "marker": {
          "color": "#B6E880",
          "size": [
           18
          ],
          "sizemode": "area",
          "sizeref": 0.018333333333333333,
          "symbol": "circle"
         },
         "mode": "markers",
         "name": "consumidores residenciais",
         "orientation": "v",
         "showlegend": true,
         "type": "scatter",
         "x": [
          27
         ],
         "xaxis": "x",
         "y": [
          18
         ],
         "yaxis": "y"
        },
        {
         "hovertemplate": "<b>%{hovertext}</b><br><br>word=consumo consumidores<br>index=%{x}<br>count=%{marker.size}<extra></extra>",
         "hovertext": [
          "consumo consumidores"
         ],
         "legendgroup": "consumo consumidores",
         "marker": {
          "color": "#FF97FF",
          "size": [
           18
          ],
          "sizemode": "area",
          "sizeref": 0.018333333333333333,
          "symbol": "circle"
         },
         "mode": "markers",
         "name": "consumo consumidores",
         "orientation": "v",
         "showlegend": true,
         "type": "scatter",
         "x": [
          28
         ],
         "xaxis": "x",
         "y": [
          18
         ],
         "yaxis": "y"
        },
        {
         "hovertemplate": "<b>%{hovertext}</b><br><br>word=consumidores cativos<br>index=%{x}<br>count=%{marker.size}<extra></extra>",
         "hovertext": [
          "consumidores cativos"
         ],
         "legendgroup": "consumidores cativos",
         "marker": {
          "color": "#FECB52",
          "size": [
           18
          ],
          "sizemode": "area",
          "sizeref": 0.018333333333333333,
          "symbol": "circle"
         },
         "mode": "markers",
         "name": "consumidores cativos",
         "orientation": "v",
         "showlegend": true,
         "type": "scatter",
         "x": [
          29
         ],
         "xaxis": "x",
         "y": [
          18
         ],
         "yaxis": "y"
        },
        {
         "hovertemplate": "<b>%{hovertext}</b><br><br>word=média efeito<br>index=%{x}<br>count=%{marker.size}<extra></extra>",
         "hovertext": [
          "média efeito"
         ],
         "legendgroup": "média efeito",
         "marker": {
          "color": "#636efa",
          "size": [
           18
          ],
          "sizemode": "area",
          "sizeref": 0.018333333333333333,
          "symbol": "circle"
         },
         "mode": "markers",
         "name": "média efeito",
         "orientation": "v",
         "showlegend": true,
         "type": "scatter",
         "x": [
          30
         ],
         "xaxis": "x",
         "y": [
          18
         ],
         "yaxis": "y"
        },
        {
         "hovertemplate": "<b>%{hovertext}</b><br><br>word=minas gerais<br>index=%{x}<br>count=%{marker.size}<extra></extra>",
         "hovertext": [
          "minas gerais"
         ],
         "legendgroup": "minas gerais",
         "marker": {
          "color": "#EF553B",
          "size": [
           18
          ],
          "sizemode": "area",
          "sizeref": 0.018333333333333333,
          "symbol": "circle"
         },
         "mode": "markers",
         "name": "minas gerais",
         "orientation": "v",
         "showlegend": true,
         "type": "scatter",
         "x": [
          31
         ],
         "xaxis": "x",
         "y": [
          18
         ],
         "yaxis": "y"
        },
        {
         "hovertemplate": "<b>%{hovertext}</b><br><br>word=rio<br>index=%{x}<br>count=%{marker.size}<extra></extra>",
         "hovertext": [
          "rio"
         ],
         "legendgroup": "rio",
         "marker": {
          "color": "#00cc96",
          "size": [
           18
          ],
          "sizemode": "area",
          "sizeref": 0.018333333333333333,
          "symbol": "circle"
         },
         "mode": "markers",
         "name": "rio",
         "orientation": "v",
         "showlegend": true,
         "type": "scatter",
         "x": [
          32
         ],
         "xaxis": "x",
         "y": [
          18
         ],
         "yaxis": "y"
        },
        {
         "hovertemplate": "<b>%{hovertext}</b><br><br>word=transformação<br>index=%{x}<br>count=%{marker.size}<extra></extra>",
         "hovertext": [
          "transformação"
         ],
         "legendgroup": "transformação",
         "marker": {
          "color": "#ab63fa",
          "size": [
           18
          ],
          "sizemode": "area",
          "sizeref": 0.018333333333333333,
          "symbol": "circle"
         },
         "mode": "markers",
         "name": "transformação",
         "orientation": "v",
         "showlegend": true,
         "type": "scatter",
         "x": [
          33
         ],
         "xaxis": "x",
         "y": [
          18
         ],
         "yaxis": "y"
        },
        {
         "hovertemplate": "<b>%{hovertext}</b><br><br>word=barragens<br>index=%{x}<br>count=%{marker.size}<extra></extra>",
         "hovertext": [
          "barragens"
         ],
         "legendgroup": "barragens",
         "marker": {
          "color": "#FFA15A",
          "size": [
           18
          ],
          "sizemode": "area",
          "sizeref": 0.018333333333333333,
          "symbol": "circle"
         },
         "mode": "markers",
         "name": "barragens",
         "orientation": "v",
         "showlegend": true,
         "type": "scatter",
         "x": [
          34
         ],
         "xaxis": "x",
         "y": [
          18
         ],
         "yaxis": "y"
        },
        {
         "hovertemplate": "<b>%{hovertext}</b><br><br>word=elétrico<br>index=%{x}<br>count=%{marker.size}<extra></extra>",
         "hovertext": [
          "elétrico"
         ],
         "legendgroup": "elétrico",
         "marker": {
          "color": "#19d3f3",
          "size": [
           18
          ],
          "sizemode": "area",
          "sizeref": 0.018333333333333333,
          "symbol": "circle"
         },
         "mode": "markers",
         "name": "elétrico",
         "orientation": "v",
         "showlegend": true,
         "type": "scatter",
         "x": [
          35
         ],
         "xaxis": "x",
         "y": [
          18
         ],
         "yaxis": "y"
        },
        {
         "hovertemplate": "<b>%{hovertext}</b><br><br>word=média<br>index=%{x}<br>count=%{marker.size}<extra></extra>",
         "hovertext": [
          "média"
         ],
         "legendgroup": "média",
         "marker": {
          "color": "#FF6692",
          "size": [
           18
          ],
          "sizemode": "area",
          "sizeref": 0.018333333333333333,
          "symbol": "circle"
         },
         "mode": "markers",
         "name": "média",
         "orientation": "v",
         "showlegend": true,
         "type": "scatter",
         "x": [
          36
         ],
         "xaxis": "x",
         "y": [
          18
         ],
         "yaxis": "y"
        },
        {
         "hovertemplate": "<b>%{hovertext}</b><br><br>word=diretoria<br>index=%{x}<br>count=%{marker.size}<extra></extra>",
         "hovertext": [
          "diretoria"
         ],
         "legendgroup": "diretoria",
         "marker": {
          "color": "#B6E880",
          "size": [
           18
          ],
          "sizemode": "area",
          "sizeref": 0.018333333333333333,
          "symbol": "circle"
         },
         "mode": "markers",
         "name": "diretoria",
         "orientation": "v",
         "showlegend": true,
         "type": "scatter",
         "x": [
          37
         ],
         "xaxis": "x",
         "y": [
          18
         ],
         "yaxis": "y"
        },
        {
         "hovertemplate": "<b>%{hovertext}</b><br><br>word=operação<br>index=%{x}<br>count=%{marker.size}<extra></extra>",
         "hovertext": [
          "operação"
         ],
         "legendgroup": "operação",
         "marker": {
          "color": "#FF97FF",
          "size": [
           18
          ],
          "sizemode": "area",
          "sizeref": 0.018333333333333333,
          "symbol": "circle"
         },
         "mode": "markers",
         "name": "operação",
         "orientation": "v",
         "showlegend": true,
         "type": "scatter",
         "x": [
          38
         ],
         "xaxis": "x",
         "y": [
          18
         ],
         "yaxis": "y"
        },
        {
         "hovertemplate": "<b>%{hovertext}</b><br><br>word=comercialização<br>index=%{x}<br>count=%{marker.size}<extra></extra>",
         "hovertext": [
          "comercialização"
         ],
         "legendgroup": "comercialização",
         "marker": {
          "color": "#FECB52",
          "size": [
           18
          ],
          "sizemode": "area",
          "sizeref": 0.018333333333333333,
          "symbol": "circle"
         },
         "mode": "markers",
         "name": "comercialização",
         "orientation": "v",
         "showlegend": true,
         "type": "scatter",
         "x": [
          39
         ],
         "xaxis": "x",
         "y": [
          18
         ],
         "yaxis": "y"
        },
        {
         "hovertemplate": "<b>%{hovertext}</b><br><br>word=análise<br>index=%{x}<br>count=%{marker.size}<extra></extra>",
         "hovertext": [
          "análise"
         ],
         "legendgroup": "análise",
         "marker": {
          "color": "#636efa",
          "size": [
           18
          ],
          "sizemode": "area",
          "sizeref": 0.018333333333333333,
          "symbol": "circle"
         },
         "mode": "markers",
         "name": "análise",
         "orientation": "v",
         "showlegend": true,
         "type": "scatter",
         "x": [
          40
         ],
         "xaxis": "x",
         "y": [
          18
         ],
         "yaxis": "y"
        },
        {
         "hovertemplate": "<b>%{hovertext}</b><br><br>word=meio<br>index=%{x}<br>count=%{marker.size}<extra></extra>",
         "hovertext": [
          "meio"
         ],
         "legendgroup": "meio",
         "marker": {
          "color": "#EF553B",
          "size": [
           15
          ],
          "sizemode": "area",
          "sizeref": 0.018333333333333333,
          "symbol": "circle"
         },
         "mode": "markers",
         "name": "meio",
         "orientation": "v",
         "showlegend": true,
         "type": "scatter",
         "x": [
          41
         ],
         "xaxis": "x",
         "y": [
          15
         ],
         "yaxis": "y"
        },
        {
         "hovertemplate": "<b>%{hovertext}</b><br><br>word=continuidade<br>index=%{x}<br>count=%{marker.size}<extra></extra>",
         "hovertext": [
          "continuidade"
         ],
         "legendgroup": "continuidade",
         "marker": {
          "color": "#00cc96",
          "size": [
           15
          ],
          "sizemode": "area",
          "sizeref": 0.018333333333333333,
          "symbol": "circle"
         },
         "mode": "markers",
         "name": "continuidade",
         "orientation": "v",
         "showlegend": true,
         "type": "scatter",
         "x": [
          42
         ],
         "xaxis": "x",
         "y": [
          15
         ],
         "yaxis": "y"
        },
        {
         "hovertemplate": "<b>%{hovertext}</b><br><br>word=leilão<br>index=%{x}<br>count=%{marker.size}<extra></extra>",
         "hovertext": [
          "leilão"
         ],
         "legendgroup": "leilão",
         "marker": {
          "color": "#ab63fa",
          "size": [
           15
          ],
          "sizemode": "area",
          "sizeref": 0.018333333333333333,
          "symbol": "circle"
         },
         "mode": "markers",
         "name": "leilão",
         "orientation": "v",
         "showlegend": true,
         "type": "scatter",
         "x": [
          43
         ],
         "xaxis": "x",
         "y": [
          15
         ],
         "yaxis": "y"
        },
        {
         "hovertemplate": "<b>%{hovertext}</b><br><br>word=unidades consumidoras<br>index=%{x}<br>count=%{marker.size}<extra></extra>",
         "hovertext": [
          "unidades consumidoras"
         ],
         "legendgroup": "unidades consumidoras",
         "marker": {
          "color": "#FFA15A",
          "size": [
           15
          ],
          "sizemode": "area",
          "sizeref": 0.018333333333333333,
          "symbol": "circle"
         },
         "mode": "markers",
         "name": "unidades consumidoras",
         "orientation": "v",
         "showlegend": true,
         "type": "scatter",
         "x": [
          44
         ],
         "xaxis": "x",
         "y": [
          15
         ],
         "yaxis": "y"
        },
        {
         "hovertemplate": "<b>%{hovertext}</b><br><br>word=janeiro<br>index=%{x}<br>count=%{marker.size}<extra></extra>",
         "hovertext": [
          "janeiro"
         ],
         "legendgroup": "janeiro",
         "marker": {
          "color": "#19d3f3",
          "size": [
           15
          ],
          "sizemode": "area",
          "sizeref": 0.018333333333333333,
          "symbol": "circle"
         },
         "mode": "markers",
         "name": "janeiro",
         "orientation": "v",
         "showlegend": true,
         "type": "scatter",
         "x": [
          45
         ],
         "xaxis": "x",
         "y": [
          15
         ],
         "yaxis": "y"
        },
        {
         "hovertemplate": "<b>%{hovertext}</b><br><br>word=enviadas<br>index=%{x}<br>count=%{marker.size}<extra></extra>",
         "hovertext": [
          "enviadas"
         ],
         "legendgroup": "enviadas",
         "marker": {
          "color": "#FF6692",
          "size": [
           15
          ],
          "sizemode": "area",
          "sizeref": 0.018333333333333333,
          "symbol": "circle"
         },
         "mode": "markers",
         "name": "enviadas",
         "orientation": "v",
         "showlegend": true,
         "type": "scatter",
         "x": [
          46
         ],
         "xaxis": "x",
         "y": [
          15
         ],
         "yaxis": "y"
        },
        {
         "hovertemplate": "<b>%{hovertext}</b><br><br>word=cativos baixa<br>index=%{x}<br>count=%{marker.size}<extra></extra>",
         "hovertext": [
          "cativos baixa"
         ],
         "legendgroup": "cativos baixa",
         "marker": {
          "color": "#B6E880",
          "size": [
           15
          ],
          "sizemode": "area",
          "sizeref": 0.018333333333333333,
          "symbol": "circle"
         },
         "mode": "markers",
         "name": "cativos baixa",
         "orientation": "v",
         "showlegend": true,
         "type": "scatter",
         "x": [
          47
         ],
         "xaxis": "x",
         "y": [
          15
         ],
         "yaxis": "y"
        },
        {
         "hovertemplate": "<b>%{hovertext}</b><br><br>word=trabalho<br>index=%{x}<br>count=%{marker.size}<extra></extra>",
         "hovertext": [
          "trabalho"
         ],
         "legendgroup": "trabalho",
         "marker": {
          "color": "#FF97FF",
          "size": [
           15
          ],
          "sizemode": "area",
          "sizeref": 0.018333333333333333,
          "symbol": "circle"
         },
         "mode": "markers",
         "name": "trabalho",
         "orientation": "v",
         "showlegend": true,
         "type": "scatter",
         "x": [
          48
         ],
         "xaxis": "x",
         "y": [
          15
         ],
         "yaxis": "y"
        },
        {
         "hovertemplate": "<b>%{hovertext}</b><br><br>word=regra<br>index=%{x}<br>count=%{marker.size}<extra></extra>",
         "hovertext": [
          "regra"
         ],
         "legendgroup": "regra",
         "marker": {
          "color": "#FECB52",
          "size": [
           15
          ],
          "sizemode": "area",
          "sizeref": 0.018333333333333333,
          "symbol": "circle"
         },
         "mode": "markers",
         "name": "regra",
         "orientation": "v",
         "showlegend": true,
         "type": "scatter",
         "x": [
          49
         ],
         "xaxis": "x",
         "y": [
          15
         ],
         "yaxis": "y"
        },
        {
         "hovertemplate": "<b>%{hovertext}</b><br><br>word=tema<br>index=%{x}<br>count=%{marker.size}<extra></extra>",
         "hovertext": [
          "tema"
         ],
         "legendgroup": "tema",
         "marker": {
          "color": "#636efa",
          "size": [
           15
          ],
          "sizemode": "area",
          "sizeref": 0.018333333333333333,
          "symbol": "circle"
         },
         "mode": "markers",
         "name": "tema",
         "orientation": "v",
         "showlegend": true,
         "type": "scatter",
         "x": [
          50
         ],
         "xaxis": "x",
         "y": [
          15
         ],
         "yaxis": "y"
        },
        {
         "hovertemplate": "<b>%{hovertext}</b><br><br>word=empreendimento<br>index=%{x}<br>count=%{marker.size}<extra></extra>",
         "hovertext": [
          "empreendimento"
         ],
         "legendgroup": "empreendimento",
         "marker": {
          "color": "#EF553B",
          "size": [
           15
          ],
          "sizemode": "area",
          "sizeref": 0.018333333333333333,
          "symbol": "circle"
         },
         "mode": "markers",
         "name": "empreendimento",
         "orientation": "v",
         "showlegend": true,
         "type": "scatter",
         "x": [
          51
         ],
         "xaxis": "x",
         "y": [
          15
         ],
         "yaxis": "y"
        },
        {
         "hovertemplate": "<b>%{hovertext}</b><br><br>word=oferta<br>index=%{x}<br>count=%{marker.size}<extra></extra>",
         "hovertext": [
          "oferta"
         ],
         "legendgroup": "oferta",
         "marker": {
          "color": "#00cc96",
          "size": [
           15
          ],
          "sizemode": "area",
          "sizeref": 0.018333333333333333,
          "symbol": "circle"
         },
         "mode": "markers",
         "name": "oferta",
         "orientation": "v",
         "showlegend": true,
         "type": "scatter",
         "x": [
          52
         ],
         "xaxis": "x",
         "y": [
          15
         ],
         "yaxis": "y"
        },
        {
         "hovertemplate": "<b>%{hovertext}</b><br><br>word=abertura<br>index=%{x}<br>count=%{marker.size}<extra></extra>",
         "hovertext": [
          "abertura"
         ],
         "legendgroup": "abertura",
         "marker": {
          "color": "#ab63fa",
          "size": [
           15
          ],
          "sizemode": "area",
          "sizeref": 0.018333333333333333,
          "symbol": "circle"
         },
         "mode": "markers",
         "name": "abertura",
         "orientation": "v",
         "showlegend": true,
         "type": "scatter",
         "x": [
          53
         ],
         "xaxis": "x",
         "y": [
          15
         ],
         "yaxis": "y"
        },
        {
         "hovertemplate": "<b>%{hovertext}</b><br><br>word=aprovou<br>index=%{x}<br>count=%{marker.size}<extra></extra>",
         "hovertext": [
          "aprovou"
         ],
         "legendgroup": "aprovou",
         "marker": {
          "color": "#FFA15A",
          "size": [
           15
          ],
          "sizemode": "area",
          "sizeref": 0.018333333333333333,
          "symbol": "circle"
         },
         "mode": "markers",
         "name": "aprovou",
         "orientation": "v",
         "showlegend": true,
         "type": "scatter",
         "x": [
          54
         ],
         "xaxis": "x",
         "y": [
          15
         ],
         "yaxis": "y"
        },
        {
         "hovertemplate": "<b>%{hovertext}</b><br><br>word=contrato<br>index=%{x}<br>count=%{marker.size}<extra></extra>",
         "hovertext": [
          "contrato"
         ],
         "legendgroup": "contrato",
         "marker": {
          "color": "#19d3f3",
          "size": [
           15
          ],
          "sizemode": "area",
          "sizeref": 0.018333333333333333,
          "symbol": "circle"
         },
         "mode": "markers",
         "name": "contrato",
         "orientation": "v",
         "showlegend": true,
         "type": "scatter",
         "x": [
          55
         ],
         "xaxis": "x",
         "y": [
          15
         ],
         "yaxis": "y"
        },
        {
         "hovertemplate": "<b>%{hovertext}</b><br><br>word=custos<br>index=%{x}<br>count=%{marker.size}<extra></extra>",
         "hovertext": [
          "custos"
         ],
         "legendgroup": "custos",
         "marker": {
          "color": "#FF6692",
          "size": [
           15
          ],
          "sizemode": "area",
          "sizeref": 0.018333333333333333,
          "symbol": "circle"
         },
         "mode": "markers",
         "name": "custos",
         "orientation": "v",
         "showlegend": true,
         "type": "scatter",
         "x": [
          56
         ],
         "xaxis": "x",
         "y": [
          15
         ],
         "yaxis": "y"
        },
        {
         "hovertemplate": "<b>%{hovertext}</b><br><br>word=x mva<br>index=%{x}<br>count=%{marker.size}<extra></extra>",
         "hovertext": [
          "x mva"
         ],
         "legendgroup": "x mva",
         "marker": {
          "color": "#B6E880",
          "size": [
           15
          ],
          "sizemode": "area",
          "sizeref": 0.018333333333333333,
          "symbol": "circle"
         },
         "mode": "markers",
         "name": "x mva",
         "orientation": "v",
         "showlegend": true,
         "type": "scatter",
         "x": [
          57
         ],
         "xaxis": "x",
         "y": [
          15
         ],
         "yaxis": "y"
        },
        {
         "hovertemplate": "<b>%{hovertext}</b><br><br>word=canal<br>index=%{x}<br>count=%{marker.size}<extra></extra>",
         "hovertext": [
          "canal"
         ],
         "legendgroup": "canal",
         "marker": {
          "color": "#FF97FF",
          "size": [
           15
          ],
          "sizemode": "area",
          "sizeref": 0.018333333333333333,
          "symbol": "circle"
         },
         "mode": "markers",
         "name": "canal",
         "orientation": "v",
         "showlegend": true,
         "type": "scatter",
         "x": [
          58
         ],
         "xaxis": "x",
         "y": [
          15
         ],
         "yaxis": "y"
        },
        {
         "hovertemplate": "<b>%{hovertext}</b><br><br>word=emg<br>index=%{x}<br>count=%{marker.size}<extra></extra>",
         "hovertext": [
          "emg"
         ],
         "legendgroup": "emg",
         "marker": {
          "color": "#FECB52",
          "size": [
           15
          ],
          "sizemode": "area",
          "sizeref": 0.018333333333333333,
          "symbol": "circle"
         },
         "mode": "markers",
         "name": "emg",
         "orientation": "v",
         "showlegend": true,
         "type": "scatter",
         "x": [
          59
         ],
         "xaxis": "x",
         "y": [
          15
         ],
         "yaxis": "y"
        },
        {
         "hovertemplate": "<b>%{hovertext}</b><br><br>word=sociedade<br>index=%{x}<br>count=%{marker.size}<extra></extra>",
         "hovertext": [
          "sociedade"
         ],
         "legendgroup": "sociedade",
         "marker": {
          "color": "#636efa",
          "size": [
           15
          ],
          "sizemode": "area",
          "sizeref": 0.018333333333333333,
          "symbol": "circle"
         },
         "mode": "markers",
         "name": "sociedade",
         "orientation": "v",
         "showlegend": true,
         "type": "scatter",
         "x": [
          60
         ],
         "xaxis": "x",
         "y": [
          15
         ],
         "yaxis": "y"
        },
        {
         "hovertemplate": "<b>%{hovertext}</b><br><br>word=maio<br>index=%{x}<br>count=%{marker.size}<extra></extra>",
         "hovertext": [
          "maio"
         ],
         "legendgroup": "maio",
         "marker": {
          "color": "#EF553B",
          "size": [
           15
          ],
          "sizemode": "area",
          "sizeref": 0.018333333333333333,
          "symbol": "circle"
         },
         "mode": "markers",
         "name": "maio",
         "orientation": "v",
         "showlegend": true,
         "type": "scatter",
         "x": [
          61
         ],
         "xaxis": "x",
         "y": [
          15
         ],
         "yaxis": "y"
        },
        {
         "hovertemplate": "<b>%{hovertext}</b><br><br>word=agrupamento<br>index=%{x}<br>count=%{marker.size}<extra></extra>",
         "hovertext": [
          "agrupamento"
         ],
         "legendgroup": "agrupamento",
         "marker": {
          "color": "#00cc96",
          "size": [
           15
          ],
          "sizemode": "area",
          "sizeref": 0.018333333333333333,
          "symbol": "circle"
         },
         "mode": "markers",
         "name": "agrupamento",
         "orientation": "v",
         "showlegend": true,
         "type": "scatter",
         "x": [
          62
         ],
         "xaxis": "x",
         "y": [
          15
         ],
         "yaxis": "y"
        },
        {
         "hovertemplate": "<b>%{hovertext}</b><br><br>word=equivale<br>index=%{x}<br>count=%{marker.size}<extra></extra>",
         "hovertext": [
          "equivale"
         ],
         "legendgroup": "equivale",
         "marker": {
          "color": "#ab63fa",
          "size": [
           15
          ],
          "sizemode": "area",
          "sizeref": 0.018333333333333333,
          "symbol": "circle"
         },
         "mode": "markers",
         "name": "equivale",
         "orientation": "v",
         "showlegend": true,
         "type": "scatter",
         "x": [
          63
         ],
         "xaxis": "x",
         "y": [
          15
         ],
         "yaxis": "y"
        },
        {
         "hovertemplate": "<b>%{hovertext}</b><br><br>word=gestão<br>index=%{x}<br>count=%{marker.size}<extra></extra>",
         "hovertext": [
          "gestão"
         ],
         "legendgroup": "gestão",
         "marker": {
          "color": "#FFA15A",
          "size": [
           15
          ],
          "sizemode": "area",
          "sizeref": 0.018333333333333333,
          "symbol": "circle"
         },
         "mode": "markers",
         "name": "gestão",
         "orientation": "v",
         "showlegend": true,
         "type": "scatter",
         "x": [
          64
         ],
         "xaxis": "x",
         "y": [
          15
         ],
         "yaxis": "y"
        },
        {
         "hovertemplate": "<b>%{hovertext}</b><br><br>word=participação<br>index=%{x}<br>count=%{marker.size}<extra></extra>",
         "hovertext": [
          "participação"
         ],
         "legendgroup": "participação",
         "marker": {
          "color": "#19d3f3",
          "size": [
           15
          ],
          "sizemode": "area",
          "sizeref": 0.018333333333333333,
          "symbol": "circle"
         },
         "mode": "markers",
         "name": "participação",
         "orientation": "v",
         "showlegend": true,
         "type": "scatter",
         "x": [
          65
         ],
         "xaxis": "x",
         "y": [
          15
         ],
         "yaxis": "y"
        },
        {
         "hovertemplate": "<b>%{hovertext}</b><br><br>word=sede<br>index=%{x}<br>count=%{marker.size}<extra></extra>",
         "hovertext": [
          "sede"
         ],
         "legendgroup": "sede",
         "marker": {
          "color": "#FF6692",
          "size": [
           15
          ],
          "sizemode": "area",
          "sizeref": 0.018333333333333333,
          "symbol": "circle"
         },
         "mode": "markers",
         "name": "sede",
         "orientation": "v",
         "showlegend": true,
         "type": "scatter",
         "x": [
          66
         ],
         "xaxis": "x",
         "y": [
          15
         ],
         "yaxis": "y"
        },
        {
         "hovertemplate": "<b>%{hovertext}</b><br><br>word=rede básica<br>index=%{x}<br>count=%{marker.size}<extra></extra>",
         "hovertext": [
          "rede básica"
         ],
         "legendgroup": "rede básica",
         "marker": {
          "color": "#B6E880",
          "size": [
           15
          ],
          "sizemode": "area",
          "sizeref": 0.018333333333333333,
          "symbol": "circle"
         },
         "mode": "markers",
         "name": "rede básica",
         "orientation": "v",
         "showlegend": true,
         "type": "scatter",
         "x": [
          67
         ],
         "xaxis": "x",
         "y": [
          15
         ],
         "yaxis": "y"
        },
        {
         "hovertemplate": "<b>%{hovertext}</b><br><br>word=sandoval feitosa<br>index=%{x}<br>count=%{marker.size}<extra></extra>",
         "hovertext": [
          "sandoval feitosa"
         ],
         "legendgroup": "sandoval feitosa",
         "marker": {
          "color": "#FF97FF",
          "size": [
           15
          ],
          "sizemode": "area",
          "sizeref": 0.018333333333333333,
          "symbol": "circle"
         },
         "mode": "markers",
         "name": "sandoval feitosa",
         "orientation": "v",
         "showlegend": true,
         "type": "scatter",
         "x": [
          68
         ],
         "xaxis": "x",
         "y": [
          15
         ],
         "yaxis": "y"
        },
        {
         "hovertemplate": "<b>%{hovertext}</b><br><br>word=cp<br>index=%{x}<br>count=%{marker.size}<extra></extra>",
         "hovertext": [
          "cp"
         ],
         "legendgroup": "cp",
         "marker": {
          "color": "#FECB52",
          "size": [
           15
          ],
          "sizemode": "area",
          "sizeref": 0.018333333333333333,
          "symbol": "circle"
         },
         "mode": "markers",
         "name": "cp",
         "orientation": "v",
         "showlegend": true,
         "type": "scatter",
         "x": [
          69
         ],
         "xaxis": "x",
         "y": [
          15
         ],
         "yaxis": "y"
        },
        {
         "hovertemplate": "<b>%{hovertext}</b><br><br>word=ariae<br>index=%{x}<br>count=%{marker.size}<extra></extra>",
         "hovertext": [
          "ariae"
         ],
         "legendgroup": "ariae",
         "marker": {
          "color": "#636efa",
          "size": [
           15
          ],
          "sizemode": "area",
          "sizeref": 0.018333333333333333,
          "symbol": "circle"
         },
         "mode": "markers",
         "name": "ariae",
         "orientation": "v",
         "showlegend": true,
         "type": "scatter",
         "x": [
          70
         ],
         "xaxis": "x",
         "y": [
          15
         ],
         "yaxis": "y"
        },
        {
         "hovertemplate": "<b>%{hovertext}</b><br><br>word=revisão<br>index=%{x}<br>count=%{marker.size}<extra></extra>",
         "hovertext": [
          "revisão"
         ],
         "legendgroup": "revisão",
         "marker": {
          "color": "#EF553B",
          "size": [
           12
          ],
          "sizemode": "area",
          "sizeref": 0.018333333333333333,
          "symbol": "circle"
         },
         "mode": "markers",
         "name": "revisão",
         "orientation": "v",
         "showlegend": true,
         "type": "scatter",
         "x": [
          71
         ],
         "xaxis": "x",
         "y": [
          12
         ],
         "yaxis": "y"
        },
        {
         "hovertemplate": "<b>%{hovertext}</b><br><br>word=anos<br>index=%{x}<br>count=%{marker.size}<extra></extra>",
         "hovertext": [
          "anos"
         ],
         "legendgroup": "anos",
         "marker": {
          "color": "#00cc96",
          "size": [
           12
          ],
          "sizemode": "area",
          "sizeref": 0.018333333333333333,
          "symbol": "circle"
         },
         "mode": "markers",
         "name": "anos",
         "orientation": "v",
         "showlegend": true,
         "type": "scatter",
         "x": [
          72
         ],
         "xaxis": "x",
         "y": [
          12
         ],
         "yaxis": "y"
        },
        {
         "hovertemplate": "<b>%{hovertext}</b><br><br>word=evento<br>index=%{x}<br>count=%{marker.size}<extra></extra>",
         "hovertext": [
          "evento"
         ],
         "legendgroup": "evento",
         "marker": {
          "color": "#ab63fa",
          "size": [
           12
          ],
          "sizemode": "area",
          "sizeref": 0.018333333333333333,
          "symbol": "circle"
         },
         "mode": "markers",
         "name": "evento",
         "orientation": "v",
         "showlegend": true,
         "type": "scatter",
         "x": [
          73
         ],
         "xaxis": "x",
         "y": [
          12
         ],
         "yaxis": "y"
        },
        {
         "hovertemplate": "<b>%{hovertext}</b><br><br>word=paulo<br>index=%{x}<br>count=%{marker.size}<extra></extra>",
         "hovertext": [
          "paulo"
         ],
         "legendgroup": "paulo",
         "marker": {
          "color": "#FFA15A",
          "size": [
           12
          ],
          "sizemode": "area",
          "sizeref": 0.018333333333333333,
          "symbol": "circle"
         },
         "mode": "markers",
         "name": "paulo",
         "orientation": "v",
         "showlegend": true,
         "type": "scatter",
         "x": [
          74
         ],
         "xaxis": "x",
         "y": [
          12
         ],
         "yaxis": "y"
        },
        {
         "hovertemplate": "<b>%{hovertext}</b><br><br>word=indicadores<br>index=%{x}<br>count=%{marker.size}<extra></extra>",
         "hovertext": [
          "indicadores"
         ],
         "legendgroup": "indicadores",
         "marker": {
          "color": "#19d3f3",
          "size": [
           12
          ],
          "sizemode": "area",
          "sizeref": 0.018333333333333333,
          "symbol": "circle"
         },
         "mode": "markers",
         "name": "indicadores",
         "orientation": "v",
         "showlegend": true,
         "type": "scatter",
         "x": [
          75
         ],
         "xaxis": "x",
         "y": [
          12
         ],
         "yaxis": "y"
        },
        {
         "hovertemplate": "<b>%{hovertext}</b><br><br>word=tarde<br>index=%{x}<br>count=%{marker.size}<extra></extra>",
         "hovertext": [
          "tarde"
         ],
         "legendgroup": "tarde",
         "marker": {
          "color": "#FF6692",
          "size": [
           12
          ],
          "sizemode": "area",
          "sizeref": 0.018333333333333333,
          "symbol": "circle"
         },
         "mode": "markers",
         "name": "tarde",
         "orientation": "v",
         "showlegend": true,
         "type": "scatter",
         "x": [
          76
         ],
         "xaxis": "x",
         "y": [
          12
         ],
         "yaxis": "y"
        },
        {
         "hovertemplate": "<b>%{hovertext}</b><br><br>word=km<br>index=%{x}<br>count=%{marker.size}<extra></extra>",
         "hovertext": [
          "km"
         ],
         "legendgroup": "km",
         "marker": {
          "color": "#B6E880",
          "size": [
           12
          ],
          "sizemode": "area",
          "sizeref": 0.018333333333333333,
          "symbol": "circle"
         },
         "mode": "markers",
         "name": "km",
         "orientation": "v",
         "showlegend": true,
         "type": "scatter",
         "x": [
          77
         ],
         "xaxis": "x",
         "y": [
          12
         ],
         "yaxis": "y"
        },
        {
         "hovertemplate": "<b>%{hovertext}</b><br><br>word=vigorar<br>index=%{x}<br>count=%{marker.size}<extra></extra>",
         "hovertext": [
          "vigorar"
         ],
         "legendgroup": "vigorar",
         "marker": {
          "color": "#FF97FF",
          "size": [
           12
          ],
          "sizemode": "area",
          "sizeref": 0.018333333333333333,
          "symbol": "circle"
         },
         "mode": "markers",
         "name": "vigorar",
         "orientation": "v",
         "showlegend": true,
         "type": "scatter",
         "x": [
          78
         ],
         "xaxis": "x",
         "y": [
          12
         ],
         "yaxis": "y"
        },
        {
         "hovertemplate": "<b>%{hovertext}</b><br><br>word=andré pepitone<br>index=%{x}<br>count=%{marker.size}<extra></extra>",
         "hovertext": [
          "andré pepitone"
         ],
         "legendgroup": "andré pepitone",
         "marker": {
          "color": "#FECB52",
          "size": [
           12
          ],
          "sizemode": "area",
          "sizeref": 0.018333333333333333,
          "symbol": "circle"
         },
         "mode": "markers",
         "name": "andré pepitone",
         "orientation": "v",
         "showlegend": true,
         "type": "scatter",
         "x": [
          79
         ],
         "xaxis": "x",
         "y": [
          12
         ],
         "yaxis": "y"
        },
        {
         "hovertemplate": "<b>%{hovertext}</b><br><br>word=medalha<br>index=%{x}<br>count=%{marker.size}<extra></extra>",
         "hovertext": [
          "medalha"
         ],
         "legendgroup": "medalha",
         "marker": {
          "color": "#636efa",
          "size": [
           12
          ],
          "sizemode": "area",
          "sizeref": 0.018333333333333333,
          "symbol": "circle"
         },
         "mode": "markers",
         "name": "medalha",
         "orientation": "v",
         "showlegend": true,
         "type": "scatter",
         "x": [
          80
         ],
         "xaxis": "x",
         "y": [
          12
         ],
         "yaxis": "y"
        },
        {
         "hovertemplate": "<b>%{hovertext}</b><br><br>word=diretor sandoval<br>index=%{x}<br>count=%{marker.size}<extra></extra>",
         "hovertext": [
          "diretor sandoval"
         ],
         "legendgroup": "diretor sandoval",
         "marker": {
          "color": "#EF553B",
          "size": [
           12
          ],
          "sizemode": "area",
          "sizeref": 0.018333333333333333,
          "symbol": "circle"
         },
         "mode": "markers",
         "name": "diretor sandoval",
         "orientation": "v",
         "showlegend": true,
         "type": "scatter",
         "x": [
          81
         ],
         "xaxis": "x",
         "y": [
          12
         ],
         "yaxis": "y"
        },
        {
         "hovertemplate": "<b>%{hovertext}</b><br><br>word=mux<br>index=%{x}<br>count=%{marker.size}<extra></extra>",
         "hovertext": [
          "mux"
         ],
         "legendgroup": "mux",
         "marker": {
          "color": "#00cc96",
          "size": [
           12
          ],
          "sizemode": "area",
          "sizeref": 0.018333333333333333,
          "symbol": "circle"
         },
         "mode": "markers",
         "name": "mux",
         "orientation": "v",
         "showlegend": true,
         "type": "scatter",
         "x": [
          82
         ],
         "xaxis": "x",
         "y": [
          12
         ],
         "yaxis": "y"
        },
        {
         "hovertemplate": "<b>%{hovertext}</b><br><br>word=desenvolvimento<br>index=%{x}<br>count=%{marker.size}<extra></extra>",
         "hovertext": [
          "desenvolvimento"
         ],
         "legendgroup": "desenvolvimento",
         "marker": {
          "color": "#ab63fa",
          "size": [
           12
          ],
          "sizemode": "area",
          "sizeref": 0.018333333333333333,
          "symbol": "circle"
         },
         "mode": "markers",
         "name": "desenvolvimento",
         "orientation": "v",
         "showlegend": true,
         "type": "scatter",
         "x": [
          83
         ],
         "xaxis": "x",
         "y": [
          12
         ],
         "yaxis": "y"
        },
        {
         "hovertemplate": "<b>%{hovertext}</b><br><br>word=porto<br>index=%{x}<br>count=%{marker.size}<extra></extra>",
         "hovertext": [
          "porto"
         ],
         "legendgroup": "porto",
         "marker": {
          "color": "#FFA15A",
          "size": [
           12
          ],
          "sizemode": "area",
          "sizeref": 0.018333333333333333,
          "symbol": "circle"
         },
         "mode": "markers",
         "name": "porto",
         "orientation": "v",
         "showlegend": true,
         "type": "scatter",
         "x": [
          84
         ],
         "xaxis": "x",
         "y": [
          12
         ],
         "yaxis": "y"
        },
        {
         "hovertemplate": "<b>%{hovertext}</b><br><br>word=classe<br>index=%{x}<br>count=%{marker.size}<extra></extra>",
         "hovertext": [
          "classe"
         ],
         "legendgroup": "classe",
         "marker": {
          "color": "#19d3f3",
          "size": [
           12
          ],
          "sizemode": "area",
          "sizeref": 0.018333333333333333,
          "symbol": "circle"
         },
         "mode": "markers",
         "name": "classe",
         "orientation": "v",
         "showlegend": true,
         "type": "scatter",
         "x": [
          85
         ],
         "xaxis": "x",
         "y": [
          12
         ],
         "yaxis": "y"
        },
        {
         "hovertemplate": "<b>%{hovertext}</b><br><br>word=habitantes<br>index=%{x}<br>count=%{marker.size}<extra></extra>",
         "hovertext": [
          "habitantes"
         ],
         "legendgroup": "habitantes",
         "marker": {
          "color": "#FF6692",
          "size": [
           12
          ],
          "sizemode": "area",
          "sizeref": 0.018333333333333333,
          "symbol": "circle"
         },
         "mode": "markers",
         "name": "habitantes",
         "orientation": "v",
         "showlegend": true,
         "type": "scatter",
         "x": [
          86
         ],
         "xaxis": "x",
         "y": [
          12
         ],
         "yaxis": "y"
        },
        {
         "hovertemplate": "<b>%{hovertext}</b><br><br>word=outros<br>index=%{x}<br>count=%{marker.size}<extra></extra>",
         "hovertext": [
          "outros"
         ],
         "legendgroup": "outros",
         "marker": {
          "color": "#B6E880",
          "size": [
           12
          ],
          "sizemode": "area",
          "sizeref": 0.018333333333333333,
          "symbol": "circle"
         },
         "mode": "markers",
         "name": "outros",
         "orientation": "v",
         "showlegend": true,
         "type": "scatter",
         "x": [
          87
         ],
         "xaxis": "x",
         "y": [
          12
         ],
         "yaxis": "y"
        },
        {
         "hovertemplate": "<b>%{hovertext}</b><br><br>word=oportunidade<br>index=%{x}<br>count=%{marker.size}<extra></extra>",
         "hovertext": [
          "oportunidade"
         ],
         "legendgroup": "oportunidade",
         "marker": {
          "color": "#FF97FF",
          "size": [
           12
          ],
          "sizemode": "area",
          "sizeref": 0.018333333333333333,
          "symbol": "circle"
         },
         "mode": "markers",
         "name": "oportunidade",
         "orientation": "v",
         "showlegend": true,
         "type": "scatter",
         "x": [
          88
         ],
         "xaxis": "x",
         "y": [
          12
         ],
         "yaxis": "y"
        },
        {
         "hovertemplate": "<b>%{hovertext}</b><br><br>word=cargo<br>index=%{x}<br>count=%{marker.size}<extra></extra>",
         "hovertext": [
          "cargo"
         ],
         "legendgroup": "cargo",
         "marker": {
          "color": "#FECB52",
          "size": [
           12
          ],
          "sizemode": "area",
          "sizeref": 0.018333333333333333,
          "symbol": "circle"
         },
         "mode": "markers",
         "name": "cargo",
         "orientation": "v",
         "showlegend": true,
         "type": "scatter",
         "x": [
          89
         ],
         "xaxis": "x",
         "y": [
          12
         ],
         "yaxis": "y"
        },
        {
         "hovertemplate": "<b>%{hovertext}</b><br><br>word=painel<br>index=%{x}<br>count=%{marker.size}<extra></extra>",
         "hovertext": [
          "painel"
         ],
         "legendgroup": "painel",
         "marker": {
          "color": "#636efa",
          "size": [
           12
          ],
          "sizemode": "area",
          "sizeref": 0.018333333333333333,
          "symbol": "circle"
         },
         "mode": "markers",
         "name": "painel",
         "orientation": "v",
         "showlegend": true,
         "type": "scatter",
         "x": [
          90
         ],
         "xaxis": "x",
         "y": [
          12
         ],
         "yaxis": "y"
        },
        {
         "hovertemplate": "<b>%{hovertext}</b><br><br>word=enviar contribuições<br>index=%{x}<br>count=%{marker.size}<extra></extra>",
         "hovertext": [
          "enviar contribuições"
         ],
         "legendgroup": "enviar contribuições",
         "marker": {
          "color": "#EF553B",
          "size": [
           12
          ],
          "sizemode": "area",
          "sizeref": 0.018333333333333333,
          "symbol": "circle"
         },
         "mode": "markers",
         "name": "enviar contribuições",
         "orientation": "v",
         "showlegend": true,
         "type": "scatter",
         "x": [
          91
         ],
         "xaxis": "x",
         "y": [
          12
         ],
         "yaxis": "y"
        },
        {
         "hovertemplate": "<b>%{hovertext}</b><br><br>word=consultas públicas<br>index=%{x}<br>count=%{marker.size}<extra></extra>",
         "hovertext": [
          "consultas públicas"
         ],
         "legendgroup": "consultas públicas",
         "marker": {
          "color": "#00cc96",
          "size": [
           12
          ],
          "sizemode": "area",
          "sizeref": 0.018333333333333333,
          "symbol": "circle"
         },
         "mode": "markers",
         "name": "consultas públicas",
         "orientation": "v",
         "showlegend": true,
         "type": "scatter",
         "x": [
          92
         ],
         "xaxis": "x",
         "y": [
          12
         ],
         "yaxis": "y"
        },
        {
         "hovertemplate": "<b>%{hovertext}</b><br><br>word=edital<br>index=%{x}<br>count=%{marker.size}<extra></extra>",
         "hovertext": [
          "edital"
         ],
         "legendgroup": "edital",
         "marker": {
          "color": "#ab63fa",
          "size": [
           12
          ],
          "sizemode": "area",
          "sizeref": 0.018333333333333333,
          "symbol": "circle"
         },
         "mode": "markers",
         "name": "edital",
         "orientation": "v",
         "showlegend": true,
         "type": "scatter",
         "x": [
          93
         ],
         "xaxis": "x",
         "y": [
          12
         ],
         "yaxis": "y"
        },
        {
         "hovertemplate": "<b>%{hovertext}</b><br><br>word=enf<br>index=%{x}<br>count=%{marker.size}<extra></extra>",
         "hovertext": [
          "enf"
         ],
         "legendgroup": "enf",
         "marker": {
          "color": "#FFA15A",
          "size": [
           12
          ],
          "sizemode": "area",
          "sizeref": 0.018333333333333333,
          "symbol": "circle"
         },
         "mode": "markers",
         "name": "enf",
         "orientation": "v",
         "showlegend": true,
         "type": "scatter",
         "x": [
          94
         ],
         "xaxis": "x",
         "y": [
          12
         ],
         "yaxis": "y"
        },
        {
         "hovertemplate": "<b>%{hovertext}</b><br><br>word=tarifa<br>index=%{x}<br>count=%{marker.size}<extra></extra>",
         "hovertext": [
          "tarifa"
         ],
         "legendgroup": "tarifa",
         "marker": {
          "color": "#19d3f3",
          "size": [
           12
          ],
          "sizemode": "area",
          "sizeref": 0.018333333333333333,
          "symbol": "circle"
         },
         "mode": "markers",
         "name": "tarifa",
         "orientation": "v",
         "showlegend": true,
         "type": "scatter",
         "x": [
          95
         ],
         "xaxis": "x",
         "y": [
          12
         ],
         "yaxis": "y"
        },
        {
         "hovertemplate": "<b>%{hovertext}</b><br><br>word=ebo<br>index=%{x}<br>count=%{marker.size}<extra></extra>",
         "hovertext": [
          "ebo"
         ],
         "legendgroup": "ebo",
         "marker": {
          "color": "#FF6692",
          "size": [
           12
          ],
          "sizemode": "area",
          "sizeref": 0.018333333333333333,
          "symbol": "circle"
         },
         "mode": "markers",
         "name": "ebo",
         "orientation": "v",
         "showlegend": true,
         "type": "scatter",
         "x": [
          96
         ],
         "xaxis": "x",
         "y": [
          12
         ],
         "yaxis": "y"
        },
        {
         "hovertemplate": "<b>%{hovertext}</b><br><br>word=previsto<br>index=%{x}<br>count=%{marker.size}<extra></extra>",
         "hovertext": [
          "previsto"
         ],
         "legendgroup": "previsto",
         "marker": {
          "color": "#B6E880",
          "size": [
           12
          ],
          "sizemode": "area",
          "sizeref": 0.018333333333333333,
          "symbol": "circle"
         },
         "mode": "markers",
         "name": "previsto",
         "orientation": "v",
         "showlegend": true,
         "type": "scatter",
         "x": [
          97
         ],
         "xaxis": "x",
         "y": [
          12
         ],
         "yaxis": "y"
        },
        {
         "hovertemplate": "<b>%{hovertext}</b><br><br>word=usinas eólicas<br>index=%{x}<br>count=%{marker.size}<extra></extra>",
         "hovertext": [
          "usinas eólicas"
         ],
         "legendgroup": "usinas eólicas",
         "marker": {
          "color": "#FF97FF",
          "size": [
           12
          ],
          "sizemode": "area",
          "sizeref": 0.018333333333333333,
          "symbol": "circle"
         },
         "mode": "markers",
         "name": "usinas eólicas",
         "orientation": "v",
         "showlegend": true,
         "type": "scatter",
         "x": [
          98
         ],
         "xaxis": "x",
         "y": [
          12
         ],
         "yaxis": "y"
        },
        {
         "hovertemplate": "<b>%{hovertext}</b><br><br>word=poderão enviar<br>index=%{x}<br>count=%{marker.size}<extra></extra>",
         "hovertext": [
          "poderão enviar"
         ],
         "legendgroup": "poderão enviar",
         "marker": {
          "color": "#FECB52",
          "size": [
           12
          ],
          "sizemode": "area",
          "sizeref": 0.018333333333333333,
          "symbol": "circle"
         },
         "mode": "markers",
         "name": "poderão enviar",
         "orientation": "v",
         "showlegend": true,
         "type": "scatter",
         "x": [
          99
         ],
         "xaxis": "x",
         "y": [
          12
         ],
         "yaxis": "y"
        },
        {
         "hovertemplate": "<b>%{hovertext}</b><br><br>word=atua<br>index=%{x}<br>count=%{marker.size}<extra></extra>",
         "hovertext": [
          "atua"
         ],
         "legendgroup": "atua",
         "marker": {
          "color": "#636efa",
          "size": [
           12
          ],
          "sizemode": "area",
          "sizeref": 0.018333333333333333,
          "symbol": "circle"
         },
         "mode": "markers",
         "name": "atua",
         "orientation": "v",
         "showlegend": true,
         "type": "scatter",
         "x": [
          100
         ],
         "xaxis": "x",
         "y": [
          12
         ],
         "yaxis": "y"
        },
        {
         "hovertemplate": "<b>%{hovertext}</b><br><br>word=população<br>index=%{x}<br>count=%{marker.size}<extra></extra>",
         "hovertext": [
          "população"
         ],
         "legendgroup": "população",
         "marker": {
          "color": "#EF553B",
          "size": [
           12
          ],
          "sizemode": "area",
          "sizeref": 0.018333333333333333,
          "symbol": "circle"
         },
         "mode": "markers",
         "name": "população",
         "orientation": "v",
         "showlegend": true,
         "type": "scatter",
         "x": [
          101
         ],
         "xaxis": "x",
         "y": [
          12
         ],
         "yaxis": "y"
        },
        {
         "hovertemplate": "<b>%{hovertext}</b><br><br>word=quantidade<br>index=%{x}<br>count=%{marker.size}<extra></extra>",
         "hovertext": [
          "quantidade"
         ],
         "legendgroup": "quantidade",
         "marker": {
          "color": "#00cc96",
          "size": [
           12
          ],
          "sizemode": "area",
          "sizeref": 0.018333333333333333,
          "symbol": "circle"
         },
         "mode": "markers",
         "name": "quantidade",
         "orientation": "v",
         "showlegend": true,
         "type": "scatter",
         "x": [
          102
         ],
         "xaxis": "x",
         "y": [
          12
         ],
         "yaxis": "y"
        },
        {
         "hovertemplate": "<b>%{hovertext}</b><br><br>word=relatório<br>index=%{x}<br>count=%{marker.size}<extra></extra>",
         "hovertext": [
          "relatório"
         ],
         "legendgroup": "relatório",
         "marker": {
          "color": "#ab63fa",
          "size": [
           12
          ],
          "sizemode": "area",
          "sizeref": 0.018333333333333333,
          "symbol": "circle"
         },
         "mode": "markers",
         "name": "relatório",
         "orientation": "v",
         "showlegend": true,
         "type": "scatter",
         "x": [
          103
         ],
         "xaxis": "x",
         "y": [
          12
         ],
         "yaxis": "y"
        },
        {
         "hovertemplate": "<b>%{hovertext}</b><br><br>word=distribuidora<br>index=%{x}<br>count=%{marker.size}<extra></extra>",
         "hovertext": [
          "distribuidora"
         ],
         "legendgroup": "distribuidora",
         "marker": {
          "color": "#FFA15A",
          "size": [
           12
          ],
          "sizemode": "area",
          "sizeref": 0.018333333333333333,
          "symbol": "circle"
         },
         "mode": "markers",
         "name": "distribuidora",
         "orientation": "v",
         "showlegend": true,
         "type": "scatter",
         "x": [
          104
         ],
         "xaxis": "x",
         "y": [
          12
         ],
         "yaxis": "y"
        },
        {
         "hovertemplate": "<b>%{hovertext}</b><br><br>word=fornecida<br>index=%{x}<br>count=%{marker.size}<extra></extra>",
         "hovertext": [
          "fornecida"
         ],
         "legendgroup": "fornecida",
         "marker": {
          "color": "#19d3f3",
          "size": [
           12
          ],
          "sizemode": "area",
          "sizeref": 0.018333333333333333,
          "symbol": "circle"
         },
         "mode": "markers",
         "name": "fornecida",
         "orientation": "v",
         "showlegend": true,
         "type": "scatter",
         "x": [
          105
         ],
         "xaxis": "x",
         "y": [
          12
         ],
         "yaxis": "y"
        },
        {
         "hovertemplate": "<b>%{hovertext}</b><br><br>word=debate<br>index=%{x}<br>count=%{marker.size}<extra></extra>",
         "hovertext": [
          "debate"
         ],
         "legendgroup": "debate",
         "marker": {
          "color": "#FF6692",
          "size": [
           12
          ],
          "sizemode": "area",
          "sizeref": 0.018333333333333333,
          "symbol": "circle"
         },
         "mode": "markers",
         "name": "debate",
         "orientation": "v",
         "showlegend": true,
         "type": "scatter",
         "x": [
          106
         ],
         "xaxis": "x",
         "y": [
          12
         ],
         "yaxis": "y"
        },
        {
         "hovertemplate": "<b>%{hovertext}</b><br><br>word=dano potencial<br>index=%{x}<br>count=%{marker.size}<extra></extra>",
         "hovertext": [
          "dano potencial"
         ],
         "legendgroup": "dano potencial",
         "marker": {
          "color": "#B6E880",
          "size": [
           12
          ],
          "sizemode": "area",
          "sizeref": 0.018333333333333333,
          "symbol": "circle"
         },
         "mode": "markers",
         "name": "dano potencial",
         "orientation": "v",
         "showlegend": true,
         "type": "scatter",
         "x": [
          107
         ],
         "xaxis": "x",
         "y": [
          12
         ],
         "yaxis": "y"
        },
        {
         "hovertemplate": "<b>%{hovertext}</b><br><br>word=risco<br>index=%{x}<br>count=%{marker.size}<extra></extra>",
         "hovertext": [
          "risco"
         ],
         "legendgroup": "risco",
         "marker": {
          "color": "#FF97FF",
          "size": [
           12
          ],
          "sizemode": "area",
          "sizeref": 0.018333333333333333,
          "symbol": "circle"
         },
         "mode": "markers",
         "name": "risco",
         "orientation": "v",
         "showlegend": true,
         "type": "scatter",
         "x": [
          108
         ],
         "xaxis": "x",
         "y": [
          12
         ],
         "yaxis": "y"
        },
        {
         "hovertemplate": "<b>%{hovertext}</b><br><br>word=epb<br>index=%{x}<br>count=%{marker.size}<extra></extra>",
         "hovertext": [
          "epb"
         ],
         "legendgroup": "epb",
         "marker": {
          "color": "#FECB52",
          "size": [
           12
          ],
          "sizemode": "area",
          "sizeref": 0.018333333333333333,
          "symbol": "circle"
         },
         "mode": "markers",
         "name": "epb",
         "orientation": "v",
         "showlegend": true,
         "type": "scatter",
         "x": [
          109
         ],
         "xaxis": "x",
         "y": [
          12
         ],
         "yaxis": "y"
        },
        {
         "hovertemplate": "<b>%{hovertext}</b><br><br>word=anos diferenciado<br>index=%{x}<br>count=%{marker.size}<extra></extra>",
         "hovertext": [
          "anos diferenciado"
         ],
         "legendgroup": "anos diferenciado",
         "marker": {
          "color": "#636efa",
          "size": [
           12
          ],
          "sizemode": "area",
          "sizeref": 0.018333333333333333,
          "symbol": "circle"
         },
         "mode": "markers",
         "name": "anos diferenciado",
         "orientation": "v",
         "showlegend": true,
         "type": "scatter",
         "x": [
          110
         ],
         "xaxis": "x",
         "y": [
          12
         ],
         "yaxis": "y"
        },
        {
         "hovertemplate": "<b>%{hovertext}</b><br><br>word=duração equivalente<br>index=%{x}<br>count=%{marker.size}<extra></extra>",
         "hovertext": [
          "duração equivalente"
         ],
         "legendgroup": "duração equivalente",
         "marker": {
          "color": "#EF553B",
          "size": [
           12
          ],
          "sizemode": "area",
          "sizeref": 0.018333333333333333,
          "symbol": "circle"
         },
         "mode": "markers",
         "name": "duração equivalente",
         "orientation": "v",
         "showlegend": true,
         "type": "scatter",
         "x": [
          111
         ],
         "xaxis": "x",
         "y": [
          12
         ],
         "yaxis": "y"
        },
        {
         "hovertemplate": "<b>%{hovertext}</b><br><br>word=índices passarão<br>index=%{x}<br>count=%{marker.size}<extra></extra>",
         "hovertext": [
          "índices passarão"
         ],
         "legendgroup": "índices passarão",
         "marker": {
          "color": "#00cc96",
          "size": [
           12
          ],
          "sizemode": "area",
          "sizeref": 0.018333333333333333,
          "symbol": "circle"
         },
         "mode": "markers",
         "name": "índices passarão",
         "orientation": "v",
         "showlegend": true,
         "type": "scatter",
         "x": [
          112
         ],
         "xaxis": "x",
         "y": [
          12
         ],
         "yaxis": "y"
        },
        {
         "hovertemplate": "<b>%{hovertext}</b><br><br>word=diretor<br>index=%{x}<br>count=%{marker.size}<extra></extra>",
         "hovertext": [
          "diretor"
         ],
         "legendgroup": "diretor",
         "marker": {
          "color": "#ab63fa",
          "size": [
           12
          ],
          "sizemode": "area",
          "sizeref": 0.018333333333333333,
          "symbol": "circle"
         },
         "mode": "markers",
         "name": "diretor",
         "orientation": "v",
         "showlegend": true,
         "type": "scatter",
         "x": [
          113
         ],
         "xaxis": "x",
         "y": [
          12
         ],
         "yaxis": "y"
        },
        {
         "hovertemplate": "<b>%{hovertext}</b><br><br>word=consumidora fec<br>index=%{x}<br>count=%{marker.size}<extra></extra>",
         "hovertext": [
          "consumidora fec"
         ],
         "legendgroup": "consumidora fec",
         "marker": {
          "color": "#FFA15A",
          "size": [
           12
          ],
          "sizemode": "area",
          "sizeref": 0.018333333333333333,
          "symbol": "circle"
         },
         "mode": "markers",
         "name": "consumidora fec",
         "orientation": "v",
         "showlegend": true,
         "type": "scatter",
         "x": [
          114
         ],
         "xaxis": "x",
         "y": [
          12
         ],
         "yaxis": "y"
        },
        {
         "hovertemplate": "<b>%{hovertext}</b><br><br>word=mil unidades<br>index=%{x}<br>count=%{marker.size}<extra></extra>",
         "hovertext": [
          "mil unidades"
         ],
         "legendgroup": "mil unidades",
         "marker": {
          "color": "#19d3f3",
          "size": [
           12
          ],
          "sizemode": "area",
          "sizeref": 0.018333333333333333,
          "symbol": "circle"
         },
         "mode": "markers",
         "name": "mil unidades",
         "orientation": "v",
         "showlegend": true,
         "type": "scatter",
         "x": [
          115
         ],
         "xaxis": "x",
         "y": [
          12
         ],
         "yaxis": "y"
        },
        {
         "hovertemplate": "<b>%{hovertext}</b><br><br>word=frequência equivalente<br>index=%{x}<br>count=%{marker.size}<extra></extra>",
         "hovertext": [
          "frequência equivalente"
         ],
         "legendgroup": "frequência equivalente",
         "marker": {
          "color": "#FF6692",
          "size": [
           12
          ],
          "sizemode": "area",
          "sizeref": 0.018333333333333333,
          "symbol": "circle"
         },
         "mode": "markers",
         "name": "frequência equivalente",
         "orientation": "v",
         "showlegend": true,
         "type": "scatter",
         "x": [
          116
         ],
         "xaxis": "x",
         "y": [
          12
         ],
         "yaxis": "y"
        },
        {
         "hovertemplate": "<b>%{hovertext}</b><br><br>word=consumidora dec<br>index=%{x}<br>count=%{marker.size}<extra></extra>",
         "hovertext": [
          "consumidora dec"
         ],
         "legendgroup": "consumidora dec",
         "marker": {
          "color": "#B6E880",
          "size": [
           12
          ],
          "sizemode": "area",
          "sizeref": 0.018333333333333333,
          "symbol": "circle"
         },
         "mode": "markers",
         "name": "consumidora dec",
         "orientation": "v",
         "showlegend": true,
         "type": "scatter",
         "x": [
          117
         ],
         "xaxis": "x",
         "y": [
          12
         ],
         "yaxis": "y"
        },
        {
         "hovertemplate": "<b>%{hovertext}</b><br><br>word=nova friburgo<br>index=%{x}<br>count=%{marker.size}<extra></extra>",
         "hovertext": [
          "nova friburgo"
         ],
         "legendgroup": "nova friburgo",
         "marker": {
          "color": "#FF97FF",
          "size": [
           12
          ],
          "sizemode": "area",
          "sizeref": 0.018333333333333333,
          "symbol": "circle"
         },
         "mode": "markers",
         "name": "nova friburgo",
         "orientation": "v",
         "showlegend": true,
         "type": "scatter",
         "x": [
          118
         ],
         "xaxis": "x",
         "y": [
          12
         ],
         "yaxis": "y"
        },
        {
         "hovertemplate": "<b>%{hovertext}</b><br><br>word=correspondentes limites<br>index=%{x}<br>count=%{marker.size}<extra></extra>",
         "hovertext": [
          "correspondentes limites"
         ],
         "legendgroup": "correspondentes limites",
         "marker": {
          "color": "#FECB52",
          "size": [
           12
          ],
          "sizemode": "area",
          "sizeref": 0.018333333333333333,
          "symbol": "circle"
         },
         "mode": "markers",
         "name": "correspondentes limites",
         "orientation": "v",
         "showlegend": true,
         "type": "scatter",
         "x": [
          119
         ],
         "xaxis": "x",
         "y": [
          12
         ],
         "yaxis": "y"
        }
       ],
       "layout": {
        "height": 750,
        "legend": {
         "itemsizing": "constant",
         "title": {
          "text": "word"
         },
         "tracegroupgap": 0
        },
        "template": {
         "data": {
          "bar": [
           {
            "error_x": {
             "color": "#2a3f5f"
            },
            "error_y": {
             "color": "#2a3f5f"
            },
            "marker": {
             "line": {
              "color": "#E5ECF6",
              "width": 0.5
             },
             "pattern": {
              "fillmode": "overlay",
              "size": 10,
              "solidity": 0.2
             }
            },
            "type": "bar"
           }
          ],
          "barpolar": [
           {
            "marker": {
             "line": {
              "color": "#E5ECF6",
              "width": 0.5
             },
             "pattern": {
              "fillmode": "overlay",
              "size": 10,
              "solidity": 0.2
             }
            },
            "type": "barpolar"
           }
          ],
          "carpet": [
           {
            "aaxis": {
             "endlinecolor": "#2a3f5f",
             "gridcolor": "white",
             "linecolor": "white",
             "minorgridcolor": "white",
             "startlinecolor": "#2a3f5f"
            },
            "baxis": {
             "endlinecolor": "#2a3f5f",
             "gridcolor": "white",
             "linecolor": "white",
             "minorgridcolor": "white",
             "startlinecolor": "#2a3f5f"
            },
            "type": "carpet"
           }
          ],
          "choropleth": [
           {
            "colorbar": {
             "outlinewidth": 0,
             "ticks": ""
            },
            "type": "choropleth"
           }
          ],
          "contour": [
           {
            "colorbar": {
             "outlinewidth": 0,
             "ticks": ""
            },
            "colorscale": [
             [
              0,
              "#0d0887"
             ],
             [
              0.1111111111111111,
              "#46039f"
             ],
             [
              0.2222222222222222,
              "#7201a8"
             ],
             [
              0.3333333333333333,
              "#9c179e"
             ],
             [
              0.4444444444444444,
              "#bd3786"
             ],
             [
              0.5555555555555556,
              "#d8576b"
             ],
             [
              0.6666666666666666,
              "#ed7953"
             ],
             [
              0.7777777777777778,
              "#fb9f3a"
             ],
             [
              0.8888888888888888,
              "#fdca26"
             ],
             [
              1,
              "#f0f921"
             ]
            ],
            "type": "contour"
           }
          ],
          "contourcarpet": [
           {
            "colorbar": {
             "outlinewidth": 0,
             "ticks": ""
            },
            "type": "contourcarpet"
           }
          ],
          "heatmap": [
           {
            "colorbar": {
             "outlinewidth": 0,
             "ticks": ""
            },
            "colorscale": [
             [
              0,
              "#0d0887"
             ],
             [
              0.1111111111111111,
              "#46039f"
             ],
             [
              0.2222222222222222,
              "#7201a8"
             ],
             [
              0.3333333333333333,
              "#9c179e"
             ],
             [
              0.4444444444444444,
              "#bd3786"
             ],
             [
              0.5555555555555556,
              "#d8576b"
             ],
             [
              0.6666666666666666,
              "#ed7953"
             ],
             [
              0.7777777777777778,
              "#fb9f3a"
             ],
             [
              0.8888888888888888,
              "#fdca26"
             ],
             [
              1,
              "#f0f921"
             ]
            ],
            "type": "heatmap"
           }
          ],
          "heatmapgl": [
           {
            "colorbar": {
             "outlinewidth": 0,
             "ticks": ""
            },
            "colorscale": [
             [
              0,
              "#0d0887"
             ],
             [
              0.1111111111111111,
              "#46039f"
             ],
             [
              0.2222222222222222,
              "#7201a8"
             ],
             [
              0.3333333333333333,
              "#9c179e"
             ],
             [
              0.4444444444444444,
              "#bd3786"
             ],
             [
              0.5555555555555556,
              "#d8576b"
             ],
             [
              0.6666666666666666,
              "#ed7953"
             ],
             [
              0.7777777777777778,
              "#fb9f3a"
             ],
             [
              0.8888888888888888,
              "#fdca26"
             ],
             [
              1,
              "#f0f921"
             ]
            ],
            "type": "heatmapgl"
           }
          ],
          "histogram": [
           {
            "marker": {
             "pattern": {
              "fillmode": "overlay",
              "size": 10,
              "solidity": 0.2
             }
            },
            "type": "histogram"
           }
          ],
          "histogram2d": [
           {
            "colorbar": {
             "outlinewidth": 0,
             "ticks": ""
            },
            "colorscale": [
             [
              0,
              "#0d0887"
             ],
             [
              0.1111111111111111,
              "#46039f"
             ],
             [
              0.2222222222222222,
              "#7201a8"
             ],
             [
              0.3333333333333333,
              "#9c179e"
             ],
             [
              0.4444444444444444,
              "#bd3786"
             ],
             [
              0.5555555555555556,
              "#d8576b"
             ],
             [
              0.6666666666666666,
              "#ed7953"
             ],
             [
              0.7777777777777778,
              "#fb9f3a"
             ],
             [
              0.8888888888888888,
              "#fdca26"
             ],
             [
              1,
              "#f0f921"
             ]
            ],
            "type": "histogram2d"
           }
          ],
          "histogram2dcontour": [
           {
            "colorbar": {
             "outlinewidth": 0,
             "ticks": ""
            },
            "colorscale": [
             [
              0,
              "#0d0887"
             ],
             [
              0.1111111111111111,
              "#46039f"
             ],
             [
              0.2222222222222222,
              "#7201a8"
             ],
             [
              0.3333333333333333,
              "#9c179e"
             ],
             [
              0.4444444444444444,
              "#bd3786"
             ],
             [
              0.5555555555555556,
              "#d8576b"
             ],
             [
              0.6666666666666666,
              "#ed7953"
             ],
             [
              0.7777777777777778,
              "#fb9f3a"
             ],
             [
              0.8888888888888888,
              "#fdca26"
             ],
             [
              1,
              "#f0f921"
             ]
            ],
            "type": "histogram2dcontour"
           }
          ],
          "mesh3d": [
           {
            "colorbar": {
             "outlinewidth": 0,
             "ticks": ""
            },
            "type": "mesh3d"
           }
          ],
          "parcoords": [
           {
            "line": {
             "colorbar": {
              "outlinewidth": 0,
              "ticks": ""
             }
            },
            "type": "parcoords"
           }
          ],
          "pie": [
           {
            "automargin": true,
            "type": "pie"
           }
          ],
          "scatter": [
           {
            "marker": {
             "colorbar": {
              "outlinewidth": 0,
              "ticks": ""
             }
            },
            "type": "scatter"
           }
          ],
          "scatter3d": [
           {
            "line": {
             "colorbar": {
              "outlinewidth": 0,
              "ticks": ""
             }
            },
            "marker": {
             "colorbar": {
              "outlinewidth": 0,
              "ticks": ""
             }
            },
            "type": "scatter3d"
           }
          ],
          "scattercarpet": [
           {
            "marker": {
             "colorbar": {
              "outlinewidth": 0,
              "ticks": ""
             }
            },
            "type": "scattercarpet"
           }
          ],
          "scattergeo": [
           {
            "marker": {
             "colorbar": {
              "outlinewidth": 0,
              "ticks": ""
             }
            },
            "type": "scattergeo"
           }
          ],
          "scattergl": [
           {
            "marker": {
             "colorbar": {
              "outlinewidth": 0,
              "ticks": ""
             }
            },
            "type": "scattergl"
           }
          ],
          "scattermapbox": [
           {
            "marker": {
             "colorbar": {
              "outlinewidth": 0,
              "ticks": ""
             }
            },
            "type": "scattermapbox"
           }
          ],
          "scatterpolar": [
           {
            "marker": {
             "colorbar": {
              "outlinewidth": 0,
              "ticks": ""
             }
            },
            "type": "scatterpolar"
           }
          ],
          "scatterpolargl": [
           {
            "marker": {
             "colorbar": {
              "outlinewidth": 0,
              "ticks": ""
             }
            },
            "type": "scatterpolargl"
           }
          ],
          "scatterternary": [
           {
            "marker": {
             "colorbar": {
              "outlinewidth": 0,
              "ticks": ""
             }
            },
            "type": "scatterternary"
           }
          ],
          "surface": [
           {
            "colorbar": {
             "outlinewidth": 0,
             "ticks": ""
            },
            "colorscale": [
             [
              0,
              "#0d0887"
             ],
             [
              0.1111111111111111,
              "#46039f"
             ],
             [
              0.2222222222222222,
              "#7201a8"
             ],
             [
              0.3333333333333333,
              "#9c179e"
             ],
             [
              0.4444444444444444,
              "#bd3786"
             ],
             [
              0.5555555555555556,
              "#d8576b"
             ],
             [
              0.6666666666666666,
              "#ed7953"
             ],
             [
              0.7777777777777778,
              "#fb9f3a"
             ],
             [
              0.8888888888888888,
              "#fdca26"
             ],
             [
              1,
              "#f0f921"
             ]
            ],
            "type": "surface"
           }
          ],
          "table": [
           {
            "cells": {
             "fill": {
              "color": "#EBF0F8"
             },
             "line": {
              "color": "white"
             }
            },
            "header": {
             "fill": {
              "color": "#C8D4E3"
             },
             "line": {
              "color": "white"
             }
            },
            "type": "table"
           }
          ]
         },
         "layout": {
          "annotationdefaults": {
           "arrowcolor": "#2a3f5f",
           "arrowhead": 0,
           "arrowwidth": 1
          },
          "autotypenumbers": "strict",
          "coloraxis": {
           "colorbar": {
            "outlinewidth": 0,
            "ticks": ""
           }
          },
          "colorscale": {
           "diverging": [
            [
             0,
             "#8e0152"
            ],
            [
             0.1,
             "#c51b7d"
            ],
            [
             0.2,
             "#de77ae"
            ],
            [
             0.3,
             "#f1b6da"
            ],
            [
             0.4,
             "#fde0ef"
            ],
            [
             0.5,
             "#f7f7f7"
            ],
            [
             0.6,
             "#e6f5d0"
            ],
            [
             0.7,
             "#b8e186"
            ],
            [
             0.8,
             "#7fbc41"
            ],
            [
             0.9,
             "#4d9221"
            ],
            [
             1,
             "#276419"
            ]
           ],
           "sequential": [
            [
             0,
             "#0d0887"
            ],
            [
             0.1111111111111111,
             "#46039f"
            ],
            [
             0.2222222222222222,
             "#7201a8"
            ],
            [
             0.3333333333333333,
             "#9c179e"
            ],
            [
             0.4444444444444444,
             "#bd3786"
            ],
            [
             0.5555555555555556,
             "#d8576b"
            ],
            [
             0.6666666666666666,
             "#ed7953"
            ],
            [
             0.7777777777777778,
             "#fb9f3a"
            ],
            [
             0.8888888888888888,
             "#fdca26"
            ],
            [
             1,
             "#f0f921"
            ]
           ],
           "sequentialminus": [
            [
             0,
             "#0d0887"
            ],
            [
             0.1111111111111111,
             "#46039f"
            ],
            [
             0.2222222222222222,
             "#7201a8"
            ],
            [
             0.3333333333333333,
             "#9c179e"
            ],
            [
             0.4444444444444444,
             "#bd3786"
            ],
            [
             0.5555555555555556,
             "#d8576b"
            ],
            [
             0.6666666666666666,
             "#ed7953"
            ],
            [
             0.7777777777777778,
             "#fb9f3a"
            ],
            [
             0.8888888888888888,
             "#fdca26"
            ],
            [
             1,
             "#f0f921"
            ]
           ]
          },
          "colorway": [
           "#636efa",
           "#EF553B",
           "#00cc96",
           "#ab63fa",
           "#FFA15A",
           "#19d3f3",
           "#FF6692",
           "#B6E880",
           "#FF97FF",
           "#FECB52"
          ],
          "font": {
           "color": "#2a3f5f"
          },
          "geo": {
           "bgcolor": "white",
           "lakecolor": "white",
           "landcolor": "#E5ECF6",
           "showlakes": true,
           "showland": true,
           "subunitcolor": "white"
          },
          "hoverlabel": {
           "align": "left"
          },
          "hovermode": "closest",
          "mapbox": {
           "style": "light"
          },
          "paper_bgcolor": "white",
          "plot_bgcolor": "#E5ECF6",
          "polar": {
           "angularaxis": {
            "gridcolor": "white",
            "linecolor": "white",
            "ticks": ""
           },
           "bgcolor": "#E5ECF6",
           "radialaxis": {
            "gridcolor": "white",
            "linecolor": "white",
            "ticks": ""
           }
          },
          "scene": {
           "xaxis": {
            "backgroundcolor": "#E5ECF6",
            "gridcolor": "white",
            "gridwidth": 2,
            "linecolor": "white",
            "showbackground": true,
            "ticks": "",
            "zerolinecolor": "white"
           },
           "yaxis": {
            "backgroundcolor": "#E5ECF6",
            "gridcolor": "white",
            "gridwidth": 2,
            "linecolor": "white",
            "showbackground": true,
            "ticks": "",
            "zerolinecolor": "white"
           },
           "zaxis": {
            "backgroundcolor": "#E5ECF6",
            "gridcolor": "white",
            "gridwidth": 2,
            "linecolor": "white",
            "showbackground": true,
            "ticks": "",
            "zerolinecolor": "white"
           }
          },
          "shapedefaults": {
           "line": {
            "color": "#2a3f5f"
           }
          },
          "ternary": {
           "aaxis": {
            "gridcolor": "white",
            "linecolor": "white",
            "ticks": ""
           },
           "baxis": {
            "gridcolor": "white",
            "linecolor": "white",
            "ticks": ""
           },
           "bgcolor": "#E5ECF6",
           "caxis": {
            "gridcolor": "white",
            "linecolor": "white",
            "ticks": ""
           }
          },
          "title": {
           "x": 0.05
          },
          "xaxis": {
           "automargin": true,
           "gridcolor": "white",
           "linecolor": "white",
           "ticks": "",
           "title": {
            "standoff": 15
           },
           "zerolinecolor": "white",
           "zerolinewidth": 2
          },
          "yaxis": {
           "automargin": true,
           "gridcolor": "white",
           "linecolor": "white",
           "ticks": "",
           "title": {
            "standoff": 15
           },
           "zerolinecolor": "white",
           "zerolinewidth": 2
          }
         }
        },
        "title": {
         "text": "Author: ANEEL │ Theme: Noticias │ DF Date Rage: from [05/02/2022 at 09:54:00] to [05/12/2022 at 19:52:00]"
        },
        "width": 1500,
        "xaxis": {
         "anchor": "y",
         "domain": [
          0,
          1
         ],
         "title": {
          "text": "index"
         },
         "type": "log"
        },
        "yaxis": {
         "anchor": "x",
         "domain": [
          0,
          1
         ],
         "title": {
          "text": "count"
         }
        }
       }
      }
     },
     "metadata": {},
     "output_type": "display_data"
    },
    {
     "data": {
      "text/plain": [
       "'aneel.html'"
      ]
     },
     "execution_count": 126,
     "metadata": {},
     "output_type": "execute_result"
    }
   ],
   "source": [
    "## generating a scatterplot from the plotfy library\n",
    "fig = px.scatter(df2.query('count > 10'),\n",
    "                y=\"count\",\n",
    "                size=\"count\",\n",
    "                color=\"word\",\n",
    "                hover_name=\"word\",\n",
    "                log_x=True,\n",
    "                title = wordcloud_title,\n",
    "                width=1500, \n",
    "                height=750,\n",
    "                size_max=60)\n",
    "fig.show()\n",
    "\n",
    "plt.offline.plot(fig, filename = search+'.html')"
   ]
  },
  {
   "cell_type": "code",
   "execution_count": 391,
   "metadata": {},
   "outputs": [],
   "source": [
    "import openpyxl\n",
    "df2.to_excel (search + '.xlsx', index = False, header=True)"
   ]
  }
 ],
 "metadata": {
  "interpreter": {
   "hash": "b80af393ece9516bb574eaf2accc0f3996a7feeecd6bd1b55c66f68cb5cc8c2a"
  },
  "kernelspec": {
   "display_name": "Python 3.9.12 ('geo_env')",
   "language": "python",
   "name": "python3"
  },
  "language_info": {
   "codemirror_mode": {
    "name": "ipython",
    "version": 3
   },
   "file_extension": ".py",
   "mimetype": "text/x-python",
   "name": "python",
   "nbconvert_exporter": "python",
   "pygments_lexer": "ipython3",
   "version": "3.9.12"
  },
  "orig_nbformat": 4
 },
 "nbformat": 4,
 "nbformat_minor": 2
}
