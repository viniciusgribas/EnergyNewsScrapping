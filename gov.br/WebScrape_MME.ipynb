{
 "cells": [
  {
   "cell_type": "markdown",
   "metadata": {},
   "source": [
    "\n",
    "---\n",
    "\n",
    "# Vinicius Guerra e Ribas -  Energy Sector Analyst\n",
    "[Energy Engineer (UnB)](https://www.unb.br/) │ [Data Scientist and Analytics (USP)](https://www5.usp.br/)\n",
    "\n",
    "\n",
    "## [📧 E-mail](mailto:viniciusgribas@gmail.com?Subject=%5BWebScrappers%5D%20-%20Contact) │ [🎯 Linkedin](https://www.linkedin.com/in/vinicius-guerra-e-ribas/) │ [😸 GitHub](https://github.com/viniciusgribas) \n",
    "\n",
    "---\n",
    "\n",
    "# [💻Project Notebook](https://github.com/viniciusgribas/EnergyNewsScrapping) [🇧🇷] \n"
   ]
  },
  {
   "cell_type": "code",
   "execution_count": 21,
   "metadata": {},
   "outputs": [
    {
     "name": "stderr",
     "output_type": "stream",
     "text": [
      "[nltk_data] Downloading package floresta to\n",
      "[nltk_data]     C:\\Users\\vinic\\AppData\\Roaming\\nltk_data...\n",
      "[nltk_data]   Package floresta is already up-to-date!\n"
     ]
    }
   ],
   "source": [
    "# import the libraries\n",
    "\n",
    "## WebScrapping Libraries\n",
    "from bs4 import BeautifulSoup\n",
    "import requests\n",
    "import urllib.request\n",
    "\n",
    "## NLP and ML Libraries\n",
    "import nltk\n",
    "from newspaper import Article\n",
    "nltk.download('floresta') # \"Portuguese Treebank\" divides the text into a list of sentences using ML algorithm\n",
    "from nltk.corpus import stopwords\n",
    "from wordcloud import WordCloud, STOPWORDS, ImageColorGenerator\n",
    "\n",
    "## Data Frame manipulation and Analytics Libraries\n",
    "import pandas as pd\n",
    "import time\n",
    "import matplotlib.pyplot as py\n",
    "import plotly_express as px\n",
    "import plotly as plt\n",
    "import datetime\n"
   ]
  },
  {
   "cell_type": "code",
   "execution_count": 22,
   "metadata": {},
   "outputs": [],
   "source": [
    "def scrape_mme_website(search,page):\n",
    "    page_theme = search\n",
    "\n",
    "\n",
    "    if page == 1:\n",
    "        page = 0\n",
    "    else:\n",
    "        page = page*20\n",
    "\n",
    "    page_number = str(page)\n",
    "    url = 'https://www.gov.br/mme/pt-br/assuntos/noticias?b_start:int=' + page_number +'/' \n",
    "    webpage = requests.get(url)\n",
    "    soup = BeautifulSoup(webpage.text, 'html.parser')\n",
    "    article_links = soup.find_all('h2', attrs= {'class' : 'titulo'})\n",
    "\n",
    "    for i in article_links:\n",
    "        temp=0\n",
    "        temp = i.find('a').get('href')\n",
    "        links.append(temp)\n",
    "\n",
    "    for i in range(len(links)):  # NLP Process: Scrapes the article, download the information and parse a nlp into a interable object\n",
    "        article = Article(links[i]) # Scrapes the Article\n",
    "        article.download()\n",
    "        article.parse()\n",
    "        article.nlp()\n",
    "\n",
    "        # Interact with the articles\n",
    "        titles.append(article.title)\n",
    "        try:\n",
    "            tags.append(BeautifulSoup(article.html, 'html.parser').find(id=\"form-widgets-categoria\").get_text())\n",
    "        except:\n",
    "            tags.append(BeautifulSoup(article.html, 'html.parser').find(id=\"content\").find('p', attrs= {'class':'nitfSubtitle'}).get_text())\n",
    "        texts.append(article.text) \n",
    "        summarys.append(article.meta_description) \n",
    "        authors.append(BeautifulSoup(article.html, 'html.parser').find(id=\"content\").find('p', attrs= {'class':'nitfSubtitle'}).get_text()) \n",
    "        themes.append(search)\n",
    "        dates.append(BeautifulSoup(article.html, 'html.parser').find(id=\"plone-document-byline\").get_text()[16:32])\n",
    "\n",
    "        print(\n",
    "        len(authors),  \n",
    "        len(links), \n",
    "        len(themes), \n",
    "        len(tags), \n",
    "        len(titles),\n",
    "        len(dates), \n",
    "        len(texts), \n",
    "        len(summarys)\n",
    "        )\n",
    "        \n",
    "        if len(authors) == len(links):\n",
    "            break\n",
    "    \n",
    "\n"
   ]
  },
  {
   "cell_type": "code",
   "execution_count": 23,
   "metadata": {},
   "outputs": [
    {
     "name": "stdout",
     "output_type": "stream",
     "text": [
      "1 20 1 1 1 1 1 1\n",
      "2 20 2 2 2 2 2 2\n",
      "3 20 3 3 3 3 3 3\n",
      "4 20 4 4 4 4 4 4\n",
      "5 20 5 5 5 5 5 5\n",
      "6 20 6 6 6 6 6 6\n",
      "7 20 7 7 7 7 7 7\n",
      "8 20 8 8 8 8 8 8\n",
      "9 20 9 9 9 9 9 9\n",
      "10 20 10 10 10 10 10 10\n",
      "11 20 11 11 11 11 11 11\n",
      "12 20 12 12 12 12 12 12\n",
      "13 20 13 13 13 13 13 13\n",
      "14 20 14 14 14 14 14 14\n",
      "15 20 15 15 15 15 15 15\n",
      "16 20 16 16 16 16 16 16\n",
      "17 20 17 17 17 17 17 17\n",
      "18 20 18 18 18 18 18 18\n",
      "19 20 19 19 19 19 19 19\n",
      "20 20 20 20 20 20 20 20\n",
      "21 40 21 21 21 21 21 21\n",
      "22 40 22 22 22 22 22 22\n",
      "23 40 23 23 23 23 23 23\n",
      "24 40 24 24 24 24 24 24\n",
      "25 40 25 25 25 25 25 25\n",
      "26 40 26 26 26 26 26 26\n",
      "27 40 27 27 27 27 27 27\n",
      "28 40 28 28 28 28 28 28\n",
      "29 40 29 29 29 29 29 29\n",
      "30 40 30 30 30 30 30 30\n",
      "31 40 31 31 31 31 31 31\n",
      "32 40 32 32 32 32 32 32\n",
      "33 40 33 33 33 33 33 33\n",
      "34 40 34 34 34 34 34 34\n",
      "35 40 35 35 35 35 35 35\n",
      "36 40 36 36 36 36 36 36\n",
      "37 40 37 37 37 37 37 37\n",
      "38 40 38 38 38 38 38 38\n",
      "39 40 39 39 39 39 39 39\n",
      "40 40 40 40 40 40 40 40\n",
      "41 60 41 41 41 41 41 41\n",
      "42 60 42 42 42 42 42 42\n",
      "43 60 43 43 43 43 43 43\n",
      "44 60 44 44 44 44 44 44\n",
      "45 60 45 45 45 45 45 45\n",
      "46 60 46 46 46 46 46 46\n",
      "47 60 47 47 47 47 47 47\n",
      "48 60 48 48 48 48 48 48\n",
      "49 60 49 49 49 49 49 49\n",
      "50 60 50 50 50 50 50 50\n",
      "51 60 51 51 51 51 51 51\n",
      "52 60 52 52 52 52 52 52\n",
      "53 60 53 53 53 53 53 53\n",
      "54 60 54 54 54 54 54 54\n",
      "55 60 55 55 55 55 55 55\n",
      "56 60 56 56 56 56 56 56\n",
      "57 60 57 57 57 57 57 57\n",
      "58 60 58 58 58 58 58 58\n",
      "59 60 59 59 59 59 59 59\n",
      "60 60 60 60 60 60 60 60\n"
     ]
    }
   ],
   "source": [
    "\n",
    "themes = []\n",
    "tags = []\n",
    "titles = []\n",
    "authors = []\n",
    "dates = []\n",
    "links = []\n",
    "texts = []\n",
    "summarys = []\n",
    "search = 'MME'\n",
    "n = 3\n",
    "\n",
    "# performs the scrapping with the chosen search on the given pages\n",
    "for i in range(1 , n+1):\n",
    "\n",
    "    #applies the function\n",
    "    scrape_aneel_website(search, i )"
   ]
  },
  {
   "cell_type": "code",
   "execution_count": 24,
   "metadata": {},
   "outputs": [
    {
     "name": "stdout",
     "output_type": "stream",
     "text": [
      "DF Date Rage: from [05/02/2022 at 10:57:00] to [05/12/2022 at 19:48:00]\n"
     ]
    },
    {
     "data": {
      "text/plain": [
       "dates       0\n",
       "themes      0\n",
       "authors     0\n",
       "tags        0\n",
       "titles      0\n",
       "summarys    0\n",
       "texts       0\n",
       "links       0\n",
       "dtype: int64"
      ]
     },
     "execution_count": 24,
     "metadata": {},
     "output_type": "execute_result"
    }
   ],
   "source": [
    "# creates a dataframe based on the stored lists\n",
    "df = pd.DataFrame( columns= ['dates','themes','authors','tags','titles','summarys','texts','links' ] )\n",
    "df.dates = dates\n",
    "df.dates = pd.to_datetime(df.dates)\n",
    "df.authors = authors\n",
    "df.tags = tags\n",
    "df.titles = titles\n",
    "df.summarys = summarys\n",
    "df.texts = texts\n",
    "df.links = links\n",
    "df.themes = themes\n",
    "\n",
    "# check the analyzed dates\n",
    "\n",
    "df_filtered = df.loc[(df['dates'] > '2022-01-01')]\n",
    "\n",
    "date_min = str(df_filtered.dates.dt.date.min().strftime('%d/%m/%Y'))+' at '+ str(df_filtered.dates.dt.time.min())\n",
    "date_max = str(df_filtered.dates.dt.date.max().strftime('%d/%m/%Y'))+' at '+ str(df_filtered.dates.dt.time.max())\n",
    "df_date_range = 'DF Date Rage: from ['+ date_min + '] to [' + date_max + ']'\n",
    "\n",
    "print(df_date_range)\n",
    "\n",
    "# checks if the dataframe has null values\n",
    "df_filtered.isnull().sum()"
   ]
  },
  {
   "cell_type": "code",
   "execution_count": 25,
   "metadata": {},
   "outputs": [],
   "source": [
    "# NLP: stopword parametres\n",
    "\n",
    "## github patch with Brazilian stopwords\n",
    "PORTUGUESE_STOPWORDS_PATCH_1 = r'https://gist.githubusercontent.com/alopes/5358189/raw/2107d809cca6b83ce3d8e04dbd9463283025284f/stopwords.txt' ##online patch\n",
    "response_PATCH = requests.get(PORTUGUESE_STOPWORDS_PATCH_1) ## accessing via webscrapping\n",
    "pt_stopwords = response_PATCH.text ## assigning to a variable\n",
    "pt_stopwords = pt_stopwords.replace(\" \",\"\").splitlines() ## manipulating extraction\n",
    "\n",
    "# WordCloud text and additional parameters\n",
    "\n",
    "text = \" \".join(s.lower() for s in df_filtered.texts) # lowercasing all the text words\n",
    "wordcloud_theme = df_filtered.themes[0].lower() # get the search theme\n",
    "wordcloud_search_theme = search\n",
    "wordcloud_title = ('Author: MME' +' │ Theme: ' + 'Noticias' +' │ '+ df_date_range )# setting the title\n",
    "\n",
    "\n",
    "## manual stopwords input\n",
    "manual_stopwords = [wordcloud_theme,\n",
    "    'cerca',\n",
    "    'país',\n",
    "    'disse',\n",
    "    'agora',\n",
    "    'ouvir',\n",
    "    'notícia',\n",
    "    'ano' ,\n",
    "    'entanto',\n",
    "    'episódio',\n",
    "    'ainda',\n",
    "    'acordo',\n",
    "    'demanda',\n",
    "    'maior',\n",
    "    'dia',\n",
    "    'segundo',\n",
    "    'pode',\n",
    "    'desde',\n",
    "    'todo',\n",
    "    'sobre',\n",
    "    'getty',\n",
    "    'getty images',\n",
    "    'anadolu',\n",
    "    'images',\n",
    "    'agency',\n",
    "    'ante',\n",
    "    'após',\n",
    "    'segunda',\n",
    "    'terça',\n",
    "    'quarta',\n",
    "    'quinta',\n",
    "    'sexta',\n",
    "    'sabado',\n",
    "    'domingo',\n",
    "    'feira',\n",
    "    'enquanto',\n",
    "    'deve',\n",
    "    'semana',\n",
    "    'nesta',\n",
    "    'caso',\n",
    "    'diz',\n",
    "    'hoje',\n",
    "    'brasil',\n",
    "    'empresa',\n",
    "    'grande',\n",
    "    'fonte',\n",
    "    'renovável',\n",
    "    'afirma',\n",
    "    'área',\n",
    "    'uso',\n",
    "    'capacidade',\n",
    "    'apenas',\n",
    "    'partir',\n",
    "    'projeto',\n",
    "    'cnn',\n",
    "    'passado',\n",
    "    'partir',\n",
    "    'porque',\n",
    "    'custo',\n",
    "    'exemplo',\n",
    "    'especialista',\n",
    "    'skydweller',\n",
    "    'vai',\n",
    "    'outra',\n",
    "    'gera',\n",
    "    'loja',\n",
    "    'minas_energia',\n",
    "    'twitter',\n",
    "    'antigo',\n",
    "    'minaseenergia',\n",
    "    'flickr',\n",
    "    'linkedin',\n",
    "    'facebook',\n",
    "    'social',\n",
    "    'instauram',\n",
    "    'gov',\n",
    "    'br',\n",
    "    'processo',\n",
    "    'ascom',\n",
    "    'setor',\n",
    "    'lei',\n",
    "    'gov br',\n",
    "    'youtube',\n",
    "    'comunicação',\n",
    "    'evento',\n",
    "    'oportunidade',\n",
    "    'energia',\n",
    "    'minas',\n",
    "    'ministério',\n",
    "    'ministro',\n",
    "    'objetivo',\n",
    "    'meio',\n",
    "    'bihões',\n",
    "    'assessoria',\n",
    "    'programa',\n",
    "    'produção',\n",
    "    'além',\n",
    "    'acesso',\n",
    "    'especial',\n",
    "    'bento albuquerque',\n",
    "    'além disso',\n",
    "    'termo',\n",
    "    'fim',\n",
    "    'novo',\n",
    "    'necessidade',\n",
    "    'final',\n",
    "    'nova',\n",
    "    'condições',\n",
    "    'bento albuquerque'\n",
    "    'bento',\n",
    "    'albuquerque',\n",
    "    'atendimento',\n",
    "    'bento']\n",
    "\n",
    "## stopwords used\n",
    "stop_words  = list(pt_stopwords) + list(STOPWORDS) + list(manual_stopwords) \n",
    "\n",
    "\n",
    "\n",
    "# WordCloud NLP algorithm\n",
    "\n",
    "## WordCloud Figure\n",
    "wordcloud = WordCloud(min_font_size=50, \n",
    "               max_font_size=500, \n",
    "               background_color='white', \n",
    "               mode=\"RGB\",\n",
    "               colormap='tab10',\n",
    "               stopwords=stop_words,\n",
    "               width=3000, \n",
    "               height=1500,\n",
    "               normalize_plurals= True\n",
    ").generate(text)\n",
    "\n",
    "## WordCloud Text Count\n",
    "wordcloud_text = WordCloud(min_font_size=50, \n",
    "               max_font_size=500, \n",
    "               background_color='white', \n",
    "               mode=\"RGB\",\n",
    "               colormap='tab10',\n",
    "               stopwords=stop_words,\n",
    "               width=3000, \n",
    "               height=1500,\n",
    "               normalize_plurals= True\n",
    ").process_text(text)"
   ]
  },
  {
   "cell_type": "code",
   "execution_count": 26,
   "metadata": {},
   "outputs": [
    {
     "data": {
      "image/png": "[encoded data removed]",
      "text/plain": [
       "<Figure size 1440x720 with 1 Axes>"
      ]
     },
     "metadata": {
      "needs_background": "light"
     },
     "output_type": "display_data"
    },
    {
     "data": {
      "text/plain": [
       "<Figure size 432x288 with 0 Axes>"
      ]
     },
     "metadata": {},
     "output_type": "display_data"
    }
   ],
   "source": [
    "# Ploting the WordCloud figure\n",
    "py.figure(figsize=(20,10))\n",
    "py.title(wordcloud_title, fontsize=10, color=\"red\")\n",
    "py.imshow(wordcloud, interpolation=\"bilinear\")\n",
    "py.axis(\"off\")\n",
    "\n",
    "fig1 = py.gcf()\n",
    "py.show()\n",
    "py.draw()\n",
    "fig1.savefig(search+'.png', dpi=100)\n",
    "\n",
    "\n",
    "\n"
   ]
  },
  {
   "cell_type": "code",
   "execution_count": 27,
   "metadata": {},
   "outputs": [],
   "source": [
    "# iterative scatter analysis with wordcloud words\n",
    "\n",
    "## creating a dataframe with the dictionary generated by the NLP algorithm\n",
    "df2 = pd.DataFrame.from_dict(wordcloud_text, orient='index') # generating a dataframe from a dictionary\n",
    "df2 = df2.rename(columns={0:'count'}) \n",
    "df2['word'] = df2.index\n",
    "df2 = df2.reset_index(drop=True)\n",
    "df2 = df2[['word','count']]\n",
    "df2.sort_values(by = ['count'],ascending = False,inplace = True, ignore_index = True)\n"
   ]
  },
  {
   "cell_type": "code",
   "execution_count": 28,
   "metadata": {},
   "outputs": [
    {
     "data": {
      "application/vnd.plotly.v1+json": {
       "config": {
        "plotlyServerURL": "https://plot.ly"
       },
       "data": [
        {
         "hovertemplate": "<b>%{hovertext}</b><br><br>word=elétrica<br>index=%{x}<br>count=%{marker.size}<extra></extra>",
         "hovertext": [
          "elétrica"
         ],
         "legendgroup": "elétrica",
         "marker": {
          "color": "#636efa",
          "size": [
           57
          ],
          "sizemode": "area",
          "sizeref": 0.015833333333333335,
          "symbol": "circle"
         },
         "mode": "markers",
         "name": "elétrica",
         "orientation": "v",
         "showlegend": true,
         "type": "scatter",
         "x": [
          0
         ],
         "xaxis": "x",
         "y": [
          57
         ],
         "yaxis": "y"
        },
        {
         "hovertemplate": "<b>%{hovertext}</b><br><br>word=geração<br>index=%{x}<br>count=%{marker.size}<extra></extra>",
         "hovertext": [
          "geração"
         ],
         "legendgroup": "geração",
         "marker": {
          "color": "#EF553B",
          "size": [
           48
          ],
          "sizemode": "area",
          "sizeref": 0.015833333333333335,
          "symbol": "circle"
         },
         "mode": "markers",
         "name": "geração",
         "orientation": "v",
         "showlegend": true,
         "type": "scatter",
         "x": [
          1
         ],
         "xaxis": "x",
         "y": [
          48
         ],
         "yaxis": "y"
        },
        {
         "hovertemplate": "<b>%{hovertext}</b><br><br>word=investimento<br>index=%{x}<br>count=%{marker.size}<extra></extra>",
         "hovertext": [
          "investimento"
         ],
         "legendgroup": "investimento",
         "marker": {
          "color": "#00cc96",
          "size": [
           36
          ],
          "sizemode": "area",
          "sizeref": 0.015833333333333335,
          "symbol": "circle"
         },
         "mode": "markers",
         "name": "investimento",
         "orientation": "v",
         "showlegend": true,
         "type": "scatter",
         "x": [
          2
         ],
         "xaxis": "x",
         "y": [
          36
         ],
         "yaxis": "y"
        },
        {
         "hovertemplate": "<b>%{hovertext}</b><br><br>word=mercado<br>index=%{x}<br>count=%{marker.size}<extra></extra>",
         "hovertext": [
          "mercado"
         ],
         "legendgroup": "mercado",
         "marker": {
          "color": "#ab63fa",
          "size": [
           33
          ],
          "sizemode": "area",
          "sizeref": 0.015833333333333335,
          "symbol": "circle"
         },
         "mode": "markers",
         "name": "mercado",
         "orientation": "v",
         "showlegend": true,
         "type": "scatter",
         "x": [
          3
         ],
         "xaxis": "x",
         "y": [
          33
         ],
         "yaxis": "y"
        },
        {
         "hovertemplate": "<b>%{hovertext}</b><br><br>word=maio<br>index=%{x}<br>count=%{marker.size}<extra></extra>",
         "hovertext": [
          "maio"
         ],
         "legendgroup": "maio",
         "marker": {
          "color": "#FFA15A",
          "size": [
           30
          ],
          "sizemode": "area",
          "sizeref": 0.015833333333333335,
          "symbol": "circle"
         },
         "mode": "markers",
         "name": "maio",
         "orientation": "v",
         "showlegend": true,
         "type": "scatter",
         "x": [
          4
         ],
         "xaxis": "x",
         "y": [
          30
         ],
         "yaxis": "y"
        },
        {
         "hovertemplate": "<b>%{hovertext}</b><br><br>word=consumidor<br>index=%{x}<br>count=%{marker.size}<extra></extra>",
         "hovertext": [
          "consumidor"
         ],
         "legendgroup": "consumidor",
         "marker": {
          "color": "#19d3f3",
          "size": [
           30
          ],
          "sizemode": "area",
          "sizeref": 0.015833333333333335,
          "symbol": "circle"
         },
         "mode": "markers",
         "name": "consumidor",
         "orientation": "v",
         "showlegend": true,
         "type": "scatter",
         "x": [
          5
         ],
         "xaxis": "x",
         "y": [
          30
         ],
         "yaxis": "y"
        },
        {
         "hovertemplate": "<b>%{hovertext}</b><br><br>word=secretaria<br>index=%{x}<br>count=%{marker.size}<extra></extra>",
         "hovertext": [
          "secretaria"
         ],
         "legendgroup": "secretaria",
         "marker": {
          "color": "#FF6692",
          "size": [
           30
          ],
          "sizemode": "area",
          "sizeref": 0.015833333333333335,
          "symbol": "circle"
         },
         "mode": "markers",
         "name": "secretaria",
         "orientation": "v",
         "showlegend": true,
         "type": "scatter",
         "x": [
          6
         ],
         "xaxis": "x",
         "y": [
          30
         ],
         "yaxis": "y"
        },
        {
         "hovertemplate": "<b>%{hovertext}</b><br><br>word=planejamento<br>index=%{x}<br>count=%{marker.size}<extra></extra>",
         "hovertext": [
          "planejamento"
         ],
         "legendgroup": "planejamento",
         "marker": {
          "color": "#B6E880",
          "size": [
           30
          ],
          "sizemode": "area",
          "sizeref": 0.015833333333333335,
          "symbol": "circle"
         },
         "mode": "markers",
         "name": "planejamento",
         "orientation": "v",
         "showlegend": true,
         "type": "scatter",
         "x": [
          7
         ],
         "xaxis": "x",
         "y": [
          30
         ],
         "yaxis": "y"
        },
        {
         "hovertemplate": "<b>%{hovertext}</b><br><br>word=economia<br>index=%{x}<br>count=%{marker.size}<extra></extra>",
         "hovertext": [
          "economia"
         ],
         "legendgroup": "economia",
         "marker": {
          "color": "#FF97FF",
          "size": [
           30
          ],
          "sizemode": "area",
          "sizeref": 0.015833333333333335,
          "symbol": "circle"
         },
         "mode": "markers",
         "name": "economia",
         "orientation": "v",
         "showlegend": true,
         "type": "scatter",
         "x": [
          8
         ],
         "xaxis": "x",
         "y": [
          30
         ],
         "yaxis": "y"
        },
        {
         "hovertemplate": "<b>%{hovertext}</b><br><br>word=gás natural<br>index=%{x}<br>count=%{marker.size}<extra></extra>",
         "hovertext": [
          "gás natural"
         ],
         "legendgroup": "gás natural",
         "marker": {
          "color": "#FECB52",
          "size": [
           27
          ],
          "sizemode": "area",
          "sizeref": 0.015833333333333335,
          "symbol": "circle"
         },
         "mode": "markers",
         "name": "gás natural",
         "orientation": "v",
         "showlegend": true,
         "type": "scatter",
         "x": [
          9
         ],
         "xaxis": "x",
         "y": [
          27
         ],
         "yaxis": "y"
        },
        {
         "hovertemplate": "<b>%{hovertext}</b><br><br>word=petróleo<br>index=%{x}<br>count=%{marker.size}<extra></extra>",
         "hovertext": [
          "petróleo"
         ],
         "legendgroup": "petróleo",
         "marker": {
          "color": "#636efa",
          "size": [
           27
          ],
          "sizemode": "area",
          "sizeref": 0.015833333333333335,
          "symbol": "circle"
         },
         "mode": "markers",
         "name": "petróleo",
         "orientation": "v",
         "showlegend": true,
         "type": "scatter",
         "x": [
          10
         ],
         "xaxis": "x",
         "y": [
          27
         ],
         "yaxis": "y"
        },
        {
         "hovertemplate": "<b>%{hovertext}</b><br><br>word=eficiência energética<br>index=%{x}<br>count=%{marker.size}<extra></extra>",
         "hovertext": [
          "eficiência energética"
         ],
         "legendgroup": "eficiência energética",
         "marker": {
          "color": "#EF553B",
          "size": [
           27
          ],
          "sizemode": "area",
          "sizeref": 0.015833333333333335,
          "symbol": "circle"
         },
         "mode": "markers",
         "name": "eficiência energética",
         "orientation": "v",
         "showlegend": true,
         "type": "scatter",
         "x": [
          11
         ],
         "xaxis": "x",
         "y": [
          27
         ],
         "yaxis": "y"
        },
        {
         "hovertemplate": "<b>%{hovertext}</b><br><br>word=bilhões<br>index=%{x}<br>count=%{marker.size}<extra></extra>",
         "hovertext": [
          "bilhões"
         ],
         "legendgroup": "bilhões",
         "marker": {
          "color": "#00cc96",
          "size": [
           27
          ],
          "sizemode": "area",
          "sizeref": 0.015833333333333335,
          "symbol": "circle"
         },
         "mode": "markers",
         "name": "bilhões",
         "orientation": "v",
         "showlegend": true,
         "type": "scatter",
         "x": [
          12
         ],
         "xaxis": "x",
         "y": [
          27
         ],
         "yaxis": "y"
        },
        {
         "hovertemplate": "<b>%{hovertext}</b><br><br>word=abril<br>index=%{x}<br>count=%{marker.size}<extra></extra>",
         "hovertext": [
          "abril"
         ],
         "legendgroup": "abril",
         "marker": {
          "color": "#ab63fa",
          "size": [
           24
          ],
          "sizemode": "area",
          "sizeref": 0.015833333333333335,
          "symbol": "circle"
         },
         "mode": "markers",
         "name": "abril",
         "orientation": "v",
         "showlegend": true,
         "type": "scatter",
         "x": [
          13
         ],
         "xaxis": "x",
         "y": [
          24
         ],
         "yaxis": "y"
        },
        {
         "hovertemplate": "<b>%{hovertext}</b><br><br>word=desenvolvimento<br>index=%{x}<br>count=%{marker.size}<extra></extra>",
         "hovertext": [
          "desenvolvimento"
         ],
         "legendgroup": "desenvolvimento",
         "marker": {
          "color": "#FFA15A",
          "size": [
           24
          ],
          "sizemode": "area",
          "sizeref": 0.015833333333333335,
          "symbol": "circle"
         },
         "mode": "markers",
         "name": "desenvolvimento",
         "orientation": "v",
         "showlegend": true,
         "type": "scatter",
         "x": [
          14
         ],
         "xaxis": "x",
         "y": [
          24
         ],
         "yaxis": "y"
        },
        {
         "hovertemplate": "<b>%{hovertext}</b><br><br>word=decreto<br>index=%{x}<br>count=%{marker.size}<extra></extra>",
         "hovertext": [
          "decreto"
         ],
         "legendgroup": "decreto",
         "marker": {
          "color": "#19d3f3",
          "size": [
           24
          ],
          "sizemode": "area",
          "sizeref": 0.015833333333333335,
          "symbol": "circle"
         },
         "mode": "markers",
         "name": "decreto",
         "orientation": "v",
         "showlegend": true,
         "type": "scatter",
         "x": [
          15
         ],
         "xaxis": "x",
         "y": [
          24
         ],
         "yaxis": "y"
        },
        {
         "hovertemplate": "<b>%{hovertext}</b><br><br>word=infraestrutura<br>index=%{x}<br>count=%{marker.size}<extra></extra>",
         "hovertext": [
          "infraestrutura"
         ],
         "legendgroup": "infraestrutura",
         "marker": {
          "color": "#FF6692",
          "size": [
           21
          ],
          "sizemode": "area",
          "sizeref": 0.015833333333333335,
          "symbol": "circle"
         },
         "mode": "markers",
         "name": "infraestrutura",
         "orientation": "v",
         "showlegend": true,
         "type": "scatter",
         "x": [
          16
         ],
         "xaxis": "x",
         "y": [
          21
         ],
         "yaxis": "y"
        },
        {
         "hovertemplate": "<b>%{hovertext}</b><br><br>word=fertilizantes<br>index=%{x}<br>count=%{marker.size}<extra></extra>",
         "hovertext": [
          "fertilizantes"
         ],
         "legendgroup": "fertilizantes",
         "marker": {
          "color": "#B6E880",
          "size": [
           21
          ],
          "sizemode": "area",
          "sizeref": 0.015833333333333335,
          "symbol": "circle"
         },
         "mode": "markers",
         "name": "fertilizantes",
         "orientation": "v",
         "showlegend": true,
         "type": "scatter",
         "x": [
          17
         ],
         "xaxis": "x",
         "y": [
          21
         ],
         "yaxis": "y"
        },
        {
         "hovertemplate": "<b>%{hovertext}</b><br><br>word=agência nacional<br>index=%{x}<br>count=%{marker.size}<extra></extra>",
         "hovertext": [
          "agência nacional"
         ],
         "legendgroup": "agência nacional",
         "marker": {
          "color": "#FF97FF",
          "size": [
           21
          ],
          "sizemode": "area",
          "sizeref": 0.015833333333333335,
          "symbol": "circle"
         },
         "mode": "markers",
         "name": "agência nacional",
         "orientation": "v",
         "showlegend": true,
         "type": "scatter",
         "x": [
          18
         ],
         "xaxis": "x",
         "y": [
          21
         ],
         "yaxis": "y"
        },
        {
         "hovertemplate": "<b>%{hovertext}</b><br><br>word=monitoramento<br>index=%{x}<br>count=%{marker.size}<extra></extra>",
         "hovertext": [
          "monitoramento"
         ],
         "legendgroup": "monitoramento",
         "marker": {
          "color": "#FECB52",
          "size": [
           21
          ],
          "sizemode": "area",
          "sizeref": 0.015833333333333335,
          "symbol": "circle"
         },
         "mode": "markers",
         "name": "monitoramento",
         "orientation": "v",
         "showlegend": true,
         "type": "scatter",
         "x": [
          19
         ],
         "xaxis": "x",
         "y": [
          21
         ],
         "yaxis": "y"
        },
        {
         "hovertemplate": "<b>%{hovertext}</b><br><br>word=participação<br>index=%{x}<br>count=%{marker.size}<extra></extra>",
         "hovertext": [
          "participação"
         ],
         "legendgroup": "participação",
         "marker": {
          "color": "#636efa",
          "size": [
           18
          ],
          "sizemode": "area",
          "sizeref": 0.015833333333333335,
          "symbol": "circle"
         },
         "mode": "markers",
         "name": "participação",
         "orientation": "v",
         "showlegend": true,
         "type": "scatter",
         "x": [
          20
         ],
         "xaxis": "x",
         "y": [
          18
         ],
         "yaxis": "y"
        },
        {
         "hovertemplate": "<b>%{hovertext}</b><br><br>word=consumidores<br>index=%{x}<br>count=%{marker.size}<extra></extra>",
         "hovertext": [
          "consumidores"
         ],
         "legendgroup": "consumidores",
         "marker": {
          "color": "#EF553B",
          "size": [
           18
          ],
          "sizemode": "area",
          "sizeref": 0.015833333333333335,
          "symbol": "circle"
         },
         "mode": "markers",
         "name": "consumidores",
         "orientation": "v",
         "showlegend": true,
         "type": "scatter",
         "x": [
          21
         ],
         "xaxis": "x",
         "y": [
          18
         ],
         "yaxis": "y"
        },
        {
         "hovertemplate": "<b>%{hovertext}</b><br><br>word=março<br>index=%{x}<br>count=%{marker.size}<extra></extra>",
         "hovertext": [
          "março"
         ],
         "legendgroup": "março",
         "marker": {
          "color": "#00cc96",
          "size": [
           18
          ],
          "sizemode": "area",
          "sizeref": 0.015833333333333335,
          "symbol": "circle"
         },
         "mode": "markers",
         "name": "março",
         "orientation": "v",
         "showlegend": true,
         "type": "scatter",
         "x": [
          22
         ],
         "xaxis": "x",
         "y": [
          18
         ],
         "yaxis": "y"
        },
        {
         "hovertemplate": "<b>%{hovertext}</b><br><br>word=trabalho<br>index=%{x}<br>count=%{marker.size}<extra></extra>",
         "hovertext": [
          "trabalho"
         ],
         "legendgroup": "trabalho",
         "marker": {
          "color": "#ab63fa",
          "size": [
           18
          ],
          "sizemode": "area",
          "sizeref": 0.015833333333333335,
          "symbol": "circle"
         },
         "mode": "markers",
         "name": "trabalho",
         "orientation": "v",
         "showlegend": true,
         "type": "scatter",
         "x": [
          23
         ],
         "xaxis": "x",
         "y": [
          18
         ],
         "yaxis": "y"
        },
        {
         "hovertemplate": "<b>%{hovertext}</b><br><br>word=sistema elétrico<br>index=%{x}<br>count=%{marker.size}<extra></extra>",
         "hovertext": [
          "sistema elétrico"
         ],
         "legendgroup": "sistema elétrico",
         "marker": {
          "color": "#FFA15A",
          "size": [
           18
          ],
          "sizemode": "area",
          "sizeref": 0.015833333333333335,
          "symbol": "circle"
         },
         "mode": "markers",
         "name": "sistema elétrico",
         "orientation": "v",
         "showlegend": true,
         "type": "scatter",
         "x": [
          24
         ],
         "xaxis": "x",
         "y": [
          18
         ],
         "yaxis": "y"
        },
        {
         "hovertemplate": "<b>%{hovertext}</b><br><br>word=eletrobras<br>index=%{x}<br>count=%{marker.size}<extra></extra>",
         "hovertext": [
          "eletrobras"
         ],
         "legendgroup": "eletrobras",
         "marker": {
          "color": "#19d3f3",
          "size": [
           18
          ],
          "sizemode": "area",
          "sizeref": 0.015833333333333335,
          "symbol": "circle"
         },
         "mode": "markers",
         "name": "eletrobras",
         "orientation": "v",
         "showlegend": true,
         "type": "scatter",
         "x": [
          25
         ],
         "xaxis": "x",
         "y": [
          18
         ],
         "yaxis": "y"
        },
        {
         "hovertemplate": "<b>%{hovertext}</b><br><br>word=associação brasileira<br>index=%{x}<br>count=%{marker.size}<extra></extra>",
         "hovertext": [
          "associação brasileira"
         ],
         "legendgroup": "associação brasileira",
         "marker": {
          "color": "#FF6692",
          "size": [
           18
          ],
          "sizemode": "area",
          "sizeref": 0.015833333333333335,
          "symbol": "circle"
         },
         "mode": "markers",
         "name": "associação brasileira",
         "orientation": "v",
         "showlegend": true,
         "type": "scatter",
         "x": [
          26
         ],
         "xaxis": "x",
         "y": [
          18
         ],
         "yaxis": "y"
        },
        {
         "hovertemplate": "<b>%{hovertext}</b><br><br>word=oportunidades<br>index=%{x}<br>count=%{marker.size}<extra></extra>",
         "hovertext": [
          "oportunidades"
         ],
         "legendgroup": "oportunidades",
         "marker": {
          "color": "#B6E880",
          "size": [
           18
          ],
          "sizemode": "area",
          "sizeref": 0.015833333333333335,
          "symbol": "circle"
         },
         "mode": "markers",
         "name": "oportunidades",
         "orientation": "v",
         "showlegend": true,
         "type": "scatter",
         "x": [
          27
         ],
         "xaxis": "x",
         "y": [
          18
         ],
         "yaxis": "y"
        },
        {
         "hovertemplate": "<b>%{hovertext}</b><br><br>word=projetos<br>index=%{x}<br>count=%{marker.size}<extra></extra>",
         "hovertext": [
          "projetos"
         ],
         "legendgroup": "projetos",
         "marker": {
          "color": "#FF97FF",
          "size": [
           18
          ],
          "sizemode": "area",
          "sizeref": 0.015833333333333335,
          "symbol": "circle"
         },
         "mode": "markers",
         "name": "projetos",
         "orientation": "v",
         "showlegend": true,
         "type": "scatter",
         "x": [
          28
         ],
         "xaxis": "x",
         "y": [
          18
         ],
         "yaxis": "y"
        },
        {
         "hovertemplate": "<b>%{hovertext}</b><br><br>word=recursos<br>index=%{x}<br>count=%{marker.size}<extra></extra>",
         "hovertext": [
          "recursos"
         ],
         "legendgroup": "recursos",
         "marker": {
          "color": "#FECB52",
          "size": [
           18
          ],
          "sizemode": "area",
          "sizeref": 0.015833333333333335,
          "symbol": "circle"
         },
         "mode": "markers",
         "name": "recursos",
         "orientation": "v",
         "showlegend": true,
         "type": "scatter",
         "x": [
          29
         ],
         "xaxis": "x",
         "y": [
          18
         ],
         "yaxis": "y"
        },
        {
         "hovertemplate": "<b>%{hovertext}</b><br><br>word=norte<br>index=%{x}<br>count=%{marker.size}<extra></extra>",
         "hovertext": [
          "norte"
         ],
         "legendgroup": "norte",
         "marker": {
          "color": "#636efa",
          "size": [
           18
          ],
          "sizemode": "area",
          "sizeref": 0.015833333333333335,
          "symbol": "circle"
         },
         "mode": "markers",
         "name": "norte",
         "orientation": "v",
         "showlegend": true,
         "type": "scatter",
         "x": [
          30
         ],
         "xaxis": "x",
         "y": [
          18
         ],
         "yaxis": "y"
        },
        {
         "hovertemplate": "<b>%{hovertext}</b><br><br>word=realizado<br>index=%{x}<br>count=%{marker.size}<extra></extra>",
         "hovertext": [
          "realizado"
         ],
         "legendgroup": "realizado",
         "marker": {
          "color": "#EF553B",
          "size": [
           18
          ],
          "sizemode": "area",
          "sizeref": 0.015833333333333335,
          "symbol": "circle"
         },
         "mode": "markers",
         "name": "realizado",
         "orientation": "v",
         "showlegend": true,
         "type": "scatter",
         "x": [
          31
         ],
         "xaxis": "x",
         "y": [
          18
         ],
         "yaxis": "y"
        },
        {
         "hovertemplate": "<b>%{hovertext}</b><br><br>word=desenvolvimento energético<br>index=%{x}<br>count=%{marker.size}<extra></extra>",
         "hovertext": [
          "desenvolvimento energético"
         ],
         "legendgroup": "desenvolvimento energético",
         "marker": {
          "color": "#00cc96",
          "size": [
           18
          ],
          "sizemode": "area",
          "sizeref": 0.015833333333333335,
          "symbol": "circle"
         },
         "mode": "markers",
         "name": "desenvolvimento energético",
         "orientation": "v",
         "showlegend": true,
         "type": "scatter",
         "x": [
          32
         ],
         "xaxis": "x",
         "y": [
          18
         ],
         "yaxis": "y"
        },
        {
         "hovertemplate": "<b>%{hovertext}</b><br><br>word=geração offshore<br>index=%{x}<br>count=%{marker.size}<extra></extra>",
         "hovertext": [
          "geração offshore"
         ],
         "legendgroup": "geração offshore",
         "marker": {
          "color": "#ab63fa",
          "size": [
           18
          ],
          "sizemode": "area",
          "sizeref": 0.015833333333333335,
          "symbol": "circle"
         },
         "mode": "markers",
         "name": "geração offshore",
         "orientation": "v",
         "showlegend": true,
         "type": "scatter",
         "x": [
          33
         ],
         "xaxis": "x",
         "y": [
          18
         ],
         "yaxis": "y"
        },
        {
         "hovertemplate": "<b>%{hovertext}</b><br><br>word=ambiente<br>index=%{x}<br>count=%{marker.size}<extra></extra>",
         "hovertext": [
          "ambiente"
         ],
         "legendgroup": "ambiente",
         "marker": {
          "color": "#FFA15A",
          "size": [
           18
          ],
          "sizemode": "area",
          "sizeref": 0.015833333333333335,
          "symbol": "circle"
         },
         "mode": "markers",
         "name": "ambiente",
         "orientation": "v",
         "showlegend": true,
         "type": "scatter",
         "x": [
          34
         ],
         "xaxis": "x",
         "y": [
          18
         ],
         "yaxis": "y"
        },
        {
         "hovertemplate": "<b>%{hovertext}</b><br><br>word=transmissão<br>index=%{x}<br>count=%{marker.size}<extra></extra>",
         "hovertext": [
          "transmissão"
         ],
         "legendgroup": "transmissão",
         "marker": {
          "color": "#19d3f3",
          "size": [
           18
          ],
          "sizemode": "area",
          "sizeref": 0.015833333333333335,
          "symbol": "circle"
         },
         "mode": "markers",
         "name": "transmissão",
         "orientation": "v",
         "showlegend": true,
         "type": "scatter",
         "x": [
          35
         ],
         "xaxis": "x",
         "y": [
          18
         ],
         "yaxis": "y"
        },
        {
         "hovertemplate": "<b>%{hovertext}</b><br><br>word=tema<br>index=%{x}<br>count=%{marker.size}<extra></extra>",
         "hovertext": [
          "tema"
         ],
         "legendgroup": "tema",
         "marker": {
          "color": "#FF6692",
          "size": [
           15
          ],
          "sizemode": "area",
          "sizeref": 0.015833333333333335,
          "symbol": "circle"
         },
         "mode": "markers",
         "name": "tema",
         "orientation": "v",
         "showlegend": true,
         "type": "scatter",
         "x": [
          36
         ],
         "xaxis": "x",
         "y": [
          15
         ],
         "yaxis": "y"
        },
        {
         "hovertemplate": "<b>%{hovertext}</b><br><br>word=termos<br>index=%{x}<br>count=%{marker.size}<extra></extra>",
         "hovertext": [
          "termos"
         ],
         "legendgroup": "termos",
         "marker": {
          "color": "#B6E880",
          "size": [
           15
          ],
          "sizemode": "area",
          "sizeref": 0.015833333333333335,
          "symbol": "circle"
         },
         "mode": "markers",
         "name": "termos",
         "orientation": "v",
         "showlegend": true,
         "type": "scatter",
         "x": [
          37
         ],
         "xaxis": "x",
         "y": [
          15
         ],
         "yaxis": "y"
        },
        {
         "hovertemplate": "<b>%{hovertext}</b><br><br>word=conta<br>index=%{x}<br>count=%{marker.size}<extra></extra>",
         "hovertext": [
          "conta"
         ],
         "legendgroup": "conta",
         "marker": {
          "color": "#FF97FF",
          "size": [
           15
          ],
          "sizemode": "area",
          "sizeref": 0.015833333333333335,
          "symbol": "circle"
         },
         "mode": "markers",
         "name": "conta",
         "orientation": "v",
         "showlegend": true,
         "type": "scatter",
         "x": [
          38
         ],
         "xaxis": "x",
         "y": [
          15
         ],
         "yaxis": "y"
        },
        {
         "hovertemplate": "<b>%{hovertext}</b><br><br>word=amazônia legal<br>index=%{x}<br>count=%{marker.size}<extra></extra>",
         "hovertext": [
          "amazônia legal"
         ],
         "legendgroup": "amazônia legal",
         "marker": {
          "color": "#FECB52",
          "size": [
           15
          ],
          "sizemode": "area",
          "sizeref": 0.015833333333333335,
          "symbol": "circle"
         },
         "mode": "markers",
         "name": "amazônia legal",
         "orientation": "v",
         "showlegend": true,
         "type": "scatter",
         "x": [
          39
         ],
         "xaxis": "x",
         "y": [
          15
         ],
         "yaxis": "y"
        },
        {
         "hovertemplate": "<b>%{hovertext}</b><br><br>word=operação<br>index=%{x}<br>count=%{marker.size}<extra></extra>",
         "hovertext": [
          "operação"
         ],
         "legendgroup": "operação",
         "marker": {
          "color": "#636efa",
          "size": [
           15
          ],
          "sizemode": "area",
          "sizeref": 0.015833333333333335,
          "symbol": "circle"
         },
         "mode": "markers",
         "name": "operação",
         "orientation": "v",
         "showlegend": true,
         "type": "scatter",
         "x": [
          40
         ],
         "xaxis": "x",
         "y": [
          15
         ],
         "yaxis": "y"
        },
        {
         "hovertemplate": "<b>%{hovertext}</b><br><br>word=futuro<br>index=%{x}<br>count=%{marker.size}<extra></extra>",
         "hovertext": [
          "futuro"
         ],
         "legendgroup": "futuro",
         "marker": {
          "color": "#EF553B",
          "size": [
           15
          ],
          "sizemode": "area",
          "sizeref": 0.015833333333333335,
          "symbol": "circle"
         },
         "mode": "markers",
         "name": "futuro",
         "orientation": "v",
         "showlegend": true,
         "type": "scatter",
         "x": [
          41
         ],
         "xaxis": "x",
         "y": [
          15
         ],
         "yaxis": "y"
        },
        {
         "hovertemplate": "<b>%{hovertext}</b><br><br>word=disso<br>index=%{x}<br>count=%{marker.size}<extra></extra>",
         "hovertext": [
          "disso"
         ],
         "legendgroup": "disso",
         "marker": {
          "color": "#00cc96",
          "size": [
           15
          ],
          "sizemode": "area",
          "sizeref": 0.015833333333333335,
          "symbol": "circle"
         },
         "mode": "markers",
         "name": "disso",
         "orientation": "v",
         "showlegend": true,
         "type": "scatter",
         "x": [
          42
         ],
         "xaxis": "x",
         "y": [
          15
         ],
         "yaxis": "y"
        },
        {
         "hovertemplate": "<b>%{hovertext}</b><br><br>word=subsistemas sudeste<br>index=%{x}<br>count=%{marker.size}<extra></extra>",
         "hovertext": [
          "subsistemas sudeste"
         ],
         "legendgroup": "subsistemas sudeste",
         "marker": {
          "color": "#ab63fa",
          "size": [
           15
          ],
          "sizemode": "area",
          "sizeref": 0.015833333333333335,
          "symbol": "circle"
         },
         "mode": "markers",
         "name": "subsistemas sudeste",
         "orientation": "v",
         "showlegend": true,
         "type": "scatter",
         "x": [
          43
         ],
         "xaxis": "x",
         "y": [
          15
         ],
         "yaxis": "y"
        },
        {
         "hovertemplate": "<b>%{hovertext}</b><br><br>word=nacional<br>index=%{x}<br>count=%{marker.size}<extra></extra>",
         "hovertext": [
          "nacional"
         ],
         "legendgroup": "nacional",
         "marker": {
          "color": "#FFA15A",
          "size": [
           15
          ],
          "sizemode": "area",
          "sizeref": 0.015833333333333335,
          "symbol": "circle"
         },
         "mode": "markers",
         "name": "nacional",
         "orientation": "v",
         "showlegend": true,
         "type": "scatter",
         "x": [
          44
         ],
         "xaxis": "x",
         "y": [
          15
         ],
         "yaxis": "y"
        },
        {
         "hovertemplate": "<b>%{hovertext}</b><br><br>word=contribuindo<br>index=%{x}<br>count=%{marker.size}<extra></extra>",
         "hovertext": [
          "contribuindo"
         ],
         "legendgroup": "contribuindo",
         "marker": {
          "color": "#19d3f3",
          "size": [
           15
          ],
          "sizemode": "area",
          "sizeref": 0.015833333333333335,
          "symbol": "circle"
         },
         "mode": "markers",
         "name": "contribuindo",
         "orientation": "v",
         "showlegend": true,
         "type": "scatter",
         "x": [
          45
         ],
         "xaxis": "x",
         "y": [
          15
         ],
         "yaxis": "y"
        },
        {
         "hovertemplate": "<b>%{hovertext}</b><br><br>word=empresas<br>index=%{x}<br>count=%{marker.size}<extra></extra>",
         "hovertext": [
          "empresas"
         ],
         "legendgroup": "empresas",
         "marker": {
          "color": "#FF6692",
          "size": [
           15
          ],
          "sizemode": "area",
          "sizeref": 0.015833333333333335,
          "symbol": "circle"
         },
         "mode": "markers",
         "name": "empresas",
         "orientation": "v",
         "showlegend": true,
         "type": "scatter",
         "x": [
          46
         ],
         "xaxis": "x",
         "y": [
          15
         ],
         "yaxis": "y"
        },
        {
         "hovertemplate": "<b>%{hovertext}</b><br><br>word=mineroduto<br>index=%{x}<br>count=%{marker.size}<extra></extra>",
         "hovertext": [
          "mineroduto"
         ],
         "legendgroup": "mineroduto",
         "marker": {
          "color": "#B6E880",
          "size": [
           15
          ],
          "sizemode": "area",
          "sizeref": 0.015833333333333335,
          "symbol": "circle"
         },
         "mode": "markers",
         "name": "mineroduto",
         "orientation": "v",
         "showlegend": true,
         "type": "scatter",
         "x": [
          47
         ],
         "xaxis": "x",
         "y": [
          15
         ],
         "yaxis": "y"
        },
        {
         "hovertemplate": "<b>%{hovertext}</b><br><br>word=verificado<br>index=%{x}<br>count=%{marker.size}<extra></extra>",
         "hovertext": [
          "verificado"
         ],
         "legendgroup": "verificado",
         "marker": {
          "color": "#FF97FF",
          "size": [
           15
          ],
          "sizemode": "area",
          "sizeref": 0.015833333333333335,
          "symbol": "circle"
         },
         "mode": "markers",
         "name": "verificado",
         "orientation": "v",
         "showlegend": true,
         "type": "scatter",
         "x": [
          48
         ],
         "xaxis": "x",
         "y": [
          15
         ],
         "yaxis": "y"
        },
        {
         "hovertemplate": "<b>%{hovertext}</b><br><br>word=destacou<br>index=%{x}<br>count=%{marker.size}<extra></extra>",
         "hovertext": [
          "destacou"
         ],
         "legendgroup": "destacou",
         "marker": {
          "color": "#FECB52",
          "size": [
           15
          ],
          "sizemode": "area",
          "sizeref": 0.015833333333333335,
          "symbol": "circle"
         },
         "mode": "markers",
         "name": "destacou",
         "orientation": "v",
         "showlegend": true,
         "type": "scatter",
         "x": [
          49
         ],
         "xaxis": "x",
         "y": [
          15
         ],
         "yaxis": "y"
        },
        {
         "hovertemplate": "<b>%{hovertext}</b><br><br>word=audiência pública<br>index=%{x}<br>count=%{marker.size}<extra></extra>",
         "hovertext": [
          "audiência pública"
         ],
         "legendgroup": "audiência pública",
         "marker": {
          "color": "#636efa",
          "size": [
           15
          ],
          "sizemode": "area",
          "sizeref": 0.015833333333333335,
          "symbol": "circle"
         },
         "mode": "markers",
         "name": "audiência pública",
         "orientation": "v",
         "showlegend": true,
         "type": "scatter",
         "x": [
          50
         ],
         "xaxis": "x",
         "y": [
          15
         ],
         "yaxis": "y"
        },
        {
         "hovertemplate": "<b>%{hovertext}</b><br><br>word=próximo<br>index=%{x}<br>count=%{marker.size}<extra></extra>",
         "hovertext": [
          "próximo"
         ],
         "legendgroup": "próximo",
         "marker": {
          "color": "#EF553B",
          "size": [
           15
          ],
          "sizemode": "area",
          "sizeref": 0.015833333333333335,
          "symbol": "circle"
         },
         "mode": "markers",
         "name": "próximo",
         "orientation": "v",
         "showlegend": true,
         "type": "scatter",
         "x": [
          51
         ],
         "xaxis": "x",
         "y": [
          15
         ],
         "yaxis": "y"
        },
        {
         "hovertemplate": "<b>%{hovertext}</b><br><br>word=milhões<br>index=%{x}<br>count=%{marker.size}<extra></extra>",
         "hovertext": [
          "milhões"
         ],
         "legendgroup": "milhões",
         "marker": {
          "color": "#00cc96",
          "size": [
           15
          ],
          "sizemode": "area",
          "sizeref": 0.015833333333333335,
          "symbol": "circle"
         },
         "mode": "markers",
         "name": "milhões",
         "orientation": "v",
         "showlegend": true,
         "type": "scatter",
         "x": [
          52
         ],
         "xaxis": "x",
         "y": [
          15
         ],
         "yaxis": "y"
        },
        {
         "hovertemplate": "<b>%{hovertext}</b><br><br>word=geração distribuída<br>index=%{x}<br>count=%{marker.size}<extra></extra>",
         "hovertext": [
          "geração distribuída"
         ],
         "legendgroup": "geração distribuída",
         "marker": {
          "color": "#ab63fa",
          "size": [
           15
          ],
          "sizemode": "area",
          "sizeref": 0.015833333333333335,
          "symbol": "circle"
         },
         "mode": "markers",
         "name": "geração distribuída",
         "orientation": "v",
         "showlegend": true,
         "type": "scatter",
         "x": [
          53
         ],
         "xaxis": "x",
         "y": [
          15
         ],
         "yaxis": "y"
        },
        {
         "hovertemplate": "<b>%{hovertext}</b><br><br>word=previsão<br>index=%{x}<br>count=%{marker.size}<extra></extra>",
         "hovertext": [
          "previsão"
         ],
         "legendgroup": "previsão",
         "marker": {
          "color": "#FFA15A",
          "size": [
           15
          ],
          "sizemode": "area",
          "sizeref": 0.015833333333333335,
          "symbol": "circle"
         },
         "mode": "markers",
         "name": "previsão",
         "orientation": "v",
         "showlegend": true,
         "type": "scatter",
         "x": [
          54
         ],
         "xaxis": "x",
         "y": [
          15
         ],
         "yaxis": "y"
        },
        {
         "hovertemplate": "<b>%{hovertext}</b><br><br>word=secretário<br>index=%{x}<br>count=%{marker.size}<extra></extra>",
         "hovertext": [
          "secretário"
         ],
         "legendgroup": "secretário",
         "marker": {
          "color": "#19d3f3",
          "size": [
           15
          ],
          "sizemode": "area",
          "sizeref": 0.015833333333333335,
          "symbol": "circle"
         },
         "mode": "markers",
         "name": "secretário",
         "orientation": "v",
         "showlegend": true,
         "type": "scatter",
         "x": [
          55
         ],
         "xaxis": "x",
         "y": [
          15
         ],
         "yaxis": "y"
        },
        {
         "hovertemplate": "<b>%{hovertext}</b><br><br>word=biocombustíveis<br>index=%{x}<br>count=%{marker.size}<extra></extra>",
         "hovertext": [
          "biocombustíveis"
         ],
         "legendgroup": "biocombustíveis",
         "marker": {
          "color": "#FF6692",
          "size": [
           15
          ],
          "sizemode": "area",
          "sizeref": 0.015833333333333335,
          "symbol": "circle"
         },
         "mode": "markers",
         "name": "biocombustíveis",
         "orientation": "v",
         "showlegend": true,
         "type": "scatter",
         "x": [
          56
         ],
         "xaxis": "x",
         "y": [
          15
         ],
         "yaxis": "y"
        },
        {
         "hovertemplate": "<b>%{hovertext}</b><br><br>word=instalada<br>index=%{x}<br>count=%{marker.size}<extra></extra>",
         "hovertext": [
          "instalada"
         ],
         "legendgroup": "instalada",
         "marker": {
          "color": "#B6E880",
          "size": [
           15
          ],
          "sizemode": "area",
          "sizeref": 0.015833333333333335,
          "symbol": "circle"
         },
         "mode": "markers",
         "name": "instalada",
         "orientation": "v",
         "showlegend": true,
         "type": "scatter",
         "x": [
          57
         ],
         "xaxis": "x",
         "y": [
          15
         ],
         "yaxis": "y"
        },
        {
         "hovertemplate": "<b>%{hovertext}</b><br><br>word=desestatização<br>index=%{x}<br>count=%{marker.size}<extra></extra>",
         "hovertext": [
          "desestatização"
         ],
         "legendgroup": "desestatização",
         "marker": {
          "color": "#FF97FF",
          "size": [
           15
          ],
          "sizemode": "area",
          "sizeref": 0.015833333333333335,
          "symbol": "circle"
         },
         "mode": "markers",
         "name": "desestatização",
         "orientation": "v",
         "showlegend": true,
         "type": "scatter",
         "x": [
          58
         ],
         "xaxis": "x",
         "y": [
          15
         ],
         "yaxis": "y"
        },
        {
         "hovertemplate": "<b>%{hovertext}</b><br><br>word=informação<br>index=%{x}<br>count=%{marker.size}<extra></extra>",
         "hovertext": [
          "informação"
         ],
         "legendgroup": "informação",
         "marker": {
          "color": "#FECB52",
          "size": [
           15
          ],
          "sizemode": "area",
          "sizeref": 0.015833333333333335,
          "symbol": "circle"
         },
         "mode": "markers",
         "name": "informação",
         "orientation": "v",
         "showlegend": true,
         "type": "scatter",
         "x": [
          59
         ],
         "xaxis": "x",
         "y": [
          15
         ],
         "yaxis": "y"
        },
        {
         "hovertemplate": "<b>%{hovertext}</b><br><br>word=acesse aqui<br>index=%{x}<br>count=%{marker.size}<extra></extra>",
         "hovertext": [
          "acesse aqui"
         ],
         "legendgroup": "acesse aqui",
         "marker": {
          "color": "#636efa",
          "size": [
           15
          ],
          "sizemode": "area",
          "sizeref": 0.015833333333333335,
          "symbol": "circle"
         },
         "mode": "markers",
         "name": "acesse aqui",
         "orientation": "v",
         "showlegend": true,
         "type": "scatter",
         "x": [
          60
         ],
         "xaxis": "x",
         "y": [
          15
         ],
         "yaxis": "y"
        },
        {
         "hovertemplate": "<b>%{hovertext}</b><br><br>word=realizada<br>index=%{x}<br>count=%{marker.size}<extra></extra>",
         "hovertext": [
          "realizada"
         ],
         "legendgroup": "realizada",
         "marker": {
          "color": "#EF553B",
          "size": [
           15
          ],
          "sizemode": "area",
          "sizeref": 0.015833333333333335,
          "symbol": "circle"
         },
         "mode": "markers",
         "name": "realizada",
         "orientation": "v",
         "showlegend": true,
         "type": "scatter",
         "x": [
          61
         ],
         "xaxis": "x",
         "y": [
          15
         ],
         "yaxis": "y"
        },
        {
         "hovertemplate": "<b>%{hovertext}</b><br><br>word=brasileira<br>index=%{x}<br>count=%{marker.size}<extra></extra>",
         "hovertext": [
          "brasileira"
         ],
         "legendgroup": "brasileira",
         "marker": {
          "color": "#00cc96",
          "size": [
           15
          ],
          "sizemode": "area",
          "sizeref": 0.015833333333333335,
          "symbol": "circle"
         },
         "mode": "markers",
         "name": "brasileira",
         "orientation": "v",
         "showlegend": true,
         "type": "scatter",
         "x": [
          62
         ],
         "xaxis": "x",
         "y": [
          15
         ],
         "yaxis": "y"
        },
        {
         "hovertemplate": "<b>%{hovertext}</b><br><br>word=centro oeste<br>index=%{x}<br>count=%{marker.size}<extra></extra>",
         "hovertext": [
          "centro oeste"
         ],
         "legendgroup": "centro oeste",
         "marker": {
          "color": "#ab63fa",
          "size": [
           15
          ],
          "sizemode": "area",
          "sizeref": 0.015833333333333335,
          "symbol": "circle"
         },
         "mode": "markers",
         "name": "centro oeste",
         "orientation": "v",
         "showlegend": true,
         "type": "scatter",
         "x": [
          63
         ],
         "xaxis": "x",
         "y": [
          15
         ],
         "yaxis": "y"
        },
        {
         "hovertemplate": "<b>%{hovertext}</b><br><br>word=subsistema<br>index=%{x}<br>count=%{marker.size}<extra></extra>",
         "hovertext": [
          "subsistema"
         ],
         "legendgroup": "subsistema",
         "marker": {
          "color": "#FFA15A",
          "size": [
           15
          ],
          "sizemode": "area",
          "sizeref": 0.015833333333333335,
          "symbol": "circle"
         },
         "mode": "markers",
         "name": "subsistema",
         "orientation": "v",
         "showlegend": true,
         "type": "scatter",
         "x": [
          64
         ],
         "xaxis": "x",
         "y": [
          15
         ],
         "yaxis": "y"
        },
        {
         "hovertemplate": "<b>%{hovertext}</b><br><br>word=contratos<br>index=%{x}<br>count=%{marker.size}<extra></extra>",
         "hovertext": [
          "contratos"
         ],
         "legendgroup": "contratos",
         "marker": {
          "color": "#19d3f3",
          "size": [
           15
          ],
          "sizemode": "area",
          "sizeref": 0.015833333333333335,
          "symbol": "circle"
         },
         "mode": "markers",
         "name": "contratos",
         "orientation": "v",
         "showlegend": true,
         "type": "scatter",
         "x": [
          65
         ],
         "xaxis": "x",
         "y": [
          15
         ],
         "yaxis": "y"
        },
        {
         "hovertemplate": "<b>%{hovertext}</b><br><br>word=bem<br>index=%{x}<br>count=%{marker.size}<extra></extra>",
         "hovertext": [
          "bem"
         ],
         "legendgroup": "bem",
         "marker": {
          "color": "#FF6692",
          "size": [
           15
          ],
          "sizemode": "area",
          "sizeref": 0.015833333333333335,
          "symbol": "circle"
         },
         "mode": "markers",
         "name": "bem",
         "orientation": "v",
         "showlegend": true,
         "type": "scatter",
         "x": [
          66
         ],
         "xaxis": "x",
         "y": [
          15
         ],
         "yaxis": "y"
        },
        {
         "hovertemplate": "<b>%{hovertext}</b><br><br>word=ações<br>index=%{x}<br>count=%{marker.size}<extra></extra>",
         "hovertext": [
          "ações"
         ],
         "legendgroup": "ações",
         "marker": {
          "color": "#B6E880",
          "size": [
           15
          ],
          "sizemode": "area",
          "sizeref": 0.015833333333333335,
          "symbol": "circle"
         },
         "mode": "markers",
         "name": "ações",
         "orientation": "v",
         "showlegend": true,
         "type": "scatter",
         "x": [
          67
         ],
         "xaxis": "x",
         "y": [
          15
         ],
         "yaxis": "y"
        },
        {
         "hovertemplate": "<b>%{hovertext}</b><br><br>word=presidente<br>index=%{x}<br>count=%{marker.size}<extra></extra>",
         "hovertext": [
          "presidente"
         ],
         "legendgroup": "presidente",
         "marker": {
          "color": "#FF97FF",
          "size": [
           15
          ],
          "sizemode": "area",
          "sizeref": 0.015833333333333335,
          "symbol": "circle"
         },
         "mode": "markers",
         "name": "presidente",
         "orientation": "v",
         "showlegend": true,
         "type": "scatter",
         "x": [
          68
         ],
         "xaxis": "x",
         "y": [
          15
         ],
         "yaxis": "y"
        },
        {
         "hovertemplate": "<b>%{hovertext}</b><br><br>word=mês<br>index=%{x}<br>count=%{marker.size}<extra></extra>",
         "hovertext": [
          "mês"
         ],
         "legendgroup": "mês",
         "marker": {
          "color": "#FECB52",
          "size": [
           15
          ],
          "sizemode": "area",
          "sizeref": 0.015833333333333335,
          "symbol": "circle"
         },
         "mode": "markers",
         "name": "mês",
         "orientation": "v",
         "showlegend": true,
         "type": "scatter",
         "x": [
          69
         ],
         "xaxis": "x",
         "y": [
          15
         ],
         "yaxis": "y"
        },
        {
         "hovertemplate": "<b>%{hovertext}</b><br><br>word=informações<br>index=%{x}<br>count=%{marker.size}<extra></extra>",
         "hovertext": [
          "informações"
         ],
         "legendgroup": "informações",
         "marker": {
          "color": "#636efa",
          "size": [
           15
          ],
          "sizemode": "area",
          "sizeref": 0.015833333333333335,
          "symbol": "circle"
         },
         "mode": "markers",
         "name": "informações",
         "orientation": "v",
         "showlegend": true,
         "type": "scatter",
         "x": [
          70
         ],
         "xaxis": "x",
         "y": [
          15
         ],
         "yaxis": "y"
        },
        {
         "hovertemplate": "<b>%{hovertext}</b><br><br>word=modernização<br>index=%{x}<br>count=%{marker.size}<extra></extra>",
         "hovertext": [
          "modernização"
         ],
         "legendgroup": "modernização",
         "marker": {
          "color": "#EF553B",
          "size": [
           15
          ],
          "sizemode": "area",
          "sizeref": 0.015833333333333335,
          "symbol": "circle"
         },
         "mode": "markers",
         "name": "modernização",
         "orientation": "v",
         "showlegend": true,
         "type": "scatter",
         "x": [
          71
         ],
         "xaxis": "x",
         "y": [
          15
         ],
         "yaxis": "y"
        },
        {
         "hovertemplate": "<b>%{hovertext}</b><br><br>word=elétrico brasileiro<br>index=%{x}<br>count=%{marker.size}<extra></extra>",
         "hovertext": [
          "elétrico brasileiro"
         ],
         "legendgroup": "elétrico brasileiro",
         "marker": {
          "color": "#00cc96",
          "size": [
           15
          ],
          "sizemode": "area",
          "sizeref": 0.015833333333333335,
          "symbol": "circle"
         },
         "mode": "markers",
         "name": "elétrico brasileiro",
         "orientation": "v",
         "showlegend": true,
         "type": "scatter",
         "x": [
          72
         ],
         "xaxis": "x",
         "y": [
          15
         ],
         "yaxis": "y"
        },
        {
         "hovertemplate": "<b>%{hovertext}</b><br><br>word=novas<br>index=%{x}<br>count=%{marker.size}<extra></extra>",
         "hovertext": [
          "novas"
         ],
         "legendgroup": "novas",
         "marker": {
          "color": "#ab63fa",
          "size": [
           15
          ],
          "sizemode": "area",
          "sizeref": 0.015833333333333335,
          "symbol": "circle"
         },
         "mode": "markers",
         "name": "novas",
         "orientation": "v",
         "showlegend": true,
         "type": "scatter",
         "x": [
          73
         ],
         "xaxis": "x",
         "y": [
          15
         ],
         "yaxis": "y"
        },
        {
         "hovertemplate": "<b>%{hovertext}</b><br><br>word=sudeste centro<br>index=%{x}<br>count=%{marker.size}<extra></extra>",
         "hovertext": [
          "sudeste centro"
         ],
         "legendgroup": "sudeste centro",
         "marker": {
          "color": "#FFA15A",
          "size": [
           15
          ],
          "sizemode": "area",
          "sizeref": 0.015833333333333335,
          "symbol": "circle"
         },
         "mode": "markers",
         "name": "sudeste centro",
         "orientation": "v",
         "showlegend": true,
         "type": "scatter",
         "x": [
          74
         ],
         "xaxis": "x",
         "y": [
          15
         ],
         "yaxis": "y"
        },
        {
         "hovertemplate": "<b>%{hovertext}</b><br><br>word=desenvolvimento sustentável<br>index=%{x}<br>count=%{marker.size}<extra></extra>",
         "hovertext": [
          "desenvolvimento sustentável"
         ],
         "legendgroup": "desenvolvimento sustentável",
         "marker": {
          "color": "#19d3f3",
          "size": [
           15
          ],
          "sizemode": "area",
          "sizeref": 0.015833333333333335,
          "symbol": "circle"
         },
         "mode": "markers",
         "name": "desenvolvimento sustentável",
         "orientation": "v",
         "showlegend": true,
         "type": "scatter",
         "x": [
          75
         ],
         "xaxis": "x",
         "y": [
          15
         ],
         "yaxis": "y"
        },
        {
         "hovertemplate": "<b>%{hovertext}</b><br><br>word=forma<br>index=%{x}<br>count=%{marker.size}<extra></extra>",
         "hovertext": [
          "forma"
         ],
         "legendgroup": "forma",
         "marker": {
          "color": "#FF6692",
          "size": [
           15
          ],
          "sizemode": "area",
          "sizeref": 0.015833333333333335,
          "symbol": "circle"
         },
         "mode": "markers",
         "name": "forma",
         "orientation": "v",
         "showlegend": true,
         "type": "scatter",
         "x": [
          76
         ],
         "xaxis": "x",
         "y": [
          15
         ],
         "yaxis": "y"
        },
        {
         "hovertemplate": "<b>%{hovertext}</b><br><br>word=período<br>index=%{x}<br>count=%{marker.size}<extra></extra>",
         "hovertext": [
          "período"
         ],
         "legendgroup": "período",
         "marker": {
          "color": "#B6E880",
          "size": [
           15
          ],
          "sizemode": "area",
          "sizeref": 0.015833333333333335,
          "symbol": "circle"
         },
         "mode": "markers",
         "name": "período",
         "orientation": "v",
         "showlegend": true,
         "type": "scatter",
         "x": [
          77
         ],
         "xaxis": "x",
         "y": [
          15
         ],
         "yaxis": "y"
        },
        {
         "hovertemplate": "<b>%{hovertext}</b><br><br>word=contribuições<br>index=%{x}<br>count=%{marker.size}<extra></extra>",
         "hovertext": [
          "contribuições"
         ],
         "legendgroup": "contribuições",
         "marker": {
          "color": "#FF97FF",
          "size": [
           15
          ],
          "sizemode": "area",
          "sizeref": 0.015833333333333335,
          "symbol": "circle"
         },
         "mode": "markers",
         "name": "contribuições",
         "orientation": "v",
         "showlegend": true,
         "type": "scatter",
         "x": [
          78
         ],
         "xaxis": "x",
         "y": [
          15
         ],
         "yaxis": "y"
        },
        {
         "hovertemplate": "<b>%{hovertext}</b><br><br>word=pl<br>index=%{x}<br>count=%{marker.size}<extra></extra>",
         "hovertext": [
          "pl"
         ],
         "legendgroup": "pl",
         "marker": {
          "color": "#FECB52",
          "size": [
           15
          ],
          "sizemode": "area",
          "sizeref": 0.015833333333333335,
          "symbol": "circle"
         },
         "mode": "markers",
         "name": "pl",
         "orientation": "v",
         "showlegend": true,
         "type": "scatter",
         "x": [
          79
         ],
         "xaxis": "x",
         "y": [
          15
         ],
         "yaxis": "y"
        },
        {
         "hovertemplate": "<b>%{hovertext}</b><br><br>word=reidi<br>index=%{x}<br>count=%{marker.size}<extra></extra>",
         "hovertext": [
          "reidi"
         ],
         "legendgroup": "reidi",
         "marker": {
          "color": "#636efa",
          "size": [
           15
          ],
          "sizemode": "area",
          "sizeref": 0.015833333333333335,
          "symbol": "circle"
         },
         "mode": "markers",
         "name": "reidi",
         "orientation": "v",
         "showlegend": true,
         "type": "scatter",
         "x": [
          80
         ],
         "xaxis": "x",
         "y": [
          15
         ],
         "yaxis": "y"
        },
        {
         "hovertemplate": "<b>%{hovertext}</b><br><br>word=expansão<br>index=%{x}<br>count=%{marker.size}<extra></extra>",
         "hovertext": [
          "expansão"
         ],
         "legendgroup": "expansão",
         "marker": {
          "color": "#EF553B",
          "size": [
           15
          ],
          "sizemode": "area",
          "sizeref": 0.015833333333333335,
          "symbol": "circle"
         },
         "mode": "markers",
         "name": "expansão",
         "orientation": "v",
         "showlegend": true,
         "type": "scatter",
         "x": [
          81
         ],
         "xaxis": "x",
         "y": [
          15
         ],
         "yaxis": "y"
        },
        {
         "hovertemplate": "<b>%{hovertext}</b><br><br>word=criação<br>index=%{x}<br>count=%{marker.size}<extra></extra>",
         "hovertext": [
          "criação"
         ],
         "legendgroup": "criação",
         "marker": {
          "color": "#00cc96",
          "size": [
           12
          ],
          "sizemode": "area",
          "sizeref": 0.015833333333333335,
          "symbol": "circle"
         },
         "mode": "markers",
         "name": "criação",
         "orientation": "v",
         "showlegend": true,
         "type": "scatter",
         "x": [
          82
         ],
         "xaxis": "x",
         "y": [
          12
         ],
         "yaxis": "y"
        },
        {
         "hovertemplate": "<b>%{hovertext}</b><br><br>word=equipamentos<br>index=%{x}<br>count=%{marker.size}<extra></extra>",
         "hovertext": [
          "equipamentos"
         ],
         "legendgroup": "equipamentos",
         "marker": {
          "color": "#ab63fa",
          "size": [
           12
          ],
          "sizemode": "area",
          "sizeref": 0.015833333333333335,
          "symbol": "circle"
         },
         "mode": "markers",
         "name": "equipamentos",
         "orientation": "v",
         "showlegend": true,
         "type": "scatter",
         "x": [
          83
         ],
         "xaxis": "x",
         "y": [
          12
         ],
         "yaxis": "y"
        },
        {
         "hovertemplate": "<b>%{hovertext}</b><br><br>word=apoio<br>index=%{x}<br>count=%{marker.size}<extra></extra>",
         "hovertext": [
          "apoio"
         ],
         "legendgroup": "apoio",
         "marker": {
          "color": "#FFA15A",
          "size": [
           12
          ],
          "sizemode": "area",
          "sizeref": 0.015833333333333335,
          "symbol": "circle"
         },
         "mode": "markers",
         "name": "apoio",
         "orientation": "v",
         "showlegend": true,
         "type": "scatter",
         "x": [
          84
         ],
         "xaxis": "x",
         "y": [
          12
         ],
         "yaxis": "y"
        },
        {
         "hovertemplate": "<b>%{hovertext}</b><br><br>word=elétrica aneel<br>index=%{x}<br>count=%{marker.size}<extra></extra>",
         "hovertext": [
          "elétrica aneel"
         ],
         "legendgroup": "elétrica aneel",
         "marker": {
          "color": "#19d3f3",
          "size": [
           12
          ],
          "sizemode": "area",
          "sizeref": 0.015833333333333335,
          "symbol": "circle"
         },
         "mode": "markers",
         "name": "elétrica aneel",
         "orientation": "v",
         "showlegend": true,
         "type": "scatter",
         "x": [
          85
         ],
         "xaxis": "x",
         "y": [
          12
         ],
         "yaxis": "y"
        },
        {
         "hovertemplate": "<b>%{hovertext}</b><br><br>word=offshore<br>index=%{x}<br>count=%{marker.size}<extra></extra>",
         "hovertext": [
          "offshore"
         ],
         "legendgroup": "offshore",
         "marker": {
          "color": "#FF6692",
          "size": [
           12
          ],
          "sizemode": "area",
          "sizeref": 0.015833333333333335,
          "symbol": "circle"
         },
         "mode": "markers",
         "name": "offshore",
         "orientation": "v",
         "showlegend": true,
         "type": "scatter",
         "x": [
          86
         ],
         "xaxis": "x",
         "y": [
          12
         ],
         "yaxis": "y"
        },
        {
         "hovertemplate": "<b>%{hovertext}</b><br><br>word=pesquisa energética<br>index=%{x}<br>count=%{marker.size}<extra></extra>",
         "hovertext": [
          "pesquisa energética"
         ],
         "legendgroup": "pesquisa energética",
         "marker": {
          "color": "#B6E880",
          "size": [
           12
          ],
          "sizemode": "area",
          "sizeref": 0.015833333333333335,
          "symbol": "circle"
         },
         "mode": "markers",
         "name": "pesquisa energética",
         "orientation": "v",
         "showlegend": true,
         "type": "scatter",
         "x": [
          87
         ],
         "xaxis": "x",
         "y": [
          12
         ],
         "yaxis": "y"
        },
        {
         "hovertemplate": "<b>%{hovertext}</b><br><br>word=parceria<br>index=%{x}<br>count=%{marker.size}<extra></extra>",
         "hovertext": [
          "parceria"
         ],
         "legendgroup": "parceria",
         "marker": {
          "color": "#FF97FF",
          "size": [
           12
          ],
          "sizemode": "area",
          "sizeref": 0.015833333333333335,
          "symbol": "circle"
         },
         "mode": "markers",
         "name": "parceria",
         "orientation": "v",
         "showlegend": true,
         "type": "scatter",
         "x": [
          88
         ],
         "xaxis": "x",
         "y": [
          12
         ],
         "yaxis": "y"
        },
        {
         "hovertemplate": "<b>%{hovertext}</b><br><br>word=fontes<br>index=%{x}<br>count=%{marker.size}<extra></extra>",
         "hovertext": [
          "fontes"
         ],
         "legendgroup": "fontes",
         "marker": {
          "color": "#FECB52",
          "size": [
           12
          ],
          "sizemode": "area",
          "sizeref": 0.015833333333333335,
          "symbol": "circle"
         },
         "mode": "markers",
         "name": "fontes",
         "orientation": "v",
         "showlegend": true,
         "type": "scatter",
         "x": [
          89
         ],
         "xaxis": "x",
         "y": [
          12
         ],
         "yaxis": "y"
        },
        {
         "hovertemplate": "<b>%{hovertext}</b><br><br>word=mundo<br>index=%{x}<br>count=%{marker.size}<extra></extra>",
         "hovertext": [
          "mundo"
         ],
         "legendgroup": "mundo",
         "marker": {
          "color": "#636efa",
          "size": [
           12
          ],
          "sizemode": "area",
          "sizeref": 0.015833333333333335,
          "symbol": "circle"
         },
         "mode": "markers",
         "name": "mundo",
         "orientation": "v",
         "showlegend": true,
         "type": "scatter",
         "x": [
          90
         ],
         "xaxis": "x",
         "y": [
          12
         ],
         "yaxis": "y"
        },
        {
         "hovertemplate": "<b>%{hovertext}</b><br><br>word=longo prazo<br>index=%{x}<br>count=%{marker.size}<extra></extra>",
         "hovertext": [
          "longo prazo"
         ],
         "legendgroup": "longo prazo",
         "marker": {
          "color": "#EF553B",
          "size": [
           12
          ],
          "sizemode": "area",
          "sizeref": 0.015833333333333335,
          "symbol": "circle"
         },
         "mode": "markers",
         "name": "longo prazo",
         "orientation": "v",
         "showlegend": true,
         "type": "scatter",
         "x": [
          91
         ],
         "xaxis": "x",
         "y": [
          12
         ],
         "yaxis": "y"
        },
        {
         "hovertemplate": "<b>%{hovertext}</b><br><br>word=anos<br>index=%{x}<br>count=%{marker.size}<extra></extra>",
         "hovertext": [
          "anos"
         ],
         "legendgroup": "anos",
         "marker": {
          "color": "#00cc96",
          "size": [
           12
          ],
          "sizemode": "area",
          "sizeref": 0.015833333333333335,
          "symbol": "circle"
         },
         "mode": "markers",
         "name": "anos",
         "orientation": "v",
         "showlegend": true,
         "type": "scatter",
         "x": [
          92
         ],
         "xaxis": "x",
         "y": [
          12
         ],
         "yaxis": "y"
        },
        {
         "hovertemplate": "<b>%{hovertext}</b><br><br>word=universidade<br>index=%{x}<br>count=%{marker.size}<extra></extra>",
         "hovertext": [
          "universidade"
         ],
         "legendgroup": "universidade",
         "marker": {
          "color": "#ab63fa",
          "size": [
           12
          ],
          "sizemode": "area",
          "sizeref": 0.015833333333333335,
          "symbol": "circle"
         },
         "mode": "markers",
         "name": "universidade",
         "orientation": "v",
         "showlegend": true,
         "type": "scatter",
         "x": [
          93
         ],
         "xaxis": "x",
         "y": [
          12
         ],
         "yaxis": "y"
        },
        {
         "hovertemplate": "<b>%{hovertext}</b><br><br>word=marcello cabral<br>index=%{x}<br>count=%{marker.size}<extra></extra>",
         "hovertext": [
          "marcello cabral"
         ],
         "legendgroup": "marcello cabral",
         "marker": {
          "color": "#FFA15A",
          "size": [
           12
          ],
          "sizemode": "area",
          "sizeref": 0.015833333333333335,
          "symbol": "circle"
         },
         "mode": "markers",
         "name": "marcello cabral",
         "orientation": "v",
         "showlegend": true,
         "type": "scatter",
         "x": [
          94
         ],
         "xaxis": "x",
         "y": [
          12
         ],
         "yaxis": "y"
        },
        {
         "hovertemplate": "<b>%{hovertext}</b><br><br>word=sociedade<br>index=%{x}<br>count=%{marker.size}<extra></extra>",
         "hovertext": [
          "sociedade"
         ],
         "legendgroup": "sociedade",
         "marker": {
          "color": "#19d3f3",
          "size": [
           12
          ],
          "sizemode": "area",
          "sizeref": 0.015833333333333335,
          "symbol": "circle"
         },
         "mode": "markers",
         "name": "sociedade",
         "orientation": "v",
         "showlegend": true,
         "type": "scatter",
         "x": [
          95
         ],
         "xaxis": "x",
         "y": [
          12
         ],
         "yaxis": "y"
        },
        {
         "hovertemplate": "<b>%{hovertext}</b><br><br>word=armazenamento<br>index=%{x}<br>count=%{marker.size}<extra></extra>",
         "hovertext": [
          "armazenamento"
         ],
         "legendgroup": "armazenamento",
         "marker": {
          "color": "#FF6692",
          "size": [
           12
          ],
          "sizemode": "area",
          "sizeref": 0.015833333333333335,
          "symbol": "circle"
         },
         "mode": "markers",
         "name": "armazenamento",
         "orientation": "v",
         "showlegend": true,
         "type": "scatter",
         "x": [
          96
         ],
         "xaxis": "x",
         "y": [
          12
         ],
         "yaxis": "y"
        },
        {
         "hovertemplate": "<b>%{hovertext}</b><br><br>word=segurança jurídica<br>index=%{x}<br>count=%{marker.size}<extra></extra>",
         "hovertext": [
          "segurança jurídica"
         ],
         "legendgroup": "segurança jurídica",
         "marker": {
          "color": "#B6E880",
          "size": [
           12
          ],
          "sizemode": "area",
          "sizeref": 0.015833333333333335,
          "symbol": "circle"
         },
         "mode": "markers",
         "name": "segurança jurídica",
         "orientation": "v",
         "showlegend": true,
         "type": "scatter",
         "x": [
          97
         ],
         "xaxis": "x",
         "y": [
          12
         ],
         "yaxis": "y"
        },
        {
         "hovertemplate": "<b>%{hovertext}</b><br><br>word=início<br>index=%{x}<br>count=%{marker.size}<extra></extra>",
         "hovertext": [
          "início"
         ],
         "legendgroup": "início",
         "marker": {
          "color": "#FF97FF",
          "size": [
           12
          ],
          "sizemode": "area",
          "sizeref": 0.015833333333333335,
          "symbol": "circle"
         },
         "mode": "markers",
         "name": "início",
         "orientation": "v",
         "showlegend": true,
         "type": "scatter",
         "x": [
          98
         ],
         "xaxis": "x",
         "y": [
          12
         ],
         "yaxis": "y"
        },
        {
         "hovertemplate": "<b>%{hovertext}</b><br><br>word=reserva<br>index=%{x}<br>count=%{marker.size}<extra></extra>",
         "hovertext": [
          "reserva"
         ],
         "legendgroup": "reserva",
         "marker": {
          "color": "#FECB52",
          "size": [
           12
          ],
          "sizemode": "area",
          "sizeref": 0.015833333333333335,
          "symbol": "circle"
         },
         "mode": "markers",
         "name": "reserva",
         "orientation": "v",
         "showlegend": true,
         "type": "scatter",
         "x": [
          99
         ],
         "xaxis": "x",
         "y": [
          12
         ],
         "yaxis": "y"
        },
        {
         "hovertemplate": "<b>%{hovertext}</b><br><br>word=limpa<br>index=%{x}<br>count=%{marker.size}<extra></extra>",
         "hovertext": [
          "limpa"
         ],
         "legendgroup": "limpa",
         "marker": {
          "color": "#636efa",
          "size": [
           12
          ],
          "sizemode": "area",
          "sizeref": 0.015833333333333335,
          "symbol": "circle"
         },
         "mode": "markers",
         "name": "limpa",
         "orientation": "v",
         "showlegend": true,
         "type": "scatter",
         "x": [
          100
         ],
         "xaxis": "x",
         "y": [
          12
         ],
         "yaxis": "y"
        },
        {
         "hovertemplate": "<b>%{hovertext}</b><br><br>word=média histórica<br>index=%{x}<br>count=%{marker.size}<extra></extra>",
         "hovertext": [
          "média histórica"
         ],
         "legendgroup": "média histórica",
         "marker": {
          "color": "#EF553B",
          "size": [
           12
          ],
          "sizemode": "area",
          "sizeref": 0.015833333333333335,
          "symbol": "circle"
         },
         "mode": "markers",
         "name": "média histórica",
         "orientation": "v",
         "showlegend": true,
         "type": "scatter",
         "x": [
          101
         ],
         "xaxis": "x",
         "y": [
          12
         ],
         "yaxis": "y"
        },
        {
         "hovertemplate": "<b>%{hovertext}</b><br><br>word=região sul<br>index=%{x}<br>count=%{marker.size}<extra></extra>",
         "hovertext": [
          "região sul"
         ],
         "legendgroup": "região sul",
         "marker": {
          "color": "#00cc96",
          "size": [
           12
          ],
          "sizemode": "area",
          "sizeref": 0.015833333333333335,
          "symbol": "circle"
         },
         "mode": "markers",
         "name": "região sul",
         "orientation": "v",
         "showlegend": true,
         "type": "scatter",
         "x": [
          102
         ],
         "xaxis": "x",
         "y": [
          12
         ],
         "yaxis": "y"
        },
        {
         "hovertemplate": "<b>%{hovertext}</b><br><br>word=durante<br>index=%{x}<br>count=%{marker.size}<extra></extra>",
         "hovertext": [
          "durante"
         ],
         "legendgroup": "durante",
         "marker": {
          "color": "#ab63fa",
          "size": [
           12
          ],
          "sizemode": "area",
          "sizeref": 0.015833333333333335,
          "symbol": "circle"
         },
         "mode": "markers",
         "name": "durante",
         "orientation": "v",
         "showlegend": true,
         "type": "scatter",
         "x": [
          103
         ],
         "xaxis": "x",
         "y": [
          12
         ],
         "yaxis": "y"
        },
        {
         "hovertemplate": "<b>%{hovertext}</b><br><br>word=luz<br>index=%{x}<br>count=%{marker.size}<extra></extra>",
         "hovertext": [
          "luz"
         ],
         "legendgroup": "luz",
         "marker": {
          "color": "#FFA15A",
          "size": [
           12
          ],
          "sizemode": "area",
          "sizeref": 0.015833333333333335,
          "symbol": "circle"
         },
         "mode": "markers",
         "name": "luz",
         "orientation": "v",
         "showlegend": true,
         "type": "scatter",
         "x": [
          104
         ],
         "xaxis": "x",
         "y": [
          12
         ],
         "yaxis": "y"
        },
        {
         "hovertemplate": "<b>%{hovertext}</b><br><br>word=estabelece<br>index=%{x}<br>count=%{marker.size}<extra></extra>",
         "hovertext": [
          "estabelece"
         ],
         "legendgroup": "estabelece",
         "marker": {
          "color": "#19d3f3",
          "size": [
           12
          ],
          "sizemode": "area",
          "sizeref": 0.015833333333333335,
          "symbol": "circle"
         },
         "mode": "markers",
         "name": "estabelece",
         "orientation": "v",
         "showlegend": true,
         "type": "scatter",
         "x": [
          105
         ],
         "xaxis": "x",
         "y": [
          12
         ],
         "yaxis": "y"
        },
        {
         "hovertemplate": "<b>%{hovertext}</b><br><br>word=resolução nº<br>index=%{x}<br>count=%{marker.size}<extra></extra>",
         "hovertext": [
          "resolução nº"
         ],
         "legendgroup": "resolução nº",
         "marker": {
          "color": "#FF6692",
          "size": [
           12
          ],
          "sizemode": "area",
          "sizeref": 0.015833333333333335,
          "symbol": "circle"
         },
         "mode": "markers",
         "name": "resolução nº",
         "orientation": "v",
         "showlegend": true,
         "type": "scatter",
         "x": [
          106
         ],
         "xaxis": "x",
         "y": [
          12
         ],
         "yaxis": "y"
        },
        {
         "hovertemplate": "<b>%{hovertext}</b><br><br>word=importância<br>index=%{x}<br>count=%{marker.size}<extra></extra>",
         "hovertext": [
          "importância"
         ],
         "legendgroup": "importância",
         "marker": {
          "color": "#B6E880",
          "size": [
           12
          ],
          "sizemode": "area",
          "sizeref": 0.015833333333333335,
          "symbol": "circle"
         },
         "mode": "markers",
         "name": "importância",
         "orientation": "v",
         "showlegend": true,
         "type": "scatter",
         "x": [
          107
         ],
         "xaxis": "x",
         "y": [
          12
         ],
         "yaxis": "y"
        },
        {
         "hovertemplate": "<b>%{hovertext}</b><br><br>word=colegiado<br>index=%{x}<br>count=%{marker.size}<extra></extra>",
         "hovertext": [
          "colegiado"
         ],
         "legendgroup": "colegiado",
         "marker": {
          "color": "#FF97FF",
          "size": [
           12
          ],
          "sizemode": "area",
          "sizeref": 0.015833333333333335,
          "symbol": "circle"
         },
         "mode": "markers",
         "name": "colegiado",
         "orientation": "v",
         "showlegend": true,
         "type": "scatter",
         "x": [
          108
         ],
         "xaxis": "x",
         "y": [
          12
         ],
         "yaxis": "y"
        },
        {
         "hovertemplate": "<b>%{hovertext}</b><br><br>word=hidrogênio verde<br>index=%{x}<br>count=%{marker.size}<extra></extra>",
         "hovertext": [
          "hidrogênio verde"
         ],
         "legendgroup": "hidrogênio verde",
         "marker": {
          "color": "#FECB52",
          "size": [
           12
          ],
          "sizemode": "area",
          "sizeref": 0.015833333333333335,
          "symbol": "circle"
         },
         "mode": "markers",
         "name": "hidrogênio verde",
         "orientation": "v",
         "showlegend": true,
         "type": "scatter",
         "x": [
          109
         ],
         "xaxis": "x",
         "y": [
          12
         ],
         "yaxis": "y"
        },
        {
         "hovertemplate": "<b>%{hovertext}</b><br><br>word=nordeste<br>index=%{x}<br>count=%{marker.size}<extra></extra>",
         "hovertext": [
          "nordeste"
         ],
         "legendgroup": "nordeste",
         "marker": {
          "color": "#636efa",
          "size": [
           12
          ],
          "sizemode": "area",
          "sizeref": 0.015833333333333335,
          "symbol": "circle"
         },
         "mode": "markers",
         "name": "nordeste",
         "orientation": "v",
         "showlegend": true,
         "type": "scatter",
         "x": [
          110
         ],
         "xaxis": "x",
         "y": [
          12
         ],
         "yaxis": "y"
        },
        {
         "hovertemplate": "<b>%{hovertext}</b><br><br>word=diretrizes<br>index=%{x}<br>count=%{marker.size}<extra></extra>",
         "hovertext": [
          "diretrizes"
         ],
         "legendgroup": "diretrizes",
         "marker": {
          "color": "#EF553B",
          "size": [
           12
          ],
          "sizemode": "area",
          "sizeref": 0.015833333333333335,
          "symbol": "circle"
         },
         "mode": "markers",
         "name": "diretrizes",
         "orientation": "v",
         "showlegend": true,
         "type": "scatter",
         "x": [
          111
         ],
         "xaxis": "x",
         "y": [
          12
         ],
         "yaxis": "y"
        },
        {
         "hovertemplate": "<b>%{hovertext}</b><br><br>word=medida<br>index=%{x}<br>count=%{marker.size}<extra></extra>",
         "hovertext": [
          "medida"
         ],
         "legendgroup": "medida",
         "marker": {
          "color": "#00cc96",
          "size": [
           12
          ],
          "sizemode": "area",
          "sizeref": 0.015833333333333335,
          "symbol": "circle"
         },
         "mode": "markers",
         "name": "medida",
         "orientation": "v",
         "showlegend": true,
         "type": "scatter",
         "x": [
          112
         ],
         "xaxis": "x",
         "y": [
          12
         ],
         "yaxis": "y"
        },
        {
         "hovertemplate": "<b>%{hovertext}</b><br><br>word=estudo<br>index=%{x}<br>count=%{marker.size}<extra></extra>",
         "hovertext": [
          "estudo"
         ],
         "legendgroup": "estudo",
         "marker": {
          "color": "#ab63fa",
          "size": [
           12
          ],
          "sizemode": "area",
          "sizeref": 0.015833333333333335,
          "symbol": "circle"
         },
         "mode": "markers",
         "name": "estudo",
         "orientation": "v",
         "showlegend": true,
         "type": "scatter",
         "x": [
          113
         ],
         "xaxis": "x",
         "y": [
          12
         ],
         "yaxis": "y"
        },
        {
         "hovertemplate": "<b>%{hovertext}</b><br><br>word=aumento<br>index=%{x}<br>count=%{marker.size}<extra></extra>",
         "hovertext": [
          "aumento"
         ],
         "legendgroup": "aumento",
         "marker": {
          "color": "#FFA15A",
          "size": [
           12
          ],
          "sizemode": "area",
          "sizeref": 0.015833333333333335,
          "symbol": "circle"
         },
         "mode": "markers",
         "name": "aumento",
         "orientation": "v",
         "showlegend": true,
         "type": "scatter",
         "x": [
          114
         ],
         "xaxis": "x",
         "y": [
          12
         ],
         "yaxis": "y"
        },
        {
         "hovertemplate": "<b>%{hovertext}</b><br><br>word=número<br>index=%{x}<br>count=%{marker.size}<extra></extra>",
         "hovertext": [
          "número"
         ],
         "legendgroup": "número",
         "marker": {
          "color": "#19d3f3",
          "size": [
           12
          ],
          "sizemode": "area",
          "sizeref": 0.015833333333333335,
          "symbol": "circle"
         },
         "mode": "markers",
         "name": "número",
         "orientation": "v",
         "showlegend": true,
         "type": "scatter",
         "x": [
          115
         ],
         "xaxis": "x",
         "y": [
          12
         ],
         "yaxis": "y"
        },
        {
         "hovertemplate": "<b>%{hovertext}</b><br><br>word=tecnologia<br>index=%{x}<br>count=%{marker.size}<extra></extra>",
         "hovertext": [
          "tecnologia"
         ],
         "legendgroup": "tecnologia",
         "marker": {
          "color": "#FF6692",
          "size": [
           12
          ],
          "sizemode": "area",
          "sizeref": 0.015833333333333335,
          "symbol": "circle"
         },
         "mode": "markers",
         "name": "tecnologia",
         "orientation": "v",
         "showlegend": true,
         "type": "scatter",
         "x": [
          116
         ],
         "xaxis": "x",
         "y": [
          12
         ],
         "yaxis": "y"
        },
        {
         "hovertemplate": "<b>%{hovertext}</b><br><br>word=adolfo sachsida<br>index=%{x}<br>count=%{marker.size}<extra></extra>",
         "hovertext": [
          "adolfo sachsida"
         ],
         "legendgroup": "adolfo sachsida",
         "marker": {
          "color": "#B6E880",
          "size": [
           12
          ],
          "sizemode": "area",
          "sizeref": 0.015833333333333335,
          "symbol": "circle"
         },
         "mode": "markers",
         "name": "adolfo sachsida",
         "orientation": "v",
         "showlegend": true,
         "type": "scatter",
         "x": [
          117
         ],
         "xaxis": "x",
         "y": [
          12
         ],
         "yaxis": "y"
        },
        {
         "hovertemplate": "<b>%{hovertext}</b><br><br>word=portaria<br>index=%{x}<br>count=%{marker.size}<extra></extra>",
         "hovertext": [
          "portaria"
         ],
         "legendgroup": "portaria",
         "marker": {
          "color": "#FF97FF",
          "size": [
           12
          ],
          "sizemode": "area",
          "sizeref": 0.015833333333333335,
          "symbol": "circle"
         },
         "mode": "markers",
         "name": "portaria",
         "orientation": "v",
         "showlegend": true,
         "type": "scatter",
         "x": [
          118
         ],
         "xaxis": "x",
         "y": [
          12
         ],
         "yaxis": "y"
        },
        {
         "hovertemplate": "<b>%{hovertext}</b><br><br>word=maiores<br>index=%{x}<br>count=%{marker.size}<extra></extra>",
         "hovertext": [
          "maiores"
         ],
         "legendgroup": "maiores",
         "marker": {
          "color": "#FECB52",
          "size": [
           12
          ],
          "sizemode": "area",
          "sizeref": 0.015833333333333335,
          "symbol": "circle"
         },
         "mode": "markers",
         "name": "maiores",
         "orientation": "v",
         "showlegend": true,
         "type": "scatter",
         "x": [
          119
         ],
         "xaxis": "x",
         "y": [
          12
         ],
         "yaxis": "y"
        },
        {
         "hovertemplate": "<b>%{hovertext}</b><br><br>word=comercialização<br>index=%{x}<br>count=%{marker.size}<extra></extra>",
         "hovertext": [
          "comercialização"
         ],
         "legendgroup": "comercialização",
         "marker": {
          "color": "#636efa",
          "size": [
           12
          ],
          "sizemode": "area",
          "sizeref": 0.015833333333333335,
          "symbol": "circle"
         },
         "mode": "markers",
         "name": "comercialização",
         "orientation": "v",
         "showlegend": true,
         "type": "scatter",
         "x": [
          120
         ],
         "xaxis": "x",
         "y": [
          12
         ],
         "yaxis": "y"
        },
        {
         "hovertemplate": "<b>%{hovertext}</b><br><br>word=garantia<br>index=%{x}<br>count=%{marker.size}<extra></extra>",
         "hovertext": [
          "garantia"
         ],
         "legendgroup": "garantia",
         "marker": {
          "color": "#EF553B",
          "size": [
           12
          ],
          "sizemode": "area",
          "sizeref": 0.015833333333333335,
          "symbol": "circle"
         },
         "mode": "markers",
         "name": "garantia",
         "orientation": "v",
         "showlegend": true,
         "type": "scatter",
         "x": [
          121
         ],
         "xaxis": "x",
         "y": [
          12
         ],
         "yaxis": "y"
        },
        {
         "hovertemplate": "<b>%{hovertext}</b><br><br>word=leilão<br>index=%{x}<br>count=%{marker.size}<extra></extra>",
         "hovertext": [
          "leilão"
         ],
         "legendgroup": "leilão",
         "marker": {
          "color": "#00cc96",
          "size": [
           12
          ],
          "sizemode": "area",
          "sizeref": 0.015833333333333335,
          "symbol": "circle"
         },
         "mode": "markers",
         "name": "leilão",
         "orientation": "v",
         "showlegend": true,
         "type": "scatter",
         "x": [
          122
         ],
         "xaxis": "x",
         "y": [
          12
         ],
         "yaxis": "y"
        },
        {
         "hovertemplate": "<b>%{hovertext}</b><br><br>word=produtor<br>index=%{x}<br>count=%{marker.size}<extra></extra>",
         "hovertext": [
          "produtor"
         ],
         "legendgroup": "produtor",
         "marker": {
          "color": "#ab63fa",
          "size": [
           12
          ],
          "sizemode": "area",
          "sizeref": 0.015833333333333335,
          "symbol": "circle"
         },
         "mode": "markers",
         "name": "produtor",
         "orientation": "v",
         "showlegend": true,
         "type": "scatter",
         "x": [
          123
         ],
         "xaxis": "x",
         "y": [
          12
         ],
         "yaxis": "y"
        },
        {
         "hovertemplate": "<b>%{hovertext}</b><br><br>word=relação<br>index=%{x}<br>count=%{marker.size}<extra></extra>",
         "hovertext": [
          "relação"
         ],
         "legendgroup": "relação",
         "marker": {
          "color": "#FFA15A",
          "size": [
           12
          ],
          "sizemode": "area",
          "sizeref": 0.015833333333333335,
          "symbol": "circle"
         },
         "mode": "markers",
         "name": "relação",
         "orientation": "v",
         "showlegend": true,
         "type": "scatter",
         "x": [
          124
         ],
         "xaxis": "x",
         "y": [
          12
         ],
         "yaxis": "y"
        },
        {
         "hovertemplate": "<b>%{hovertext}</b><br><br>word=energias renováveis<br>index=%{x}<br>count=%{marker.size}<extra></extra>",
         "hovertext": [
          "energias renováveis"
         ],
         "legendgroup": "energias renováveis",
         "marker": {
          "color": "#19d3f3",
          "size": [
           12
          ],
          "sizemode": "area",
          "sizeref": 0.015833333333333335,
          "symbol": "circle"
         },
         "mode": "markers",
         "name": "energias renováveis",
         "orientation": "v",
         "showlegend": true,
         "type": "scatter",
         "x": [
          125
         ],
         "xaxis": "x",
         "y": [
          12
         ],
         "yaxis": "y"
        },
        {
         "hovertemplate": "<b>%{hovertext}</b><br><br>word=energética epe<br>index=%{x}<br>count=%{marker.size}<extra></extra>",
         "hovertext": [
          "energética epe"
         ],
         "legendgroup": "energética epe",
         "marker": {
          "color": "#FF6692",
          "size": [
           12
          ],
          "sizemode": "area",
          "sizeref": 0.015833333333333335,
          "symbol": "circle"
         },
         "mode": "markers",
         "name": "energética epe",
         "orientation": "v",
         "showlegend": true,
         "type": "scatter",
         "x": [
          126
         ],
         "xaxis": "x",
         "y": [
          12
         ],
         "yaxis": "y"
        },
        {
         "hovertemplate": "<b>%{hovertext}</b><br><br>word=mineração<br>index=%{x}<br>count=%{marker.size}<extra></extra>",
         "hovertext": [
          "mineração"
         ],
         "legendgroup": "mineração",
         "marker": {
          "color": "#B6E880",
          "size": [
           12
          ],
          "sizemode": "area",
          "sizeref": 0.015833333333333335,
          "symbol": "circle"
         },
         "mode": "markers",
         "name": "mineração",
         "orientation": "v",
         "showlegend": true,
         "type": "scatter",
         "x": [
          127
         ],
         "xaxis": "x",
         "y": [
          12
         ],
         "yaxis": "y"
        },
        {
         "hovertemplate": "<b>%{hovertext}</b><br><br>word=matriz energética<br>index=%{x}<br>count=%{marker.size}<extra></extra>",
         "hovertext": [
          "matriz energética"
         ],
         "legendgroup": "matriz energética",
         "marker": {
          "color": "#FF97FF",
          "size": [
           12
          ],
          "sizemode": "area",
          "sizeref": 0.015833333333333335,
          "symbol": "circle"
         },
         "mode": "markers",
         "name": "matriz energética",
         "orientation": "v",
         "showlegend": true,
         "type": "scatter",
         "x": [
          128
         ],
         "xaxis": "x",
         "y": [
          12
         ],
         "yaxis": "y"
        },
        {
         "hovertemplate": "<b>%{hovertext}</b><br><br>word=política<br>index=%{x}<br>count=%{marker.size}<extra></extra>",
         "hovertext": [
          "política"
         ],
         "legendgroup": "política",
         "marker": {
          "color": "#FECB52",
          "size": [
           12
          ],
          "sizemode": "area",
          "sizeref": 0.015833333333333335,
          "symbol": "circle"
         },
         "mode": "markers",
         "name": "política",
         "orientation": "v",
         "showlegend": true,
         "type": "scatter",
         "x": [
          129
         ],
         "xaxis": "x",
         "y": [
          12
         ],
         "yaxis": "y"
        },
        {
         "hovertemplate": "<b>%{hovertext}</b><br><br>word=incentivo<br>index=%{x}<br>count=%{marker.size}<extra></extra>",
         "hovertext": [
          "incentivo"
         ],
         "legendgroup": "incentivo",
         "marker": {
          "color": "#636efa",
          "size": [
           12
          ],
          "sizemode": "area",
          "sizeref": 0.015833333333333335,
          "symbol": "circle"
         },
         "mode": "markers",
         "name": "incentivo",
         "orientation": "v",
         "showlegend": true,
         "type": "scatter",
         "x": [
          130
         ],
         "xaxis": "x",
         "y": [
          12
         ],
         "yaxis": "y"
        },
        {
         "hovertemplate": "<b>%{hovertext}</b><br><br>word=congresso nacional<br>index=%{x}<br>count=%{marker.size}<extra></extra>",
         "hovertext": [
          "congresso nacional"
         ],
         "legendgroup": "congresso nacional",
         "marker": {
          "color": "#EF553B",
          "size": [
           12
          ],
          "sizemode": "area",
          "sizeref": 0.015833333333333335,
          "symbol": "circle"
         },
         "mode": "markers",
         "name": "congresso nacional",
         "orientation": "v",
         "showlegend": true,
         "type": "scatter",
         "x": [
          131
         ],
         "xaxis": "x",
         "y": [
          12
         ],
         "yaxis": "y"
        },
        {
         "hovertemplate": "<b>%{hovertext}</b><br><br>word=cumprimento<br>index=%{x}<br>count=%{marker.size}<extra></extra>",
         "hovertext": [
          "cumprimento"
         ],
         "legendgroup": "cumprimento",
         "marker": {
          "color": "#00cc96",
          "size": [
           12
          ],
          "sizemode": "area",
          "sizeref": 0.015833333333333335,
          "symbol": "circle"
         },
         "mode": "markers",
         "name": "cumprimento",
         "orientation": "v",
         "showlegend": true,
         "type": "scatter",
         "x": [
          132
         ],
         "xaxis": "x",
         "y": [
          12
         ],
         "yaxis": "y"
        },
        {
         "hovertemplate": "<b>%{hovertext}</b><br><br>word=serviço<br>index=%{x}<br>count=%{marker.size}<extra></extra>",
         "hovertext": [
          "serviço"
         ],
         "legendgroup": "serviço",
         "marker": {
          "color": "#ab63fa",
          "size": [
           12
          ],
          "sizemode": "area",
          "sizeref": 0.015833333333333335,
          "symbol": "circle"
         },
         "mode": "markers",
         "name": "serviço",
         "orientation": "v",
         "showlegend": true,
         "type": "scatter",
         "x": [
          133
         ],
         "xaxis": "x",
         "y": [
          12
         ],
         "yaxis": "y"
        },
        {
         "hovertemplate": "<b>%{hovertext}</b><br><br>word=setores<br>index=%{x}<br>count=%{marker.size}<extra></extra>",
         "hovertext": [
          "setores"
         ],
         "legendgroup": "setores",
         "marker": {
          "color": "#FFA15A",
          "size": [
           12
          ],
          "sizemode": "area",
          "sizeref": 0.015833333333333335,
          "symbol": "circle"
         },
         "mode": "markers",
         "name": "setores",
         "orientation": "v",
         "showlegend": true,
         "type": "scatter",
         "x": [
          134
         ],
         "xaxis": "x",
         "y": [
          12
         ],
         "yaxis": "y"
        },
        {
         "hovertemplate": "<b>%{hovertext}</b><br><br>word=apresentado<br>index=%{x}<br>count=%{marker.size}<extra></extra>",
         "hovertext": [
          "apresentado"
         ],
         "legendgroup": "apresentado",
         "marker": {
          "color": "#19d3f3",
          "size": [
           12
          ],
          "sizemode": "area",
          "sizeref": 0.015833333333333335,
          "symbol": "circle"
         },
         "mode": "markers",
         "name": "apresentado",
         "orientation": "v",
         "showlegend": true,
         "type": "scatter",
         "x": [
          135
         ],
         "xaxis": "x",
         "y": [
          12
         ],
         "yaxis": "y"
        }
       ],
       "layout": {
        "height": 750,
        "legend": {
         "itemsizing": "constant",
         "title": {
          "text": "word"
         },
         "tracegroupgap": 0
        },
        "template": {
         "data": {
          "bar": [
           {
            "error_x": {
             "color": "#2a3f5f"
            },
            "error_y": {
             "color": "#2a3f5f"
            },
            "marker": {
             "line": {
              "color": "#E5ECF6",
              "width": 0.5
             },
             "pattern": {
              "fillmode": "overlay",
              "size": 10,
              "solidity": 0.2
             }
            },
            "type": "bar"
           }
          ],
          "barpolar": [
           {
            "marker": {
             "line": {
              "color": "#E5ECF6",
              "width": 0.5
             },
             "pattern": {
              "fillmode": "overlay",
              "size": 10,
              "solidity": 0.2
             }
            },
            "type": "barpolar"
           }
          ],
          "carpet": [
           {
            "aaxis": {
             "endlinecolor": "#2a3f5f",
             "gridcolor": "white",
             "linecolor": "white",
             "minorgridcolor": "white",
             "startlinecolor": "#2a3f5f"
            },
            "baxis": {
             "endlinecolor": "#2a3f5f",
             "gridcolor": "white",
             "linecolor": "white",
             "minorgridcolor": "white",
             "startlinecolor": "#2a3f5f"
            },
            "type": "carpet"
           }
          ],
          "choropleth": [
           {
            "colorbar": {
             "outlinewidth": 0,
             "ticks": ""
            },
            "type": "choropleth"
           }
          ],
          "contour": [
           {
            "colorbar": {
             "outlinewidth": 0,
             "ticks": ""
            },
            "colorscale": [
             [
              0,
              "#0d0887"
             ],
             [
              0.1111111111111111,
              "#46039f"
             ],
             [
              0.2222222222222222,
              "#7201a8"
             ],
             [
              0.3333333333333333,
              "#9c179e"
             ],
             [
              0.4444444444444444,
              "#bd3786"
             ],
             [
              0.5555555555555556,
              "#d8576b"
             ],
             [
              0.6666666666666666,
              "#ed7953"
             ],
             [
              0.7777777777777778,
              "#fb9f3a"
             ],
             [
              0.8888888888888888,
              "#fdca26"
             ],
             [
              1,
              "#f0f921"
             ]
            ],
            "type": "contour"
           }
          ],
          "contourcarpet": [
           {
            "colorbar": {
             "outlinewidth": 0,
             "ticks": ""
            },
            "type": "contourcarpet"
           }
          ],
          "heatmap": [
           {
            "colorbar": {
             "outlinewidth": 0,
             "ticks": ""
            },
            "colorscale": [
             [
              0,
              "#0d0887"
             ],
             [
              0.1111111111111111,
              "#46039f"
             ],
             [
              0.2222222222222222,
              "#7201a8"
             ],
             [
              0.3333333333333333,
              "#9c179e"
             ],
             [
              0.4444444444444444,
              "#bd3786"
             ],
             [
              0.5555555555555556,
              "#d8576b"
             ],
             [
              0.6666666666666666,
              "#ed7953"
             ],
             [
              0.7777777777777778,
              "#fb9f3a"
             ],
             [
              0.8888888888888888,
              "#fdca26"
             ],
             [
              1,
              "#f0f921"
             ]
            ],
            "type": "heatmap"
           }
          ],
          "heatmapgl": [
           {
            "colorbar": {
             "outlinewidth": 0,
             "ticks": ""
            },
            "colorscale": [
             [
              0,
              "#0d0887"
             ],
             [
              0.1111111111111111,
              "#46039f"
             ],
             [
              0.2222222222222222,
              "#7201a8"
             ],
             [
              0.3333333333333333,
              "#9c179e"
             ],
             [
              0.4444444444444444,
              "#bd3786"
             ],
             [
              0.5555555555555556,
              "#d8576b"
             ],
             [
              0.6666666666666666,
              "#ed7953"
             ],
             [
              0.7777777777777778,
              "#fb9f3a"
             ],
             [
              0.8888888888888888,
              "#fdca26"
             ],
             [
              1,
              "#f0f921"
             ]
            ],
            "type": "heatmapgl"
           }
          ],
          "histogram": [
           {
            "marker": {
             "pattern": {
              "fillmode": "overlay",
              "size": 10,
              "solidity": 0.2
             }
            },
            "type": "histogram"
           }
          ],
          "histogram2d": [
           {
            "colorbar": {
             "outlinewidth": 0,
             "ticks": ""
            },
            "colorscale": [
             [
              0,
              "#0d0887"
             ],
             [
              0.1111111111111111,
              "#46039f"
             ],
             [
              0.2222222222222222,
              "#7201a8"
             ],
             [
              0.3333333333333333,
              "#9c179e"
             ],
             [
              0.4444444444444444,
              "#bd3786"
             ],
             [
              0.5555555555555556,
              "#d8576b"
             ],
             [
              0.6666666666666666,
              "#ed7953"
             ],
             [
              0.7777777777777778,
              "#fb9f3a"
             ],
             [
              0.8888888888888888,
              "#fdca26"
             ],
             [
              1,
              "#f0f921"
             ]
            ],
            "type": "histogram2d"
           }
          ],
          "histogram2dcontour": [
           {
            "colorbar": {
             "outlinewidth": 0,
             "ticks": ""
            },
            "colorscale": [
             [
              0,
              "#0d0887"
             ],
             [
              0.1111111111111111,
              "#46039f"
             ],
             [
              0.2222222222222222,
              "#7201a8"
             ],
             [
              0.3333333333333333,
              "#9c179e"
             ],
             [
              0.4444444444444444,
              "#bd3786"
             ],
             [
              0.5555555555555556,
              "#d8576b"
             ],
             [
              0.6666666666666666,
              "#ed7953"
             ],
             [
              0.7777777777777778,
              "#fb9f3a"
             ],
             [
              0.8888888888888888,
              "#fdca26"
             ],
             [
              1,
              "#f0f921"
             ]
            ],
            "type": "histogram2dcontour"
           }
          ],
          "mesh3d": [
           {
            "colorbar": {
             "outlinewidth": 0,
             "ticks": ""
            },
            "type": "mesh3d"
           }
          ],
          "parcoords": [
           {
            "line": {
             "colorbar": {
              "outlinewidth": 0,
              "ticks": ""
             }
            },
            "type": "parcoords"
           }
          ],
          "pie": [
           {
            "automargin": true,
            "type": "pie"
           }
          ],
          "scatter": [
           {
            "marker": {
             "colorbar": {
              "outlinewidth": 0,
              "ticks": ""
             }
            },
            "type": "scatter"
           }
          ],
          "scatter3d": [
           {
            "line": {
             "colorbar": {
              "outlinewidth": 0,
              "ticks": ""
             }
            },
            "marker": {
             "colorbar": {
              "outlinewidth": 0,
              "ticks": ""
             }
            },
            "type": "scatter3d"
           }
          ],
          "scattercarpet": [
           {
            "marker": {
             "colorbar": {
              "outlinewidth": 0,
              "ticks": ""
             }
            },
            "type": "scattercarpet"
           }
          ],
          "scattergeo": [
           {
            "marker": {
             "colorbar": {
              "outlinewidth": 0,
              "ticks": ""
             }
            },
            "type": "scattergeo"
           }
          ],
          "scattergl": [
           {
            "marker": {
             "colorbar": {
              "outlinewidth": 0,
              "ticks": ""
             }
            },
            "type": "scattergl"
           }
          ],
          "scattermapbox": [
           {
            "marker": {
             "colorbar": {
              "outlinewidth": 0,
              "ticks": ""
             }
            },
            "type": "scattermapbox"
           }
          ],
          "scatterpolar": [
           {
            "marker": {
             "colorbar": {
              "outlinewidth": 0,
              "ticks": ""
             }
            },
            "type": "scatterpolar"
           }
          ],
          "scatterpolargl": [
           {
            "marker": {
             "colorbar": {
              "outlinewidth": 0,
              "ticks": ""
             }
            },
            "type": "scatterpolargl"
           }
          ],
          "scatterternary": [
           {
            "marker": {
             "colorbar": {
              "outlinewidth": 0,
              "ticks": ""
             }
            },
            "type": "scatterternary"
           }
          ],
          "surface": [
           {
            "colorbar": {
             "outlinewidth": 0,
             "ticks": ""
            },
            "colorscale": [
             [
              0,
              "#0d0887"
             ],
             [
              0.1111111111111111,
              "#46039f"
             ],
             [
              0.2222222222222222,
              "#7201a8"
             ],
             [
              0.3333333333333333,
              "#9c179e"
             ],
             [
              0.4444444444444444,
              "#bd3786"
             ],
             [
              0.5555555555555556,
              "#d8576b"
             ],
             [
              0.6666666666666666,
              "#ed7953"
             ],
             [
              0.7777777777777778,
              "#fb9f3a"
             ],
             [
              0.8888888888888888,
              "#fdca26"
             ],
             [
              1,
              "#f0f921"
             ]
            ],
            "type": "surface"
           }
          ],
          "table": [
           {
            "cells": {
             "fill": {
              "color": "#EBF0F8"
             },
             "line": {
              "color": "white"
             }
            },
            "header": {
             "fill": {
              "color": "#C8D4E3"
             },
             "line": {
              "color": "white"
             }
            },
            "type": "table"
           }
          ]
         },
         "layout": {
          "annotationdefaults": {
           "arrowcolor": "#2a3f5f",
           "arrowhead": 0,
           "arrowwidth": 1
          },
          "autotypenumbers": "strict",
          "coloraxis": {
           "colorbar": {
            "outlinewidth": 0,
            "ticks": ""
           }
          },
          "colorscale": {
           "diverging": [
            [
             0,
             "#8e0152"
            ],
            [
             0.1,
             "#c51b7d"
            ],
            [
             0.2,
             "#de77ae"
            ],
            [
             0.3,
             "#f1b6da"
            ],
            [
             0.4,
             "#fde0ef"
            ],
            [
             0.5,
             "#f7f7f7"
            ],
            [
             0.6,
             "#e6f5d0"
            ],
            [
             0.7,
             "#b8e186"
            ],
            [
             0.8,
             "#7fbc41"
            ],
            [
             0.9,
             "#4d9221"
            ],
            [
             1,
             "#276419"
            ]
           ],
           "sequential": [
            [
             0,
             "#0d0887"
            ],
            [
             0.1111111111111111,
             "#46039f"
            ],
            [
             0.2222222222222222,
             "#7201a8"
            ],
            [
             0.3333333333333333,
             "#9c179e"
            ],
            [
             0.4444444444444444,
             "#bd3786"
            ],
            [
             0.5555555555555556,
             "#d8576b"
            ],
            [
             0.6666666666666666,
             "#ed7953"
            ],
            [
             0.7777777777777778,
             "#fb9f3a"
            ],
            [
             0.8888888888888888,
             "#fdca26"
            ],
            [
             1,
             "#f0f921"
            ]
           ],
           "sequentialminus": [
            [
             0,
             "#0d0887"
            ],
            [
             0.1111111111111111,
             "#46039f"
            ],
            [
             0.2222222222222222,
             "#7201a8"
            ],
            [
             0.3333333333333333,
             "#9c179e"
            ],
            [
             0.4444444444444444,
             "#bd3786"
            ],
            [
             0.5555555555555556,
             "#d8576b"
            ],
            [
             0.6666666666666666,
             "#ed7953"
            ],
            [
             0.7777777777777778,
             "#fb9f3a"
            ],
            [
             0.8888888888888888,
             "#fdca26"
            ],
            [
             1,
             "#f0f921"
            ]
           ]
          },
          "colorway": [
           "#636efa",
           "#EF553B",
           "#00cc96",
           "#ab63fa",
           "#FFA15A",
           "#19d3f3",
           "#FF6692",
           "#B6E880",
           "#FF97FF",
           "#FECB52"
          ],
          "font": {
           "color": "#2a3f5f"
          },
          "geo": {
           "bgcolor": "white",
           "lakecolor": "white",
           "landcolor": "#E5ECF6",
           "showlakes": true,
           "showland": true,
           "subunitcolor": "white"
          },
          "hoverlabel": {
           "align": "left"
          },
          "hovermode": "closest",
          "mapbox": {
           "style": "light"
          },
          "paper_bgcolor": "white",
          "plot_bgcolor": "#E5ECF6",
          "polar": {
           "angularaxis": {
            "gridcolor": "white",
            "linecolor": "white",
            "ticks": ""
           },
           "bgcolor": "#E5ECF6",
           "radialaxis": {
            "gridcolor": "white",
            "linecolor": "white",
            "ticks": ""
           }
          },
          "scene": {
           "xaxis": {
            "backgroundcolor": "#E5ECF6",
            "gridcolor": "white",
            "gridwidth": 2,
            "linecolor": "white",
            "showbackground": true,
            "ticks": "",
            "zerolinecolor": "white"
           },
           "yaxis": {
            "backgroundcolor": "#E5ECF6",
            "gridcolor": "white",
            "gridwidth": 2,
            "linecolor": "white",
            "showbackground": true,
            "ticks": "",
            "zerolinecolor": "white"
           },
           "zaxis": {
            "backgroundcolor": "#E5ECF6",
            "gridcolor": "white",
            "gridwidth": 2,
            "linecolor": "white",
            "showbackground": true,
            "ticks": "",
            "zerolinecolor": "white"
           }
          },
          "shapedefaults": {
           "line": {
            "color": "#2a3f5f"
           }
          },
          "ternary": {
           "aaxis": {
            "gridcolor": "white",
            "linecolor": "white",
            "ticks": ""
           },
           "baxis": {
            "gridcolor": "white",
            "linecolor": "white",
            "ticks": ""
           },
           "bgcolor": "#E5ECF6",
           "caxis": {
            "gridcolor": "white",
            "linecolor": "white",
            "ticks": ""
           }
          },
          "title": {
           "x": 0.05
          },
          "xaxis": {
           "automargin": true,
           "gridcolor": "white",
           "linecolor": "white",
           "ticks": "",
           "title": {
            "standoff": 15
           },
           "zerolinecolor": "white",
           "zerolinewidth": 2
          },
          "yaxis": {
           "automargin": true,
           "gridcolor": "white",
           "linecolor": "white",
           "ticks": "",
           "title": {
            "standoff": 15
           },
           "zerolinecolor": "white",
           "zerolinewidth": 2
          }
         }
        },
        "title": {
         "text": "Author: MME │ Theme: Noticias │ DF Date Rage: from [05/02/2022 at 10:57:00] to [05/12/2022 at 19:48:00]"
        },
        "width": 1500,
        "xaxis": {
         "anchor": "y",
         "domain": [
          0,
          1
         ],
         "title": {
          "text": "index"
         },
         "type": "log"
        },
        "yaxis": {
         "anchor": "x",
         "domain": [
          0,
          1
         ],
         "title": {
          "text": "count"
         }
        }
       }
      }
     },
     "metadata": {},
     "output_type": "display_data"
    },
    {
     "data": {
      "text/plain": [
       "'MME.html'"
      ]
     },
     "execution_count": 28,
     "metadata": {},
     "output_type": "execute_result"
    }
   ],
   "source": [
    "## generating a scatterplot from the plotfy library\n",
    "fig = px.scatter(df2.query('count > 10'),\n",
    "                y=\"count\",\n",
    "                size=\"count\",\n",
    "                color=\"word\",\n",
    "                hover_name=\"word\",\n",
    "                log_x=True,\n",
    "                title = wordcloud_title,\n",
    "                width=1500, \n",
    "                height=750,\n",
    "                size_max=60)\n",
    "fig.show()\n",
    "\n",
    "plt.offline.plot(fig, filename = search+'.html')"
   ]
  },
  {
   "cell_type": "code",
   "execution_count": 29,
   "metadata": {},
   "outputs": [],
   "source": [
    "import openpyxl\n",
    "df2.to_excel (search + '.xlsx', index = False, header=True)"
   ]
  }
 ],
 "metadata": {
  "interpreter": {
   "hash": "b80af393ece9516bb574eaf2accc0f3996a7feeecd6bd1b55c66f68cb5cc8c2a"
  },
  "kernelspec": {
   "display_name": "Python 3.9.12 ('geo_env')",
   "language": "python",
   "name": "python3"
  },
  "language_info": {
   "codemirror_mode": {
    "name": "ipython",
    "version": 3
   },
   "file_extension": ".py",
   "mimetype": "text/x-python",
   "name": "python",
   "nbconvert_exporter": "python",
   "pygments_lexer": "ipython3",
   "version": "3.9.12"
  },
  "orig_nbformat": 4
 },
 "nbformat": 4,
 "nbformat_minor": 2
}
