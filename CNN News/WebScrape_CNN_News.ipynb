{
 "cells": [
  {
   "cell_type": "markdown",
   "metadata": {},
   "source": [
    "\n",
    "---\n",
    "\n",
    "# Vinicius Guerra e Ribas -  Energy Sector Analyst\n",
    "[Energy Engineer (UnB)](https://www.unb.br/) │ [Data Scientist and Analytics (USP)](https://www5.usp.br/)\n",
    "\n",
    "\n",
    "## [📧 E-mail](mailto:viniciusgribas@gmail.com) │ [🎯 Linkedin](https://www.linkedin.com/in/vinicius-guerra-e-ribas/) │ [😸 GitHub](https://github.com/viniciusgribas) \n",
    "\n",
    "---\n",
    "\n",
    "# [💻Project Notebook](https://github.com/viniciusgribas/EnergyNewsScrapping) [🇧🇷] \n"
   ]
  },
  {
   "cell_type": "code",
   "execution_count": 2,
   "metadata": {},
   "outputs": [
    {
     "name": "stderr",
     "output_type": "stream",
     "text": [
      "[nltk_data] Downloading package floresta to\n",
      "[nltk_data]     C:\\Users\\vinic\\AppData\\Roaming\\nltk_data...\n",
      "[nltk_data]   Package floresta is already up-to-date!\n"
     ]
    }
   ],
   "source": [
    "# import the libraries\n",
    "#\n",
    "## WebScrapping Libraries\n",
    "from bs4 import BeautifulSoup\n",
    "import requests\n",
    "import urllib.request\n",
    "\n",
    "## NLP and ML Libraries\n",
    "import nltk\n",
    "from newspaper import Article\n",
    "nltk.download('floresta') # \"Portuguese Treebank\" divides the text into a list of sentences using ML algorithm\n",
    "from nltk.corpus import stopwords\n",
    "from wordcloud import WordCloud, STOPWORDS, ImageColorGenerator\n",
    "\n",
    "## Data Frame manipulation and Analytics Libraries\n",
    "import pandas as pd\n",
    "import time\n",
    "import matplotlib.pyplot as py\n",
    "import plotly_express as px\n",
    "import plotly as plt\n",
    "import datetime\n",
    "\n"
   ]
  },
  {
   "cell_type": "code",
   "execution_count": 3,
   "metadata": {},
   "outputs": [],
   "source": [
    "# Create a function to scrape the website\n",
    "\n",
    "def scrape_cnn_website(search, page):\n",
    "# \"\"\" \n",
    "# Scrapes the CNN Website based on a theme and a page number.\n",
    "# \"\"\"\n",
    "\n",
    "    page_theme = search\n",
    "    page_number = str(page)\n",
    "\n",
    "    url = 'https://www.cnnbrasil.com.br/tudo-sobre/' + page_theme + '/' + 'pagina' + page_number +'/' \n",
    "    webpage = requests.get(url)\n",
    "    soup = BeautifulSoup(webpage.text, 'html.parser')\n",
    "\n",
    "    # Get the location of the information\n",
    "    article_date = soup.find_all('span', attrs= {'class': 'home__title__date'}) # location of data information\n",
    "    article_title = soup.find_all('h2', attrs= {'class': 'news-item-header__title'} ) # location of title information\n",
    "    article_tag = soup.find_all('span', attrs= {'class': 'latest__news__category'} ) # location of the tag\n",
    "    article_theme = soup.find_all('h1', attrs= {'class': 'tags__topics__title'} ) # location of the theme\n",
    "    article_links = soup.find_all('a',attrs={'class': 'home__list__tag'} )# location of the links\n",
    "\n",
    "    # Loop through the article_date\n",
    "    for i in article_date:\n",
    "        temp=0\n",
    "        temp = i.text.strip()\n",
    "        date = temp[0:10]\n",
    "        time = temp[14:19]\n",
    "        date_time = date +'-'+ time\n",
    "\n",
    "        date_time = pd.to_datetime(date_time,format= '%d/%m/%Y-%H:%M').strftime('%d/%m/%Y - %H:%M')\n",
    "        dates.append(date_time)\n",
    "\n",
    "    # Loop through the article_titles and set the theme\n",
    "    for i in article_title:\n",
    "        temp = 0\n",
    "        temp = i.text.strip()\n",
    "        title.append(temp)\n",
    "        theme.append(article_theme[0].text.strip().split()[2])\n",
    "\n",
    "    # Loop through the article_tags\n",
    "    for i in article_tag:\n",
    "        temp = 0\n",
    "        temp = i.text.strip()\n",
    "        tag.append(temp)\n",
    "\n",
    "    # Loop through the article_links\n",
    "    for i in article_links:\n",
    "        href = i.get('href')\n",
    "        links.append(href)\n",
    "\n",
    "        # NLP Process: Scrapes the article, download the information and parse a nlp into a interable object\n",
    "        article = Article(href) # Scrapes the Article\n",
    "        article.download()\n",
    "        article.parse()\n",
    "        article.nlp()\n",
    "\n",
    "        # Interact with the articles\n",
    "        site_name = article.meta_data['og']['site_name']\n",
    "        text = article.text\n",
    "        summary = article.summary\n",
    "        texts.append(text)\n",
    "        summarys.append(summary)\n",
    "        authors.append(site_name)\n"
   ]
  },
  {
   "cell_type": "code",
   "execution_count": 4,
   "metadata": {},
   "outputs": [
    {
     "name": "stdout",
     "output_type": "stream",
     "text": [
      "1 30 30 30 30 30 30 30 30\n"
     ]
    }
   ],
   "source": [
    "# Create lists to store the scraped data\n",
    "theme = []\n",
    "tag = []\n",
    "title = []\n",
    "authors = []\n",
    "dates = []\n",
    "links = []\n",
    "texts = []\n",
    "summarys = []\n",
    "\n",
    "# Number of pages to scrap\n",
    "## min = 1\n",
    "n = 1\n",
    "\n",
    "# search theme\n",
    "## use '-' for spacing\n",
    "## samples: 'energia' ; 'energia-renovavel' ; 'energias-renováveis-no-brasil'\n",
    "search_theme = 'energia'\n",
    "\n",
    "\n",
    "# performs the scrapping with the chosen search on the given pages\n",
    "for i in range(1 , n+1):\n",
    "\n",
    "    #applies the function\n",
    "    scrape_cnn_website(search_theme, i )\n",
    "\n",
    "    # checks how many lines are created for each page\n",
    "    print(i,        # page\n",
    "    len(authors),  \n",
    "    len(links), \n",
    "    len(theme), \n",
    "    len(tag), \n",
    "    len(title),\n",
    "    len(dates), \n",
    "    len(texts), \n",
    "    len(summarys) \n",
    ")"
   ]
  },
  {
   "cell_type": "code",
   "execution_count": 5,
   "metadata": {},
   "outputs": [
    {
     "name": "stdout",
     "output_type": "stream",
     "text": [
      "DF Date Rage: from [19/04/2022 at 04:30:00] to [16/05/2022 at 21:32:00]\n"
     ]
    },
    {
     "data": {
      "text/plain": [
       "dates       0\n",
       "theme       0\n",
       "authors     0\n",
       "tag         0\n",
       "title       0\n",
       "summarys    0\n",
       "texts       0\n",
       "links       0\n",
       "dtype: int64"
      ]
     },
     "execution_count": 5,
     "metadata": {},
     "output_type": "execute_result"
    }
   ],
   "source": [
    "# creates a dataframe based on the stored lists\n",
    "df = pd.DataFrame( columns= ['dates','theme','authors','tag','title','summarys','texts','links' ] )\n",
    "df.dates = dates\n",
    "df.dates = pd.to_datetime(df.dates,format= '%d/%m/%Y - %H:%M')\n",
    "df.theme = theme\n",
    "df.authors = authors\n",
    "df.tag = tag\n",
    "df.title = title\n",
    "df.summarys = summarys\n",
    "df.texts = texts\n",
    "df.links = links\n",
    "\n",
    "# check the analyzed dates\n",
    "date_min = str(df.dates.dt.date.min().strftime('%d/%m/%Y'))+' at '+ str(df.dates.dt.time.min())\n",
    "date_max = str(df.dates.dt.date.max().strftime('%d/%m/%Y'))+' at '+ str(df.dates.dt.time.max())\n",
    "df_date_range = 'DF Date Rage: from ['+ date_min + '] to [' + date_max + ']'\n",
    "print(df_date_range)\n",
    "\n",
    "# checks if the dataframe has null values\n",
    "df.isnull().sum()"
   ]
  },
  {
   "cell_type": "code",
   "execution_count": 6,
   "metadata": {},
   "outputs": [
    {
     "name": "stdout",
     "output_type": "stream",
     "text": [
      "Date Rage: from [19/04/2022 at 04:30:00] to [16/05/2022 at 21:32:00]\n"
     ]
    },
    {
     "data": {
      "text/html": [
       "<div>\n",
       "<style scoped>\n",
       "    .dataframe tbody tr th:only-of-type {\n",
       "        vertical-align: middle;\n",
       "    }\n",
       "\n",
       "    .dataframe tbody tr th {\n",
       "        vertical-align: top;\n",
       "    }\n",
       "\n",
       "    .dataframe thead th {\n",
       "        text-align: right;\n",
       "    }\n",
       "</style>\n",
       "<table border=\"1\" class=\"dataframe\">\n",
       "  <thead>\n",
       "    <tr style=\"text-align: right;\">\n",
       "      <th></th>\n",
       "      <th>dates</th>\n",
       "      <th>theme</th>\n",
       "      <th>authors</th>\n",
       "      <th>tag</th>\n",
       "      <th>title</th>\n",
       "      <th>summarys</th>\n",
       "      <th>texts</th>\n",
       "      <th>links</th>\n",
       "    </tr>\n",
       "  </thead>\n",
       "  <tbody>\n",
       "    <tr>\n",
       "      <th>0</th>\n",
       "      <td>2022-05-16 07:43:00</td>\n",
       "      <td>Energia</td>\n",
       "      <td>CNN Brasil</td>\n",
       "      <td>Business</td>\n",
       "      <td>Zona do euro registra déficit comercial record...</td>\n",
       "      <td>Mudança no valor das importações de energia fo...</td>\n",
       "      <td>Mudança no valor das importações de energia fo...</td>\n",
       "      <td>https://www.cnnbrasil.com.br/business/zona-do-...</td>\n",
       "    </tr>\n",
       "    <tr>\n",
       "      <th>1</th>\n",
       "      <td>2022-05-13 16:35:00</td>\n",
       "      <td>Energia</td>\n",
       "      <td>CNN Brasil</td>\n",
       "      <td>Internacional</td>\n",
       "      <td>Rússia cortará fornecimento de eletricidade pa...</td>\n",
       "      <td>“A RAO Nordic Oy, uma subsidiária da entidade ...</td>\n",
       "      <td>Operadora do sistema de transmissão da Finlând...</td>\n",
       "      <td>https://www.cnnbrasil.com.br/internacional/rus...</td>\n",
       "    </tr>\n",
       "    <tr>\n",
       "      <th>2</th>\n",
       "      <td>2022-05-13 07:32:00</td>\n",
       "      <td>Energia</td>\n",
       "      <td>CNN Brasil</td>\n",
       "      <td>Business</td>\n",
       "      <td>Produção industrial da zona do euro cai menos ...</td>\n",
       "      <td>Em termos anuais, a produção de energia caiu 4...</td>\n",
       "      <td>Em termos anuais, a produção de energia caiu 4...</td>\n",
       "      <td>https://www.cnnbrasil.com.br/business/producao...</td>\n",
       "    </tr>\n",
       "    <tr>\n",
       "      <th>3</th>\n",
       "      <td>2022-05-12 16:42:00</td>\n",
       "      <td>Energia</td>\n",
       "      <td>CNN Brasil</td>\n",
       "      <td>Business</td>\n",
       "      <td>Europa está ficando sem tempo para encontrar a...</td>\n",
       "      <td>A Rússia respondeu por cerca de 45% das import...</td>\n",
       "      <td>\"Os governos precisam agir agora como se estiv...</td>\n",
       "      <td>https://www.cnnbrasil.com.br/business/europa-e...</td>\n",
       "    </tr>\n",
       "    <tr>\n",
       "      <th>4</th>\n",
       "      <td>2022-05-10 14:29:00</td>\n",
       "      <td>Energia</td>\n",
       "      <td>CNN Brasil</td>\n",
       "      <td>Business</td>\n",
       "      <td>Rússia precisa vender petróleo e está ficando ...</td>\n",
       "      <td>Países como a Índia continuam abocando centena...</td>\n",
       "      <td>Tanques de petróleo em Omsk na Rússia: receita...</td>\n",
       "      <td>https://www.cnnbrasil.com.br/business/russia-p...</td>\n",
       "    </tr>\n",
       "    <tr>\n",
       "      <th>5</th>\n",
       "      <td>2022-05-10 09:21:00</td>\n",
       "      <td>Energia</td>\n",
       "      <td>CNN Brasil</td>\n",
       "      <td>Nacional</td>\n",
       "      <td>A “minirreforma tributária” e o déjà vu do con...</td>\n",
       "      <td>A intenção de Guedes é mexer nas alíquotas par...</td>\n",
       "      <td>Thais Herédia e Priscila Yazbek apresentam o p...</td>\n",
       "      <td>https://www.cnnbrasil.com.br/nacional/podcast-...</td>\n",
       "    </tr>\n",
       "    <tr>\n",
       "      <th>6</th>\n",
       "      <td>2022-05-09 09:32:00</td>\n",
       "      <td>Energia</td>\n",
       "      <td>CNN Brasil</td>\n",
       "      <td>Nacional</td>\n",
       "      <td>Mercado acredita que inflação nos EUA e Brasil...</td>\n",
       "      <td>Os investidores estão cautelosos com a divulga...</td>\n",
       "      <td>Thais Herédia e Priscila Yazbek apresentam o p...</td>\n",
       "      <td>https://www.cnnbrasil.com.br/nacional/podcast-...</td>\n",
       "    </tr>\n",
       "    <tr>\n",
       "      <th>7</th>\n",
       "      <td>2022-05-05 17:22:00</td>\n",
       "      <td>Energia</td>\n",
       "      <td>CNN Brasil</td>\n",
       "      <td>Business</td>\n",
       "      <td>Mais petróleo pode ser liberado, se necessário...</td>\n",
       "      <td>De acordo com ele, só uma parte dos estoques d...</td>\n",
       "      <td>Soluções do lado da demanda também são importa...</td>\n",
       "      <td>https://www.cnnbrasil.com.br/business/mais-pet...</td>\n",
       "    </tr>\n",
       "    <tr>\n",
       "      <th>8</th>\n",
       "      <td>2022-05-05 07:50:00</td>\n",
       "      <td>Energia</td>\n",
       "      <td>CNN Brasil</td>\n",
       "      <td>Business</td>\n",
       "      <td>Japão utilizará reatores nucleares para reduzi...</td>\n",
       "      <td>Primeiro-ministro prometeu 150 trilhões de ien...</td>\n",
       "      <td>Primeiro-ministro prometeu 150 trilhões de ien...</td>\n",
       "      <td>https://www.cnnbrasil.com.br/internacional/jap...</td>\n",
       "    </tr>\n",
       "    <tr>\n",
       "      <th>9</th>\n",
       "      <td>2022-05-04 21:32:00</td>\n",
       "      <td>Energia</td>\n",
       "      <td>CNN Brasil</td>\n",
       "      <td>Business</td>\n",
       "      <td>Senado aprova projeto que deve facilitar linha...</td>\n",
       "      <td>O texto declara que a passagem da rede elétric...</td>\n",
       "      <td>Governador de Roraima, Antonio Denarium, se re...</td>\n",
       "      <td>https://www.cnnbrasil.com.br/business/senado-a...</td>\n",
       "    </tr>\n",
       "    <tr>\n",
       "      <th>10</th>\n",
       "      <td>2022-05-04 08:50:00</td>\n",
       "      <td>Energia</td>\n",
       "      <td>CNN Brasil</td>\n",
       "      <td>Business</td>\n",
       "      <td>Opep+ vê superávit maior em 2022 em meio a cre...</td>\n",
       "      <td>Ilustração fotográfica com uma bomba de extraç...</td>\n",
       "      <td>Ilustração fotográfica com uma bomba de extraç...</td>\n",
       "      <td>https://www.cnnbrasil.com.br/business/opep-ve-...</td>\n",
       "    </tr>\n",
       "    <tr>\n",
       "      <th>11</th>\n",
       "      <td>2022-05-03 17:38:00</td>\n",
       "      <td>Energia</td>\n",
       "      <td>CNN Brasil</td>\n",
       "      <td>Business</td>\n",
       "      <td>Petróleo fecha em queda, à espera da Opep+ e d...</td>\n",
       "      <td>O mercado acompanha as movimentações da União ...</td>\n",
       "      <td>\"Operadores de energia não estão convencidos d...</td>\n",
       "      <td>https://www.cnnbrasil.com.br/business/petroleo...</td>\n",
       "    </tr>\n",
       "    <tr>\n",
       "      <th>12</th>\n",
       "      <td>2022-05-03 09:53:00</td>\n",
       "      <td>Energia</td>\n",
       "      <td>CNN Brasil</td>\n",
       "      <td>Business</td>\n",
       "      <td>Galp compra projetos de energia renovável e en...</td>\n",
       "      <td>A companhia de petróleo e gás fechou com a SER...</td>\n",
       "      <td>Transações representam novo motor de crescimen...</td>\n",
       "      <td>https://www.cnnbrasil.com.br/business/galp-com...</td>\n",
       "    </tr>\n",
       "    <tr>\n",
       "      <th>13</th>\n",
       "      <td>2022-05-02 15:58:00</td>\n",
       "      <td>Energia</td>\n",
       "      <td>CNN Brasil</td>\n",
       "      <td>Saúde</td>\n",
       "      <td>Onda de calor da Índia e do Paquistão testa li...</td>\n",
       "      <td>Isso é o que os especialistas em clima previra...</td>\n",
       "      <td>Os líderes globais se concentrarão em soluções...</td>\n",
       "      <td>https://www.cnnbrasil.com.br/saude/onda-de-cal...</td>\n",
       "    </tr>\n",
       "    <tr>\n",
       "      <th>14</th>\n",
       "      <td>2022-05-02 11:29:00</td>\n",
       "      <td>Energia</td>\n",
       "      <td>CNN Brasil</td>\n",
       "      <td>Business</td>\n",
       "      <td>Alta no nível dos reservatórios não deve derru...</td>\n",
       "      <td>No entanto, nos próximos meses, os consumidore...</td>\n",
       "      <td>Período seco começa agora em maio e vai até ou...</td>\n",
       "      <td>https://www.cnnbrasil.com.br/business/alta-no-...</td>\n",
       "    </tr>\n",
       "    <tr>\n",
       "      <th>15</th>\n",
       "      <td>2022-05-02 09:40:00</td>\n",
       "      <td>Energia</td>\n",
       "      <td>CNN Brasil</td>\n",
       "      <td>Business</td>\n",
       "      <td>Brasil teve recorde histórico de consumo de en...</td>\n",
       "      <td>Anualmente, a oferta de energia tem crescido d...</td>\n",
       "      <td>Classes residencial e comercial puxaram expans...</td>\n",
       "      <td>https://www.cnnbrasil.com.br/business/brasil-t...</td>\n",
       "    </tr>\n",
       "    <tr>\n",
       "      <th>16</th>\n",
       "      <td>2022-05-02 04:30:00</td>\n",
       "      <td>Energia</td>\n",
       "      <td>CNN Brasil</td>\n",
       "      <td>Business</td>\n",
       "      <td>Impasse sobre gás da Rússia acirra tensões pro...</td>\n",
       "      <td>A Gazprom atribuiu a interrupção do envio de g...</td>\n",
       "      <td>Neste episódio do E Tem Mais, Carol Nogueira a...</td>\n",
       "      <td>https://www.cnnbrasil.com.br/internacional/pod...</td>\n",
       "    </tr>\n",
       "    <tr>\n",
       "      <th>17</th>\n",
       "      <td>2022-05-01 04:30:00</td>\n",
       "      <td>Energia</td>\n",
       "      <td>CNN Brasil</td>\n",
       "      <td>Business</td>\n",
       "      <td>Aumento no preço do gás natural nas distribuid...</td>\n",
       "      <td>Reajuste de 19% pode impactar moradores que co...</td>\n",
       "      <td>Reajuste de 19% pode impactar moradores que co...</td>\n",
       "      <td>https://www.cnnbrasil.com.br/business/passa-a-...</td>\n",
       "    </tr>\n",
       "    <tr>\n",
       "      <th>18</th>\n",
       "      <td>2022-04-29 16:01:00</td>\n",
       "      <td>Energia</td>\n",
       "      <td>CNN Brasil</td>\n",
       "      <td>Business</td>\n",
       "      <td>Petrobras sobe em 19% preço do gás natural ven...</td>\n",
       "      <td>Segundo a estatal, ajuste segue atualização de...</td>\n",
       "      <td>Segundo a estatal, ajuste segue atualização de...</td>\n",
       "      <td>https://www.cnnbrasil.com.br/business/petrobra...</td>\n",
       "    </tr>\n",
       "    <tr>\n",
       "      <th>19</th>\n",
       "      <td>2022-04-29 10:53:00</td>\n",
       "      <td>Energia</td>\n",
       "      <td>CNN Brasil</td>\n",
       "      <td>Business</td>\n",
       "      <td>ONS: Em maio, maioria dos reservatórios terá m...</td>\n",
       "      <td>Apenas o Sul do país deve ter um resultado pos...</td>\n",
       "      <td>Linha de transmissão de energia: Ao longo dos ...</td>\n",
       "      <td>https://www.cnnbrasil.com.br/business/ons-em-m...</td>\n",
       "    </tr>\n",
       "    <tr>\n",
       "      <th>20</th>\n",
       "      <td>2022-04-29 07:32:00</td>\n",
       "      <td>Energia</td>\n",
       "      <td>CNN Brasil</td>\n",
       "      <td>Business</td>\n",
       "      <td>Inflação ampla na zona do euro atinge recorde ...</td>\n",
       "      <td>A inflação no bloco monetário de 19 países sub...</td>\n",
       "      <td>Dados do Eurostat mostram que inflação foi imp...</td>\n",
       "      <td>https://www.cnnbrasil.com.br/business/inflacao...</td>\n",
       "    </tr>\n",
       "    <tr>\n",
       "      <th>21</th>\n",
       "      <td>2022-04-28 17:27:00</td>\n",
       "      <td>Energia</td>\n",
       "      <td>CNN Brasil</td>\n",
       "      <td>Business</td>\n",
       "      <td>Europa se prepara para crise de gás enquanto R...</td>\n",
       "      <td>Ela disse que os estados membros da UE se reun...</td>\n",
       "      <td>Presidente da Comissão Europeia diz que \"a era...</td>\n",
       "      <td>https://www.cnnbrasil.com.br/business/europa-s...</td>\n",
       "    </tr>\n",
       "    <tr>\n",
       "      <th>22</th>\n",
       "      <td>2022-04-27 15:08:00</td>\n",
       "      <td>Energia</td>\n",
       "      <td>CNN Brasil</td>\n",
       "      <td>Business</td>\n",
       "      <td>Bunge tem lucro líquido de US$ 688 milhões no ...</td>\n",
       "      <td>O resultado representa uma redução de 17,2% an...</td>\n",
       "      <td>Bunge atribuiu o resultado ao crescimento da r...</td>\n",
       "      <td>https://www.cnnbrasil.com.br/business/bunge-te...</td>\n",
       "    </tr>\n",
       "    <tr>\n",
       "      <th>23</th>\n",
       "      <td>2022-04-27 14:47:00</td>\n",
       "      <td>Energia</td>\n",
       "      <td>CNN Brasil</td>\n",
       "      <td>Business</td>\n",
       "      <td>Aneel aprovou reajustes em tarifas de 13 distr...</td>\n",
       "      <td>Ouvir notíciaCom os reajustes autorizados pela...</td>\n",
       "      <td>Ouvir notícia\\n\\nCom os reajustes autorizados ...</td>\n",
       "      <td>https://www.cnnbrasil.com.br/business/aneel-ap...</td>\n",
       "    </tr>\n",
       "    <tr>\n",
       "      <th>24</th>\n",
       "      <td>2022-04-26 17:09:00</td>\n",
       "      <td>Energia</td>\n",
       "      <td>CNN Brasil</td>\n",
       "      <td>Business</td>\n",
       "      <td>Decreto aprova grupo para plano de recuperação...</td>\n",
       "      <td>Ouvir notíciaO presidente da República, Jair B...</td>\n",
       "      <td>Ouvir notícia\\n\\nO presidente da República, Ja...</td>\n",
       "      <td>https://www.cnnbrasil.com.br/business/decreto-...</td>\n",
       "    </tr>\n",
       "    <tr>\n",
       "      <th>25</th>\n",
       "      <td>2022-04-26 16:39:00</td>\n",
       "      <td>Energia</td>\n",
       "      <td>CNN Brasil</td>\n",
       "      <td>Business</td>\n",
       "      <td>Polônia diz que Rússia alertou que forneciment...</td>\n",
       "      <td>O fornecimento de energia da Polônia está segu...</td>\n",
       "      <td>Dados da rede de operadoras de transporte de g...</td>\n",
       "      <td>https://www.cnnbrasil.com.br/business/polonia-...</td>\n",
       "    </tr>\n",
       "    <tr>\n",
       "      <th>26</th>\n",
       "      <td>2022-04-20 13:15:00</td>\n",
       "      <td>Energia</td>\n",
       "      <td>CNN Brasil</td>\n",
       "      <td>Business</td>\n",
       "      <td>Relator sugere ajustes, mas apresenta voto fav...</td>\n",
       "      <td>Nele, o ministro acolhe a maioria das proposta...</td>\n",
       "      <td>A CNN teve acesso ao resumo do voto. Nele, o m...</td>\n",
       "      <td>https://www.cnnbrasil.com.br/business/relator-...</td>\n",
       "    </tr>\n",
       "    <tr>\n",
       "      <th>27</th>\n",
       "      <td>2022-04-19 17:45:00</td>\n",
       "      <td>Energia</td>\n",
       "      <td>CNN Brasil</td>\n",
       "      <td>Business</td>\n",
       "      <td>Preços do petróleo recuam 5% após FMI cortar p...</td>\n",
       "      <td>Petróleo Brent fechou o dia cotado a US$ 107,2...</td>\n",
       "      <td>Petróleo Brent fechou o dia cotado a US$ 107,2...</td>\n",
       "      <td>https://www.cnnbrasil.com.br/business/precos-d...</td>\n",
       "    </tr>\n",
       "    <tr>\n",
       "      <th>28</th>\n",
       "      <td>2022-04-19 16:40:00</td>\n",
       "      <td>Energia</td>\n",
       "      <td>CNN Brasil</td>\n",
       "      <td>Business</td>\n",
       "      <td>Aneel aprova reajuste médio de 24,85% nas tari...</td>\n",
       "      <td>Para os consumidores atendidos em baixa tensão...</td>\n",
       "      <td>Para os consumidores atendidos em baixa tensão...</td>\n",
       "      <td>https://www.cnnbrasil.com.br/business/aneel-ap...</td>\n",
       "    </tr>\n",
       "    <tr>\n",
       "      <th>29</th>\n",
       "      <td>2022-04-19 14:59:00</td>\n",
       "      <td>Energia</td>\n",
       "      <td>CNN Brasil</td>\n",
       "      <td>Business</td>\n",
       "      <td>Aneel aprova reajuste médio de 20,36% nas tari...</td>\n",
       "      <td>Novos valores passam a vigorar em 22 de abrilO...</td>\n",
       "      <td>Novos valores passam a vigorar em 22 de abril\\...</td>\n",
       "      <td>https://www.cnnbrasil.com.br/business/aneel-ap...</td>\n",
       "    </tr>\n",
       "  </tbody>\n",
       "</table>\n",
       "</div>"
      ],
      "text/plain": [
       "                 dates    theme     authors            tag  \\\n",
       "0  2022-05-16 07:43:00  Energia  CNN Brasil       Business   \n",
       "1  2022-05-13 16:35:00  Energia  CNN Brasil  Internacional   \n",
       "2  2022-05-13 07:32:00  Energia  CNN Brasil       Business   \n",
       "3  2022-05-12 16:42:00  Energia  CNN Brasil       Business   \n",
       "4  2022-05-10 14:29:00  Energia  CNN Brasil       Business   \n",
       "5  2022-05-10 09:21:00  Energia  CNN Brasil       Nacional   \n",
       "6  2022-05-09 09:32:00  Energia  CNN Brasil       Nacional   \n",
       "7  2022-05-05 17:22:00  Energia  CNN Brasil       Business   \n",
       "8  2022-05-05 07:50:00  Energia  CNN Brasil       Business   \n",
       "9  2022-05-04 21:32:00  Energia  CNN Brasil       Business   \n",
       "10 2022-05-04 08:50:00  Energia  CNN Brasil       Business   \n",
       "11 2022-05-03 17:38:00  Energia  CNN Brasil       Business   \n",
       "12 2022-05-03 09:53:00  Energia  CNN Brasil       Business   \n",
       "13 2022-05-02 15:58:00  Energia  CNN Brasil          Saúde   \n",
       "14 2022-05-02 11:29:00  Energia  CNN Brasil       Business   \n",
       "15 2022-05-02 09:40:00  Energia  CNN Brasil       Business   \n",
       "16 2022-05-02 04:30:00  Energia  CNN Brasil       Business   \n",
       "17 2022-05-01 04:30:00  Energia  CNN Brasil       Business   \n",
       "18 2022-04-29 16:01:00  Energia  CNN Brasil       Business   \n",
       "19 2022-04-29 10:53:00  Energia  CNN Brasil       Business   \n",
       "20 2022-04-29 07:32:00  Energia  CNN Brasil       Business   \n",
       "21 2022-04-28 17:27:00  Energia  CNN Brasil       Business   \n",
       "22 2022-04-27 15:08:00  Energia  CNN Brasil       Business   \n",
       "23 2022-04-27 14:47:00  Energia  CNN Brasil       Business   \n",
       "24 2022-04-26 17:09:00  Energia  CNN Brasil       Business   \n",
       "25 2022-04-26 16:39:00  Energia  CNN Brasil       Business   \n",
       "26 2022-04-20 13:15:00  Energia  CNN Brasil       Business   \n",
       "27 2022-04-19 17:45:00  Energia  CNN Brasil       Business   \n",
       "28 2022-04-19 16:40:00  Energia  CNN Brasil       Business   \n",
       "29 2022-04-19 14:59:00  Energia  CNN Brasil       Business   \n",
       "\n",
       "                                                title  \\\n",
       "0   Zona do euro registra déficit comercial record...   \n",
       "1   Rússia cortará fornecimento de eletricidade pa...   \n",
       "2   Produção industrial da zona do euro cai menos ...   \n",
       "3   Europa está ficando sem tempo para encontrar a...   \n",
       "4   Rússia precisa vender petróleo e está ficando ...   \n",
       "5   A “minirreforma tributária” e o déjà vu do con...   \n",
       "6   Mercado acredita que inflação nos EUA e Brasil...   \n",
       "7   Mais petróleo pode ser liberado, se necessário...   \n",
       "8   Japão utilizará reatores nucleares para reduzi...   \n",
       "9   Senado aprova projeto que deve facilitar linha...   \n",
       "10  Opep+ vê superávit maior em 2022 em meio a cre...   \n",
       "11  Petróleo fecha em queda, à espera da Opep+ e d...   \n",
       "12  Galp compra projetos de energia renovável e en...   \n",
       "13  Onda de calor da Índia e do Paquistão testa li...   \n",
       "14  Alta no nível dos reservatórios não deve derru...   \n",
       "15  Brasil teve recorde histórico de consumo de en...   \n",
       "16  Impasse sobre gás da Rússia acirra tensões pro...   \n",
       "17  Aumento no preço do gás natural nas distribuid...   \n",
       "18  Petrobras sobe em 19% preço do gás natural ven...   \n",
       "19  ONS: Em maio, maioria dos reservatórios terá m...   \n",
       "20  Inflação ampla na zona do euro atinge recorde ...   \n",
       "21  Europa se prepara para crise de gás enquanto R...   \n",
       "22  Bunge tem lucro líquido de US$ 688 milhões no ...   \n",
       "23  Aneel aprovou reajustes em tarifas de 13 distr...   \n",
       "24  Decreto aprova grupo para plano de recuperação...   \n",
       "25  Polônia diz que Rússia alertou que forneciment...   \n",
       "26  Relator sugere ajustes, mas apresenta voto fav...   \n",
       "27  Preços do petróleo recuam 5% após FMI cortar p...   \n",
       "28  Aneel aprova reajuste médio de 24,85% nas tari...   \n",
       "29  Aneel aprova reajuste médio de 20,36% nas tari...   \n",
       "\n",
       "                                             summarys  \\\n",
       "0   Mudança no valor das importações de energia fo...   \n",
       "1   “A RAO Nordic Oy, uma subsidiária da entidade ...   \n",
       "2   Em termos anuais, a produção de energia caiu 4...   \n",
       "3   A Rússia respondeu por cerca de 45% das import...   \n",
       "4   Países como a Índia continuam abocando centena...   \n",
       "5   A intenção de Guedes é mexer nas alíquotas par...   \n",
       "6   Os investidores estão cautelosos com a divulga...   \n",
       "7   De acordo com ele, só uma parte dos estoques d...   \n",
       "8   Primeiro-ministro prometeu 150 trilhões de ien...   \n",
       "9   O texto declara que a passagem da rede elétric...   \n",
       "10  Ilustração fotográfica com uma bomba de extraç...   \n",
       "11  O mercado acompanha as movimentações da União ...   \n",
       "12  A companhia de petróleo e gás fechou com a SER...   \n",
       "13  Isso é o que os especialistas em clima previra...   \n",
       "14  No entanto, nos próximos meses, os consumidore...   \n",
       "15  Anualmente, a oferta de energia tem crescido d...   \n",
       "16  A Gazprom atribuiu a interrupção do envio de g...   \n",
       "17  Reajuste de 19% pode impactar moradores que co...   \n",
       "18  Segundo a estatal, ajuste segue atualização de...   \n",
       "19  Apenas o Sul do país deve ter um resultado pos...   \n",
       "20  A inflação no bloco monetário de 19 países sub...   \n",
       "21  Ela disse que os estados membros da UE se reun...   \n",
       "22  O resultado representa uma redução de 17,2% an...   \n",
       "23  Ouvir notíciaCom os reajustes autorizados pela...   \n",
       "24  Ouvir notíciaO presidente da República, Jair B...   \n",
       "25  O fornecimento de energia da Polônia está segu...   \n",
       "26  Nele, o ministro acolhe a maioria das proposta...   \n",
       "27  Petróleo Brent fechou o dia cotado a US$ 107,2...   \n",
       "28  Para os consumidores atendidos em baixa tensão...   \n",
       "29  Novos valores passam a vigorar em 22 de abrilO...   \n",
       "\n",
       "                                                texts  \\\n",
       "0   Mudança no valor das importações de energia fo...   \n",
       "1   Operadora do sistema de transmissão da Finlând...   \n",
       "2   Em termos anuais, a produção de energia caiu 4...   \n",
       "3   \"Os governos precisam agir agora como se estiv...   \n",
       "4   Tanques de petróleo em Omsk na Rússia: receita...   \n",
       "5   Thais Herédia e Priscila Yazbek apresentam o p...   \n",
       "6   Thais Herédia e Priscila Yazbek apresentam o p...   \n",
       "7   Soluções do lado da demanda também são importa...   \n",
       "8   Primeiro-ministro prometeu 150 trilhões de ien...   \n",
       "9   Governador de Roraima, Antonio Denarium, se re...   \n",
       "10  Ilustração fotográfica com uma bomba de extraç...   \n",
       "11  \"Operadores de energia não estão convencidos d...   \n",
       "12  Transações representam novo motor de crescimen...   \n",
       "13  Os líderes globais se concentrarão em soluções...   \n",
       "14  Período seco começa agora em maio e vai até ou...   \n",
       "15  Classes residencial e comercial puxaram expans...   \n",
       "16  Neste episódio do E Tem Mais, Carol Nogueira a...   \n",
       "17  Reajuste de 19% pode impactar moradores que co...   \n",
       "18  Segundo a estatal, ajuste segue atualização de...   \n",
       "19  Linha de transmissão de energia: Ao longo dos ...   \n",
       "20  Dados do Eurostat mostram que inflação foi imp...   \n",
       "21  Presidente da Comissão Europeia diz que \"a era...   \n",
       "22  Bunge atribuiu o resultado ao crescimento da r...   \n",
       "23  Ouvir notícia\\n\\nCom os reajustes autorizados ...   \n",
       "24  Ouvir notícia\\n\\nO presidente da República, Ja...   \n",
       "25  Dados da rede de operadoras de transporte de g...   \n",
       "26  A CNN teve acesso ao resumo do voto. Nele, o m...   \n",
       "27  Petróleo Brent fechou o dia cotado a US$ 107,2...   \n",
       "28  Para os consumidores atendidos em baixa tensão...   \n",
       "29  Novos valores passam a vigorar em 22 de abril\\...   \n",
       "\n",
       "                                                links  \n",
       "0   https://www.cnnbrasil.com.br/business/zona-do-...  \n",
       "1   https://www.cnnbrasil.com.br/internacional/rus...  \n",
       "2   https://www.cnnbrasil.com.br/business/producao...  \n",
       "3   https://www.cnnbrasil.com.br/business/europa-e...  \n",
       "4   https://www.cnnbrasil.com.br/business/russia-p...  \n",
       "5   https://www.cnnbrasil.com.br/nacional/podcast-...  \n",
       "6   https://www.cnnbrasil.com.br/nacional/podcast-...  \n",
       "7   https://www.cnnbrasil.com.br/business/mais-pet...  \n",
       "8   https://www.cnnbrasil.com.br/internacional/jap...  \n",
       "9   https://www.cnnbrasil.com.br/business/senado-a...  \n",
       "10  https://www.cnnbrasil.com.br/business/opep-ve-...  \n",
       "11  https://www.cnnbrasil.com.br/business/petroleo...  \n",
       "12  https://www.cnnbrasil.com.br/business/galp-com...  \n",
       "13  https://www.cnnbrasil.com.br/saude/onda-de-cal...  \n",
       "14  https://www.cnnbrasil.com.br/business/alta-no-...  \n",
       "15  https://www.cnnbrasil.com.br/business/brasil-t...  \n",
       "16  https://www.cnnbrasil.com.br/internacional/pod...  \n",
       "17  https://www.cnnbrasil.com.br/business/passa-a-...  \n",
       "18  https://www.cnnbrasil.com.br/business/petrobra...  \n",
       "19  https://www.cnnbrasil.com.br/business/ons-em-m...  \n",
       "20  https://www.cnnbrasil.com.br/business/inflacao...  \n",
       "21  https://www.cnnbrasil.com.br/business/europa-s...  \n",
       "22  https://www.cnnbrasil.com.br/business/bunge-te...  \n",
       "23  https://www.cnnbrasil.com.br/business/aneel-ap...  \n",
       "24  https://www.cnnbrasil.com.br/business/decreto-...  \n",
       "25  https://www.cnnbrasil.com.br/business/polonia-...  \n",
       "26  https://www.cnnbrasil.com.br/business/relator-...  \n",
       "27  https://www.cnnbrasil.com.br/business/precos-d...  \n",
       "28  https://www.cnnbrasil.com.br/business/aneel-ap...  \n",
       "29  https://www.cnnbrasil.com.br/business/aneel-ap...  "
      ]
     },
     "execution_count": 6,
     "metadata": {},
     "output_type": "execute_result"
    }
   ],
   "source": [
    "# filter by date\n",
    "df_filtered = df[df.dates > '2022-01-01']\n",
    "\n",
    "# check the analyzed dates\n",
    "date_min = str(df_filtered.dates.dt.date.min().strftime('%d/%m/%Y'))+' at '+ str(df_filtered.dates.dt.time.min())\n",
    "date_max = str(df_filtered.dates.dt.date.max().strftime('%d/%m/%Y'))+' at '+ str(df_filtered.dates.dt.time.max())\n",
    "\n",
    "# range of dates\n",
    "date_range = 'Date Rage: from ['+ date_min + '] to [' + date_max + ']'\n",
    "print(date_range)\n",
    "\n",
    "# data vizualization\n",
    "df_filtered\n"
   ]
  },
  {
   "cell_type": "code",
   "execution_count": 7,
   "metadata": {},
   "outputs": [],
   "source": [
    "# NLP: stopword parametres\n",
    "\n",
    "## github patch with Brazilian stopwords\n",
    "PORTUGUESE_STOPWORDS_PATCH_1 = r'https://gist.githubusercontent.com/alopes/5358189/raw/2107d809cca6b83ce3d8e04dbd9463283025284f/stopwords.txt' ##online patch\n",
    "response_PATCH = requests.get(PORTUGUESE_STOPWORDS_PATCH_1) ## accessing via webscrapping\n",
    "pt_stopwords = response_PATCH.text ## assigning to a variable\n",
    "pt_stopwords = pt_stopwords.replace(\" \",\"\").splitlines() ## manipulating extraction\n",
    "\n",
    "# WordCloud text and additional parameters\n",
    "\n",
    "text = \" \".join(s.lower() for s in df_filtered.texts) # lowercasing all the text words\n",
    "wordcloud_theme = df_filtered.theme[0].lower() # get the search theme\n",
    "wordcloud_search_theme = search_theme\n",
    "wordcloud_title = 'Author: CNN - '+ df_filtered.authors[0]+' │ Theme: ' + search_theme +' │ '+ date_range # setting the title\n",
    "\n",
    "\n",
    "## manual stopwords input\n",
    "manual_stopwords = [wordcloud_theme,\n",
    "   'cerca',\n",
    "   'país',\n",
    "   'disse',\n",
    "   'agora',\n",
    "   'ouvir',\n",
    "   'notícia',\n",
    "   'ano' ,\n",
    "   'entanto',\n",
    "   'episódio',\n",
    "   'ainda',\n",
    "   'acordo',\n",
    "   'demanda',\n",
    "   'maior',\n",
    "   'dia',\n",
    "   'segundo',\n",
    "   'pode',\n",
    "   'desde',\n",
    "   'todo',\n",
    "   'sobre',\n",
    "   'getty',\n",
    "   'getty images',\n",
    "   'anadolu',\n",
    "   'images',\n",
    "   'agency',\n",
    "   'ante',\n",
    "   'após',\n",
    "   'segunda',\n",
    "   'terça',\n",
    "   'quarta',\n",
    "   'quinta',\n",
    "   'sexta',\n",
    "   'sabado',\n",
    "   'domingo',\n",
    "   'feira',\n",
    "   'enquanto',\n",
    "   'deve',\n",
    "   'semana',\n",
    "   'nesta',\n",
    "   'caso',\n",
    "   'diz',\n",
    "   'hoje',\n",
    "   'brasil',\n",
    "   'empresa',\n",
    "   'grande',\n",
    "   'fonte',\n",
    "   'renovável',\n",
    "   'afirma',\n",
    "   'área',\n",
    "   'uso',\n",
    "   'capacidade',\n",
    "   'apenas',\n",
    "   'partir',\n",
    "   'projeto',\n",
    "   'cnn',\n",
    "   'passado',\n",
    "   'partir',\n",
    "   'porque',\n",
    "   'custo',\n",
    "   'exemplo',\n",
    "   'especialista',\n",
    "   'skydweller',\n",
    "   'vai',\n",
    "   'outra',\n",
    "   'gera',\n",
    "   'loja']\n",
    "\n",
    "## stopwords used\n",
    "stop_words  = list(pt_stopwords) + list(STOPWORDS) + list(manual_stopwords) \n",
    "\n",
    "\n",
    "\n",
    "# WordCloud NLP algorithm\n",
    "\n",
    "## WordCloud Figure\n",
    "wordcloud = WordCloud(min_font_size=50, \n",
    "               max_font_size=500, \n",
    "               background_color='white', \n",
    "            #    max_words = 80,\n",
    "               mode=\"RGB\",\n",
    "               colormap='tab10',\n",
    "               stopwords=stop_words,\n",
    "               width=3000, \n",
    "               height=1500,\n",
    "               normalize_plurals= True\n",
    ").generate(text)\n",
    "\n",
    "## WordCloud Text Count\n",
    "wordcloud_text = WordCloud(min_font_size=50, \n",
    "               max_font_size=500, \n",
    "               background_color='white', \n",
    "               mode=\"RGB\",\n",
    "               colormap='tab10',\n",
    "               stopwords=stop_words,\n",
    "               width=3000, \n",
    "               height=1500,\n",
    "               normalize_plurals= True\n",
    ").process_text(text)\n"
   ]
  },
  {
   "cell_type": "code",
   "execution_count": 8,
   "metadata": {},
   "outputs": [
    {
     "data": {
      "image/png": "[encoded data removed]",
      "text/plain": [
       "<Figure size 1440x720 with 1 Axes>"
      ]
     },
     "metadata": {
      "needs_background": "light"
     },
     "output_type": "display_data"
    },
    {
     "data": {
      "text/plain": [
       "<Figure size 432x288 with 0 Axes>"
      ]
     },
     "metadata": {},
     "output_type": "display_data"
    }
   ],
   "source": [
    "# Ploting the WordCloud figure\n",
    "py.figure(figsize=(20,10))\n",
    "py.title(wordcloud_title, fontsize=10, color=\"red\")\n",
    "py.imshow(wordcloud, interpolation=\"bilinear\")\n",
    "py.axis(\"off\")\n",
    "\n",
    "fig1 = py.gcf()\n",
    "py.show()\n",
    "py.draw()\n",
    "fig1.savefig(search_theme+'.png', dpi=100)\n"
   ]
  },
  {
   "cell_type": "code",
   "execution_count": 9,
   "metadata": {},
   "outputs": [
    {
     "data": {
      "application/vnd.plotly.v1+json": {
       "config": {
        "plotlyServerURL": "https://plot.ly"
       },
       "data": [
        {
         "hovertemplate": "<b>%{hovertext}</b><br><br>word=gás<br>index=%{x}<br>count=%{marker.size}<extra></extra>",
         "hovertext": [
          "gás"
         ],
         "legendgroup": "gás",
         "marker": {
          "color": "#636efa",
          "size": [
           79
          ],
          "sizemode": "area",
          "sizeref": 0.021944444444444444,
          "symbol": "circle"
         },
         "mode": "markers",
         "name": "gás",
         "orientation": "v",
         "showlegend": true,
         "type": "scatter",
         "x": [
          0
         ],
         "xaxis": "x",
         "y": [
          79
         ],
         "yaxis": "y"
        },
        {
         "hovertemplate": "<b>%{hovertext}</b><br><br>word=rússia<br>index=%{x}<br>count=%{marker.size}<extra></extra>",
         "hovertext": [
          "rússia"
         ],
         "legendgroup": "rússia",
         "marker": {
          "color": "#EF553B",
          "size": [
           61
          ],
          "sizemode": "area",
          "sizeref": 0.021944444444444444,
          "symbol": "circle"
         },
         "mode": "markers",
         "name": "rússia",
         "orientation": "v",
         "showlegend": true,
         "type": "scatter",
         "x": [
          1
         ],
         "xaxis": "x",
         "y": [
          61
         ],
         "yaxis": "y"
        },
        {
         "hovertemplate": "<b>%{hovertext}</b><br><br>word=petróleo<br>index=%{x}<br>count=%{marker.size}<extra></extra>",
         "hovertext": [
          "petróleo"
         ],
         "legendgroup": "petróleo",
         "marker": {
          "color": "#00cc96",
          "size": [
           53
          ],
          "sizemode": "area",
          "sizeref": 0.021944444444444444,
          "symbol": "circle"
         },
         "mode": "markers",
         "name": "petróleo",
         "orientation": "v",
         "showlegend": true,
         "type": "scatter",
         "x": [
          2
         ],
         "xaxis": "x",
         "y": [
          53
         ],
         "yaxis": "y"
        },
        {
         "hovertemplate": "<b>%{hovertext}</b><br><br>word=mercado<br>index=%{x}<br>count=%{marker.size}<extra></extra>",
         "hovertext": [
          "mercado"
         ],
         "legendgroup": "mercado",
         "marker": {
          "color": "#ab63fa",
          "size": [
           50
          ],
          "sizemode": "area",
          "sizeref": 0.021944444444444444,
          "symbol": "circle"
         },
         "mode": "markers",
         "name": "mercado",
         "orientation": "v",
         "showlegend": true,
         "type": "scatter",
         "x": [
          3
         ],
         "xaxis": "x",
         "y": [
          50
         ],
         "yaxis": "y"
        },
        {
         "hovertemplate": "<b>%{hovertext}</b><br><br>word=preço<br>index=%{x}<br>count=%{marker.size}<extra></extra>",
         "hovertext": [
          "preço"
         ],
         "legendgroup": "preço",
         "marker": {
          "color": "#FFA15A",
          "size": [
           48
          ],
          "sizemode": "area",
          "sizeref": 0.021944444444444444,
          "symbol": "circle"
         },
         "mode": "markers",
         "name": "preço",
         "orientation": "v",
         "showlegend": true,
         "type": "scatter",
         "x": [
          4
         ],
         "xaxis": "x",
         "y": [
          48
         ],
         "yaxis": "y"
        },
        {
         "hovertemplate": "<b>%{hovertext}</b><br><br>word=europa<br>index=%{x}<br>count=%{marker.size}<extra></extra>",
         "hovertext": [
          "europa"
         ],
         "legendgroup": "europa",
         "marker": {
          "color": "#19d3f3",
          "size": [
           37
          ],
          "sizemode": "area",
          "sizeref": 0.021944444444444444,
          "symbol": "circle"
         },
         "mode": "markers",
         "name": "europa",
         "orientation": "v",
         "showlegend": true,
         "type": "scatter",
         "x": [
          5
         ],
         "xaxis": "x",
         "y": [
          37
         ],
         "yaxis": "y"
        },
        {
         "hovertemplate": "<b>%{hovertext}</b><br><br>word=inflação<br>index=%{x}<br>count=%{marker.size}<extra></extra>",
         "hovertext": [
          "inflação"
         ],
         "legendgroup": "inflação",
         "marker": {
          "color": "#FF6692",
          "size": [
           29
          ],
          "sizemode": "area",
          "sizeref": 0.021944444444444444,
          "symbol": "circle"
         },
         "mode": "markers",
         "name": "inflação",
         "orientation": "v",
         "showlegend": true,
         "type": "scatter",
         "x": [
          6
         ],
         "xaxis": "x",
         "y": [
          29
         ],
         "yaxis": "y"
        },
        {
         "hovertemplate": "<b>%{hovertext}</b><br><br>word=ucrânia<br>index=%{x}<br>count=%{marker.size}<extra></extra>",
         "hovertext": [
          "ucrânia"
         ],
         "legendgroup": "ucrânia",
         "marker": {
          "color": "#B6E880",
          "size": [
           27
          ],
          "sizemode": "area",
          "sizeref": 0.021944444444444444,
          "symbol": "circle"
         },
         "mode": "markers",
         "name": "ucrânia",
         "orientation": "v",
         "showlegend": true,
         "type": "scatter",
         "x": [
          7
         ],
         "xaxis": "x",
         "y": [
          27
         ],
         "yaxis": "y"
        },
        {
         "hovertemplate": "<b>%{hovertext}</b><br><br>word=dado<br>index=%{x}<br>count=%{marker.size}<extra></extra>",
         "hovertext": [
          "dado"
         ],
         "legendgroup": "dado",
         "marker": {
          "color": "#FF97FF",
          "size": [
           26
          ],
          "sizemode": "area",
          "sizeref": 0.021944444444444444,
          "symbol": "circle"
         },
         "mode": "markers",
         "name": "dado",
         "orientation": "v",
         "showlegend": true,
         "type": "scatter",
         "x": [
          8
         ],
         "xaxis": "x",
         "y": [
          26
         ],
         "yaxis": "y"
        },
        {
         "hovertemplate": "<b>%{hovertext}</b><br><br>word=abril<br>index=%{x}<br>count=%{marker.size}<extra></extra>",
         "hovertext": [
          "abril"
         ],
         "legendgroup": "abril",
         "marker": {
          "color": "#FECB52",
          "size": [
           25
          ],
          "sizemode": "area",
          "sizeref": 0.021944444444444444,
          "symbol": "circle"
         },
         "mode": "markers",
         "name": "abril",
         "orientation": "v",
         "showlegend": true,
         "type": "scatter",
         "x": [
          9
         ],
         "xaxis": "x",
         "y": [
          25
         ],
         "yaxis": "y"
        },
        {
         "hovertemplate": "<b>%{hovertext}</b><br><br>word=us<br>index=%{x}<br>count=%{marker.size}<extra></extra>",
         "hovertext": [
          "us"
         ],
         "legendgroup": "us",
         "marker": {
          "color": "#636efa",
          "size": [
           24
          ],
          "sizemode": "area",
          "sizeref": 0.021944444444444444,
          "symbol": "circle"
         },
         "mode": "markers",
         "name": "us",
         "orientation": "v",
         "showlegend": true,
         "type": "scatter",
         "x": [
          10
         ],
         "xaxis": "x",
         "y": [
          24
         ],
         "yaxis": "y"
        },
        {
         "hovertemplate": "<b>%{hovertext}</b><br><br>word=aumento<br>index=%{x}<br>count=%{marker.size}<extra></extra>",
         "hovertext": [
          "aumento"
         ],
         "legendgroup": "aumento",
         "marker": {
          "color": "#EF553B",
          "size": [
           23
          ],
          "sizemode": "area",
          "sizeref": 0.021944444444444444,
          "symbol": "circle"
         },
         "mode": "markers",
         "name": "aumento",
         "orientation": "v",
         "showlegend": true,
         "type": "scatter",
         "x": [
          11
         ],
         "xaxis": "x",
         "y": [
          23
         ],
         "yaxis": "y"
        },
        {
         "hovertemplate": "<b>%{hovertext}</b><br><br>word=importações<br>index=%{x}<br>count=%{marker.size}<extra></extra>",
         "hovertext": [
          "importações"
         ],
         "legendgroup": "importações",
         "marker": {
          "color": "#00cc96",
          "size": [
           23
          ],
          "sizemode": "area",
          "sizeref": 0.021944444444444444,
          "symbol": "circle"
         },
         "mode": "markers",
         "name": "importações",
         "orientation": "v",
         "showlegend": true,
         "type": "scatter",
         "x": [
          12
         ],
         "xaxis": "x",
         "y": [
          23
         ],
         "yaxis": "y"
        },
        {
         "hovertemplate": "<b>%{hovertext}</b><br><br>word=medida<br>index=%{x}<br>count=%{marker.size}<extra></extra>",
         "hovertext": [
          "medida"
         ],
         "legendgroup": "medida",
         "marker": {
          "color": "#ab63fa",
          "size": [
           22
          ],
          "sizemode": "area",
          "sizeref": 0.021944444444444444,
          "symbol": "circle"
         },
         "mode": "markers",
         "name": "medida",
         "orientation": "v",
         "showlegend": true,
         "type": "scatter",
         "x": [
          13
         ],
         "xaxis": "x",
         "y": [
          22
         ],
         "yaxis": "y"
        },
        {
         "hovertemplate": "<b>%{hovertext}</b><br><br>word=fornecimento<br>index=%{x}<br>count=%{marker.size}<extra></extra>",
         "hovertext": [
          "fornecimento"
         ],
         "legendgroup": "fornecimento",
         "marker": {
          "color": "#FFA15A",
          "size": [
           22
          ],
          "sizemode": "area",
          "sizeref": 0.021944444444444444,
          "symbol": "circle"
         },
         "mode": "markers",
         "name": "fornecimento",
         "orientation": "v",
         "showlegend": true,
         "type": "scatter",
         "x": [
          14
         ],
         "xaxis": "x",
         "y": [
          22
         ],
         "yaxis": "y"
        },
        {
         "hovertemplate": "<b>%{hovertext}</b><br><br>word=eua<br>index=%{x}<br>count=%{marker.size}<extra></extra>",
         "hovertext": [
          "eua"
         ],
         "legendgroup": "eua",
         "marker": {
          "color": "#19d3f3",
          "size": [
           21
          ],
          "sizemode": "area",
          "sizeref": 0.021944444444444444,
          "symbol": "circle"
         },
         "mode": "markers",
         "name": "eua",
         "orientation": "v",
         "showlegend": true,
         "type": "scatter",
         "x": [
          15
         ],
         "xaxis": "x",
         "y": [
          21
         ],
         "yaxis": "y"
        },
        {
         "hovertemplate": "<b>%{hovertext}</b><br><br>word=países<br>index=%{x}<br>count=%{marker.size}<extra></extra>",
         "hovertext": [
          "países"
         ],
         "legendgroup": "países",
         "marker": {
          "color": "#FF6692",
          "size": [
           21
          ],
          "sizemode": "area",
          "sizeref": 0.021944444444444444,
          "symbol": "circle"
         },
         "mode": "markers",
         "name": "países",
         "orientation": "v",
         "showlegend": true,
         "type": "scatter",
         "x": [
          16
         ],
         "xaxis": "x",
         "y": [
          21
         ],
         "yaxis": "y"
        },
        {
         "hovertemplate": "<b>%{hovertext}</b><br><br>word=economia<br>index=%{x}<br>count=%{marker.size}<extra></extra>",
         "hovertext": [
          "economia"
         ],
         "legendgroup": "economia",
         "marker": {
          "color": "#B6E880",
          "size": [
           21
          ],
          "sizemode": "area",
          "sizeref": 0.021944444444444444,
          "symbol": "circle"
         },
         "mode": "markers",
         "name": "economia",
         "orientation": "v",
         "showlegend": true,
         "type": "scatter",
         "x": [
          17
         ],
         "xaxis": "x",
         "y": [
          21
         ],
         "yaxis": "y"
        },
        {
         "hovertemplate": "<b>%{hovertext}</b><br><br>word=consumo<br>index=%{x}<br>count=%{marker.size}<extra></extra>",
         "hovertext": [
          "consumo"
         ],
         "legendgroup": "consumo",
         "marker": {
          "color": "#FF97FF",
          "size": [
           21
          ],
          "sizemode": "area",
          "sizeref": 0.021944444444444444,
          "symbol": "circle"
         },
         "mode": "markers",
         "name": "consumo",
         "orientation": "v",
         "showlegend": true,
         "type": "scatter",
         "x": [
          18
         ],
         "xaxis": "x",
         "y": [
          21
         ],
         "yaxis": "y"
        },
        {
         "hovertemplate": "<b>%{hovertext}</b><br><br>word=euro<br>index=%{x}<br>count=%{marker.size}<extra></extra>",
         "hovertext": [
          "euro"
         ],
         "legendgroup": "euro",
         "marker": {
          "color": "#FECB52",
          "size": [
           21
          ],
          "sizemode": "area",
          "sizeref": 0.021944444444444444,
          "symbol": "circle"
         },
         "mode": "markers",
         "name": "euro",
         "orientation": "v",
         "showlegend": true,
         "type": "scatter",
         "x": [
          19
         ],
         "xaxis": "x",
         "y": [
          21
         ],
         "yaxis": "y"
        },
        {
         "hovertemplate": "<b>%{hovertext}</b><br><br>word=petrobras<br>index=%{x}<br>count=%{marker.size}<extra></extra>",
         "hovertext": [
          "petrobras"
         ],
         "legendgroup": "petrobras",
         "marker": {
          "color": "#636efa",
          "size": [
           21
          ],
          "sizemode": "area",
          "sizeref": 0.021944444444444444,
          "symbol": "circle"
         },
         "mode": "markers",
         "name": "petrobras",
         "orientation": "v",
         "showlegend": true,
         "type": "scatter",
         "x": [
          20
         ],
         "xaxis": "x",
         "y": [
          21
         ],
         "yaxis": "y"
        },
        {
         "hovertemplate": "<b>%{hovertext}</b><br><br>word=alta<br>index=%{x}<br>count=%{marker.size}<extra></extra>",
         "hovertext": [
          "alta"
         ],
         "legendgroup": "alta",
         "marker": {
          "color": "#EF553B",
          "size": [
           20
          ],
          "sizemode": "area",
          "sizeref": 0.021944444444444444,
          "symbol": "circle"
         },
         "mode": "markers",
         "name": "alta",
         "orientation": "v",
         "showlegend": true,
         "type": "scatter",
         "x": [
          21
         ],
         "xaxis": "x",
         "y": [
          20
         ],
         "yaxis": "y"
        },
        {
         "hovertemplate": "<b>%{hovertext}</b><br><br>word=gás natural<br>index=%{x}<br>count=%{marker.size}<extra></extra>",
         "hovertext": [
          "gás natural"
         ],
         "legendgroup": "gás natural",
         "marker": {
          "color": "#00cc96",
          "size": [
           19
          ],
          "sizemode": "area",
          "sizeref": 0.021944444444444444,
          "symbol": "circle"
         },
         "mode": "markers",
         "name": "gás natural",
         "orientation": "v",
         "showlegend": true,
         "type": "scatter",
         "x": [
          22
         ],
         "xaxis": "x",
         "y": [
          19
         ],
         "yaxis": "y"
        },
        {
         "hovertemplate": "<b>%{hovertext}</b><br><br>word=polônia<br>index=%{x}<br>count=%{marker.size}<extra></extra>",
         "hovertext": [
          "polônia"
         ],
         "legendgroup": "polônia",
         "marker": {
          "color": "#ab63fa",
          "size": [
           18
          ],
          "sizemode": "area",
          "sizeref": 0.021944444444444444,
          "symbol": "circle"
         },
         "mode": "markers",
         "name": "polônia",
         "orientation": "v",
         "showlegend": true,
         "type": "scatter",
         "x": [
          23
         ],
         "xaxis": "x",
         "y": [
          18
         ],
         "yaxis": "y"
        },
        {
         "hovertemplate": "<b>%{hovertext}</b><br><br>word=relação<br>index=%{x}<br>count=%{marker.size}<extra></extra>",
         "hovertext": [
          "relação"
         ],
         "legendgroup": "relação",
         "marker": {
          "color": "#FFA15A",
          "size": [
           17
          ],
          "sizemode": "area",
          "sizeref": 0.021944444444444444,
          "symbol": "circle"
         },
         "mode": "markers",
         "name": "relação",
         "orientation": "v",
         "showlegend": true,
         "type": "scatter",
         "x": [
          24
         ],
         "xaxis": "x",
         "y": [
          17
         ],
         "yaxis": "y"
        },
        {
         "hovertemplate": "<b>%{hovertext}</b><br><br>word=milhões<br>index=%{x}<br>count=%{marker.size}<extra></extra>",
         "hovertext": [
          "milhões"
         ],
         "legendgroup": "milhões",
         "marker": {
          "color": "#19d3f3",
          "size": [
           17
          ],
          "sizemode": "area",
          "sizeref": 0.021944444444444444,
          "symbol": "circle"
         },
         "mode": "markers",
         "name": "milhões",
         "orientation": "v",
         "showlegend": true,
         "type": "scatter",
         "x": [
          25
         ],
         "xaxis": "x",
         "y": [
          17
         ],
         "yaxis": "y"
        },
        {
         "hovertemplate": "<b>%{hovertext}</b><br><br>word=produção<br>index=%{x}<br>count=%{marker.size}<extra></extra>",
         "hovertext": [
          "produção"
         ],
         "legendgroup": "produção",
         "marker": {
          "color": "#FF6692",
          "size": [
           17
          ],
          "sizemode": "area",
          "sizeref": 0.021944444444444444,
          "symbol": "circle"
         },
         "mode": "markers",
         "name": "produção",
         "orientation": "v",
         "showlegend": true,
         "type": "scatter",
         "x": [
          26
         ],
         "xaxis": "x",
         "y": [
          17
         ],
         "yaxis": "y"
        },
        {
         "hovertemplate": "<b>%{hovertext}</b><br><br>word=mês<br>index=%{x}<br>count=%{marker.size}<extra></extra>",
         "hovertext": [
          "mês"
         ],
         "legendgroup": "mês",
         "marker": {
          "color": "#B6E880",
          "size": [
           17
          ],
          "sizemode": "area",
          "sizeref": 0.021944444444444444,
          "symbol": "circle"
         },
         "mode": "markers",
         "name": "mês",
         "orientation": "v",
         "showlegend": true,
         "type": "scatter",
         "x": [
          27
         ],
         "xaxis": "x",
         "y": [
          17
         ],
         "yaxis": "y"
        },
        {
         "hovertemplate": "<b>%{hovertext}</b><br><br>word=juros<br>index=%{x}<br>count=%{marker.size}<extra></extra>",
         "hovertext": [
          "juros"
         ],
         "legendgroup": "juros",
         "marker": {
          "color": "#FF97FF",
          "size": [
           16
          ],
          "sizemode": "area",
          "sizeref": 0.021944444444444444,
          "symbol": "circle"
         },
         "mode": "markers",
         "name": "juros",
         "orientation": "v",
         "showlegend": true,
         "type": "scatter",
         "x": [
          28
         ],
         "xaxis": "x",
         "y": [
          16
         ],
         "yaxis": "y"
        },
        {
         "hovertemplate": "<b>%{hovertext}</b><br><br>word=governo<br>index=%{x}<br>count=%{marker.size}<extra></extra>",
         "hovertext": [
          "governo"
         ],
         "legendgroup": "governo",
         "marker": {
          "color": "#FECB52",
          "size": [
           16
          ],
          "sizemode": "area",
          "sizeref": 0.021944444444444444,
          "symbol": "circle"
         },
         "mode": "markers",
         "name": "governo",
         "orientation": "v",
         "showlegend": true,
         "type": "scatter",
         "x": [
          29
         ],
         "xaxis": "x",
         "y": [
          16
         ],
         "yaxis": "y"
        },
        {
         "hovertemplate": "<b>%{hovertext}</b><br><br>word=crescimento<br>index=%{x}<br>count=%{marker.size}<extra></extra>",
         "hovertext": [
          "crescimento"
         ],
         "legendgroup": "crescimento",
         "marker": {
          "color": "#636efa",
          "size": [
           16
          ],
          "sizemode": "area",
          "sizeref": 0.021944444444444444,
          "symbol": "circle"
         },
         "mode": "markers",
         "name": "crescimento",
         "orientation": "v",
         "showlegend": true,
         "type": "scatter",
         "x": [
          30
         ],
         "xaxis": "x",
         "y": [
          16
         ],
         "yaxis": "y"
        },
        {
         "hovertemplate": "<b>%{hovertext}</b><br><br>word=março<br>index=%{x}<br>count=%{marker.size}<extra></extra>",
         "hovertext": [
          "março"
         ],
         "legendgroup": "março",
         "marker": {
          "color": "#EF553B",
          "size": [
           16
          ],
          "sizemode": "area",
          "sizeref": 0.021944444444444444,
          "symbol": "circle"
         },
         "mode": "markers",
         "name": "março",
         "orientation": "v",
         "showlegend": true,
         "type": "scatter",
         "x": [
          31
         ],
         "xaxis": "x",
         "y": [
          16
         ],
         "yaxis": "y"
        },
        {
         "hovertemplate": "<b>%{hovertext}</b><br><br>word=índia<br>index=%{x}<br>count=%{marker.size}<extra></extra>",
         "hovertext": [
          "índia"
         ],
         "legendgroup": "índia",
         "marker": {
          "color": "#00cc96",
          "size": [
           16
          ],
          "sizemode": "area",
          "sizeref": 0.021944444444444444,
          "symbol": "circle"
         },
         "mode": "markers",
         "name": "índia",
         "orientation": "v",
         "showlegend": true,
         "type": "scatter",
         "x": [
          32
         ],
         "xaxis": "x",
         "y": [
          16
         ],
         "yaxis": "y"
        },
        {
         "hovertemplate": "<b>%{hovertext}</b><br><br>word=reajuste<br>index=%{x}<br>count=%{marker.size}<extra></extra>",
         "hovertext": [
          "reajuste"
         ],
         "legendgroup": "reajuste",
         "marker": {
          "color": "#ab63fa",
          "size": [
           16
          ],
          "sizemode": "area",
          "sizeref": 0.021944444444444444,
          "symbol": "circle"
         },
         "mode": "markers",
         "name": "reajuste",
         "orientation": "v",
         "showlegend": true,
         "type": "scatter",
         "x": [
          33
         ],
         "xaxis": "x",
         "y": [
          16
         ],
         "yaxis": "y"
        },
        {
         "hovertemplate": "<b>%{hovertext}</b><br><br>word=maio<br>index=%{x}<br>count=%{marker.size}<extra></extra>",
         "hovertext": [
          "maio"
         ],
         "legendgroup": "maio",
         "marker": {
          "color": "#FFA15A",
          "size": [
           15
          ],
          "sizemode": "area",
          "sizeref": 0.021944444444444444,
          "symbol": "circle"
         },
         "mode": "markers",
         "name": "maio",
         "orientation": "v",
         "showlegend": true,
         "type": "scatter",
         "x": [
          34
         ],
         "xaxis": "x",
         "y": [
          15
         ],
         "yaxis": "y"
        },
        {
         "hovertemplate": "<b>%{hovertext}</b><br><br>word=recorde<br>index=%{x}<br>count=%{marker.size}<extra></extra>",
         "hovertext": [
          "recorde"
         ],
         "legendgroup": "recorde",
         "marker": {
          "color": "#19d3f3",
          "size": [
           15
          ],
          "sizemode": "area",
          "sizeref": 0.021944444444444444,
          "symbol": "circle"
         },
         "mode": "markers",
         "name": "recorde",
         "orientation": "v",
         "showlegend": true,
         "type": "scatter",
         "x": [
          35
         ],
         "xaxis": "x",
         "y": [
          15
         ],
         "yaxis": "y"
        },
        {
         "hovertemplate": "<b>%{hovertext}</b><br><br>word=russa<br>index=%{x}<br>count=%{marker.size}<extra></extra>",
         "hovertext": [
          "russa"
         ],
         "legendgroup": "russa",
         "marker": {
          "color": "#FF6692",
          "size": [
           15
          ],
          "sizemode": "area",
          "sizeref": 0.021944444444444444,
          "symbol": "circle"
         },
         "mode": "markers",
         "name": "russa",
         "orientation": "v",
         "showlegend": true,
         "type": "scatter",
         "x": [
          36
         ],
         "xaxis": "x",
         "y": [
          15
         ],
         "yaxis": "y"
        },
        {
         "hovertemplate": "<b>%{hovertext}</b><br><br>word=guerra<br>index=%{x}<br>count=%{marker.size}<extra></extra>",
         "hovertext": [
          "guerra"
         ],
         "legendgroup": "guerra",
         "marker": {
          "color": "#B6E880",
          "size": [
           15
          ],
          "sizemode": "area",
          "sizeref": 0.021944444444444444,
          "symbol": "circle"
         },
         "mode": "markers",
         "name": "guerra",
         "orientation": "v",
         "showlegend": true,
         "type": "scatter",
         "x": [
          37
         ],
         "xaxis": "x",
         "y": [
          15
         ],
         "yaxis": "y"
        },
        {
         "hovertemplate": "<b>%{hovertext}</b><br><br>word=ue<br>index=%{x}<br>count=%{marker.size}<extra></extra>",
         "hovertext": [
          "ue"
         ],
         "legendgroup": "ue",
         "marker": {
          "color": "#FF97FF",
          "size": [
           15
          ],
          "sizemode": "area",
          "sizeref": 0.021944444444444444,
          "symbol": "circle"
         },
         "mode": "markers",
         "name": "ue",
         "orientation": "v",
         "showlegend": true,
         "type": "scatter",
         "x": [
          38
         ],
         "xaxis": "x",
         "y": [
          15
         ],
         "yaxis": "y"
        },
        {
         "hovertemplate": "<b>%{hovertext}</b><br><br>word=fluxo<br>index=%{x}<br>count=%{marker.size}<extra></extra>",
         "hovertext": [
          "fluxo"
         ],
         "legendgroup": "fluxo",
         "marker": {
          "color": "#FECB52",
          "size": [
           15
          ],
          "sizemode": "area",
          "sizeref": 0.021944444444444444,
          "symbol": "circle"
         },
         "mode": "markers",
         "name": "fluxo",
         "orientation": "v",
         "showlegend": true,
         "type": "scatter",
         "x": [
          39
         ],
         "xaxis": "x",
         "y": [
          15
         ],
         "yaxis": "y"
        },
        {
         "hovertemplate": "<b>%{hovertext}</b><br><br>word=outro<br>index=%{x}<br>count=%{marker.size}<extra></extra>",
         "hovertext": [
          "outro"
         ],
         "legendgroup": "outro",
         "marker": {
          "color": "#636efa",
          "size": [
           15
          ],
          "sizemode": "area",
          "sizeref": 0.021944444444444444,
          "symbol": "circle"
         },
         "mode": "markers",
         "name": "outro",
         "orientation": "v",
         "showlegend": true,
         "type": "scatter",
         "x": [
          40
         ],
         "xaxis": "x",
         "y": [
          15
         ],
         "yaxis": "y"
        },
        {
         "hovertemplate": "<b>%{hovertext}</b><br><br>word=analista<br>index=%{x}<br>count=%{marker.size}<extra></extra>",
         "hovertext": [
          "analista"
         ],
         "legendgroup": "analista",
         "marker": {
          "color": "#EF553B",
          "size": [
           15
          ],
          "sizemode": "area",
          "sizeref": 0.021944444444444444,
          "symbol": "circle"
         },
         "mode": "markers",
         "name": "analista",
         "orientation": "v",
         "showlegend": true,
         "type": "scatter",
         "x": [
          41
         ],
         "xaxis": "x",
         "y": [
          15
         ],
         "yaxis": "y"
        },
        {
         "hovertemplate": "<b>%{hovertext}</b><br><br>word=ministério<br>index=%{x}<br>count=%{marker.size}<extra></extra>",
         "hovertext": [
          "ministério"
         ],
         "legendgroup": "ministério",
         "marker": {
          "color": "#00cc96",
          "size": [
           14
          ],
          "sizemode": "area",
          "sizeref": 0.021944444444444444,
          "symbol": "circle"
         },
         "mode": "markers",
         "name": "ministério",
         "orientation": "v",
         "showlegend": true,
         "type": "scatter",
         "x": [
          42
         ],
         "xaxis": "x",
         "y": [
          14
         ],
         "yaxis": "y"
        },
        {
         "hovertemplate": "<b>%{hovertext}</b><br><br>word=contrato<br>index=%{x}<br>count=%{marker.size}<extra></extra>",
         "hovertext": [
          "contrato"
         ],
         "legendgroup": "contrato",
         "marker": {
          "color": "#ab63fa",
          "size": [
           14
          ],
          "sizemode": "area",
          "sizeref": 0.021944444444444444,
          "symbol": "circle"
         },
         "mode": "markers",
         "name": "contrato",
         "orientation": "v",
         "showlegend": true,
         "type": "scatter",
         "x": [
          43
         ],
         "xaxis": "x",
         "y": [
          14
         ],
         "yaxis": "y"
        },
        {
         "hovertemplate": "<b>%{hovertext}</b><br><br>word=calor<br>index=%{x}<br>count=%{marker.size}<extra></extra>",
         "hovertext": [
          "calor"
         ],
         "legendgroup": "calor",
         "marker": {
          "color": "#FFA15A",
          "size": [
           14
          ],
          "sizemode": "area",
          "sizeref": 0.021944444444444444,
          "symbol": "circle"
         },
         "mode": "markers",
         "name": "calor",
         "orientation": "v",
         "showlegend": true,
         "type": "scatter",
         "x": [
          44
         ],
         "xaxis": "x",
         "y": [
          14
         ],
         "yaxis": "y"
        },
        {
         "hovertemplate": "<b>%{hovertext}</b><br><br>word=fim<br>index=%{x}<br>count=%{marker.size}<extra></extra>",
         "hovertext": [
          "fim"
         ],
         "legendgroup": "fim",
         "marker": {
          "color": "#19d3f3",
          "size": [
           14
          ],
          "sizemode": "area",
          "sizeref": 0.021944444444444444,
          "symbol": "circle"
         },
         "mode": "markers",
         "name": "fim",
         "orientation": "v",
         "showlegend": true,
         "type": "scatter",
         "x": [
          45
         ],
         "xaxis": "x",
         "y": [
          14
         ],
         "yaxis": "y"
        },
        {
         "hovertemplate": "<b>%{hovertext}</b><br><br>word=ministro<br>index=%{x}<br>count=%{marker.size}<extra></extra>",
         "hovertext": [
          "ministro"
         ],
         "legendgroup": "ministro",
         "marker": {
          "color": "#FF6692",
          "size": [
           14
          ],
          "sizemode": "area",
          "sizeref": 0.021944444444444444,
          "symbol": "circle"
         },
         "mode": "markers",
         "name": "ministro",
         "orientation": "v",
         "showlegend": true,
         "type": "scatter",
         "x": [
          46
         ],
         "xaxis": "x",
         "y": [
          14
         ],
         "yaxis": "y"
        },
        {
         "hovertemplate": "<b>%{hovertext}</b><br><br>word=alemanha<br>index=%{x}<br>count=%{marker.size}<extra></extra>",
         "hovertext": [
          "alemanha"
         ],
         "legendgroup": "alemanha",
         "marker": {
          "color": "#B6E880",
          "size": [
           13
          ],
          "sizemode": "area",
          "sizeref": 0.021944444444444444,
          "symbol": "circle"
         },
         "mode": "markers",
         "name": "alemanha",
         "orientation": "v",
         "showlegend": true,
         "type": "scatter",
         "x": [
          47
         ],
         "xaxis": "x",
         "y": [
          13
         ],
         "yaxis": "y"
        },
        {
         "hovertemplate": "<b>%{hovertext}</b><br><br>word=final<br>index=%{x}<br>count=%{marker.size}<extra></extra>",
         "hovertext": [
          "final"
         ],
         "legendgroup": "final",
         "marker": {
          "color": "#FF97FF",
          "size": [
           13
          ],
          "sizemode": "area",
          "sizeref": 0.021944444444444444,
          "symbol": "circle"
         },
         "mode": "markers",
         "name": "final",
         "orientation": "v",
         "showlegend": true,
         "type": "scatter",
         "x": [
          48
         ],
         "xaxis": "x",
         "y": [
          13
         ],
         "yaxis": "y"
        },
        {
         "hovertemplate": "<b>%{hovertext}</b><br><br>word=receita<br>index=%{x}<br>count=%{marker.size}<extra></extra>",
         "hovertext": [
          "receita"
         ],
         "legendgroup": "receita",
         "marker": {
          "color": "#FECB52",
          "size": [
           13
          ],
          "sizemode": "area",
          "sizeref": 0.021944444444444444,
          "symbol": "circle"
         },
         "mode": "markers",
         "name": "receita",
         "orientation": "v",
         "showlegend": true,
         "type": "scatter",
         "x": [
          49
         ],
         "xaxis": "x",
         "y": [
          13
         ],
         "yaxis": "y"
        },
        {
         "hovertemplate": "<b>%{hovertext}</b><br><br>word=meses<br>index=%{x}<br>count=%{marker.size}<extra></extra>",
         "hovertext": [
          "meses"
         ],
         "legendgroup": "meses",
         "marker": {
          "color": "#636efa",
          "size": [
           13
          ],
          "sizemode": "area",
          "sizeref": 0.021944444444444444,
          "symbol": "circle"
         },
         "mode": "markers",
         "name": "meses",
         "orientation": "v",
         "showlegend": true,
         "type": "scatter",
         "x": [
          50
         ],
         "xaxis": "x",
         "y": [
          13
         ],
         "yaxis": "y"
        },
        {
         "hovertemplate": "<b>%{hovertext}</b><br><br>word=união europeia<br>index=%{x}<br>count=%{marker.size}<extra></extra>",
         "hovertext": [
          "união europeia"
         ],
         "legendgroup": "união europeia",
         "marker": {
          "color": "#EF553B",
          "size": [
           13
          ],
          "sizemode": "area",
          "sizeref": 0.021944444444444444,
          "symbol": "circle"
         },
         "mode": "markers",
         "name": "união europeia",
         "orientation": "v",
         "showlegend": true,
         "type": "scatter",
         "x": [
          51
         ],
         "xaxis": "x",
         "y": [
          13
         ],
         "yaxis": "y"
        },
        {
         "hovertemplate": "<b>%{hovertext}</b><br><br>word=conta<br>index=%{x}<br>count=%{marker.size}<extra></extra>",
         "hovertext": [
          "conta"
         ],
         "legendgroup": "conta",
         "marker": {
          "color": "#00cc96",
          "size": [
           13
          ],
          "sizemode": "area",
          "sizeref": 0.021944444444444444,
          "symbol": "circle"
         },
         "mode": "markers",
         "name": "conta",
         "orientation": "v",
         "showlegend": true,
         "type": "scatter",
         "x": [
          52
         ],
         "xaxis": "x",
         "y": [
          13
         ],
         "yaxis": "y"
        },
        {
         "hovertemplate": "<b>%{hovertext}</b><br><br>word=norte<br>index=%{x}<br>count=%{marker.size}<extra></extra>",
         "hovertext": [
          "norte"
         ],
         "legendgroup": "norte",
         "marker": {
          "color": "#ab63fa",
          "size": [
           13
          ],
          "sizemode": "area",
          "sizeref": 0.021944444444444444,
          "symbol": "circle"
         },
         "mode": "markers",
         "name": "norte",
         "orientation": "v",
         "showlegend": true,
         "type": "scatter",
         "x": [
          53
         ],
         "xaxis": "x",
         "y": [
          13
         ],
         "yaxis": "y"
        },
        {
         "hovertemplate": "<b>%{hovertext}</b><br><br>word=novo<br>index=%{x}<br>count=%{marker.size}<extra></extra>",
         "hovertext": [
          "novo"
         ],
         "legendgroup": "novo",
         "marker": {
          "color": "#FFA15A",
          "size": [
           13
          ],
          "sizemode": "area",
          "sizeref": 0.021944444444444444,
          "symbol": "circle"
         },
         "mode": "markers",
         "name": "novo",
         "orientation": "v",
         "showlegend": true,
         "type": "scatter",
         "x": [
          54
         ],
         "xaxis": "x",
         "y": [
          13
         ],
         "yaxis": "y"
        },
        {
         "hovertemplate": "<b>%{hovertext}</b><br><br>word=impacto<br>index=%{x}<br>count=%{marker.size}<extra></extra>",
         "hovertext": [
          "impacto"
         ],
         "legendgroup": "impacto",
         "marker": {
          "color": "#19d3f3",
          "size": [
           13
          ],
          "sizemode": "area",
          "sizeref": 0.021944444444444444,
          "symbol": "circle"
         },
         "mode": "markers",
         "name": "impacto",
         "orientation": "v",
         "showlegend": true,
         "type": "scatter",
         "x": [
          55
         ],
         "xaxis": "x",
         "y": [
          13
         ],
         "yaxis": "y"
        },
        {
         "hovertemplate": "<b>%{hovertext}</b><br><br>word=distribuidoras<br>index=%{x}<br>count=%{marker.size}<extra></extra>",
         "hovertext": [
          "distribuidoras"
         ],
         "legendgroup": "distribuidoras",
         "marker": {
          "color": "#FF6692",
          "size": [
           12
          ],
          "sizemode": "area",
          "sizeref": 0.021944444444444444,
          "symbol": "circle"
         },
         "mode": "markers",
         "name": "distribuidoras",
         "orientation": "v",
         "showlegend": true,
         "type": "scatter",
         "x": [
          56
         ],
         "xaxis": "x",
         "y": [
          12
         ],
         "yaxis": "y"
        },
        {
         "hovertemplate": "<b>%{hovertext}</b><br><br>word=gazprom<br>index=%{x}<br>count=%{marker.size}<extra></extra>",
         "hovertext": [
          "gazprom"
         ],
         "legendgroup": "gazprom",
         "marker": {
          "color": "#B6E880",
          "size": [
           12
          ],
          "sizemode": "area",
          "sizeref": 0.021944444444444444,
          "symbol": "circle"
         },
         "mode": "markers",
         "name": "gazprom",
         "orientation": "v",
         "showlegend": true,
         "type": "scatter",
         "x": [
          57
         ],
         "xaxis": "x",
         "y": [
          12
         ],
         "yaxis": "y"
        },
        {
         "hovertemplate": "<b>%{hovertext}</b><br><br>word=parte<br>index=%{x}<br>count=%{marker.size}<extra></extra>",
         "hovertext": [
          "parte"
         ],
         "legendgroup": "parte",
         "marker": {
          "color": "#FF97FF",
          "size": [
           12
          ],
          "sizemode": "area",
          "sizeref": 0.021944444444444444,
          "symbol": "circle"
         },
         "mode": "markers",
         "name": "parte",
         "orientation": "v",
         "showlegend": true,
         "type": "scatter",
         "x": [
          58
         ],
         "xaxis": "x",
         "y": [
          12
         ],
         "yaxis": "y"
        },
        {
         "hovertemplate": "<b>%{hovertext}</b><br><br>word=sanções<br>index=%{x}<br>count=%{marker.size}<extra></extra>",
         "hovertext": [
          "sanções"
         ],
         "legendgroup": "sanções",
         "marker": {
          "color": "#FECB52",
          "size": [
           12
          ],
          "sizemode": "area",
          "sizeref": 0.021944444444444444,
          "symbol": "circle"
         },
         "mode": "markers",
         "name": "sanções",
         "orientation": "v",
         "showlegend": true,
         "type": "scatter",
         "x": [
          59
         ],
         "xaxis": "x",
         "y": [
          12
         ],
         "yaxis": "y"
        },
        {
         "hovertemplate": "<b>%{hovertext}</b><br><br>word=eletrobras<br>index=%{x}<br>count=%{marker.size}<extra></extra>",
         "hovertext": [
          "eletrobras"
         ],
         "legendgroup": "eletrobras",
         "marker": {
          "color": "#636efa",
          "size": [
           12
          ],
          "sizemode": "area",
          "sizeref": 0.021944444444444444,
          "symbol": "circle"
         },
         "mode": "markers",
         "name": "eletrobras",
         "orientation": "v",
         "showlegend": true,
         "type": "scatter",
         "x": [
          60
         ],
         "xaxis": "x",
         "y": [
          12
         ],
         "yaxis": "y"
        },
        {
         "hovertemplate": "<b>%{hovertext}</b><br><br>word=invasão<br>index=%{x}<br>count=%{marker.size}<extra></extra>",
         "hovertext": [
          "invasão"
         ],
         "legendgroup": "invasão",
         "marker": {
          "color": "#EF553B",
          "size": [
           12
          ],
          "sizemode": "area",
          "sizeref": 0.021944444444444444,
          "symbol": "circle"
         },
         "mode": "markers",
         "name": "invasão",
         "orientation": "v",
         "showlegend": true,
         "type": "scatter",
         "x": [
          61
         ],
         "xaxis": "x",
         "y": [
          12
         ],
         "yaxis": "y"
        },
        {
         "hovertemplate": "<b>%{hovertext}</b><br><br>word=bloco<br>index=%{x}<br>count=%{marker.size}<extra></extra>",
         "hovertext": [
          "bloco"
         ],
         "legendgroup": "bloco",
         "marker": {
          "color": "#00cc96",
          "size": [
           12
          ],
          "sizemode": "area",
          "sizeref": 0.021944444444444444,
          "symbol": "circle"
         },
         "mode": "markers",
         "name": "bloco",
         "orientation": "v",
         "showlegend": true,
         "type": "scatter",
         "x": [
          62
         ],
         "xaxis": "x",
         "y": [
          12
         ],
         "yaxis": "y"
        },
        {
         "hovertemplate": "<b>%{hovertext}</b><br><br>word=espera<br>index=%{x}<br>count=%{marker.size}<extra></extra>",
         "hovertext": [
          "espera"
         ],
         "legendgroup": "espera",
         "marker": {
          "color": "#ab63fa",
          "size": [
           11
          ],
          "sizemode": "area",
          "sizeref": 0.021944444444444444,
          "symbol": "circle"
         },
         "mode": "markers",
         "name": "espera",
         "orientation": "v",
         "showlegend": true,
         "type": "scatter",
         "x": [
          63
         ],
         "xaxis": "x",
         "y": [
          11
         ],
         "yaxis": "y"
        },
        {
         "hovertemplate": "<b>%{hovertext}</b><br><br>word=bens<br>index=%{x}<br>count=%{marker.size}<extra></extra>",
         "hovertext": [
          "bens"
         ],
         "legendgroup": "bens",
         "marker": {
          "color": "#FFA15A",
          "size": [
           11
          ],
          "sizemode": "area",
          "sizeref": 0.021944444444444444,
          "symbol": "circle"
         },
         "mode": "markers",
         "name": "bens",
         "orientation": "v",
         "showlegend": true,
         "type": "scatter",
         "x": [
          64
         ],
         "xaxis": "x",
         "y": [
          11
         ],
         "yaxis": "y"
        },
        {
         "hovertemplate": "<b>%{hovertext}</b><br><br>word=consumidores<br>index=%{x}<br>count=%{marker.size}<extra></extra>",
         "hovertext": [
          "consumidores"
         ],
         "legendgroup": "consumidores",
         "marker": {
          "color": "#19d3f3",
          "size": [
           11
          ],
          "sizemode": "area",
          "sizeref": 0.021944444444444444,
          "symbol": "circle"
         },
         "mode": "markers",
         "name": "consumidores",
         "orientation": "v",
         "showlegend": true,
         "type": "scatter",
         "x": [
          65
         ],
         "xaxis": "x",
         "y": [
          11
         ],
         "yaxis": "y"
        },
        {
         "hovertemplate": "<b>%{hovertext}</b><br><br>word=barris<br>index=%{x}<br>count=%{marker.size}<extra></extra>",
         "hovertext": [
          "barris"
         ],
         "legendgroup": "barris",
         "marker": {
          "color": "#FF6692",
          "size": [
           11
          ],
          "sizemode": "area",
          "sizeref": 0.021944444444444444,
          "symbol": "circle"
         },
         "mode": "markers",
         "name": "barris",
         "orientation": "v",
         "showlegend": true,
         "type": "scatter",
         "x": [
          66
         ],
         "xaxis": "x",
         "y": [
          11
         ],
         "yaxis": "y"
        },
        {
         "hovertemplate": "<b>%{hovertext}</b><br><br>word=eurostat<br>index=%{x}<br>count=%{marker.size}<extra></extra>",
         "hovertext": [
          "eurostat"
         ],
         "legendgroup": "eurostat",
         "marker": {
          "color": "#B6E880",
          "size": [
           11
          ],
          "sizemode": "area",
          "sizeref": 0.021944444444444444,
          "symbol": "circle"
         },
         "mode": "markers",
         "name": "eurostat",
         "orientation": "v",
         "showlegend": true,
         "type": "scatter",
         "x": [
          67
         ],
         "xaxis": "x",
         "y": [
          11
         ],
         "yaxis": "y"
        },
        {
         "hovertemplate": "<b>%{hovertext}</b><br><br>word=bulgária<br>index=%{x}<br>count=%{marker.size}<extra></extra>",
         "hovertext": [
          "bulgária"
         ],
         "legendgroup": "bulgária",
         "marker": {
          "color": "#FF97FF",
          "size": [
           11
          ],
          "sizemode": "area",
          "sizeref": 0.021944444444444444,
          "symbol": "circle"
         },
         "mode": "markers",
         "name": "bulgária",
         "orientation": "v",
         "showlegend": true,
         "type": "scatter",
         "x": [
          68
         ],
         "xaxis": "x",
         "y": [
          11
         ],
         "yaxis": "y"
        },
        {
         "hovertemplate": "<b>%{hovertext}</b><br><br>word=necessidade<br>index=%{x}<br>count=%{marker.size}<extra></extra>",
         "hovertext": [
          "necessidade"
         ],
         "legendgroup": "necessidade",
         "marker": {
          "color": "#FECB52",
          "size": [
           11
          ],
          "sizemode": "area",
          "sizeref": 0.021944444444444444,
          "symbol": "circle"
         },
         "mode": "markers",
         "name": "necessidade",
         "orientation": "v",
         "showlegend": true,
         "type": "scatter",
         "x": [
          69
         ],
         "xaxis": "x",
         "y": [
          11
         ],
         "yaxis": "y"
        },
        {
         "hovertemplate": "<b>%{hovertext}</b><br><br>word=energética<br>index=%{x}<br>count=%{marker.size}<extra></extra>",
         "hovertext": [
          "energética"
         ],
         "legendgroup": "energética",
         "marker": {
          "color": "#636efa",
          "size": [
           11
          ],
          "sizemode": "area",
          "sizeref": 0.021944444444444444,
          "symbol": "circle"
         },
         "mode": "markers",
         "name": "energética",
         "orientation": "v",
         "showlegend": true,
         "type": "scatter",
         "x": [
          70
         ],
         "xaxis": "x",
         "y": [
          11
         ],
         "yaxis": "y"
        }
       ],
       "layout": {
        "height": 750,
        "legend": {
         "itemsizing": "constant",
         "title": {
          "text": "word"
         },
         "tracegroupgap": 0
        },
        "template": {
         "data": {
          "bar": [
           {
            "error_x": {
             "color": "#2a3f5f"
            },
            "error_y": {
             "color": "#2a3f5f"
            },
            "marker": {
             "line": {
              "color": "#E5ECF6",
              "width": 0.5
             },
             "pattern": {
              "fillmode": "overlay",
              "size": 10,
              "solidity": 0.2
             }
            },
            "type": "bar"
           }
          ],
          "barpolar": [
           {
            "marker": {
             "line": {
              "color": "#E5ECF6",
              "width": 0.5
             },
             "pattern": {
              "fillmode": "overlay",
              "size": 10,
              "solidity": 0.2
             }
            },
            "type": "barpolar"
           }
          ],
          "carpet": [
           {
            "aaxis": {
             "endlinecolor": "#2a3f5f",
             "gridcolor": "white",
             "linecolor": "white",
             "minorgridcolor": "white",
             "startlinecolor": "#2a3f5f"
            },
            "baxis": {
             "endlinecolor": "#2a3f5f",
             "gridcolor": "white",
             "linecolor": "white",
             "minorgridcolor": "white",
             "startlinecolor": "#2a3f5f"
            },
            "type": "carpet"
           }
          ],
          "choropleth": [
           {
            "colorbar": {
             "outlinewidth": 0,
             "ticks": ""
            },
            "type": "choropleth"
           }
          ],
          "contour": [
           {
            "colorbar": {
             "outlinewidth": 0,
             "ticks": ""
            },
            "colorscale": [
             [
              0,
              "#0d0887"
             ],
             [
              0.1111111111111111,
              "#46039f"
             ],
             [
              0.2222222222222222,
              "#7201a8"
             ],
             [
              0.3333333333333333,
              "#9c179e"
             ],
             [
              0.4444444444444444,
              "#bd3786"
             ],
             [
              0.5555555555555556,
              "#d8576b"
             ],
             [
              0.6666666666666666,
              "#ed7953"
             ],
             [
              0.7777777777777778,
              "#fb9f3a"
             ],
             [
              0.8888888888888888,
              "#fdca26"
             ],
             [
              1,
              "#f0f921"
             ]
            ],
            "type": "contour"
           }
          ],
          "contourcarpet": [
           {
            "colorbar": {
             "outlinewidth": 0,
             "ticks": ""
            },
            "type": "contourcarpet"
           }
          ],
          "heatmap": [
           {
            "colorbar": {
             "outlinewidth": 0,
             "ticks": ""
            },
            "colorscale": [
             [
              0,
              "#0d0887"
             ],
             [
              0.1111111111111111,
              "#46039f"
             ],
             [
              0.2222222222222222,
              "#7201a8"
             ],
             [
              0.3333333333333333,
              "#9c179e"
             ],
             [
              0.4444444444444444,
              "#bd3786"
             ],
             [
              0.5555555555555556,
              "#d8576b"
             ],
             [
              0.6666666666666666,
              "#ed7953"
             ],
             [
              0.7777777777777778,
              "#fb9f3a"
             ],
             [
              0.8888888888888888,
              "#fdca26"
             ],
             [
              1,
              "#f0f921"
             ]
            ],
            "type": "heatmap"
           }
          ],
          "heatmapgl": [
           {
            "colorbar": {
             "outlinewidth": 0,
             "ticks": ""
            },
            "colorscale": [
             [
              0,
              "#0d0887"
             ],
             [
              0.1111111111111111,
              "#46039f"
             ],
             [
              0.2222222222222222,
              "#7201a8"
             ],
             [
              0.3333333333333333,
              "#9c179e"
             ],
             [
              0.4444444444444444,
              "#bd3786"
             ],
             [
              0.5555555555555556,
              "#d8576b"
             ],
             [
              0.6666666666666666,
              "#ed7953"
             ],
             [
              0.7777777777777778,
              "#fb9f3a"
             ],
             [
              0.8888888888888888,
              "#fdca26"
             ],
             [
              1,
              "#f0f921"
             ]
            ],
            "type": "heatmapgl"
           }
          ],
          "histogram": [
           {
            "marker": {
             "pattern": {
              "fillmode": "overlay",
              "size": 10,
              "solidity": 0.2
             }
            },
            "type": "histogram"
           }
          ],
          "histogram2d": [
           {
            "colorbar": {
             "outlinewidth": 0,
             "ticks": ""
            },
            "colorscale": [
             [
              0,
              "#0d0887"
             ],
             [
              0.1111111111111111,
              "#46039f"
             ],
             [
              0.2222222222222222,
              "#7201a8"
             ],
             [
              0.3333333333333333,
              "#9c179e"
             ],
             [
              0.4444444444444444,
              "#bd3786"
             ],
             [
              0.5555555555555556,
              "#d8576b"
             ],
             [
              0.6666666666666666,
              "#ed7953"
             ],
             [
              0.7777777777777778,
              "#fb9f3a"
             ],
             [
              0.8888888888888888,
              "#fdca26"
             ],
             [
              1,
              "#f0f921"
             ]
            ],
            "type": "histogram2d"
           }
          ],
          "histogram2dcontour": [
           {
            "colorbar": {
             "outlinewidth": 0,
             "ticks": ""
            },
            "colorscale": [
             [
              0,
              "#0d0887"
             ],
             [
              0.1111111111111111,
              "#46039f"
             ],
             [
              0.2222222222222222,
              "#7201a8"
             ],
             [
              0.3333333333333333,
              "#9c179e"
             ],
             [
              0.4444444444444444,
              "#bd3786"
             ],
             [
              0.5555555555555556,
              "#d8576b"
             ],
             [
              0.6666666666666666,
              "#ed7953"
             ],
             [
              0.7777777777777778,
              "#fb9f3a"
             ],
             [
              0.8888888888888888,
              "#fdca26"
             ],
             [
              1,
              "#f0f921"
             ]
            ],
            "type": "histogram2dcontour"
           }
          ],
          "mesh3d": [
           {
            "colorbar": {
             "outlinewidth": 0,
             "ticks": ""
            },
            "type": "mesh3d"
           }
          ],
          "parcoords": [
           {
            "line": {
             "colorbar": {
              "outlinewidth": 0,
              "ticks": ""
             }
            },
            "type": "parcoords"
           }
          ],
          "pie": [
           {
            "automargin": true,
            "type": "pie"
           }
          ],
          "scatter": [
           {
            "marker": {
             "colorbar": {
              "outlinewidth": 0,
              "ticks": ""
             }
            },
            "type": "scatter"
           }
          ],
          "scatter3d": [
           {
            "line": {
             "colorbar": {
              "outlinewidth": 0,
              "ticks": ""
             }
            },
            "marker": {
             "colorbar": {
              "outlinewidth": 0,
              "ticks": ""
             }
            },
            "type": "scatter3d"
           }
          ],
          "scattercarpet": [
           {
            "marker": {
             "colorbar": {
              "outlinewidth": 0,
              "ticks": ""
             }
            },
            "type": "scattercarpet"
           }
          ],
          "scattergeo": [
           {
            "marker": {
             "colorbar": {
              "outlinewidth": 0,
              "ticks": ""
             }
            },
            "type": "scattergeo"
           }
          ],
          "scattergl": [
           {
            "marker": {
             "colorbar": {
              "outlinewidth": 0,
              "ticks": ""
             }
            },
            "type": "scattergl"
           }
          ],
          "scattermapbox": [
           {
            "marker": {
             "colorbar": {
              "outlinewidth": 0,
              "ticks": ""
             }
            },
            "type": "scattermapbox"
           }
          ],
          "scatterpolar": [
           {
            "marker": {
             "colorbar": {
              "outlinewidth": 0,
              "ticks": ""
             }
            },
            "type": "scatterpolar"
           }
          ],
          "scatterpolargl": [
           {
            "marker": {
             "colorbar": {
              "outlinewidth": 0,
              "ticks": ""
             }
            },
            "type": "scatterpolargl"
           }
          ],
          "scatterternary": [
           {
            "marker": {
             "colorbar": {
              "outlinewidth": 0,
              "ticks": ""
             }
            },
            "type": "scatterternary"
           }
          ],
          "surface": [
           {
            "colorbar": {
             "outlinewidth": 0,
             "ticks": ""
            },
            "colorscale": [
             [
              0,
              "#0d0887"
             ],
             [
              0.1111111111111111,
              "#46039f"
             ],
             [
              0.2222222222222222,
              "#7201a8"
             ],
             [
              0.3333333333333333,
              "#9c179e"
             ],
             [
              0.4444444444444444,
              "#bd3786"
             ],
             [
              0.5555555555555556,
              "#d8576b"
             ],
             [
              0.6666666666666666,
              "#ed7953"
             ],
             [
              0.7777777777777778,
              "#fb9f3a"
             ],
             [
              0.8888888888888888,
              "#fdca26"
             ],
             [
              1,
              "#f0f921"
             ]
            ],
            "type": "surface"
           }
          ],
          "table": [
           {
            "cells": {
             "fill": {
              "color": "#EBF0F8"
             },
             "line": {
              "color": "white"
             }
            },
            "header": {
             "fill": {
              "color": "#C8D4E3"
             },
             "line": {
              "color": "white"
             }
            },
            "type": "table"
           }
          ]
         },
         "layout": {
          "annotationdefaults": {
           "arrowcolor": "#2a3f5f",
           "arrowhead": 0,
           "arrowwidth": 1
          },
          "autotypenumbers": "strict",
          "coloraxis": {
           "colorbar": {
            "outlinewidth": 0,
            "ticks": ""
           }
          },
          "colorscale": {
           "diverging": [
            [
             0,
             "#8e0152"
            ],
            [
             0.1,
             "#c51b7d"
            ],
            [
             0.2,
             "#de77ae"
            ],
            [
             0.3,
             "#f1b6da"
            ],
            [
             0.4,
             "#fde0ef"
            ],
            [
             0.5,
             "#f7f7f7"
            ],
            [
             0.6,
             "#e6f5d0"
            ],
            [
             0.7,
             "#b8e186"
            ],
            [
             0.8,
             "#7fbc41"
            ],
            [
             0.9,
             "#4d9221"
            ],
            [
             1,
             "#276419"
            ]
           ],
           "sequential": [
            [
             0,
             "#0d0887"
            ],
            [
             0.1111111111111111,
             "#46039f"
            ],
            [
             0.2222222222222222,
             "#7201a8"
            ],
            [
             0.3333333333333333,
             "#9c179e"
            ],
            [
             0.4444444444444444,
             "#bd3786"
            ],
            [
             0.5555555555555556,
             "#d8576b"
            ],
            [
             0.6666666666666666,
             "#ed7953"
            ],
            [
             0.7777777777777778,
             "#fb9f3a"
            ],
            [
             0.8888888888888888,
             "#fdca26"
            ],
            [
             1,
             "#f0f921"
            ]
           ],
           "sequentialminus": [
            [
             0,
             "#0d0887"
            ],
            [
             0.1111111111111111,
             "#46039f"
            ],
            [
             0.2222222222222222,
             "#7201a8"
            ],
            [
             0.3333333333333333,
             "#9c179e"
            ],
            [
             0.4444444444444444,
             "#bd3786"
            ],
            [
             0.5555555555555556,
             "#d8576b"
            ],
            [
             0.6666666666666666,
             "#ed7953"
            ],
            [
             0.7777777777777778,
             "#fb9f3a"
            ],
            [
             0.8888888888888888,
             "#fdca26"
            ],
            [
             1,
             "#f0f921"
            ]
           ]
          },
          "colorway": [
           "#636efa",
           "#EF553B",
           "#00cc96",
           "#ab63fa",
           "#FFA15A",
           "#19d3f3",
           "#FF6692",
           "#B6E880",
           "#FF97FF",
           "#FECB52"
          ],
          "font": {
           "color": "#2a3f5f"
          },
          "geo": {
           "bgcolor": "white",
           "lakecolor": "white",
           "landcolor": "#E5ECF6",
           "showlakes": true,
           "showland": true,
           "subunitcolor": "white"
          },
          "hoverlabel": {
           "align": "left"
          },
          "hovermode": "closest",
          "mapbox": {
           "style": "light"
          },
          "paper_bgcolor": "white",
          "plot_bgcolor": "#E5ECF6",
          "polar": {
           "angularaxis": {
            "gridcolor": "white",
            "linecolor": "white",
            "ticks": ""
           },
           "bgcolor": "#E5ECF6",
           "radialaxis": {
            "gridcolor": "white",
            "linecolor": "white",
            "ticks": ""
           }
          },
          "scene": {
           "xaxis": {
            "backgroundcolor": "#E5ECF6",
            "gridcolor": "white",
            "gridwidth": 2,
            "linecolor": "white",
            "showbackground": true,
            "ticks": "",
            "zerolinecolor": "white"
           },
           "yaxis": {
            "backgroundcolor": "#E5ECF6",
            "gridcolor": "white",
            "gridwidth": 2,
            "linecolor": "white",
            "showbackground": true,
            "ticks": "",
            "zerolinecolor": "white"
           },
           "zaxis": {
            "backgroundcolor": "#E5ECF6",
            "gridcolor": "white",
            "gridwidth": 2,
            "linecolor": "white",
            "showbackground": true,
            "ticks": "",
            "zerolinecolor": "white"
           }
          },
          "shapedefaults": {
           "line": {
            "color": "#2a3f5f"
           }
          },
          "ternary": {
           "aaxis": {
            "gridcolor": "white",
            "linecolor": "white",
            "ticks": ""
           },
           "baxis": {
            "gridcolor": "white",
            "linecolor": "white",
            "ticks": ""
           },
           "bgcolor": "#E5ECF6",
           "caxis": {
            "gridcolor": "white",
            "linecolor": "white",
            "ticks": ""
           }
          },
          "title": {
           "x": 0.05
          },
          "xaxis": {
           "automargin": true,
           "gridcolor": "white",
           "linecolor": "white",
           "ticks": "",
           "title": {
            "standoff": 15
           },
           "zerolinecolor": "white",
           "zerolinewidth": 2
          },
          "yaxis": {
           "automargin": true,
           "gridcolor": "white",
           "linecolor": "white",
           "ticks": "",
           "title": {
            "standoff": 15
           },
           "zerolinecolor": "white",
           "zerolinewidth": 2
          }
         }
        },
        "title": {
         "text": "Author: CNN - CNN Brasil │ Theme: energia │ Date Rage: from [19/04/2022 at 04:30:00] to [16/05/2022 at 21:32:00]"
        },
        "width": 1500,
        "xaxis": {
         "anchor": "y",
         "domain": [
          0,
          1
         ],
         "title": {
          "text": "index"
         },
         "type": "log"
        },
        "yaxis": {
         "anchor": "x",
         "domain": [
          0,
          1
         ],
         "title": {
          "text": "count"
         }
        }
       }
      }
     },
     "metadata": {},
     "output_type": "display_data"
    },
    {
     "data": {
      "text/plain": [
       "'energia.html'"
      ]
     },
     "execution_count": 9,
     "metadata": {},
     "output_type": "execute_result"
    }
   ],
   "source": [
    "# iterative scatter analysis with wordcloud words\n",
    "\n",
    "## creating a dataframe with the dictionary generated by the NLP algorithm\n",
    "df2 = pd.DataFrame.from_dict(wordcloud_text, orient='index') # generating a dataframe from a dictionary\n",
    "df2 = df2.rename(columns={0:'count'}) \n",
    "df2['word'] = df2.index\n",
    "df2 = df2.reset_index(drop=True)\n",
    "df2 = df2[['word','count']]\n",
    "\n",
    "df2.sort_values(by = ['count'],ascending = False,inplace = True, ignore_index = True) # Sort values by descending\n",
    "\n",
    "## generating a scatterplot from the plotfy library\n",
    "fig = px.scatter(df2.query('count > 10'),\n",
    "                y=\"count\",\n",
    "                size=\"count\",\n",
    "                color=\"word\",\n",
    "                hover_name=\"word\",\n",
    "                log_x=True,\n",
    "                title = wordcloud_title,\n",
    "                width=1500, \n",
    "                height=750,\n",
    "                size_max=60)\n",
    "fig.show()\n",
    "\n",
    "plt.offline.plot(fig, filename = search_theme+'.html')"
   ]
  }
 ],
 "metadata": {
  "interpreter": {
   "hash": "b80af393ece9516bb574eaf2accc0f3996a7feeecd6bd1b55c66f68cb5cc8c2a"
  },
  "kernelspec": {
   "display_name": "Python 3.9.12 ('geo_env')",
   "language": "python",
   "name": "python3"
  },
  "language_info": {
   "codemirror_mode": {
    "name": "ipython",
    "version": 3
   },
   "file_extension": ".py",
   "mimetype": "text/x-python",
   "name": "python",
   "nbconvert_exporter": "python",
   "pygments_lexer": "ipython3",
   "version": "3.9.12"
  },
  "orig_nbformat": 4
 },
 "nbformat": 4,
 "nbformat_minor": 2
}
