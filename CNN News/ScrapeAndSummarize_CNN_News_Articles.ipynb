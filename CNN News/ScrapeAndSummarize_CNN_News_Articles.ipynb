{
 "cells": [
  {
   "cell_type": "code",
   "execution_count": 3,
   "metadata": {},
   "outputs": [],
   "source": [
    "# Import the libraries\n",
    "\n",
    "import nltk\n",
    "from newspaper import Article"
   ]
  },
  {
   "cell_type": "code",
   "execution_count": 4,
   "metadata": {},
   "outputs": [],
   "source": [
    "# Article example\n",
    "\n",
    "url='https://www.cnnbrasil.com.br/internacional/russia-cortara-fornecimento-de-eletricidade-para-a-finlandia-no-sabado-diz-operadora/'\n",
    "\n",
    "article = Article(url)"
   ]
  },
  {
   "cell_type": "code",
   "execution_count": 5,
   "metadata": {},
   "outputs": [
    {
     "name": "stderr",
     "output_type": "stream",
     "text": [
      "[nltk_data] Downloading package punkt to\n",
      "[nltk_data]     C:\\Users\\vinic\\AppData\\Roaming\\nltk_data...\n",
      "[nltk_data]   Package punkt is already up-to-date!\n"
     ]
    }
   ],
   "source": [
    "# NLP Process\n",
    "\n",
    "article.download()\n",
    "article.parse()\n",
    "# \"Punkt Tokenizer Models\" divides the text into a list of sentences using ML algorithm\n",
    "nltk.download('punkt') \n",
    "article.nlp()"
   ]
  },
  {
   "cell_type": "code",
   "execution_count": 34,
   "metadata": {},
   "outputs": [
    {
     "data": {
      "text/plain": [
       "'“A RAO Nordic Oy, uma subsidiária da entidade russa Inter RAO, que comercializa eletricidade pelos interconectores de 400 kV, suspenderá as importações de eletricidade para a Finlândia à 1h da manhã de sábado, 14 de maio de 2022”, segundo Fingrid.\\n“Infelizmente, na atual situação de falta de receita em dinheiro, a RAO Nordic não pode fazer pagamentos pela eletricidade importada da Rússia.\\nSegundo Fingrid, a adequação da eletricidade na Finlândia não está ameaçada, com as importações russas nos últimos anos cobrindo 10% do consumo total da Finlândia.\\n“A falta de importação de eletricidade da Rússia será compensada importando mais eletricidade da Suécia e gerando mais eletricidade na Finlândia”, disse Reima Päivinen, vice-presidente sênior de operações do sistema de energia da Fingrid.\\nO Ministério das Relações Exteriores da Rússia disse que a possível adesão da Finlândia à Otan marca uma “mudança radical na política externa do país” e alertou sobre contramedidas.'"
      ]
     },
     "execution_count": 34,
     "metadata": {},
     "output_type": "execute_result"
    }
   ],
   "source": [
    "article.meta_data.items()\n"
   ]
  },
  {
   "cell_type": "code",
   "execution_count": 33,
   "metadata": {},
   "outputs": [],
   "source": [
    "site_name = article.meta_data['og']['site_name']\n",
    "title = article.meta_data['og']['title']\n",
    "text = article.text\n",
    "summary = article.summary\n"
   ]
  }
 ],
 "metadata": {
  "interpreter": {
   "hash": "b80af393ece9516bb574eaf2accc0f3996a7feeecd6bd1b55c66f68cb5cc8c2a"
  },
  "kernelspec": {
   "display_name": "Python 3.9.12 ('geo_env')",
   "language": "python",
   "name": "python3"
  },
  "language_info": {
   "codemirror_mode": {
    "name": "ipython",
    "version": 3
   },
   "file_extension": ".py",
   "mimetype": "text/x-python",
   "name": "python",
   "nbconvert_exporter": "python",
   "pygments_lexer": "ipython3",
   "version": "3.9.12"
  },
  "orig_nbformat": 4
 },
 "nbformat": 4,
 "nbformat_minor": 2
}
